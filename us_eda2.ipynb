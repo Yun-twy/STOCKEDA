{
 "cells": [
  {
   "cell_type": "code",
   "execution_count": 3,
   "metadata": {},
   "outputs": [
    {
     "name": "stdout",
     "output_type": "stream",
     "text": [
      "Requirement already satisfied: selenium in c:\\users\\user\\ws\\venv\\lib\\site-packages (4.8.2)\n",
      "Requirement already satisfied: certifi>=2021.10.8 in c:\\users\\user\\ws\\venv\\lib\\site-packages (from selenium) (2022.12.7)\n",
      "Requirement already satisfied: trio~=0.17 in c:\\users\\user\\ws\\venv\\lib\\site-packages (from selenium) (0.22.0)\n",
      "Requirement already satisfied: urllib3[socks]~=1.26 in c:\\users\\user\\ws\\venv\\lib\\site-packages (from selenium) (1.26.14)\n",
      "Requirement already satisfied: trio-websocket~=0.9 in c:\\users\\user\\ws\\venv\\lib\\site-packages (from selenium) (0.9.2)\n",
      "Requirement already satisfied: cffi>=1.14 in c:\\users\\user\\ws\\venv\\lib\\site-packages (from trio~=0.17->selenium) (1.15.1)\n",
      "Requirement already satisfied: outcome in c:\\users\\user\\ws\\venv\\lib\\site-packages (from trio~=0.17->selenium) (1.2.0)\n",
      "Requirement already satisfied: async-generator>=1.9 in c:\\users\\user\\ws\\venv\\lib\\site-packages (from trio~=0.17->selenium) (1.10)\n",
      "Requirement already satisfied: sortedcontainers in c:\\users\\user\\ws\\venv\\lib\\site-packages (from trio~=0.17->selenium) (2.4.0)\n",
      "Requirement already satisfied: attrs>=19.2.0 in c:\\users\\user\\ws\\venv\\lib\\site-packages (from trio~=0.17->selenium) (22.2.0)\n",
      "Requirement already satisfied: idna in c:\\users\\user\\ws\\venv\\lib\\site-packages (from trio~=0.17->selenium) (3.4)\n",
      "Requirement already satisfied: sniffio in c:\\users\\user\\ws\\venv\\lib\\site-packages (from trio~=0.17->selenium) (1.3.0)\n",
      "Requirement already satisfied: exceptiongroup>=1.0.0rc9 in c:\\users\\user\\ws\\venv\\lib\\site-packages (from trio~=0.17->selenium) (1.1.0)\n",
      "Requirement already satisfied: pycparser in c:\\users\\user\\ws\\venv\\lib\\site-packages (from cffi>=1.14->trio~=0.17->selenium) (2.21)\n",
      "Requirement already satisfied: wsproto>=0.14 in c:\\users\\user\\ws\\venv\\lib\\site-packages (from trio-websocket~=0.9->selenium) (1.2.0)\n",
      "Requirement already satisfied: PySocks!=1.5.7,<2.0,>=1.5.6 in c:\\users\\user\\ws\\venv\\lib\\site-packages (from urllib3[socks]~=1.26->selenium) (1.7.1)\n",
      "Requirement already satisfied: h11<1,>=0.9.0 in c:\\users\\user\\ws\\venv\\lib\\site-packages (from wsproto>=0.14->trio-websocket~=0.9->selenium) (0.14.0)\n",
      "Note: you may need to restart the kernel to use updated packages.\n"
     ]
    },
    {
     "name": "stderr",
     "output_type": "stream",
     "text": [
      "WARNING: You are using pip version 21.1.1; however, version 23.0.1 is available.\n",
      "You should consider upgrading via the 'c:\\Users\\User\\ws\\venv\\Scripts\\python.exe -m pip install --upgrade pip' command.\n"
     ]
    }
   ],
   "source": [
    "pip install selenium"
   ]
  },
  {
   "cell_type": "code",
   "execution_count": 10,
   "metadata": {},
   "outputs": [
    {
     "name": "stdout",
     "output_type": "stream",
     "text": [
      "Collecting beautifulsoup4Note: you may need to restart the kernel to use updated packages.\n",
      "\n",
      "  Using cached beautifulsoup4-4.11.2-py3-none-any.whl (129 kB)\n",
      "Collecting soupsieve>1.2\n",
      "  Downloading soupsieve-2.4-py3-none-any.whl (37 kB)\n",
      "Installing collected packages: soupsieve, beautifulsoup4\n",
      "Successfully installed beautifulsoup4-4.11.2 soupsieve-2.4\n"
     ]
    },
    {
     "name": "stderr",
     "output_type": "stream",
     "text": [
      "WARNING: You are using pip version 21.1.1; however, version 23.0.1 is available.\n",
      "You should consider upgrading via the 'c:\\Users\\User\\ws\\venv\\Scripts\\python.exe -m pip install --upgrade pip' command.\n"
     ]
    }
   ],
   "source": [
    "pip install beautifulsoup4"
   ]
  },
  {
   "cell_type": "code",
   "execution_count": 2,
   "metadata": {},
   "outputs": [],
   "source": [
    "from selenium import webdriver\n",
    "from selenium.webdriver.chrome.service import Service\n",
    "from selenium.webdriver.common.by import By\n",
    "from selenium.webdriver.common.keys import Keys\n",
    "from selenium.webdriver import ActionChains\n",
    "from bs4 import BeautifulSoup\n",
    "import time\n",
    "from selenium.webdriver.support.ui import WebDriverWait\n",
    "from selenium.webdriver.support import expected_conditions as EC\n",
    "from selenium.webdriver.support.ui import Select\n",
    "\n",
    "chrome_options = webdriver.ChromeOptions()\n",
    "\n",
    "url = 'https://companiesmarketcap.com/usa/largest-companies-in-the-usa-by-market-cap/'\n",
    "driver = webdriver.Chrome(service=Service('../driver/chromedriver'), options=chrome_options)\n",
    "driver.set_window_size(1920,1080)\n",
    "driver.get(url)"
   ]
  },
  {
   "cell_type": "code",
   "execution_count": 3,
   "metadata": {},
   "outputs": [],
   "source": [
    "# 주식 TOP 100 TICKER 크롤링\n",
    "name=[]\n",
    "code = []\n",
    "a = driver.find_elements(By.CLASS_NAME,'company-code')\n",
    "\n",
    "# for i in range(len(a)):\n",
    "#     a = driver.find_elements(By.CLASS_NAME,'company-code')\n",
    "#     b = driver.find_elements(By.CLASS_NAME,'company-name')\n",
    "#     c = a[i].get_attribute('innerText')\n",
    "#     d = b[i].get_attribute('innerText')\n",
    "#     comp_name.append(d)\n",
    "#     code.append(c)\n",
    "\n",
    "# driver.find_element(By.CLASS_NAME,'page-link').click()\n",
    "\n",
    "for j in range(len(a)):\n",
    "    a = driver.find_elements(By.CLASS_NAME,'company-code')\n",
    "    b = driver.find_elements(By.CLASS_NAME,'company-name')\n",
    "    c = a[j].get_attribute('innerText')\n",
    "    d = b[j].get_attribute('innerText')\n",
    "    name.append(d)\n",
    "    code.append(c)"
   ]
  },
  {
   "cell_type": "code",
   "execution_count": 4,
   "metadata": {},
   "outputs": [
    {
     "data": {
      "text/plain": [
       "['AAPL',\n",
       " 'MSFT',\n",
       " 'GOOG',\n",
       " 'AMZN',\n",
       " 'BRK-B',\n",
       " 'TSLA',\n",
       " 'NVDA',\n",
       " 'V',\n",
       " 'UNH',\n",
       " 'XOM',\n",
       " 'META',\n",
       " 'JPM',\n",
       " 'JNJ',\n",
       " 'WMT',\n",
       " 'MA',\n",
       " 'PG',\n",
       " 'CVX',\n",
       " 'LLY',\n",
       " 'HD',\n",
       " 'MRK',\n",
       " 'BAC',\n",
       " 'ABBV',\n",
       " 'KO',\n",
       " 'PEP',\n",
       " 'AVGO',\n",
       " 'ORCL',\n",
       " 'PFE',\n",
       " 'COST',\n",
       " 'TMO',\n",
       " 'CSCO',\n",
       " 'MCD',\n",
       " 'DIS',\n",
       " 'NKE',\n",
       " 'DHR',\n",
       " 'WFC',\n",
       " 'TMUS',\n",
       " 'ABT',\n",
       " 'MS',\n",
       " 'VZ',\n",
       " 'CRM',\n",
       " 'CMCSA',\n",
       " 'UPS',\n",
       " 'TXN',\n",
       " 'PM',\n",
       " 'SCHW',\n",
       " 'BMY',\n",
       " 'ADBE',\n",
       " 'RTX',\n",
       " 'NEE',\n",
       " 'NFLX',\n",
       " 'QCOM',\n",
       " 'T',\n",
       " 'AXP',\n",
       " 'HON',\n",
       " 'COP',\n",
       " 'AMD',\n",
       " 'AMGN',\n",
       " 'DE',\n",
       " 'LMT',\n",
       " 'GS',\n",
       " 'CAT',\n",
       " 'LOW',\n",
       " 'UNP',\n",
       " 'BA',\n",
       " 'INTU',\n",
       " 'IBM',\n",
       " 'SBUX',\n",
       " 'ELV',\n",
       " 'SPGI',\n",
       " 'PLD',\n",
       " 'CVS',\n",
       " 'INTC',\n",
       " 'BLK',\n",
       " 'GILD',\n",
       " 'SYK',\n",
       " 'C',\n",
       " 'BKNG',\n",
       " 'AMAT',\n",
       " 'ADI',\n",
       " 'ADP',\n",
       " 'AMT',\n",
       " 'GE',\n",
       " 'MDLZ',\n",
       " 'TJX',\n",
       " 'CI',\n",
       " 'EL',\n",
       " 'NOW',\n",
       " 'MO',\n",
       " 'PYPL',\n",
       " 'PGR',\n",
       " 'REGN',\n",
       " 'ISRG',\n",
       " 'MMC',\n",
       " 'ABNB',\n",
       " 'ZTS',\n",
       " 'TGT',\n",
       " 'SLB',\n",
       " 'DUK',\n",
       " 'VRTX',\n",
       " 'USB']"
      ]
     },
     "execution_count": 4,
     "metadata": {},
     "output_type": "execute_result"
    }
   ],
   "source": [
    "code"
   ]
  },
  {
   "cell_type": "code",
   "execution_count": 5,
   "metadata": {},
   "outputs": [
    {
     "data": {
      "text/plain": [
       "['Apple',\n",
       " 'Microsoft',\n",
       " 'Alphabet (Google)',\n",
       " 'Amazon',\n",
       " 'Berkshire Hathaway',\n",
       " 'Tesla',\n",
       " 'NVIDIA',\n",
       " 'Visa',\n",
       " 'UnitedHealth',\n",
       " 'Exxon Mobil',\n",
       " 'Meta Platforms (Facebook)',\n",
       " 'JPMorgan Chase',\n",
       " 'Johnson & Johnson',\n",
       " 'Walmart',\n",
       " 'Mastercard',\n",
       " 'Procter & Gamble',\n",
       " 'Chevron',\n",
       " 'Eli Lilly',\n",
       " 'Home Depot',\n",
       " 'Merck',\n",
       " 'Bank of America',\n",
       " 'AbbVie',\n",
       " 'Coca-Cola',\n",
       " 'Pepsico',\n",
       " 'Broadcom',\n",
       " 'Oracle',\n",
       " 'Pfizer',\n",
       " 'Costco',\n",
       " 'Thermo Fisher Scientific',\n",
       " 'Cisco',\n",
       " 'McDonald',\n",
       " 'Walt Disney',\n",
       " 'Nike',\n",
       " 'Danaher',\n",
       " 'Wells Fargo',\n",
       " 'T-Mobile US',\n",
       " 'Abbott Laboratories',\n",
       " 'Morgan Stanley',\n",
       " 'Verizon',\n",
       " 'Salesforce',\n",
       " 'Comcast',\n",
       " 'United Parcel Service',\n",
       " 'Texas Instruments',\n",
       " 'Philip Morris',\n",
       " 'Charles Schwab',\n",
       " 'Bristol-Myers Squibb',\n",
       " 'Adobe',\n",
       " 'Raytheon Technologies',\n",
       " 'Nextera Energy',\n",
       " 'Netflix',\n",
       " 'QUALCOMM',\n",
       " 'AT&T',\n",
       " 'American Express',\n",
       " 'Honeywell',\n",
       " 'ConocoPhillips',\n",
       " 'AMD',\n",
       " 'Amgen',\n",
       " 'Deere & Company',\n",
       " 'Lockheed Martin',\n",
       " 'Goldman Sachs',\n",
       " 'Caterpillar',\n",
       " \"Lowe's Companies\",\n",
       " 'Union Pacific Corporation',\n",
       " 'Boeing',\n",
       " 'Intuit',\n",
       " 'IBM',\n",
       " 'Starbucks',\n",
       " 'Elevance Health',\n",
       " 'S&P Global',\n",
       " 'Prologis',\n",
       " 'CVS Health',\n",
       " 'Intel',\n",
       " 'BlackRock',\n",
       " 'Gilead Sciences',\n",
       " 'Stryker Corporation',\n",
       " 'Citigroup',\n",
       " 'Booking Holdings (Booking.com)',\n",
       " 'Applied Materials',\n",
       " 'Analog Devices',\n",
       " 'Automatic Data Processing',\n",
       " 'American Tower',\n",
       " 'General Electric',\n",
       " 'Mondelez',\n",
       " 'TJX Companies',\n",
       " 'Cigna',\n",
       " 'Estee Lauder',\n",
       " 'ServiceNow',\n",
       " 'Altria Group',\n",
       " 'PayPal',\n",
       " 'Progressive',\n",
       " 'Regeneron Pharmaceuticals',\n",
       " 'Intuitive Surgical',\n",
       " 'Marsh & McLennan Companies',\n",
       " 'Airbnb',\n",
       " 'Zoetis',\n",
       " 'Target',\n",
       " 'Schlumberger',\n",
       " 'Duke Energy',\n",
       " 'Vertex Pharmaceuticals',\n",
       " 'U.S. Bancorp']"
      ]
     },
     "execution_count": 5,
     "metadata": {},
     "output_type": "execute_result"
    }
   ],
   "source": [
    "name"
   ]
  },
  {
   "cell_type": "code",
   "execution_count": 36,
   "metadata": {},
   "outputs": [
    {
     "data": {
      "text/html": [
       "<div>\n",
       "<style scoped>\n",
       "    .dataframe tbody tr th:only-of-type {\n",
       "        vertical-align: middle;\n",
       "    }\n",
       "\n",
       "    .dataframe tbody tr th {\n",
       "        vertical-align: top;\n",
       "    }\n",
       "\n",
       "    .dataframe thead th {\n",
       "        text-align: right;\n",
       "    }\n",
       "</style>\n",
       "<table border=\"1\" class=\"dataframe\">\n",
       "  <thead>\n",
       "    <tr style=\"text-align: right;\">\n",
       "      <th></th>\n",
       "      <th>company</th>\n",
       "      <th>code</th>\n",
       "    </tr>\n",
       "  </thead>\n",
       "  <tbody>\n",
       "    <tr>\n",
       "      <th>0</th>\n",
       "      <td>Apple</td>\n",
       "      <td>AAPL</td>\n",
       "    </tr>\n",
       "    <tr>\n",
       "      <th>1</th>\n",
       "      <td>Microsoft</td>\n",
       "      <td>MSFT</td>\n",
       "    </tr>\n",
       "    <tr>\n",
       "      <th>2</th>\n",
       "      <td>Alphabet (Google)</td>\n",
       "      <td>GOOG</td>\n",
       "    </tr>\n",
       "    <tr>\n",
       "      <th>3</th>\n",
       "      <td>Amazon</td>\n",
       "      <td>AMZN</td>\n",
       "    </tr>\n",
       "    <tr>\n",
       "      <th>4</th>\n",
       "      <td>Berkshire Hathaway</td>\n",
       "      <td>BRK-B</td>\n",
       "    </tr>\n",
       "    <tr>\n",
       "      <th>...</th>\n",
       "      <td>...</td>\n",
       "      <td>...</td>\n",
       "    </tr>\n",
       "    <tr>\n",
       "      <th>95</th>\n",
       "      <td>Target</td>\n",
       "      <td>TGT</td>\n",
       "    </tr>\n",
       "    <tr>\n",
       "      <th>96</th>\n",
       "      <td>Schlumberger</td>\n",
       "      <td>SLB</td>\n",
       "    </tr>\n",
       "    <tr>\n",
       "      <th>97</th>\n",
       "      <td>Duke Energy</td>\n",
       "      <td>DUK</td>\n",
       "    </tr>\n",
       "    <tr>\n",
       "      <th>98</th>\n",
       "      <td>Vertex Pharmaceuticals</td>\n",
       "      <td>VRTX</td>\n",
       "    </tr>\n",
       "    <tr>\n",
       "      <th>99</th>\n",
       "      <td>U.S. Bancorp</td>\n",
       "      <td>USB</td>\n",
       "    </tr>\n",
       "  </tbody>\n",
       "</table>\n",
       "<p>100 rows × 2 columns</p>\n",
       "</div>"
      ],
      "text/plain": [
       "                   company   code\n",
       "0                    Apple   AAPL\n",
       "1                Microsoft   MSFT\n",
       "2        Alphabet (Google)   GOOG\n",
       "3                   Amazon   AMZN\n",
       "4       Berkshire Hathaway  BRK-B\n",
       "..                     ...    ...\n",
       "95                  Target    TGT\n",
       "96            Schlumberger    SLB\n",
       "97             Duke Energy    DUK\n",
       "98  Vertex Pharmaceuticals   VRTX\n",
       "99            U.S. Bancorp    USB\n",
       "\n",
       "[100 rows x 2 columns]"
      ]
     },
     "execution_count": 36,
     "metadata": {},
     "output_type": "execute_result"
    }
   ],
   "source": [
    "import pandas as pd\n",
    "df_tmp = pd.DataFrame({'company': name,\n",
    "                       'code':code\n",
    "                       })\n",
    "\n",
    "df_tmp"
   ]
  },
  {
   "cell_type": "code",
   "execution_count": 37,
   "metadata": {},
   "outputs": [
    {
     "data": {
      "text/html": [
       "<div>\n",
       "<style scoped>\n",
       "    .dataframe tbody tr th:only-of-type {\n",
       "        vertical-align: middle;\n",
       "    }\n",
       "\n",
       "    .dataframe tbody tr th {\n",
       "        vertical-align: top;\n",
       "    }\n",
       "\n",
       "    .dataframe thead th {\n",
       "        text-align: right;\n",
       "    }\n",
       "</style>\n",
       "<table border=\"1\" class=\"dataframe\">\n",
       "  <thead>\n",
       "    <tr style=\"text-align: right;\">\n",
       "      <th></th>\n",
       "      <th>company</th>\n",
       "    </tr>\n",
       "    <tr>\n",
       "      <th>code</th>\n",
       "      <th></th>\n",
       "    </tr>\n",
       "  </thead>\n",
       "  <tbody>\n",
       "    <tr>\n",
       "      <th>AAPL</th>\n",
       "      <td>Apple</td>\n",
       "    </tr>\n",
       "    <tr>\n",
       "      <th>MSFT</th>\n",
       "      <td>Microsoft</td>\n",
       "    </tr>\n",
       "    <tr>\n",
       "      <th>GOOG</th>\n",
       "      <td>Alphabet (Google)</td>\n",
       "    </tr>\n",
       "  </tbody>\n",
       "</table>\n",
       "</div>"
      ],
      "text/plain": [
       "                company\n",
       "code                   \n",
       "AAPL              Apple\n",
       "MSFT          Microsoft\n",
       "GOOG  Alphabet (Google)"
      ]
     },
     "execution_count": 37,
     "metadata": {},
     "output_type": "execute_result"
    }
   ],
   "source": [
    "import pandas as pd\n",
    "company_code = df_tmp['code'].tolist()\n",
    "df_ticker_list = df_tmp.set_index('code')\n",
    "df_ticker_list.head(3)"
   ]
  },
  {
   "cell_type": "code",
   "execution_count": 8,
   "metadata": {},
   "outputs": [],
   "source": [
    "url = 'https://stockrow.com/users/sign_in'\n",
    "driver.get(url)\n",
    "driver.set_window_size(1920,1080)\n",
    "time.sleep(0.5)\n",
    "sign_in = driver.find_elements(By.TAG_NAME,'input')\n",
    "email = sign_in[1].send_keys('ksyrobot@gmail.com')\n",
    "password = sign_in[2].send_keys('rlatpdus22')\n",
    "sign_in[5].click()"
   ]
  },
  {
   "cell_type": "code",
   "execution_count": 25,
   "metadata": {},
   "outputs": [
    {
     "name": "stdout",
     "output_type": "stream",
     "text": [
      "Collecting tqdm\n",
      "  Downloading tqdm-4.64.1-py2.py3-none-any.whl (78 kB)\n",
      "Requirement already satisfied: colorama in c:\\users\\user\\ws\\venv\\lib\\site-packages (from tqdm) (0.4.6)\n",
      "Installing collected packages: tqdm\n",
      "Successfully installed tqdm-4.64.1\n",
      "Note: you may need to restart the kernel to use updated packages.\n"
     ]
    },
    {
     "name": "stderr",
     "output_type": "stream",
     "text": [
      "WARNING: You are using pip version 21.1.1; however, version 23.0.1 is available.\n",
      "You should consider upgrading via the 'c:\\Users\\User\\ws\\venv\\Scripts\\python.exe -m pip install --upgrade pip' command.\n"
     ]
    }
   ],
   "source": [
    "pip install tqdm"
   ]
  },
  {
   "cell_type": "code",
   "execution_count": 26,
   "metadata": {},
   "outputs": [
    {
     "name": "stderr",
     "output_type": "stream",
     "text": [
      "  5%|▌         | 5/100 [01:15<18:59, 12.00s/it]"
     ]
    },
    {
     "name": "stdout",
     "output_type": "stream",
     "text": [
      "[['675.93', '0.00', '527.97', '150.72', '188.43', '72.70', '78.80', '76.46', '50.57', '0.00', '69.60', '36.80', '27.20', 'PE Ratio'], ['18.70', '13.35', '23.58', '18.52', '20.60', '16.80', '14.71', '17.44', '12.20', '5.99', '5.35', '4.15', '3.31', 'PB Ratio'], ['2031.00', '1949.00', '7450.00', '10466.00', '8307.00', '19400.00', '25825.00', '31020.00', '(9069.00)', '(11569.00)', '19782.00', '36614.00', '56848.00', 'FCF'], ['3191.00', '8265.00', '8227.00', '12891.00', '30925.00', '32997.00', '37744.00', '47931.00', '64667.00', '67150.00', '–', '–', '–', 'Total Debt'], ['9746.00', '10741.00', '13384.00', '19285.00', '27709.00', '43549.00', '62060.00', '93404.00', '138245.00', '146043.00', '–', '–', '–', \"Sh' Equity\"], ['0.75', '(0.51)', '1.00', '3.20', '2.83', '6.85', '5.97', '7.81', '9.00', '(0.62)', '3.90', '5.58', '5.91', 'ROA'], ['3.05', '(2.35)', '4.94', '14.52', '12.91', '28.27', '21.95', '27.44', '28.81', '(1.91)', '10.80', '13.30', '15.00', 'ROE'], ['Amazon', 'Amazon', 'Amazon', 'Amazon', 'Amazon', 'Amazon', 'Amazon', 'Amazon', 'Amazon', 'Amazon', 'Amazon', 'Amazon', 'Amazon', 'Amazon']]\n",
      "BRK-B\n"
     ]
    },
    {
     "name": "stderr",
     "output_type": "stream",
     "text": [
      " 11%|█         | 11/100 [02:21<14:43,  9.93s/it]"
     ]
    },
    {
     "name": "stdout",
     "output_type": "stream",
     "text": [
      "[['13.73', '12.16', '20.25', '48.35', '18.37', '13.97', '20.77', '0.00', '11.35', '8.03', '10.30', '11.00', '–', 'PE Ratio'], ['2.48', '2.19', '1.85', '2.18', '1.86', '1.47', '1.50', '1.07', '1.49', '2.17', '2.16', '2.02', '–', 'PB Ratio'], ['11245.00', '12164.00', '3854.00', '5919.00', '14664.00', '16440.00', '5355.00', '(1615.00)', '39229.00', '63637.00', '43244.00', '37965.00', '–', 'FCF'], ['6891.00', '11653.00', '19925.00', '42762.00', '42336.00', '37796.00', '48146.00', '68812.00', '49075.00', '41193.00', '–', '–', '–', 'Total Debt'], ['180495.00', '181064.00', '176810.00', '173830.00', '194500.00', '198528.00', '198938.00', '164130.00', '175683.00', '202473.00', '–', '–', '–', \"Sh' Equity\"], ['9.57', '9.34', '4.71', '2.35', '5.81', '6.00', '4.05', '(6.45)', '6.86', '15.75', '10.50', '8.67', '–', 'ROA'], ['18.50', '17.99', '9.03', '4.47', '10.70', '10.60', '7.22', '(12.36)', '13.56', '29.48', '21.10', '17.30', '–', 'ROE'], ['Exxon Mobil', 'Exxon Mobil', 'Exxon Mobil', 'Exxon Mobil', 'Exxon Mobil', 'Exxon Mobil', 'Exxon Mobil', 'Exxon Mobil', 'Exxon Mobil', 'Exxon Mobil', 'Exxon Mobil', 'Exxon Mobil', 'Exxon Mobil', 'Exxon Mobil']]\n",
      "META\n"
     ]
    },
    {
     "name": "stderr",
     "output_type": "stream",
     "text": [
      " 52%|█████▏    | 52/100 [10:45<07:33,  9.44s/it]"
     ]
    },
    {
     "name": "stdout",
     "output_type": "stream",
     "text": [
      "[['16.91', '15.87', '16.58', '17.89', '31.07', '0.00', '21.07', '25.64', '16.14', '9.82', '–', '–', '–', 'PE Ratio'], ['3.20', '3.21', '2.77', '3.20', '2.49', '131.62', '18.80', '21.98', '14.66', '7.04', '–', '–', '–', 'PB Ratio'], ['7734.00', '7739.00', '4778.00', '7093.00', '4311.00', '12312.00', '6597.00', '4407.00', '8648.00', '6834.00', '–', '–', '–', 'FCF'], ['–', '–', '10969.00', '11757.00', '21893.00', '16370.00', '15933.00', '15726.00', '15745.00', '15482.00', '–', '–', '–', 'Total Debt'], ['36087.00', '39166.00', '31414.00', '31768.00', '30746.00', '807.00', '4909.00', '6077.00', '9950.00', '18013.00', '–', '–', '–', \"Sh' Equity\"], ['15.48', '16.93', '10.61', '11.06', '4.15', '(10.11)', '13.36', '15.17', '23.54', '28.67', '–', '–', '–', 'ROA'], ['19.68', '21.17', '14.94', '18.06', '7.82', '(31.46)', '153.46', '94.63', '112.85', '92.52', '–', '–', '–', 'ROE'], ['QUALCOMM', 'QUALCOMM', 'QUALCOMM', 'QUALCOMM', 'QUALCOMM', 'QUALCOMM', 'QUALCOMM', 'QUALCOMM', 'QUALCOMM', 'QUALCOMM', 'QUALCOMM', 'QUALCOMM', 'QUALCOMM', 'QUALCOMM']]\n",
      "T\n"
     ]
    },
    {
     "name": "stderr",
     "output_type": "stream",
     "text": [
      " 59%|█████▉    | 59/100 [12:00<06:04,  8.88s/it]"
     ]
    },
    {
     "name": "stdout",
     "output_type": "stream",
     "text": [
      "[['8.94', '9.90', '13.87', '18.28', '19.80', '18.48', '16.96', '26.39', '18.75', '16.86', '14.00', '13.20', '12.70', 'PE Ratio'], ['3.07', '3.43', '3.96', '4.26', '4.44', '3.87', '4.83', '5.61', '6.06', '5.95', '5.74', '4.71', '3.70', 'PB Ratio'], ['3032.60', '3569.10', '4114.20', '4381.50', '3042.00', '2409.00', '3940.00', '8446.00', '8972.00', '5658.00', '8093.00', '8826.00', '8816.00', 'FCF'], ['34475.70', '36958.40', '36849.40', '35611.50', '40045.30', '42256.00', '45334.00', '46600.00', '48691.00', '52201.00', '–', '–', '–', 'Total Debt'], ['10267.70', '9065.50', '6757.60', '6530.80', '9560.50', '11288.00', '11413.00', '12937.00', '18431.00', '20262.00', '–', '–', '–', \"Sh' Equity\"], ['6.11', '5.23', '3.25', '2.63', '3.49', '3.49', '4.55', '3.72', '7.49', '8.19', '15.90', '15.10', '15.20', 'ROA'], ['41.30', '32.71', '24.52', '22.94', '26.83', '22.72', '28.66', '22.60', '38.02', '36.86', '41.00', '35.60', '30.00', 'ROE'], ['Deere & Company', 'Deere & Company', 'Deere & Company', 'Deere & Company', 'Deere & Company', 'Deere & Company', 'Deere & Company', 'Deere & Company', 'Deere & Company', 'Deere & Company', 'Deere & Company', 'Deere & Company', 'Deere & Company', 'Deere & Company']]\n",
      "LMT\n"
     ]
    },
    {
     "name": "stderr",
     "output_type": "stream",
     "text": [
      " 64%|██████▍   | 64/100 [12:42<04:25,  7.36s/it]"
     ]
    },
    {
     "name": "stdout",
     "output_type": "stream",
     "text": [
      "[['17.72', '20.61', '14.19', '20.14', '10.01', '17.37', '21.47', '26.39', '25.22', '18.48', '16.60', '15.20', '13.80', 'PE Ratio'], ['3.67', '5.04', '3.27', '4.28', '4.36', '5.08', '7.02', '8.32', '11.63', '10.63', '9.85', '9.55', '7.57', 'PB Ratio'], ['3425.00', '3177.00', '2945.00', '4149.00', '4160.00', '5312.00', '5230.00', '5762.00', '6274.00', '5936.00', '6208.00', '6387.00', '6800.00', 'FCF'], ['9577.00', '11413.00', '14201.00', '15007.00', '16944.00', '22391.00', '25200.00', '26729.00', '29729.00', '33326.00', '–', '–', '–', 'Total Debt'], ['21225.00', '21189.00', '20702.00', '19932.00', '24856.00', '20423.00', '18128.00', '16958.00', '14161.00', '12163.00', '–', '–', '–', \"Sh' Equity\"], ['9.06', '10.15', '8.92', '7.67', '18.87', '10.20', '9.80', '8.62', '10.36', '10.85', '10.50', '14.60', '11.80', 'ROA'], ['21.35', '24.43', '22.78', '20.83', '47.83', '26.35', '30.71', '30.49', '41.92', '53.17', '60.00', '66.20', '95.90', 'ROE'], ['Union Pacific Corporation', 'Union Pacific Corporation', 'Union Pacific Corporation', 'Union Pacific Corporation', 'Union Pacific Corporation', 'Union Pacific Corporation', 'Union Pacific Corporation', 'Union Pacific Corporation', 'Union Pacific Corporation', 'Union Pacific Corporation', 'Union Pacific Corporation', 'Union Pacific Corporation', 'Union Pacific Corporation', 'Union Pacific Corporation']]\n",
      "BA\n"
     ]
    },
    {
     "name": "stderr",
     "output_type": "stream",
     "text": [
      " 68%|██████▊   | 68/100 [13:14<03:47,  7.11s/it]"
     ]
    },
    {
     "name": "stdout",
     "output_type": "stream",
     "text": [
      "[['34.06', '27.85', '31.23', '28.49', '27.31', '17.31', '30.18', '111.58', '31.07', '29.88', '30.60', '25.30', '21.50', 'PE Ratio'], ['12.87', '10.78', '14.61', '13.53', '14.29', '65.36', '0.00', '0.00', '0.00', '0.00', '(14.34)', '(12.79)', '(10.10)', 'PB Ratio'], ['1757.10', '(553.10)', '2454.30', '3257.60', '2732.40', '9961.40', '3240.40', '114.20', '4519.10', '2556.00', '3620.00', '4177.00', '4853.00', 'FCF'], ['1299.40', '2048.30', '2347.50', '3585.20', '3936.60', '9440.10', '11172.00', '15909.50', '14615.80', '15043.90', '–', '–', '–', 'Total Debt'], ['4482.30', '5273.70', '5819.80', '5890.70', '5457.00', '1175.80', '(6231.00)', '(7799.40)', '(5314.50)', '(8698.70)', '–', '–', '–', \"Sh' Equity\"], ['0.08', '18.57', '23.80', '21.08', '20.12', '23.46', '16.60', '3.82', '13.82', '11.05', '17.00', '19.20', '16.10', 'ROA'], ['0.17', '42.40', '49.71', '48.12', '50.84', '136.24', '(142.40)', '(13.23)', '(64.04)', '(46.84)', '0.00', '0.00', '0.00', 'ROE'], ['Starbucks', 'Starbucks', 'Starbucks', 'Starbucks', 'Starbucks', 'Starbucks', 'Starbucks', 'Starbucks', 'Starbucks', 'Starbucks', 'Starbucks', 'Starbucks', 'Starbucks', 'Starbucks']]\n",
      "ELV\n"
     ]
    },
    {
     "name": "stderr",
     "output_type": "stream",
     "text": [
      "100%|██████████| 100/100 [18:25<00:00, 11.05s/it]\n"
     ]
    }
   ],
   "source": [
    "from tqdm import tqdm\n",
    "url_base = 'https://stockrow.com/'\n",
    "code_error = 0\n",
    "test = []\n",
    "year_list = []\n",
    "key_index_list = [6, 8, 19, 21, 22, 23, 25] #원하는 지표 : PER, PBR, \n",
    "data_list = []\n",
    "usa_df = []\n",
    "\n",
    "for each_company in tqdm(code[:]):\n",
    "    # if  len(usa_df) <= 1:\n",
    "        driver.get(url_base + each_company)\n",
    "        time.sleep(2)\n",
    "\n",
    "        try:\n",
    "            table = driver.find_element(By.CLASS_NAME, 'fundamentals') #전체 테이블\n",
    "            table_rows = table.find_elements(By.TAG_NAME, 'tr')\n",
    "\n",
    "            for key_index in key_index_list:\n",
    "                raw_data = table_rows[key_index].find_elements(By.TAG_NAME, 'td')\n",
    "                tag_list = []\n",
    "\n",
    "\n",
    "                # replacing , or %\n",
    "                if key_index not in [23, 25]:\n",
    "                    for tag in raw_data:\n",
    "                        tag_list.append(tag.text.replace(\",\",''))\n",
    "                    data_list.append(tag_list)\n",
    "\n",
    "                else:\n",
    "                    for tag in raw_data:\n",
    "                        tag_list.append(tag.text.replace('%',''))\n",
    "                    data_list.append(tag_list)      \n",
    "            \n",
    "\n",
    "            # company_name_code add\n",
    "            company_name_list = []\n",
    "            real_company_name = df_ticker_list.loc[each_company][0]\n",
    "            for i in range(14):\n",
    "                company_name_list.append(real_company_name)\n",
    "                \n",
    "            data_list.append(company_name_list)\n",
    "            \n",
    "            usa_df.append(data_list)\n",
    "            data_list = [] \n",
    "            time.sleep(0.1)\n",
    "\n",
    "        except:\n",
    "            print(usa_df[-1])\n",
    "            code_error += 1\n",
    "            print(each_company)\n",
    "        \n",
    "    # else:\n",
    "    #     break"
   ]
  },
  {
   "cell_type": "code",
   "execution_count": 106,
   "metadata": {},
   "outputs": [
    {
     "data": {
      "text/html": [
       "<div>\n",
       "<style scoped>\n",
       "    .dataframe tbody tr th:only-of-type {\n",
       "        vertical-align: middle;\n",
       "    }\n",
       "\n",
       "    .dataframe tbody tr th {\n",
       "        vertical-align: top;\n",
       "    }\n",
       "\n",
       "    .dataframe thead th {\n",
       "        text-align: right;\n",
       "    }\n",
       "</style>\n",
       "<table border=\"1\" class=\"dataframe\">\n",
       "  <thead>\n",
       "    <tr style=\"text-align: right;\">\n",
       "      <th></th>\n",
       "      <th>0</th>\n",
       "      <th>1</th>\n",
       "      <th>2</th>\n",
       "      <th>3</th>\n",
       "      <th>4</th>\n",
       "      <th>5</th>\n",
       "      <th>6</th>\n",
       "      <th>7</th>\n",
       "    </tr>\n",
       "  </thead>\n",
       "  <tbody>\n",
       "    <tr>\n",
       "      <th>0</th>\n",
       "      <td>[11.95, 15.56, 11.93, 13.59, 16.63, 18.99, 18....</td>\n",
       "      <td>[3.57, 5.50, 5.32, 4.82, 5.99, 10.51, 11.43, 3...</td>\n",
       "      <td>[44590.00, 49900.00, 69778.00, 53200.00, 51774...</td>\n",
       "      <td>[16960.00, 35295.00, 64328.00, 87032.00, 11568...</td>\n",
       "      <td>[123549.00, 111547.00, 119355.00, 128249.00, 1...</td>\n",
       "      <td>[19.34, 18.01, 20.45, 14.93, 13.87, 16.07, 15....</td>\n",
       "      <td>[30.64, 33.61, 46.25, 36.90, 36.87, 49.36, 55....</td>\n",
       "      <td>[Apple, Apple, Apple, Apple, Apple, Apple, App...</td>\n",
       "    </tr>\n",
       "    <tr>\n",
       "      <th>1</th>\n",
       "      <td>[13.22, 15.68, 30.03, 24.48, 25.25, 46.73, 26....</td>\n",
       "      <td>[3.65, 3.85, 4.51, 5.63, 6.09, 9.31, 10.17, 13...</td>\n",
       "      <td>[24576.00, 27017.00, 23724.00, 24982.00, 31378...</td>\n",
       "      <td>[15600.00, 22645.00, 35292.00, 53461.00, 86194...</td>\n",
       "      <td>[78944.00, 89784.00, 80083.00, 71997.00, 87711...</td>\n",
       "      <td>[16.58, 14.02, 7.03, 11.16, 11.49, 6.51, 14.39...</td>\n",
       "      <td>[30.09, 26.17, 14.36, 27.01, 31.92, 19.45, 42....</td>\n",
       "      <td>[Microsoft, Microsoft, Microsoft, Microsoft, M...</td>\n",
       "    </tr>\n",
       "    <tr>\n",
       "      <th>2</th>\n",
       "      <td>[14.41, 24.65, 32.68, 27.86, 58.45, 23.42, 26....</td>\n",
       "      <td>[4.26, 3.42, 4.32, 3.89, 4.84, 4.05, 4.60, 5.3...</td>\n",
       "      <td>[11301.00, 12065.00, 16657.00, 26064.00, 23907...</td>\n",
       "      <td>[2236.00, 3228.00, 1995.00, 3935.00, 3969.00, ...</td>\n",
       "      <td>[87309.00, 103860.00, 120331.00, 139036.00, 15...</td>\n",
       "      <td>[12.44, 11.77, 11.44, 12.37, 6.94, 14.29, 13.5...</td>\n",
       "      <td>[16.01, 14.79, 14.12, 15.02, 8.69, 18.62, 18.1...</td>\n",
       "      <td>[Alphabet (Google), Alphabet (Google), Alphabe...</td>\n",
       "    </tr>\n",
       "    <tr>\n",
       "      <th>3</th>\n",
       "      <td>[675.93, 0.00, 527.97, 150.72, 188.43, 72.70, ...</td>\n",
       "      <td>[18.70, 13.35, 23.58, 18.52, 20.60, 16.80, 14....</td>\n",
       "      <td>[2031.00, 1949.00, 7450.00, 10466.00, 8307.00,...</td>\n",
       "      <td>[3191.00, 8265.00, 8227.00, 12891.00, 30925.00...</td>\n",
       "      <td>[9746.00, 10741.00, 13384.00, 19285.00, 27709....</td>\n",
       "      <td>[0.75, (0.51), 1.00, 3.20, 2.83, 6.85, 5.97, 7...</td>\n",
       "      <td>[3.05, (2.35), 4.94, 14.52, 12.91, 28.27, 21.9...</td>\n",
       "      <td>[Amazon, Amazon, Amazon, Amazon, Amazon, Amazo...</td>\n",
       "    </tr>\n",
       "    <tr>\n",
       "      <th>4</th>\n",
       "      <td>[0.00, 0.00, 0.00, 0.00, 0.00, 0.00, 0.00, 966...</td>\n",
       "      <td>[26.93, 30.39, 28.39, 5.65, 10.17, 9.86, 9.94,...</td>\n",
       "      <td>[0.58, (1027.22), (2159.35), (1404.63), (3476....</td>\n",
       "      <td>[598.97, 2488.08, 2696.30, 7029.27, 10314.94, ...</td>\n",
       "      <td>[667.12, 911.71, 1083.70, 5538.09, 5234.59, 49...</td>\n",
       "      <td>[(4.19), (7.13), (12.79), (4.39), (7.65), (3.3...</td>\n",
       "      <td>[(18.69), (37.25), (89.07), (20.38), (36.43), ...</td>\n",
       "      <td>[Tesla, Tesla, Tesla, Tesla, Tesla, Tesla, Tes...</td>\n",
       "    </tr>\n",
       "    <tr>\n",
       "      <th>...</th>\n",
       "      <td>...</td>\n",
       "      <td>...</td>\n",
       "      <td>...</td>\n",
       "      <td>...</td>\n",
       "      <td>...</td>\n",
       "      <td>...</td>\n",
       "      <td>...</td>\n",
       "      <td>...</td>\n",
       "    </tr>\n",
       "    <tr>\n",
       "      <th>89</th>\n",
       "      <td>[13.22, 18.27, 0.00, 13.54, 13.55, 14.03, 13.1...</td>\n",
       "      <td>[2.40, 2.22, 3.37, 3.53, 3.40, 3.53, 3.42, 4.7...</td>\n",
       "      <td>[3045.00, 4704.00, 2774.00, 4548.00, 3943.00, ...</td>\n",
       "      <td>[17648.00, 12572.00, 12725.00, 12760.00, 12749...</td>\n",
       "      <td>[16558.00, 16231.00, 13997.00, 12957.00, 10953...</td>\n",
       "      <td>[6.33, 4.25, (3.82), 8.26, 7.04, 7.50, 7.20, 7...</td>\n",
       "      <td>[18.52, 12.02, (10.82), 24.95, 22.87, 25.78, 2...</td>\n",
       "      <td>[Target, Target, Target, Target, Target, Targe...</td>\n",
       "    </tr>\n",
       "    <tr>\n",
       "      <th>90</th>\n",
       "      <td>[17.70, 20.38, 43.06, 0.00, 0.00, 23.43, 0.00,...</td>\n",
       "      <td>[3.01, 2.91, 2.46, 2.77, 2.59, 1.37, 2.30, 2.4...</td>\n",
       "      <td>[6353.00, 6898.00, 5909.00, 3576.00, 3280.00, ...</td>\n",
       "      <td>[12212.00, 11809.00, 17453.00, 19616.00, 18199...</td>\n",
       "      <td>[39635.00, 38049.00, 35905.00, 41529.00, 37261...</td>\n",
       "      <td>[10.47, 8.12, 3.07, (2.31), (2.01), 3.00, (15....</td>\n",
       "      <td>[18.07, 14.00, 5.60, (4.36), (3.82), 5.82, (33...</td>\n",
       "      <td>[Schlumberger, Schlumberger, Schlumberger, Sch...</td>\n",
       "    </tr>\n",
       "    <tr>\n",
       "      <th>91</th>\n",
       "      <td>[18.35, 31.41, 17.67, 24.83, 19.09, 23.01, 17....</td>\n",
       "      <td>[1.18, 1.44, 1.25, 1.31, 1.40, 1.39, 1.45, 1.4...</td>\n",
       "      <td>[856.00, 1202.00, (66.00), (1038.00), (1428.00...</td>\n",
       "      <td>[40256.00, 39868.00, 38868.00, 47895.00, 52279...</td>\n",
       "      <td>[41408.00, 40899.00, 39771.00, 41041.00, 41737...</td>\n",
       "      <td>[2.33, 1.60, 2.33, 1.70, 2.26, 1.88, 2.44, 0.7...</td>\n",
       "      <td>[6.47, 4.58, 6.98, 5.33, 7.39, 6.23, 8.25, 2.7...</td>\n",
       "      <td>[Duke Energy, Duke Energy, Duke Energy, Duke E...</td>\n",
       "    </tr>\n",
       "    <tr>\n",
       "      <th>92</th>\n",
       "      <td>[0.00, 0.00, 0.00, 0.00, 142.91, 20.11, 47.91,...</td>\n",
       "      <td>[12.32, 25.50, 27.76, 13.69, 18.63, 9.50, 9.24...</td>\n",
       "      <td>[(112.06), (624.31), (410.73), 179.54, 745.52,...</td>\n",
       "      <td>[489.69, 807.14, 810.69, 821.34, 606.90, 591.5...</td>\n",
       "      <td>[1356.40, 1096.18, 1093.63, 1338.19, 2042.31, ...</td>\n",
       "      <td>[(17.53), (31.74), (23.02), (4.15), 8.18, 42.8...</td>\n",
       "      <td>[(34.87), (60.23), (50.81), (9.22), 15.59, 64....</td>\n",
       "      <td>[Vertex Pharmaceuticals, Vertex Pharmaceutical...</td>\n",
       "    </tr>\n",
       "    <tr>\n",
       "      <th>93</th>\n",
       "      <td>[13.42, 14.55, 13.42, 15.79, 15.31, 11.01, 14....</td>\n",
       "      <td>[2.01, 2.06, 1.82, 2.08, 2.05, 1.64, 2.02, 1.4...</td>\n",
       "      <td>[11446.00, 5332.00, 8782.00, 5336.00, 6472.00,...</td>\n",
       "      <td>[20049.00, 32260.00, 32078.00, 52747.00, 48910...</td>\n",
       "      <td>[41807.00, 44168.00, 46817.00, 47933.00, 49666...</td>\n",
       "      <td>[1.55, 1.46, 1.36, 1.29, 1.30, 1.46, 1.37, 0.8...</td>\n",
       "      <td>[15.31, 14.60, 13.89, 13.35, 13.64, 15.09, 14....</td>\n",
       "      <td>[U.S. Bancorp, U.S. Bancorp, U.S. Bancorp, U.S...</td>\n",
       "    </tr>\n",
       "  </tbody>\n",
       "</table>\n",
       "<p>94 rows × 8 columns</p>\n",
       "</div>"
      ],
      "text/plain": [
       "                                                    0  \\\n",
       "0   [11.95, 15.56, 11.93, 13.59, 16.63, 18.99, 18....   \n",
       "1   [13.22, 15.68, 30.03, 24.48, 25.25, 46.73, 26....   \n",
       "2   [14.41, 24.65, 32.68, 27.86, 58.45, 23.42, 26....   \n",
       "3   [675.93, 0.00, 527.97, 150.72, 188.43, 72.70, ...   \n",
       "4   [0.00, 0.00, 0.00, 0.00, 0.00, 0.00, 0.00, 966...   \n",
       "..                                                ...   \n",
       "89  [13.22, 18.27, 0.00, 13.54, 13.55, 14.03, 13.1...   \n",
       "90  [17.70, 20.38, 43.06, 0.00, 0.00, 23.43, 0.00,...   \n",
       "91  [18.35, 31.41, 17.67, 24.83, 19.09, 23.01, 17....   \n",
       "92  [0.00, 0.00, 0.00, 0.00, 142.91, 20.11, 47.91,...   \n",
       "93  [13.42, 14.55, 13.42, 15.79, 15.31, 11.01, 14....   \n",
       "\n",
       "                                                    1  \\\n",
       "0   [3.57, 5.50, 5.32, 4.82, 5.99, 10.51, 11.43, 3...   \n",
       "1   [3.65, 3.85, 4.51, 5.63, 6.09, 9.31, 10.17, 13...   \n",
       "2   [4.26, 3.42, 4.32, 3.89, 4.84, 4.05, 4.60, 5.3...   \n",
       "3   [18.70, 13.35, 23.58, 18.52, 20.60, 16.80, 14....   \n",
       "4   [26.93, 30.39, 28.39, 5.65, 10.17, 9.86, 9.94,...   \n",
       "..                                                ...   \n",
       "89  [2.40, 2.22, 3.37, 3.53, 3.40, 3.53, 3.42, 4.7...   \n",
       "90  [3.01, 2.91, 2.46, 2.77, 2.59, 1.37, 2.30, 2.4...   \n",
       "91  [1.18, 1.44, 1.25, 1.31, 1.40, 1.39, 1.45, 1.4...   \n",
       "92  [12.32, 25.50, 27.76, 13.69, 18.63, 9.50, 9.24...   \n",
       "93  [2.01, 2.06, 1.82, 2.08, 2.05, 1.64, 2.02, 1.4...   \n",
       "\n",
       "                                                    2  \\\n",
       "0   [44590.00, 49900.00, 69778.00, 53200.00, 51774...   \n",
       "1   [24576.00, 27017.00, 23724.00, 24982.00, 31378...   \n",
       "2   [11301.00, 12065.00, 16657.00, 26064.00, 23907...   \n",
       "3   [2031.00, 1949.00, 7450.00, 10466.00, 8307.00,...   \n",
       "4   [0.58, (1027.22), (2159.35), (1404.63), (3476....   \n",
       "..                                                ...   \n",
       "89  [3045.00, 4704.00, 2774.00, 4548.00, 3943.00, ...   \n",
       "90  [6353.00, 6898.00, 5909.00, 3576.00, 3280.00, ...   \n",
       "91  [856.00, 1202.00, (66.00), (1038.00), (1428.00...   \n",
       "92  [(112.06), (624.31), (410.73), 179.54, 745.52,...   \n",
       "93  [11446.00, 5332.00, 8782.00, 5336.00, 6472.00,...   \n",
       "\n",
       "                                                    3  \\\n",
       "0   [16960.00, 35295.00, 64328.00, 87032.00, 11568...   \n",
       "1   [15600.00, 22645.00, 35292.00, 53461.00, 86194...   \n",
       "2   [2236.00, 3228.00, 1995.00, 3935.00, 3969.00, ...   \n",
       "3   [3191.00, 8265.00, 8227.00, 12891.00, 30925.00...   \n",
       "4   [598.97, 2488.08, 2696.30, 7029.27, 10314.94, ...   \n",
       "..                                                ...   \n",
       "89  [17648.00, 12572.00, 12725.00, 12760.00, 12749...   \n",
       "90  [12212.00, 11809.00, 17453.00, 19616.00, 18199...   \n",
       "91  [40256.00, 39868.00, 38868.00, 47895.00, 52279...   \n",
       "92  [489.69, 807.14, 810.69, 821.34, 606.90, 591.5...   \n",
       "93  [20049.00, 32260.00, 32078.00, 52747.00, 48910...   \n",
       "\n",
       "                                                    4  \\\n",
       "0   [123549.00, 111547.00, 119355.00, 128249.00, 1...   \n",
       "1   [78944.00, 89784.00, 80083.00, 71997.00, 87711...   \n",
       "2   [87309.00, 103860.00, 120331.00, 139036.00, 15...   \n",
       "3   [9746.00, 10741.00, 13384.00, 19285.00, 27709....   \n",
       "4   [667.12, 911.71, 1083.70, 5538.09, 5234.59, 49...   \n",
       "..                                                ...   \n",
       "89  [16558.00, 16231.00, 13997.00, 12957.00, 10953...   \n",
       "90  [39635.00, 38049.00, 35905.00, 41529.00, 37261...   \n",
       "91  [41408.00, 40899.00, 39771.00, 41041.00, 41737...   \n",
       "92  [1356.40, 1096.18, 1093.63, 1338.19, 2042.31, ...   \n",
       "93  [41807.00, 44168.00, 46817.00, 47933.00, 49666...   \n",
       "\n",
       "                                                    5  \\\n",
       "0   [19.34, 18.01, 20.45, 14.93, 13.87, 16.07, 15....   \n",
       "1   [16.58, 14.02, 7.03, 11.16, 11.49, 6.51, 14.39...   \n",
       "2   [12.44, 11.77, 11.44, 12.37, 6.94, 14.29, 13.5...   \n",
       "3   [0.75, (0.51), 1.00, 3.20, 2.83, 6.85, 5.97, 7...   \n",
       "4   [(4.19), (7.13), (12.79), (4.39), (7.65), (3.3...   \n",
       "..                                                ...   \n",
       "89  [6.33, 4.25, (3.82), 8.26, 7.04, 7.50, 7.20, 7...   \n",
       "90  [10.47, 8.12, 3.07, (2.31), (2.01), 3.00, (15....   \n",
       "91  [2.33, 1.60, 2.33, 1.70, 2.26, 1.88, 2.44, 0.7...   \n",
       "92  [(17.53), (31.74), (23.02), (4.15), 8.18, 42.8...   \n",
       "93  [1.55, 1.46, 1.36, 1.29, 1.30, 1.46, 1.37, 0.8...   \n",
       "\n",
       "                                                    6  \\\n",
       "0   [30.64, 33.61, 46.25, 36.90, 36.87, 49.36, 55....   \n",
       "1   [30.09, 26.17, 14.36, 27.01, 31.92, 19.45, 42....   \n",
       "2   [16.01, 14.79, 14.12, 15.02, 8.69, 18.62, 18.1...   \n",
       "3   [3.05, (2.35), 4.94, 14.52, 12.91, 28.27, 21.9...   \n",
       "4   [(18.69), (37.25), (89.07), (20.38), (36.43), ...   \n",
       "..                                                ...   \n",
       "89  [18.52, 12.02, (10.82), 24.95, 22.87, 25.78, 2...   \n",
       "90  [18.07, 14.00, 5.60, (4.36), (3.82), 5.82, (33...   \n",
       "91  [6.47, 4.58, 6.98, 5.33, 7.39, 6.23, 8.25, 2.7...   \n",
       "92  [(34.87), (60.23), (50.81), (9.22), 15.59, 64....   \n",
       "93  [15.31, 14.60, 13.89, 13.35, 13.64, 15.09, 14....   \n",
       "\n",
       "                                                    7  \n",
       "0   [Apple, Apple, Apple, Apple, Apple, Apple, App...  \n",
       "1   [Microsoft, Microsoft, Microsoft, Microsoft, M...  \n",
       "2   [Alphabet (Google), Alphabet (Google), Alphabe...  \n",
       "3   [Amazon, Amazon, Amazon, Amazon, Amazon, Amazo...  \n",
       "4   [Tesla, Tesla, Tesla, Tesla, Tesla, Tesla, Tes...  \n",
       "..                                                ...  \n",
       "89  [Target, Target, Target, Target, Target, Targe...  \n",
       "90  [Schlumberger, Schlumberger, Schlumberger, Sch...  \n",
       "91  [Duke Energy, Duke Energy, Duke Energy, Duke E...  \n",
       "92  [Vertex Pharmaceuticals, Vertex Pharmaceutical...  \n",
       "93  [U.S. Bancorp, U.S. Bancorp, U.S. Bancorp, U.S...  \n",
       "\n",
       "[94 rows x 8 columns]"
      ]
     },
     "execution_count": 106,
     "metadata": {},
     "output_type": "execute_result"
    }
   ],
   "source": [
    "df_usa = pd.DataFrame(usa_df)\n",
    "df_raw_us = df_usa.copy()\n",
    "df_raw_us"
   ]
  },
  {
   "cell_type": "code",
   "execution_count": 107,
   "metadata": {},
   "outputs": [],
   "source": [
    "df_raw_us.to_csv('./df_raw_us.csv', sep=',', encoding='utf-8')"
   ]
  },
  {
   "cell_type": "code",
   "execution_count": 108,
   "metadata": {},
   "outputs": [
    {
     "data": {
      "text/html": [
       "<div>\n",
       "<style scoped>\n",
       "    .dataframe tbody tr th:only-of-type {\n",
       "        vertical-align: middle;\n",
       "    }\n",
       "\n",
       "    .dataframe tbody tr th {\n",
       "        vertical-align: top;\n",
       "    }\n",
       "\n",
       "    .dataframe thead th {\n",
       "        text-align: right;\n",
       "    }\n",
       "</style>\n",
       "<table border=\"1\" class=\"dataframe\">\n",
       "  <thead>\n",
       "    <tr style=\"text-align: right;\">\n",
       "      <th></th>\n",
       "      <th>year</th>\n",
       "      <th>PE ratio</th>\n",
       "      <th>PB Ratio</th>\n",
       "      <th>FCF</th>\n",
       "      <th>Total Debt</th>\n",
       "      <th>Sh Equity</th>\n",
       "      <th>ROA</th>\n",
       "      <th>ROE</th>\n",
       "      <th>company name</th>\n",
       "    </tr>\n",
       "  </thead>\n",
       "  <tbody>\n",
       "    <tr>\n",
       "      <th>0</th>\n",
       "      <td>2013</td>\n",
       "      <td>11.95</td>\n",
       "      <td>3.57</td>\n",
       "      <td>44590.00</td>\n",
       "      <td>16960.00</td>\n",
       "      <td>123549.00</td>\n",
       "      <td>19.34</td>\n",
       "      <td>30.64</td>\n",
       "      <td>Apple</td>\n",
       "    </tr>\n",
       "    <tr>\n",
       "      <th>1</th>\n",
       "      <td>2014</td>\n",
       "      <td>15.56</td>\n",
       "      <td>5.50</td>\n",
       "      <td>49900.00</td>\n",
       "      <td>35295.00</td>\n",
       "      <td>111547.00</td>\n",
       "      <td>18.01</td>\n",
       "      <td>33.61</td>\n",
       "      <td>Apple</td>\n",
       "    </tr>\n",
       "    <tr>\n",
       "      <th>2</th>\n",
       "      <td>2015</td>\n",
       "      <td>11.93</td>\n",
       "      <td>5.32</td>\n",
       "      <td>69778.00</td>\n",
       "      <td>64328.00</td>\n",
       "      <td>119355.00</td>\n",
       "      <td>20.45</td>\n",
       "      <td>46.25</td>\n",
       "      <td>Apple</td>\n",
       "    </tr>\n",
       "    <tr>\n",
       "      <th>3</th>\n",
       "      <td>2016</td>\n",
       "      <td>13.59</td>\n",
       "      <td>4.82</td>\n",
       "      <td>53200.00</td>\n",
       "      <td>87032.00</td>\n",
       "      <td>128249.00</td>\n",
       "      <td>14.93</td>\n",
       "      <td>36.90</td>\n",
       "      <td>Apple</td>\n",
       "    </tr>\n",
       "    <tr>\n",
       "      <th>4</th>\n",
       "      <td>2017</td>\n",
       "      <td>16.63</td>\n",
       "      <td>5.99</td>\n",
       "      <td>51774.00</td>\n",
       "      <td>115680.00</td>\n",
       "      <td>134047.00</td>\n",
       "      <td>13.87</td>\n",
       "      <td>36.87</td>\n",
       "      <td>Apple</td>\n",
       "    </tr>\n",
       "    <tr>\n",
       "      <th>...</th>\n",
       "      <td>...</td>\n",
       "      <td>...</td>\n",
       "      <td>...</td>\n",
       "      <td>...</td>\n",
       "      <td>...</td>\n",
       "      <td>...</td>\n",
       "      <td>...</td>\n",
       "      <td>...</td>\n",
       "      <td>...</td>\n",
       "    </tr>\n",
       "    <tr>\n",
       "      <th>935</th>\n",
       "      <td>2018</td>\n",
       "      <td>11.01</td>\n",
       "      <td>1.64</td>\n",
       "      <td>10564.00</td>\n",
       "      <td>63559.00</td>\n",
       "      <td>51657.00</td>\n",
       "      <td>1.46</td>\n",
       "      <td>15.09</td>\n",
       "      <td>U.S. Bancorp</td>\n",
       "    </tr>\n",
       "    <tr>\n",
       "      <th>936</th>\n",
       "      <td>2019</td>\n",
       "      <td>14.22</td>\n",
       "      <td>2.02</td>\n",
       "      <td>4889.00</td>\n",
       "      <td>67958.00</td>\n",
       "      <td>52483.00</td>\n",
       "      <td>1.37</td>\n",
       "      <td>14.28</td>\n",
       "      <td>U.S. Bancorp</td>\n",
       "    </tr>\n",
       "    <tr>\n",
       "      <th>937</th>\n",
       "      <td>2020</td>\n",
       "      <td>15.18</td>\n",
       "      <td>1.47</td>\n",
       "      <td>3716.00</td>\n",
       "      <td>60619.00</td>\n",
       "      <td>53725.00</td>\n",
       "      <td>0.88</td>\n",
       "      <td>9.81</td>\n",
       "      <td>U.S. Bancorp</td>\n",
       "    </tr>\n",
       "    <tr>\n",
       "      <th>938</th>\n",
       "      <td>2021</td>\n",
       "      <td>10.99</td>\n",
       "      <td>1.71</td>\n",
       "      <td>9870.00</td>\n",
       "      <td>48399.00</td>\n",
       "      <td>55387.00</td>\n",
       "      <td>1.35</td>\n",
       "      <td>15.72</td>\n",
       "      <td>U.S. Bancorp</td>\n",
       "    </tr>\n",
       "    <tr>\n",
       "      <th>939</th>\n",
       "      <td>2022</td>\n",
       "      <td>12.03</td>\n",
       "      <td>1.51</td>\n",
       "      <td>–</td>\n",
       "      <td>39829.00</td>\n",
       "      <td>51232.00</td>\n",
       "      <td>0.88</td>\n",
       "      <td>11.77</td>\n",
       "      <td>U.S. Bancorp</td>\n",
       "    </tr>\n",
       "  </tbody>\n",
       "</table>\n",
       "<p>940 rows × 9 columns</p>\n",
       "</div>"
      ],
      "text/plain": [
       "     year PE ratio PB Ratio       FCF Total Debt  Sh Equity    ROA    ROE  \\\n",
       "0    2013    11.95     3.57  44590.00   16960.00  123549.00  19.34  30.64   \n",
       "1    2014    15.56     5.50  49900.00   35295.00  111547.00  18.01  33.61   \n",
       "2    2015    11.93     5.32  69778.00   64328.00  119355.00  20.45  46.25   \n",
       "3    2016    13.59     4.82  53200.00   87032.00  128249.00  14.93  36.90   \n",
       "4    2017    16.63     5.99  51774.00  115680.00  134047.00  13.87  36.87   \n",
       "..    ...      ...      ...       ...        ...        ...    ...    ...   \n",
       "935  2018    11.01     1.64  10564.00   63559.00   51657.00   1.46  15.09   \n",
       "936  2019    14.22     2.02   4889.00   67958.00   52483.00   1.37  14.28   \n",
       "937  2020    15.18     1.47   3716.00   60619.00   53725.00   0.88   9.81   \n",
       "938  2021    10.99     1.71   9870.00   48399.00   55387.00   1.35  15.72   \n",
       "939  2022    12.03     1.51         –   39829.00   51232.00   0.88  11.77   \n",
       "\n",
       "     company name  \n",
       "0           Apple  \n",
       "1           Apple  \n",
       "2           Apple  \n",
       "3           Apple  \n",
       "4           Apple  \n",
       "..            ...  \n",
       "935  U.S. Bancorp  \n",
       "936  U.S. Bancorp  \n",
       "937  U.S. Bancorp  \n",
       "938  U.S. Bancorp  \n",
       "939  U.S. Bancorp  \n",
       "\n",
       "[940 rows x 9 columns]"
      ]
     },
     "execution_count": 108,
     "metadata": {},
     "output_type": "execute_result"
    }
   ],
   "source": [
    "# 빈 데이터 프레임 생성\n",
    "StockMarketEDA_us_raw = pd.DataFrame(columns = [\n",
    "    'year',\n",
    "    'PE ratio',\n",
    "    'PB Ratio',\n",
    "    'FCF',\n",
    "    'Total Debt',\n",
    "    'Sh Equity',\n",
    "    'ROA',\n",
    "    'ROE',\n",
    "    'company name'\n",
    "])\n",
    "\n",
    "\n",
    "year = [yr for yr in range(2013,2023)]\n",
    "user_year = -4 # -4:2022, -3:2023\n",
    "# loop 를 돌며 데이터 프레임 생성\n",
    "for each_company in usa_df:\n",
    "    df_temp = pd.DataFrame({\n",
    "        'year': year,\n",
    "        'PE ratio': each_company[0][:user_year],\n",
    "        'PB Ratio': each_company[1][:user_year],\n",
    "        'FCF': each_company[2][:user_year],\n",
    "        'Total Debt': each_company[3][:user_year],\n",
    "        'Sh Equity': each_company[4][:user_year],\n",
    "        'ROA': each_company[5][:user_year],\n",
    "        'ROE': each_company[6][:user_year],\n",
    "        'company name': each_company[-1][:user_year],\n",
    "    })\n",
    "    StockMarketEDA_us_raw = pd.concat([StockMarketEDA_us_raw,df_temp])\n",
    "StockMarketEDA_us_raw.reset_index(inplace=True)\n",
    "del StockMarketEDA_us_raw['index']\n",
    "StockMarketEDA_us_raw"
   ]
  },
  {
   "cell_type": "code",
   "execution_count": 110,
   "metadata": {},
   "outputs": [
    {
     "data": {
      "text/html": [
       "<div>\n",
       "<style scoped>\n",
       "    .dataframe tbody tr th:only-of-type {\n",
       "        vertical-align: middle;\n",
       "    }\n",
       "\n",
       "    .dataframe tbody tr th {\n",
       "        vertical-align: top;\n",
       "    }\n",
       "\n",
       "    .dataframe thead th {\n",
       "        text-align: right;\n",
       "    }\n",
       "</style>\n",
       "<table border=\"1\" class=\"dataframe\">\n",
       "  <thead>\n",
       "    <tr style=\"text-align: right;\">\n",
       "      <th></th>\n",
       "      <th>year</th>\n",
       "      <th>PE ratio</th>\n",
       "      <th>PB Ratio</th>\n",
       "      <th>FCF</th>\n",
       "      <th>Total Debt</th>\n",
       "      <th>Sh Equity</th>\n",
       "      <th>ROA</th>\n",
       "      <th>ROE</th>\n",
       "      <th>company name</th>\n",
       "    </tr>\n",
       "  </thead>\n",
       "  <tbody>\n",
       "    <tr>\n",
       "      <th>0</th>\n",
       "      <td>2013</td>\n",
       "      <td>11.95</td>\n",
       "      <td>3.57</td>\n",
       "      <td>44590.00</td>\n",
       "      <td>16960.00</td>\n",
       "      <td>123549.00</td>\n",
       "      <td>19.34</td>\n",
       "      <td>30.64</td>\n",
       "      <td>Apple</td>\n",
       "    </tr>\n",
       "    <tr>\n",
       "      <th>1</th>\n",
       "      <td>2014</td>\n",
       "      <td>15.56</td>\n",
       "      <td>5.50</td>\n",
       "      <td>49900.00</td>\n",
       "      <td>35295.00</td>\n",
       "      <td>111547.00</td>\n",
       "      <td>18.01</td>\n",
       "      <td>33.61</td>\n",
       "      <td>Apple</td>\n",
       "    </tr>\n",
       "    <tr>\n",
       "      <th>2</th>\n",
       "      <td>2015</td>\n",
       "      <td>11.93</td>\n",
       "      <td>5.32</td>\n",
       "      <td>69778.00</td>\n",
       "      <td>64328.00</td>\n",
       "      <td>119355.00</td>\n",
       "      <td>20.45</td>\n",
       "      <td>46.25</td>\n",
       "      <td>Apple</td>\n",
       "    </tr>\n",
       "    <tr>\n",
       "      <th>3</th>\n",
       "      <td>2016</td>\n",
       "      <td>13.59</td>\n",
       "      <td>4.82</td>\n",
       "      <td>53200.00</td>\n",
       "      <td>87032.00</td>\n",
       "      <td>128249.00</td>\n",
       "      <td>14.93</td>\n",
       "      <td>36.90</td>\n",
       "      <td>Apple</td>\n",
       "    </tr>\n",
       "    <tr>\n",
       "      <th>4</th>\n",
       "      <td>2017</td>\n",
       "      <td>16.63</td>\n",
       "      <td>5.99</td>\n",
       "      <td>51774.00</td>\n",
       "      <td>115680.00</td>\n",
       "      <td>134047.00</td>\n",
       "      <td>13.87</td>\n",
       "      <td>36.87</td>\n",
       "      <td>Apple</td>\n",
       "    </tr>\n",
       "    <tr>\n",
       "      <th>...</th>\n",
       "      <td>...</td>\n",
       "      <td>...</td>\n",
       "      <td>...</td>\n",
       "      <td>...</td>\n",
       "      <td>...</td>\n",
       "      <td>...</td>\n",
       "      <td>...</td>\n",
       "      <td>...</td>\n",
       "      <td>...</td>\n",
       "    </tr>\n",
       "    <tr>\n",
       "      <th>935</th>\n",
       "      <td>2018</td>\n",
       "      <td>11.01</td>\n",
       "      <td>1.64</td>\n",
       "      <td>10564.00</td>\n",
       "      <td>63559.00</td>\n",
       "      <td>51657.00</td>\n",
       "      <td>1.46</td>\n",
       "      <td>15.09</td>\n",
       "      <td>U.S. Bancorp</td>\n",
       "    </tr>\n",
       "    <tr>\n",
       "      <th>936</th>\n",
       "      <td>2019</td>\n",
       "      <td>14.22</td>\n",
       "      <td>2.02</td>\n",
       "      <td>4889.00</td>\n",
       "      <td>67958.00</td>\n",
       "      <td>52483.00</td>\n",
       "      <td>1.37</td>\n",
       "      <td>14.28</td>\n",
       "      <td>U.S. Bancorp</td>\n",
       "    </tr>\n",
       "    <tr>\n",
       "      <th>937</th>\n",
       "      <td>2020</td>\n",
       "      <td>15.18</td>\n",
       "      <td>1.47</td>\n",
       "      <td>3716.00</td>\n",
       "      <td>60619.00</td>\n",
       "      <td>53725.00</td>\n",
       "      <td>0.88</td>\n",
       "      <td>9.81</td>\n",
       "      <td>U.S. Bancorp</td>\n",
       "    </tr>\n",
       "    <tr>\n",
       "      <th>938</th>\n",
       "      <td>2021</td>\n",
       "      <td>10.99</td>\n",
       "      <td>1.71</td>\n",
       "      <td>9870.00</td>\n",
       "      <td>48399.00</td>\n",
       "      <td>55387.00</td>\n",
       "      <td>1.35</td>\n",
       "      <td>15.72</td>\n",
       "      <td>U.S. Bancorp</td>\n",
       "    </tr>\n",
       "    <tr>\n",
       "      <th>939</th>\n",
       "      <td>2022</td>\n",
       "      <td>12.03</td>\n",
       "      <td>1.51</td>\n",
       "      <td>–</td>\n",
       "      <td>39829.00</td>\n",
       "      <td>51232.00</td>\n",
       "      <td>0.88</td>\n",
       "      <td>11.77</td>\n",
       "      <td>U.S. Bancorp</td>\n",
       "    </tr>\n",
       "  </tbody>\n",
       "</table>\n",
       "<p>940 rows × 9 columns</p>\n",
       "</div>"
      ],
      "text/plain": [
       "     year PE ratio PB Ratio       FCF Total Debt  Sh Equity    ROA    ROE  \\\n",
       "0    2013    11.95     3.57  44590.00   16960.00  123549.00  19.34  30.64   \n",
       "1    2014    15.56     5.50  49900.00   35295.00  111547.00  18.01  33.61   \n",
       "2    2015    11.93     5.32  69778.00   64328.00  119355.00  20.45  46.25   \n",
       "3    2016    13.59     4.82  53200.00   87032.00  128249.00  14.93  36.90   \n",
       "4    2017    16.63     5.99  51774.00  115680.00  134047.00  13.87  36.87   \n",
       "..    ...      ...      ...       ...        ...        ...    ...    ...   \n",
       "935  2018    11.01     1.64  10564.00   63559.00   51657.00   1.46  15.09   \n",
       "936  2019    14.22     2.02   4889.00   67958.00   52483.00   1.37  14.28   \n",
       "937  2020    15.18     1.47   3716.00   60619.00   53725.00   0.88   9.81   \n",
       "938  2021    10.99     1.71   9870.00   48399.00   55387.00   1.35  15.72   \n",
       "939  2022    12.03     1.51         –   39829.00   51232.00   0.88  11.77   \n",
       "\n",
       "     company name  \n",
       "0           Apple  \n",
       "1           Apple  \n",
       "2           Apple  \n",
       "3           Apple  \n",
       "4           Apple  \n",
       "..            ...  \n",
       "935  U.S. Bancorp  \n",
       "936  U.S. Bancorp  \n",
       "937  U.S. Bancorp  \n",
       "938  U.S. Bancorp  \n",
       "939  U.S. Bancorp  \n",
       "\n",
       "[940 rows x 9 columns]"
      ]
     },
     "execution_count": 110,
     "metadata": {},
     "output_type": "execute_result"
    }
   ],
   "source": [
    "df_us_ing_v1 = StockMarketEDA_us_raw.copy()\n",
    "df_us_ing_v1 "
   ]
  },
  {
   "cell_type": "code",
   "execution_count": 111,
   "metadata": {},
   "outputs": [],
   "source": [
    "df_us_ing_v1.to_csv('./df_us_ing_v1.csv', sep=',', encoding='utf-8')"
   ]
  },
  {
   "cell_type": "code",
   "execution_count": 11,
   "metadata": {},
   "outputs": [],
   "source": [
    "StockMarketEDA_us_raw = pd.read_csv('./df_us_ing_v1.csv', encoding='utf-8')"
   ]
  },
  {
   "attachments": {},
   "cell_type": "markdown",
   "metadata": {},
   "source": [
    "## 데이터 분리 : '-'를 포함한 경우"
   ]
  },
  {
   "cell_type": "code",
   "execution_count": 38,
   "metadata": {},
   "outputs": [
    {
     "data": {
      "text/plain": [
       "79"
      ]
     },
     "execution_count": 38,
     "metadata": {},
     "output_type": "execute_result"
    }
   ],
   "source": [
    "wrong_value_index_list = []\n",
    "\n",
    "column_list = StockMarketEDA_us_raw.columns.values.tolist()\n",
    "for column in column_list:\n",
    "    for index, each_row in enumerate(StockMarketEDA_us_raw[column]):\n",
    "        if each_row == '–':\n",
    "            wrong_value_index_list.append(StockMarketEDA_us_raw['company name'][index])\n",
    "\n",
    "len(wrong_value_index_list)"
   ]
  },
  {
   "cell_type": "code",
   "execution_count": 39,
   "metadata": {},
   "outputs": [],
   "source": [
    "df_wrong_value_company_list = pd.DataFrame({'wrong_value_company_list':wrong_value_index_list})\n",
    "wrong_value_company_list = df_wrong_value_company_list['wrong_value_company_list'].unique().tolist()\n",
    "all_company_list = StockMarketEDA_us_raw['company name'].unique().tolist()"
   ]
  },
  {
   "cell_type": "code",
   "execution_count": 40,
   "metadata": {},
   "outputs": [
    {
     "data": {
      "text/html": [
       "<div>\n",
       "<style scoped>\n",
       "    .dataframe tbody tr th:only-of-type {\n",
       "        vertical-align: middle;\n",
       "    }\n",
       "\n",
       "    .dataframe tbody tr th {\n",
       "        vertical-align: top;\n",
       "    }\n",
       "\n",
       "    .dataframe thead th {\n",
       "        text-align: right;\n",
       "    }\n",
       "</style>\n",
       "<table border=\"1\" class=\"dataframe\">\n",
       "  <thead>\n",
       "    <tr style=\"text-align: right;\">\n",
       "      <th></th>\n",
       "      <th>wrong_value_company_list</th>\n",
       "    </tr>\n",
       "  </thead>\n",
       "  <tbody>\n",
       "    <tr>\n",
       "      <th>0</th>\n",
       "      <td>ConocoPhillips</td>\n",
       "    </tr>\n",
       "    <tr>\n",
       "      <th>1</th>\n",
       "      <td>Booking Holdings (Booking.com)</td>\n",
       "    </tr>\n",
       "    <tr>\n",
       "      <th>2</th>\n",
       "      <td>Airbnb</td>\n",
       "    </tr>\n",
       "    <tr>\n",
       "      <th>3</th>\n",
       "      <td>Airbnb</td>\n",
       "    </tr>\n",
       "    <tr>\n",
       "      <th>4</th>\n",
       "      <td>Airbnb</td>\n",
       "    </tr>\n",
       "    <tr>\n",
       "      <th>...</th>\n",
       "      <td>...</td>\n",
       "    </tr>\n",
       "    <tr>\n",
       "      <th>74</th>\n",
       "      <td>Booking Holdings (Booking.com)</td>\n",
       "    </tr>\n",
       "    <tr>\n",
       "      <th>75</th>\n",
       "      <td>Airbnb</td>\n",
       "    </tr>\n",
       "    <tr>\n",
       "      <th>76</th>\n",
       "      <td>Airbnb</td>\n",
       "    </tr>\n",
       "    <tr>\n",
       "      <th>77</th>\n",
       "      <td>Airbnb</td>\n",
       "    </tr>\n",
       "    <tr>\n",
       "      <th>78</th>\n",
       "      <td>Airbnb</td>\n",
       "    </tr>\n",
       "  </tbody>\n",
       "</table>\n",
       "<p>79 rows × 1 columns</p>\n",
       "</div>"
      ],
      "text/plain": [
       "          wrong_value_company_list\n",
       "0                   ConocoPhillips\n",
       "1   Booking Holdings (Booking.com)\n",
       "2                           Airbnb\n",
       "3                           Airbnb\n",
       "4                           Airbnb\n",
       "..                             ...\n",
       "74  Booking Holdings (Booking.com)\n",
       "75                          Airbnb\n",
       "76                          Airbnb\n",
       "77                          Airbnb\n",
       "78                          Airbnb\n",
       "\n",
       "[79 rows x 1 columns]"
      ]
     },
     "execution_count": 40,
     "metadata": {},
     "output_type": "execute_result"
    }
   ],
   "source": [
    "df_wrong_value_company_list"
   ]
  },
  {
   "cell_type": "markdown",
   "metadata": {},
   "source": [
    "## 새로운 ticker list"
   ]
  },
  {
   "cell_type": "code",
   "execution_count": 41,
   "metadata": {},
   "outputs": [
    {
     "data": {
      "text/plain": [
       "20"
      ]
     },
     "execution_count": 41,
     "metadata": {},
     "output_type": "execute_result"
    }
   ],
   "source": [
    "out_list = df_wrong_value_company_list['wrong_value_company_list'].unique()\n",
    "len(out_list)"
   ]
  },
  {
   "cell_type": "code",
   "execution_count": 44,
   "metadata": {},
   "outputs": [
    {
     "data": {
      "text/html": [
       "<div>\n",
       "<style scoped>\n",
       "    .dataframe tbody tr th:only-of-type {\n",
       "        vertical-align: middle;\n",
       "    }\n",
       "\n",
       "    .dataframe tbody tr th {\n",
       "        vertical-align: top;\n",
       "    }\n",
       "\n",
       "    .dataframe thead th {\n",
       "        text-align: right;\n",
       "    }\n",
       "</style>\n",
       "<table border=\"1\" class=\"dataframe\">\n",
       "  <thead>\n",
       "    <tr style=\"text-align: right;\">\n",
       "      <th></th>\n",
       "      <th>company</th>\n",
       "    </tr>\n",
       "    <tr>\n",
       "      <th>code</th>\n",
       "      <th></th>\n",
       "    </tr>\n",
       "  </thead>\n",
       "  <tbody>\n",
       "    <tr>\n",
       "      <th>AAPL</th>\n",
       "      <td>Apple</td>\n",
       "    </tr>\n",
       "    <tr>\n",
       "      <th>MSFT</th>\n",
       "      <td>Microsoft</td>\n",
       "    </tr>\n",
       "    <tr>\n",
       "      <th>GOOG</th>\n",
       "      <td>Alphabet (Google)</td>\n",
       "    </tr>\n",
       "    <tr>\n",
       "      <th>AMZN</th>\n",
       "      <td>Amazon</td>\n",
       "    </tr>\n",
       "    <tr>\n",
       "      <th>BRK-B</th>\n",
       "      <td>Berkshire Hathaway</td>\n",
       "    </tr>\n",
       "    <tr>\n",
       "      <th>...</th>\n",
       "      <td>...</td>\n",
       "    </tr>\n",
       "    <tr>\n",
       "      <th>TGT</th>\n",
       "      <td>Target</td>\n",
       "    </tr>\n",
       "    <tr>\n",
       "      <th>SLB</th>\n",
       "      <td>Schlumberger</td>\n",
       "    </tr>\n",
       "    <tr>\n",
       "      <th>DUK</th>\n",
       "      <td>Duke Energy</td>\n",
       "    </tr>\n",
       "    <tr>\n",
       "      <th>VRTX</th>\n",
       "      <td>Vertex Pharmaceuticals</td>\n",
       "    </tr>\n",
       "    <tr>\n",
       "      <th>USB</th>\n",
       "      <td>U.S. Bancorp</td>\n",
       "    </tr>\n",
       "  </tbody>\n",
       "</table>\n",
       "<p>100 rows × 1 columns</p>\n",
       "</div>"
      ],
      "text/plain": [
       "                      company\n",
       "code                         \n",
       "AAPL                    Apple\n",
       "MSFT                Microsoft\n",
       "GOOG        Alphabet (Google)\n",
       "AMZN                   Amazon\n",
       "BRK-B      Berkshire Hathaway\n",
       "...                       ...\n",
       "TGT                    Target\n",
       "SLB              Schlumberger\n",
       "DUK               Duke Energy\n",
       "VRTX   Vertex Pharmaceuticals\n",
       "USB              U.S. Bancorp\n",
       "\n",
       "[100 rows x 1 columns]"
      ]
     },
     "execution_count": 44,
     "metadata": {},
     "output_type": "execute_result"
    }
   ],
   "source": [
    "df_ticker_list"
   ]
  },
  {
   "cell_type": "code",
   "execution_count": 56,
   "metadata": {},
   "outputs": [
    {
     "data": {
      "text/plain": [
       "100"
      ]
     },
     "execution_count": 56,
     "metadata": {},
     "output_type": "execute_result"
    }
   ],
   "source": [
    "df_ticker_list_new = df_ticker_list.copy()\n",
    "new_ticker_list = df_ticker_list_new.index\n",
    "new_ticker_list = new_ticker_list.tolist()\n",
    "len(new_ticker_list)\n"
   ]
  },
  {
   "cell_type": "code",
   "execution_count": 66,
   "metadata": {},
   "outputs": [
    {
     "data": {
      "text/plain": [
       "20"
      ]
     },
     "execution_count": 66,
     "metadata": {},
     "output_type": "execute_result"
    }
   ],
   "source": [
    "new_list = []\n",
    "for i,j in zip(new_ticker_list, out_list):\n",
    "    if i !=j:\n",
    "        new_list.append(i)\n",
    "    #if i == j:\n",
    "    #    new_list.remove(i)\n",
    "            \n",
    "len(new_list)"
   ]
  },
  {
   "cell_type": "code",
   "execution_count": 59,
   "metadata": {},
   "outputs": [
    {
     "data": {
      "text/plain": [
       "100"
      ]
     },
     "execution_count": 59,
     "metadata": {},
     "output_type": "execute_result"
    }
   ],
   "source": [
    "len(new_ticker_list)"
   ]
  },
  {
   "cell_type": "code",
   "execution_count": 25,
   "metadata": {},
   "outputs": [
    {
     "ename": "NameError",
     "evalue": "name 'df_tmp' is not defined",
     "output_type": "error",
     "traceback": [
      "\u001b[1;31m---------------------------------------------------------------------------\u001b[0m",
      "\u001b[1;31mNameError\u001b[0m                                 Traceback (most recent call last)",
      "Cell \u001b[1;32mIn[25], line 3\u001b[0m\n\u001b[0;32m      1\u001b[0m new_code_list \u001b[39m=\u001b[39m []\n\u001b[0;32m      2\u001b[0m \u001b[39mfor\u001b[39;00m i \u001b[39min\u001b[39;00m \u001b[39mrange\u001b[39m(\u001b[39m100\u001b[39m):\n\u001b[1;32m----> 3\u001b[0m     \u001b[39mif\u001b[39;00m df_tmp[\u001b[39m'\u001b[39m\u001b[39mcompany\u001b[39m\u001b[39m'\u001b[39m][i] \u001b[39min\u001b[39;00m new_ticker_list:\n\u001b[0;32m      4\u001b[0m         new_code_list\u001b[39m.\u001b[39mappend(df_tmp[\u001b[39m'\u001b[39m\u001b[39mcode\u001b[39m\u001b[39m'\u001b[39m][i])\n\u001b[0;32m      6\u001b[0m new_code_list\n",
      "\u001b[1;31mNameError\u001b[0m: name 'df_tmp' is not defined"
     ]
    }
   ],
   "source": [
    "new_code_list = []\n",
    "for i in range(100):\n",
    "    if df_tmp['company'][i] in new_ticker_list:\n",
    "        new_code_list.append(df_tmp['code'][i])\n",
    "\n",
    "new_code_list\n"
   ]
  },
  {
   "cell_type": "code",
   "execution_count": 21,
   "metadata": {},
   "outputs": [
    {
     "ename": "ValueError",
     "evalue": "All arrays must be of the same length",
     "output_type": "error",
     "traceback": [
      "\u001b[1;31m---------------------------------------------------------------------------\u001b[0m",
      "\u001b[1;31mValueError\u001b[0m                                Traceback (most recent call last)",
      "Cell \u001b[1;32mIn[21], line 1\u001b[0m\n\u001b[1;32m----> 1\u001b[0m df_new_ticker \u001b[39m=\u001b[39m pd\u001b[39m.\u001b[39;49mDataFrame({\u001b[39m'\u001b[39;49m\u001b[39mcompany\u001b[39;49m\u001b[39m'\u001b[39;49m: new_ticker_list ,\n\u001b[0;32m      2\u001b[0m                        \u001b[39m'\u001b[39;49m\u001b[39mcode\u001b[39;49m\u001b[39m'\u001b[39;49m: new_code_list\n\u001b[0;32m      3\u001b[0m                        })\n\u001b[0;32m      5\u001b[0m df_new_ticker\n",
      "File \u001b[1;32mc:\\Users\\User\\ws\\venv\\lib\\site-packages\\pandas\\core\\frame.py:664\u001b[0m, in \u001b[0;36mDataFrame.__init__\u001b[1;34m(self, data, index, columns, dtype, copy)\u001b[0m\n\u001b[0;32m    658\u001b[0m     mgr \u001b[39m=\u001b[39m \u001b[39mself\u001b[39m\u001b[39m.\u001b[39m_init_mgr(\n\u001b[0;32m    659\u001b[0m         data, axes\u001b[39m=\u001b[39m{\u001b[39m\"\u001b[39m\u001b[39mindex\u001b[39m\u001b[39m\"\u001b[39m: index, \u001b[39m\"\u001b[39m\u001b[39mcolumns\u001b[39m\u001b[39m\"\u001b[39m: columns}, dtype\u001b[39m=\u001b[39mdtype, copy\u001b[39m=\u001b[39mcopy\n\u001b[0;32m    660\u001b[0m     )\n\u001b[0;32m    662\u001b[0m \u001b[39melif\u001b[39;00m \u001b[39misinstance\u001b[39m(data, \u001b[39mdict\u001b[39m):\n\u001b[0;32m    663\u001b[0m     \u001b[39m# GH#38939 de facto copy defaults to False only in non-dict cases\u001b[39;00m\n\u001b[1;32m--> 664\u001b[0m     mgr \u001b[39m=\u001b[39m dict_to_mgr(data, index, columns, dtype\u001b[39m=\u001b[39;49mdtype, copy\u001b[39m=\u001b[39;49mcopy, typ\u001b[39m=\u001b[39;49mmanager)\n\u001b[0;32m    665\u001b[0m \u001b[39melif\u001b[39;00m \u001b[39misinstance\u001b[39m(data, ma\u001b[39m.\u001b[39mMaskedArray):\n\u001b[0;32m    666\u001b[0m     \u001b[39mimport\u001b[39;00m \u001b[39mnumpy\u001b[39;00m\u001b[39m.\u001b[39;00m\u001b[39mma\u001b[39;00m\u001b[39m.\u001b[39;00m\u001b[39mmrecords\u001b[39;00m \u001b[39mas\u001b[39;00m \u001b[39mmrecords\u001b[39;00m\n",
      "File \u001b[1;32mc:\\Users\\User\\ws\\venv\\lib\\site-packages\\pandas\\core\\internals\\construction.py:493\u001b[0m, in \u001b[0;36mdict_to_mgr\u001b[1;34m(data, index, columns, dtype, typ, copy)\u001b[0m\n\u001b[0;32m    489\u001b[0m     \u001b[39melse\u001b[39;00m:\n\u001b[0;32m    490\u001b[0m         \u001b[39m# dtype check to exclude e.g. range objects, scalars\u001b[39;00m\n\u001b[0;32m    491\u001b[0m         arrays \u001b[39m=\u001b[39m [x\u001b[39m.\u001b[39mcopy() \u001b[39mif\u001b[39;00m \u001b[39mhasattr\u001b[39m(x, \u001b[39m\"\u001b[39m\u001b[39mdtype\u001b[39m\u001b[39m\"\u001b[39m) \u001b[39melse\u001b[39;00m x \u001b[39mfor\u001b[39;00m x \u001b[39min\u001b[39;00m arrays]\n\u001b[1;32m--> 493\u001b[0m \u001b[39mreturn\u001b[39;00m arrays_to_mgr(arrays, columns, index, dtype\u001b[39m=\u001b[39;49mdtype, typ\u001b[39m=\u001b[39;49mtyp, consolidate\u001b[39m=\u001b[39;49mcopy)\n",
      "File \u001b[1;32mc:\\Users\\User\\ws\\venv\\lib\\site-packages\\pandas\\core\\internals\\construction.py:118\u001b[0m, in \u001b[0;36marrays_to_mgr\u001b[1;34m(arrays, columns, index, dtype, verify_integrity, typ, consolidate)\u001b[0m\n\u001b[0;32m    115\u001b[0m \u001b[39mif\u001b[39;00m verify_integrity:\n\u001b[0;32m    116\u001b[0m     \u001b[39m# figure out the index, if necessary\u001b[39;00m\n\u001b[0;32m    117\u001b[0m     \u001b[39mif\u001b[39;00m index \u001b[39mis\u001b[39;00m \u001b[39mNone\u001b[39;00m:\n\u001b[1;32m--> 118\u001b[0m         index \u001b[39m=\u001b[39m _extract_index(arrays)\n\u001b[0;32m    119\u001b[0m     \u001b[39melse\u001b[39;00m:\n\u001b[0;32m    120\u001b[0m         index \u001b[39m=\u001b[39m ensure_index(index)\n",
      "File \u001b[1;32mc:\\Users\\User\\ws\\venv\\lib\\site-packages\\pandas\\core\\internals\\construction.py:666\u001b[0m, in \u001b[0;36m_extract_index\u001b[1;34m(data)\u001b[0m\n\u001b[0;32m    664\u001b[0m lengths \u001b[39m=\u001b[39m \u001b[39mlist\u001b[39m(\u001b[39mset\u001b[39m(raw_lengths))\n\u001b[0;32m    665\u001b[0m \u001b[39mif\u001b[39;00m \u001b[39mlen\u001b[39m(lengths) \u001b[39m>\u001b[39m \u001b[39m1\u001b[39m:\n\u001b[1;32m--> 666\u001b[0m     \u001b[39mraise\u001b[39;00m \u001b[39mValueError\u001b[39;00m(\u001b[39m\"\u001b[39m\u001b[39mAll arrays must be of the same length\u001b[39m\u001b[39m\"\u001b[39m)\n\u001b[0;32m    668\u001b[0m \u001b[39mif\u001b[39;00m have_dicts:\n\u001b[0;32m    669\u001b[0m     \u001b[39mraise\u001b[39;00m \u001b[39mValueError\u001b[39;00m(\n\u001b[0;32m    670\u001b[0m         \u001b[39m\"\u001b[39m\u001b[39mMixing dicts with non-Series may lead to ambiguous ordering.\u001b[39m\u001b[39m\"\u001b[39m\n\u001b[0;32m    671\u001b[0m     )\n",
      "\u001b[1;31mValueError\u001b[0m: All arrays must be of the same length"
     ]
    }
   ],
   "source": [
    "df_new_ticker = pd.DataFrame({'company': new_ticker_list ,\n",
    "                       'code': new_code_list\n",
    "                       })\n",
    "\n",
    "df_new_ticker"
   ]
  },
  {
   "cell_type": "code",
   "execution_count": 115,
   "metadata": {},
   "outputs": [
    {
     "data": {
      "text/html": [
       "<div>\n",
       "<style scoped>\n",
       "    .dataframe tbody tr th:only-of-type {\n",
       "        vertical-align: middle;\n",
       "    }\n",
       "\n",
       "    .dataframe tbody tr th {\n",
       "        vertical-align: top;\n",
       "    }\n",
       "\n",
       "    .dataframe thead th {\n",
       "        text-align: right;\n",
       "    }\n",
       "</style>\n",
       "<table border=\"1\" class=\"dataframe\">\n",
       "  <thead>\n",
       "    <tr style=\"text-align: right;\">\n",
       "      <th></th>\n",
       "      <th>company_name</th>\n",
       "      <th>PE ratio</th>\n",
       "      <th>PB Ratio</th>\n",
       "      <th>FCF</th>\n",
       "      <th>Total Debt</th>\n",
       "      <th>Sh Equity</th>\n",
       "      <th>ROA</th>\n",
       "      <th>ROE</th>\n",
       "    </tr>\n",
       "    <tr>\n",
       "      <th>year</th>\n",
       "      <th></th>\n",
       "      <th></th>\n",
       "      <th></th>\n",
       "      <th></th>\n",
       "      <th></th>\n",
       "      <th></th>\n",
       "      <th></th>\n",
       "      <th></th>\n",
       "    </tr>\n",
       "  </thead>\n",
       "  <tbody>\n",
       "    <tr>\n",
       "      <th>2013</th>\n",
       "      <td>Apple</td>\n",
       "      <td>11.95</td>\n",
       "      <td>3.57</td>\n",
       "      <td>44590.00</td>\n",
       "      <td>16960.00</td>\n",
       "      <td>123549.00</td>\n",
       "      <td>19.34</td>\n",
       "      <td>30.64</td>\n",
       "    </tr>\n",
       "    <tr>\n",
       "      <th>2014</th>\n",
       "      <td>Apple</td>\n",
       "      <td>15.56</td>\n",
       "      <td>5.50</td>\n",
       "      <td>49900.00</td>\n",
       "      <td>35295.00</td>\n",
       "      <td>111547.00</td>\n",
       "      <td>18.01</td>\n",
       "      <td>33.61</td>\n",
       "    </tr>\n",
       "    <tr>\n",
       "      <th>2015</th>\n",
       "      <td>Apple</td>\n",
       "      <td>11.93</td>\n",
       "      <td>5.32</td>\n",
       "      <td>69778.00</td>\n",
       "      <td>64328.00</td>\n",
       "      <td>119355.00</td>\n",
       "      <td>20.45</td>\n",
       "      <td>46.25</td>\n",
       "    </tr>\n",
       "    <tr>\n",
       "      <th>2016</th>\n",
       "      <td>Apple</td>\n",
       "      <td>13.59</td>\n",
       "      <td>4.82</td>\n",
       "      <td>53200.00</td>\n",
       "      <td>87032.00</td>\n",
       "      <td>128249.00</td>\n",
       "      <td>14.93</td>\n",
       "      <td>36.90</td>\n",
       "    </tr>\n",
       "    <tr>\n",
       "      <th>2017</th>\n",
       "      <td>Apple</td>\n",
       "      <td>16.63</td>\n",
       "      <td>5.99</td>\n",
       "      <td>51774.00</td>\n",
       "      <td>115680.00</td>\n",
       "      <td>134047.00</td>\n",
       "      <td>13.87</td>\n",
       "      <td>36.87</td>\n",
       "    </tr>\n",
       "    <tr>\n",
       "      <th>...</th>\n",
       "      <td>...</td>\n",
       "      <td>...</td>\n",
       "      <td>...</td>\n",
       "      <td>...</td>\n",
       "      <td>...</td>\n",
       "      <td>...</td>\n",
       "      <td>...</td>\n",
       "      <td>...</td>\n",
       "    </tr>\n",
       "    <tr>\n",
       "      <th>2018</th>\n",
       "      <td>Vertex Pharmaceuticals</td>\n",
       "      <td>20.11</td>\n",
       "      <td>9.50</td>\n",
       "      <td>1174.84</td>\n",
       "      <td>591.55</td>\n",
       "      <td>4435.20</td>\n",
       "      <td>42.83</td>\n",
       "      <td>64.74</td>\n",
       "    </tr>\n",
       "    <tr>\n",
       "      <th>2019</th>\n",
       "      <td>Vertex Pharmaceuticals</td>\n",
       "      <td>47.91</td>\n",
       "      <td>9.24</td>\n",
       "      <td>1493.90</td>\n",
       "      <td>588.58</td>\n",
       "      <td>6085.24</td>\n",
       "      <td>16.16</td>\n",
       "      <td>22.37</td>\n",
       "    </tr>\n",
       "    <tr>\n",
       "      <th>2020</th>\n",
       "      <td>Vertex Pharmaceuticals</td>\n",
       "      <td>22.68</td>\n",
       "      <td>7.07</td>\n",
       "      <td>2993.70</td>\n",
       "      <td>592.00</td>\n",
       "      <td>8686.80</td>\n",
       "      <td>27.02</td>\n",
       "      <td>36.71</td>\n",
       "    </tr>\n",
       "    <tr>\n",
       "      <th>2021</th>\n",
       "      <td>Vertex Pharmaceuticals</td>\n",
       "      <td>24.13</td>\n",
       "      <td>5.60</td>\n",
       "      <td>2408.50</td>\n",
       "      <td>589.80</td>\n",
       "      <td>10100.00</td>\n",
       "      <td>18.60</td>\n",
       "      <td>24.93</td>\n",
       "    </tr>\n",
       "    <tr>\n",
       "      <th>2022</th>\n",
       "      <td>Vertex Pharmaceuticals</td>\n",
       "      <td>22.04</td>\n",
       "      <td>5.27</td>\n",
       "      <td>3925.20</td>\n",
       "      <td>430.80</td>\n",
       "      <td>13912.70</td>\n",
       "      <td>21.04</td>\n",
       "      <td>27.67</td>\n",
       "    </tr>\n",
       "  </tbody>\n",
       "</table>\n",
       "<p>740 rows × 8 columns</p>\n",
       "</div>"
      ],
      "text/plain": [
       "                company_name PE ratio PB Ratio       FCF Total Debt  \\\n",
       "year                                                                  \n",
       "2013                   Apple    11.95     3.57  44590.00   16960.00   \n",
       "2014                   Apple    15.56     5.50  49900.00   35295.00   \n",
       "2015                   Apple    11.93     5.32  69778.00   64328.00   \n",
       "2016                   Apple    13.59     4.82  53200.00   87032.00   \n",
       "2017                   Apple    16.63     5.99  51774.00  115680.00   \n",
       "...                      ...      ...      ...       ...        ...   \n",
       "2018  Vertex Pharmaceuticals    20.11     9.50   1174.84     591.55   \n",
       "2019  Vertex Pharmaceuticals    47.91     9.24   1493.90     588.58   \n",
       "2020  Vertex Pharmaceuticals    22.68     7.07   2993.70     592.00   \n",
       "2021  Vertex Pharmaceuticals    24.13     5.60   2408.50     589.80   \n",
       "2022  Vertex Pharmaceuticals    22.04     5.27   3925.20     430.80   \n",
       "\n",
       "      Sh Equity    ROA    ROE  \n",
       "year                           \n",
       "2013  123549.00  19.34  30.64  \n",
       "2014  111547.00  18.01  33.61  \n",
       "2015  119355.00  20.45  46.25  \n",
       "2016  128249.00  14.93  36.90  \n",
       "2017  134047.00  13.87  36.87  \n",
       "...         ...    ...    ...  \n",
       "2018    4435.20  42.83  64.74  \n",
       "2019    6085.24  16.16  22.37  \n",
       "2020    8686.80  27.02  36.71  \n",
       "2021   10100.00  18.60  24.93  \n",
       "2022   13912.70  21.04  27.67  \n",
       "\n",
       "[740 rows x 8 columns]"
      ]
     },
     "execution_count": 115,
     "metadata": {},
     "output_type": "execute_result"
    }
   ],
   "source": [
    "def EDA_each(EDA_df, index):\n",
    "    return EDA_df.loc[EDA_df['company name'] == index]\n",
    "\n",
    "StockMarketEDA_us_clean = pd.DataFrame(columns = [\n",
    "    'PE ratio',\n",
    "    'PB Ratio',\n",
    "    'FCF',\n",
    "    'Total Debt',\n",
    "    'Sh Equity',\n",
    "    'ROA',\n",
    "    'ROE',\n",
    "    'company name'\n",
    "])\n",
    "\n",
    "\n",
    "for each_company in all_company_list:\n",
    "    if each_company not in wrong_value_company_list:\n",
    "        tmp = EDA_each(StockMarketEDA_us_raw,each_company)\n",
    "        StockMarketEDA_us_clean = pd.concat([StockMarketEDA_us_clean, tmp])\n",
    "\n",
    "StockMarketEDA_us_clean.insert(0, 'company_name', StockMarketEDA_us_clean.pop('company name'))\n",
    "\n",
    "StockMarketEDA_us_clean = StockMarketEDA_us_clean.reset_index()\n",
    "del StockMarketEDA_us_clean['index']\n",
    "\n",
    "for index in range(len(StockMarketEDA_us_clean)):\n",
    "    for column in StockMarketEDA_us_clean.columns.values.tolist():\n",
    "        if type(StockMarketEDA_us_clean[column].loc[index]) == str:\n",
    "            StockMarketEDA_us_clean[column].loc[index] = StockMarketEDA_us_clean[column].loc[index].replace(\"(\",\"\").replace(\")\",\"\").replace(\",\",\"\")\n",
    "\n",
    "# StockMarketEDA_us_clean.insert(0, 'company_name', StockMarketEDA_us_clean.pop('company name'))\n",
    "StockMarketEDA_us_clean = StockMarketEDA_us_clean.set_index('year')\n",
    "#StockMarketEDA_us_clean.to_csv('../data/StockMarketEDA_us_clean.csv', sep=',', encoding='utf-8')\n",
    "StockMarketEDA_us_clean"
   ]
  },
  {
   "cell_type": "code",
   "execution_count": 116,
   "metadata": {},
   "outputs": [],
   "source": [
    "df_us_no_error = StockMarketEDA_us_clean.copy()\n",
    "df_us_no_error.to_csv('./df_us_no_error.csv', sep=',', encoding='utf-8')"
   ]
  },
  {
   "cell_type": "code",
   "execution_count": 117,
   "metadata": {},
   "outputs": [
    {
     "data": {
      "text/html": [
       "<div>\n",
       "<style scoped>\n",
       "    .dataframe tbody tr th:only-of-type {\n",
       "        vertical-align: middle;\n",
       "    }\n",
       "\n",
       "    .dataframe tbody tr th {\n",
       "        vertical-align: top;\n",
       "    }\n",
       "\n",
       "    .dataframe thead th {\n",
       "        text-align: right;\n",
       "    }\n",
       "</style>\n",
       "<table border=\"1\" class=\"dataframe\">\n",
       "  <thead>\n",
       "    <tr style=\"text-align: right;\">\n",
       "      <th></th>\n",
       "      <th>company_name</th>\n",
       "      <th>PE ratio</th>\n",
       "      <th>PB Ratio</th>\n",
       "      <th>FCF</th>\n",
       "      <th>Total Debt</th>\n",
       "      <th>Sh Equity</th>\n",
       "      <th>ROA</th>\n",
       "      <th>ROE</th>\n",
       "    </tr>\n",
       "    <tr>\n",
       "      <th>year</th>\n",
       "      <th></th>\n",
       "      <th></th>\n",
       "      <th></th>\n",
       "      <th></th>\n",
       "      <th></th>\n",
       "      <th></th>\n",
       "      <th></th>\n",
       "      <th></th>\n",
       "    </tr>\n",
       "  </thead>\n",
       "  <tbody>\n",
       "    <tr>\n",
       "      <th>2013</th>\n",
       "      <td>Apple</td>\n",
       "      <td>11.95</td>\n",
       "      <td>3.57</td>\n",
       "      <td>44590.00</td>\n",
       "      <td>16960.00</td>\n",
       "      <td>123549.00</td>\n",
       "      <td>19.34</td>\n",
       "      <td>30.64</td>\n",
       "    </tr>\n",
       "    <tr>\n",
       "      <th>2014</th>\n",
       "      <td>Apple</td>\n",
       "      <td>15.56</td>\n",
       "      <td>5.50</td>\n",
       "      <td>49900.00</td>\n",
       "      <td>35295.00</td>\n",
       "      <td>111547.00</td>\n",
       "      <td>18.01</td>\n",
       "      <td>33.61</td>\n",
       "    </tr>\n",
       "    <tr>\n",
       "      <th>2015</th>\n",
       "      <td>Apple</td>\n",
       "      <td>11.93</td>\n",
       "      <td>5.32</td>\n",
       "      <td>69778.00</td>\n",
       "      <td>64328.00</td>\n",
       "      <td>119355.00</td>\n",
       "      <td>20.45</td>\n",
       "      <td>46.25</td>\n",
       "    </tr>\n",
       "    <tr>\n",
       "      <th>2016</th>\n",
       "      <td>Apple</td>\n",
       "      <td>13.59</td>\n",
       "      <td>4.82</td>\n",
       "      <td>53200.00</td>\n",
       "      <td>87032.00</td>\n",
       "      <td>128249.00</td>\n",
       "      <td>14.93</td>\n",
       "      <td>36.90</td>\n",
       "    </tr>\n",
       "    <tr>\n",
       "      <th>2017</th>\n",
       "      <td>Apple</td>\n",
       "      <td>16.63</td>\n",
       "      <td>5.99</td>\n",
       "      <td>51774.00</td>\n",
       "      <td>115680.00</td>\n",
       "      <td>134047.00</td>\n",
       "      <td>13.87</td>\n",
       "      <td>36.87</td>\n",
       "    </tr>\n",
       "    <tr>\n",
       "      <th>...</th>\n",
       "      <td>...</td>\n",
       "      <td>...</td>\n",
       "      <td>...</td>\n",
       "      <td>...</td>\n",
       "      <td>...</td>\n",
       "      <td>...</td>\n",
       "      <td>...</td>\n",
       "      <td>...</td>\n",
       "    </tr>\n",
       "    <tr>\n",
       "      <th>2018</th>\n",
       "      <td>Vertex Pharmaceuticals</td>\n",
       "      <td>20.11</td>\n",
       "      <td>9.50</td>\n",
       "      <td>1174.84</td>\n",
       "      <td>591.55</td>\n",
       "      <td>4435.20</td>\n",
       "      <td>42.83</td>\n",
       "      <td>64.74</td>\n",
       "    </tr>\n",
       "    <tr>\n",
       "      <th>2019</th>\n",
       "      <td>Vertex Pharmaceuticals</td>\n",
       "      <td>47.91</td>\n",
       "      <td>9.24</td>\n",
       "      <td>1493.90</td>\n",
       "      <td>588.58</td>\n",
       "      <td>6085.24</td>\n",
       "      <td>16.16</td>\n",
       "      <td>22.37</td>\n",
       "    </tr>\n",
       "    <tr>\n",
       "      <th>2020</th>\n",
       "      <td>Vertex Pharmaceuticals</td>\n",
       "      <td>22.68</td>\n",
       "      <td>7.07</td>\n",
       "      <td>2993.70</td>\n",
       "      <td>592.00</td>\n",
       "      <td>8686.80</td>\n",
       "      <td>27.02</td>\n",
       "      <td>36.71</td>\n",
       "    </tr>\n",
       "    <tr>\n",
       "      <th>2021</th>\n",
       "      <td>Vertex Pharmaceuticals</td>\n",
       "      <td>24.13</td>\n",
       "      <td>5.60</td>\n",
       "      <td>2408.50</td>\n",
       "      <td>589.80</td>\n",
       "      <td>10100.00</td>\n",
       "      <td>18.60</td>\n",
       "      <td>24.93</td>\n",
       "    </tr>\n",
       "    <tr>\n",
       "      <th>2022</th>\n",
       "      <td>Vertex Pharmaceuticals</td>\n",
       "      <td>22.04</td>\n",
       "      <td>5.27</td>\n",
       "      <td>3925.20</td>\n",
       "      <td>430.80</td>\n",
       "      <td>13912.70</td>\n",
       "      <td>21.04</td>\n",
       "      <td>27.67</td>\n",
       "    </tr>\n",
       "  </tbody>\n",
       "</table>\n",
       "<p>740 rows × 8 columns</p>\n",
       "</div>"
      ],
      "text/plain": [
       "                company_name PE ratio PB Ratio       FCF Total Debt  \\\n",
       "year                                                                  \n",
       "2013                   Apple    11.95     3.57  44590.00   16960.00   \n",
       "2014                   Apple    15.56     5.50  49900.00   35295.00   \n",
       "2015                   Apple    11.93     5.32  69778.00   64328.00   \n",
       "2016                   Apple    13.59     4.82  53200.00   87032.00   \n",
       "2017                   Apple    16.63     5.99  51774.00  115680.00   \n",
       "...                      ...      ...      ...       ...        ...   \n",
       "2018  Vertex Pharmaceuticals    20.11     9.50   1174.84     591.55   \n",
       "2019  Vertex Pharmaceuticals    47.91     9.24   1493.90     588.58   \n",
       "2020  Vertex Pharmaceuticals    22.68     7.07   2993.70     592.00   \n",
       "2021  Vertex Pharmaceuticals    24.13     5.60   2408.50     589.80   \n",
       "2022  Vertex Pharmaceuticals    22.04     5.27   3925.20     430.80   \n",
       "\n",
       "      Sh Equity    ROA    ROE  \n",
       "year                           \n",
       "2013  123549.00  19.34  30.64  \n",
       "2014  111547.00  18.01  33.61  \n",
       "2015  119355.00  20.45  46.25  \n",
       "2016  128249.00  14.93  36.90  \n",
       "2017  134047.00  13.87  36.87  \n",
       "...         ...    ...    ...  \n",
       "2018    4435.20  42.83  64.74  \n",
       "2019    6085.24  16.16  22.37  \n",
       "2020    8686.80  27.02  36.71  \n",
       "2021   10100.00  18.60  24.93  \n",
       "2022   13912.70  21.04  27.67  \n",
       "\n",
       "[740 rows x 8 columns]"
      ]
     },
     "execution_count": 117,
     "metadata": {},
     "output_type": "execute_result"
    }
   ],
   "source": [
    "StockMarketEDA_us_clean"
   ]
  },
  {
   "cell_type": "code",
   "execution_count": 118,
   "metadata": {},
   "outputs": [
    {
     "name": "stdout",
     "output_type": "stream",
     "text": [
      "<class 'pandas.core.frame.DataFrame'>\n",
      "Int64Index: 740 entries, 2013 to 2022\n",
      "Data columns (total 8 columns):\n",
      " #   Column        Non-Null Count  Dtype \n",
      "---  ------        --------------  ----- \n",
      " 0   company_name  740 non-null    object\n",
      " 1   PE ratio      740 non-null    object\n",
      " 2   PB Ratio      740 non-null    object\n",
      " 3   FCF           740 non-null    object\n",
      " 4   Total Debt    740 non-null    object\n",
      " 5   Sh Equity     740 non-null    object\n",
      " 6   ROA           740 non-null    object\n",
      " 7   ROE           740 non-null    object\n",
      "dtypes: object(8)\n",
      "memory usage: 52.0+ KB\n"
     ]
    }
   ],
   "source": [
    "StockMarketEDA_us_clean.info()"
   ]
  },
  {
   "cell_type": "code",
   "execution_count": 119,
   "metadata": {},
   "outputs": [
    {
     "data": {
      "text/plain": [
       "Index(['company_name', 'PE ratio', 'PB Ratio', 'FCF', 'Total Debt',\n",
       "       'Sh Equity', 'ROA', 'ROE'],\n",
       "      dtype='object')"
      ]
     },
     "execution_count": 119,
     "metadata": {},
     "output_type": "execute_result"
    }
   ],
   "source": [
    "StockMarketEDA_us_clean.columns"
   ]
  },
  {
   "cell_type": "code",
   "execution_count": 120,
   "metadata": {},
   "outputs": [
    {
     "name": "stdout",
     "output_type": "stream",
     "text": [
      "<class 'pandas.core.frame.DataFrame'>\n",
      "Int64Index: 740 entries, 2013 to 2022\n",
      "Data columns (total 8 columns):\n",
      " #   Column        Non-Null Count  Dtype  \n",
      "---  ------        --------------  -----  \n",
      " 0   company_name  740 non-null    object \n",
      " 1   PE ratio      740 non-null    float64\n",
      " 2   PB Ratio      740 non-null    float64\n",
      " 3   FCF           740 non-null    float64\n",
      " 4   Total Debt    740 non-null    float64\n",
      " 5   Sh Equity     740 non-null    float64\n",
      " 6   ROA           740 non-null    float64\n",
      " 7   ROE           740 non-null    float64\n",
      "dtypes: float64(7), object(1)\n",
      "memory usage: 52.0+ KB\n"
     ]
    }
   ],
   "source": [
    "import numpy as np\n",
    "\n",
    "for i in StockMarketEDA_us_clean.columns[1:]:\n",
    "    StockMarketEDA_us_clean[i] = StockMarketEDA_us_clean[i].astype(np.float64)\n",
    "\n",
    "StockMarketEDA_us_clean.info()"
   ]
  },
  {
   "cell_type": "code",
   "execution_count": 121,
   "metadata": {},
   "outputs": [
    {
     "data": {
      "text/html": [
       "<div>\n",
       "<style scoped>\n",
       "    .dataframe tbody tr th:only-of-type {\n",
       "        vertical-align: middle;\n",
       "    }\n",
       "\n",
       "    .dataframe tbody tr th {\n",
       "        vertical-align: top;\n",
       "    }\n",
       "\n",
       "    .dataframe thead th {\n",
       "        text-align: right;\n",
       "    }\n",
       "</style>\n",
       "<table border=\"1\" class=\"dataframe\">\n",
       "  <thead>\n",
       "    <tr style=\"text-align: right;\">\n",
       "      <th></th>\n",
       "      <th>company_name</th>\n",
       "      <th>PE ratio</th>\n",
       "      <th>PB Ratio</th>\n",
       "      <th>FCF</th>\n",
       "      <th>Total Debt</th>\n",
       "      <th>Sh Equity</th>\n",
       "      <th>ROA</th>\n",
       "      <th>ROE</th>\n",
       "      <th>Equity_Ratio</th>\n",
       "      <th>FCF_Ratio</th>\n",
       "    </tr>\n",
       "    <tr>\n",
       "      <th>year</th>\n",
       "      <th></th>\n",
       "      <th></th>\n",
       "      <th></th>\n",
       "      <th></th>\n",
       "      <th></th>\n",
       "      <th></th>\n",
       "      <th></th>\n",
       "      <th></th>\n",
       "      <th></th>\n",
       "      <th></th>\n",
       "    </tr>\n",
       "  </thead>\n",
       "  <tbody>\n",
       "    <tr>\n",
       "      <th>2013</th>\n",
       "      <td>Apple</td>\n",
       "      <td>11.95</td>\n",
       "      <td>3.57</td>\n",
       "      <td>44590.00</td>\n",
       "      <td>16960.00</td>\n",
       "      <td>123549.00</td>\n",
       "      <td>19.34</td>\n",
       "      <td>30.64</td>\n",
       "      <td>87.929599</td>\n",
       "      <td>31.734622</td>\n",
       "    </tr>\n",
       "    <tr>\n",
       "      <th>2014</th>\n",
       "      <td>Apple</td>\n",
       "      <td>15.56</td>\n",
       "      <td>5.50</td>\n",
       "      <td>49900.00</td>\n",
       "      <td>35295.00</td>\n",
       "      <td>111547.00</td>\n",
       "      <td>18.01</td>\n",
       "      <td>33.61</td>\n",
       "      <td>75.963961</td>\n",
       "      <td>33.982103</td>\n",
       "    </tr>\n",
       "    <tr>\n",
       "      <th>2015</th>\n",
       "      <td>Apple</td>\n",
       "      <td>11.93</td>\n",
       "      <td>5.32</td>\n",
       "      <td>69778.00</td>\n",
       "      <td>64328.00</td>\n",
       "      <td>119355.00</td>\n",
       "      <td>20.45</td>\n",
       "      <td>46.25</td>\n",
       "      <td>64.978795</td>\n",
       "      <td>37.988273</td>\n",
       "    </tr>\n",
       "    <tr>\n",
       "      <th>2016</th>\n",
       "      <td>Apple</td>\n",
       "      <td>13.59</td>\n",
       "      <td>4.82</td>\n",
       "      <td>53200.00</td>\n",
       "      <td>87032.00</td>\n",
       "      <td>128249.00</td>\n",
       "      <td>14.93</td>\n",
       "      <td>36.90</td>\n",
       "      <td>59.572837</td>\n",
       "      <td>24.711888</td>\n",
       "    </tr>\n",
       "    <tr>\n",
       "      <th>2017</th>\n",
       "      <td>Apple</td>\n",
       "      <td>16.63</td>\n",
       "      <td>5.99</td>\n",
       "      <td>51774.00</td>\n",
       "      <td>115680.00</td>\n",
       "      <td>134047.00</td>\n",
       "      <td>13.87</td>\n",
       "      <td>36.87</td>\n",
       "      <td>53.677416</td>\n",
       "      <td>20.732240</td>\n",
       "    </tr>\n",
       "    <tr>\n",
       "      <th>...</th>\n",
       "      <td>...</td>\n",
       "      <td>...</td>\n",
       "      <td>...</td>\n",
       "      <td>...</td>\n",
       "      <td>...</td>\n",
       "      <td>...</td>\n",
       "      <td>...</td>\n",
       "      <td>...</td>\n",
       "      <td>...</td>\n",
       "      <td>...</td>\n",
       "    </tr>\n",
       "    <tr>\n",
       "      <th>2018</th>\n",
       "      <td>Vertex Pharmaceuticals</td>\n",
       "      <td>20.11</td>\n",
       "      <td>9.50</td>\n",
       "      <td>1174.84</td>\n",
       "      <td>591.55</td>\n",
       "      <td>4435.20</td>\n",
       "      <td>42.83</td>\n",
       "      <td>64.74</td>\n",
       "      <td>88.231959</td>\n",
       "      <td>23.371761</td>\n",
       "    </tr>\n",
       "    <tr>\n",
       "      <th>2019</th>\n",
       "      <td>Vertex Pharmaceuticals</td>\n",
       "      <td>47.91</td>\n",
       "      <td>9.24</td>\n",
       "      <td>1493.90</td>\n",
       "      <td>588.58</td>\n",
       "      <td>6085.24</td>\n",
       "      <td>16.16</td>\n",
       "      <td>22.37</td>\n",
       "      <td>91.180763</td>\n",
       "      <td>22.384481</td>\n",
       "    </tr>\n",
       "    <tr>\n",
       "      <th>2020</th>\n",
       "      <td>Vertex Pharmaceuticals</td>\n",
       "      <td>22.68</td>\n",
       "      <td>7.07</td>\n",
       "      <td>2993.70</td>\n",
       "      <td>592.00</td>\n",
       "      <td>8686.80</td>\n",
       "      <td>27.02</td>\n",
       "      <td>36.71</td>\n",
       "      <td>93.619865</td>\n",
       "      <td>32.263870</td>\n",
       "    </tr>\n",
       "    <tr>\n",
       "      <th>2021</th>\n",
       "      <td>Vertex Pharmaceuticals</td>\n",
       "      <td>24.13</td>\n",
       "      <td>5.60</td>\n",
       "      <td>2408.50</td>\n",
       "      <td>589.80</td>\n",
       "      <td>10100.00</td>\n",
       "      <td>18.60</td>\n",
       "      <td>24.93</td>\n",
       "      <td>94.482591</td>\n",
       "      <td>22.530824</td>\n",
       "    </tr>\n",
       "    <tr>\n",
       "      <th>2022</th>\n",
       "      <td>Vertex Pharmaceuticals</td>\n",
       "      <td>22.04</td>\n",
       "      <td>5.27</td>\n",
       "      <td>3925.20</td>\n",
       "      <td>430.80</td>\n",
       "      <td>13912.70</td>\n",
       "      <td>21.04</td>\n",
       "      <td>27.67</td>\n",
       "      <td>96.996549</td>\n",
       "      <td>27.365706</td>\n",
       "    </tr>\n",
       "  </tbody>\n",
       "</table>\n",
       "<p>740 rows × 10 columns</p>\n",
       "</div>"
      ],
      "text/plain": [
       "                company_name  PE ratio  PB Ratio       FCF  Total Debt  \\\n",
       "year                                                                     \n",
       "2013                   Apple     11.95      3.57  44590.00    16960.00   \n",
       "2014                   Apple     15.56      5.50  49900.00    35295.00   \n",
       "2015                   Apple     11.93      5.32  69778.00    64328.00   \n",
       "2016                   Apple     13.59      4.82  53200.00    87032.00   \n",
       "2017                   Apple     16.63      5.99  51774.00   115680.00   \n",
       "...                      ...       ...       ...       ...         ...   \n",
       "2018  Vertex Pharmaceuticals     20.11      9.50   1174.84      591.55   \n",
       "2019  Vertex Pharmaceuticals     47.91      9.24   1493.90      588.58   \n",
       "2020  Vertex Pharmaceuticals     22.68      7.07   2993.70      592.00   \n",
       "2021  Vertex Pharmaceuticals     24.13      5.60   2408.50      589.80   \n",
       "2022  Vertex Pharmaceuticals     22.04      5.27   3925.20      430.80   \n",
       "\n",
       "      Sh Equity    ROA    ROE  Equity_Ratio  FCF_Ratio  \n",
       "year                                                    \n",
       "2013  123549.00  19.34  30.64     87.929599  31.734622  \n",
       "2014  111547.00  18.01  33.61     75.963961  33.982103  \n",
       "2015  119355.00  20.45  46.25     64.978795  37.988273  \n",
       "2016  128249.00  14.93  36.90     59.572837  24.711888  \n",
       "2017  134047.00  13.87  36.87     53.677416  20.732240  \n",
       "...         ...    ...    ...           ...        ...  \n",
       "2018    4435.20  42.83  64.74     88.231959  23.371761  \n",
       "2019    6085.24  16.16  22.37     91.180763  22.384481  \n",
       "2020    8686.80  27.02  36.71     93.619865  32.263870  \n",
       "2021   10100.00  18.60  24.93     94.482591  22.530824  \n",
       "2022   13912.70  21.04  27.67     96.996549  27.365706  \n",
       "\n",
       "[740 rows x 10 columns]"
      ]
     },
     "execution_count": 121,
     "metadata": {},
     "output_type": "execute_result"
    }
   ],
   "source": [
    "# RATIO\n",
    "column_index_list_percent = ['Equity_Ratio', 'FCF_Ratio']\n",
    "column_index_list = ['Sh Equity', 'FCF']\n",
    "for column_index_percent, column_index in zip(column_index_list_percent, column_index_list):\n",
    "    StockMarketEDA_us_clean[column_index_percent] = StockMarketEDA_us_clean[column_index] /(StockMarketEDA_us_clean['Total Debt'] + StockMarketEDA_us_clean['Sh Equity'])*100\n",
    "StockMarketEDA_us_clean"
   ]
  },
  {
   "cell_type": "code",
   "execution_count": 122,
   "metadata": {},
   "outputs": [],
   "source": [
    "StockMarketEDA_us_clean = StockMarketEDA_us_clean.drop(StockMarketEDA_us_clean.columns[[3,4,5]], axis=1)"
   ]
  },
  {
   "cell_type": "code",
   "execution_count": 123,
   "metadata": {},
   "outputs": [
    {
     "data": {
      "text/html": [
       "<div>\n",
       "<style scoped>\n",
       "    .dataframe tbody tr th:only-of-type {\n",
       "        vertical-align: middle;\n",
       "    }\n",
       "\n",
       "    .dataframe tbody tr th {\n",
       "        vertical-align: top;\n",
       "    }\n",
       "\n",
       "    .dataframe thead th {\n",
       "        text-align: right;\n",
       "    }\n",
       "</style>\n",
       "<table border=\"1\" class=\"dataframe\">\n",
       "  <thead>\n",
       "    <tr style=\"text-align: right;\">\n",
       "      <th></th>\n",
       "      <th>name</th>\n",
       "      <th>PER</th>\n",
       "      <th>PBR</th>\n",
       "      <th>ROA</th>\n",
       "      <th>ROE</th>\n",
       "      <th>Equity_Ratio</th>\n",
       "      <th>FCF_Ratio</th>\n",
       "    </tr>\n",
       "    <tr>\n",
       "      <th>year</th>\n",
       "      <th></th>\n",
       "      <th></th>\n",
       "      <th></th>\n",
       "      <th></th>\n",
       "      <th></th>\n",
       "      <th></th>\n",
       "      <th></th>\n",
       "    </tr>\n",
       "  </thead>\n",
       "  <tbody>\n",
       "    <tr>\n",
       "      <th>2013</th>\n",
       "      <td>Apple</td>\n",
       "      <td>11.95</td>\n",
       "      <td>3.57</td>\n",
       "      <td>19.34</td>\n",
       "      <td>30.64</td>\n",
       "      <td>87.929599</td>\n",
       "      <td>31.734622</td>\n",
       "    </tr>\n",
       "    <tr>\n",
       "      <th>2014</th>\n",
       "      <td>Apple</td>\n",
       "      <td>15.56</td>\n",
       "      <td>5.50</td>\n",
       "      <td>18.01</td>\n",
       "      <td>33.61</td>\n",
       "      <td>75.963961</td>\n",
       "      <td>33.982103</td>\n",
       "    </tr>\n",
       "    <tr>\n",
       "      <th>2015</th>\n",
       "      <td>Apple</td>\n",
       "      <td>11.93</td>\n",
       "      <td>5.32</td>\n",
       "      <td>20.45</td>\n",
       "      <td>46.25</td>\n",
       "      <td>64.978795</td>\n",
       "      <td>37.988273</td>\n",
       "    </tr>\n",
       "    <tr>\n",
       "      <th>2016</th>\n",
       "      <td>Apple</td>\n",
       "      <td>13.59</td>\n",
       "      <td>4.82</td>\n",
       "      <td>14.93</td>\n",
       "      <td>36.90</td>\n",
       "      <td>59.572837</td>\n",
       "      <td>24.711888</td>\n",
       "    </tr>\n",
       "    <tr>\n",
       "      <th>2017</th>\n",
       "      <td>Apple</td>\n",
       "      <td>16.63</td>\n",
       "      <td>5.99</td>\n",
       "      <td>13.87</td>\n",
       "      <td>36.87</td>\n",
       "      <td>53.677416</td>\n",
       "      <td>20.732240</td>\n",
       "    </tr>\n",
       "    <tr>\n",
       "      <th>...</th>\n",
       "      <td>...</td>\n",
       "      <td>...</td>\n",
       "      <td>...</td>\n",
       "      <td>...</td>\n",
       "      <td>...</td>\n",
       "      <td>...</td>\n",
       "      <td>...</td>\n",
       "    </tr>\n",
       "    <tr>\n",
       "      <th>2018</th>\n",
       "      <td>Vertex Pharmaceuticals</td>\n",
       "      <td>20.11</td>\n",
       "      <td>9.50</td>\n",
       "      <td>42.83</td>\n",
       "      <td>64.74</td>\n",
       "      <td>88.231959</td>\n",
       "      <td>23.371761</td>\n",
       "    </tr>\n",
       "    <tr>\n",
       "      <th>2019</th>\n",
       "      <td>Vertex Pharmaceuticals</td>\n",
       "      <td>47.91</td>\n",
       "      <td>9.24</td>\n",
       "      <td>16.16</td>\n",
       "      <td>22.37</td>\n",
       "      <td>91.180763</td>\n",
       "      <td>22.384481</td>\n",
       "    </tr>\n",
       "    <tr>\n",
       "      <th>2020</th>\n",
       "      <td>Vertex Pharmaceuticals</td>\n",
       "      <td>22.68</td>\n",
       "      <td>7.07</td>\n",
       "      <td>27.02</td>\n",
       "      <td>36.71</td>\n",
       "      <td>93.619865</td>\n",
       "      <td>32.263870</td>\n",
       "    </tr>\n",
       "    <tr>\n",
       "      <th>2021</th>\n",
       "      <td>Vertex Pharmaceuticals</td>\n",
       "      <td>24.13</td>\n",
       "      <td>5.60</td>\n",
       "      <td>18.60</td>\n",
       "      <td>24.93</td>\n",
       "      <td>94.482591</td>\n",
       "      <td>22.530824</td>\n",
       "    </tr>\n",
       "    <tr>\n",
       "      <th>2022</th>\n",
       "      <td>Vertex Pharmaceuticals</td>\n",
       "      <td>22.04</td>\n",
       "      <td>5.27</td>\n",
       "      <td>21.04</td>\n",
       "      <td>27.67</td>\n",
       "      <td>96.996549</td>\n",
       "      <td>27.365706</td>\n",
       "    </tr>\n",
       "  </tbody>\n",
       "</table>\n",
       "<p>740 rows × 7 columns</p>\n",
       "</div>"
      ],
      "text/plain": [
       "                        name    PER   PBR    ROA    ROE  Equity_Ratio  \\\n",
       "year                                                                    \n",
       "2013                   Apple  11.95  3.57  19.34  30.64     87.929599   \n",
       "2014                   Apple  15.56  5.50  18.01  33.61     75.963961   \n",
       "2015                   Apple  11.93  5.32  20.45  46.25     64.978795   \n",
       "2016                   Apple  13.59  4.82  14.93  36.90     59.572837   \n",
       "2017                   Apple  16.63  5.99  13.87  36.87     53.677416   \n",
       "...                      ...    ...   ...    ...    ...           ...   \n",
       "2018  Vertex Pharmaceuticals  20.11  9.50  42.83  64.74     88.231959   \n",
       "2019  Vertex Pharmaceuticals  47.91  9.24  16.16  22.37     91.180763   \n",
       "2020  Vertex Pharmaceuticals  22.68  7.07  27.02  36.71     93.619865   \n",
       "2021  Vertex Pharmaceuticals  24.13  5.60  18.60  24.93     94.482591   \n",
       "2022  Vertex Pharmaceuticals  22.04  5.27  21.04  27.67     96.996549   \n",
       "\n",
       "      FCF_Ratio  \n",
       "year             \n",
       "2013  31.734622  \n",
       "2014  33.982103  \n",
       "2015  37.988273  \n",
       "2016  24.711888  \n",
       "2017  20.732240  \n",
       "...         ...  \n",
       "2018  23.371761  \n",
       "2019  22.384481  \n",
       "2020  32.263870  \n",
       "2021  22.530824  \n",
       "2022  27.365706  \n",
       "\n",
       "[740 rows x 7 columns]"
      ]
     },
     "execution_count": 123,
     "metadata": {},
     "output_type": "execute_result"
    }
   ],
   "source": [
    "StockMarketEDA_us_clean.rename(\n",
    "    columns={\n",
    "        StockMarketEDA_us_clean.columns[0]: \"name\",\n",
    "        StockMarketEDA_us_clean.columns[1]: \"PER\",\n",
    "        StockMarketEDA_us_clean.columns[2]: \"PBR\",\n",
    "        StockMarketEDA_us_clean.columns[3]: \"ROA\",\n",
    "        StockMarketEDA_us_clean.columns[4]: \"ROE\"\n",
    "    }, inplace=True\n",
    ")\n",
    "StockMarketEDA_us_clean"
   ]
  },
  {
   "cell_type": "code",
   "execution_count": 124,
   "metadata": {},
   "outputs": [
    {
     "data": {
      "text/html": [
       "<div>\n",
       "<style scoped>\n",
       "    .dataframe tbody tr th:only-of-type {\n",
       "        vertical-align: middle;\n",
       "    }\n",
       "\n",
       "    .dataframe tbody tr th {\n",
       "        vertical-align: top;\n",
       "    }\n",
       "\n",
       "    .dataframe thead th {\n",
       "        text-align: right;\n",
       "    }\n",
       "</style>\n",
       "<table border=\"1\" class=\"dataframe\">\n",
       "  <thead>\n",
       "    <tr style=\"text-align: right;\">\n",
       "      <th></th>\n",
       "      <th>name</th>\n",
       "      <th>ROE</th>\n",
       "      <th>ROA</th>\n",
       "      <th>PER</th>\n",
       "      <th>PBR</th>\n",
       "      <th>Equity_Ratio</th>\n",
       "      <th>FCF_Ratio</th>\n",
       "    </tr>\n",
       "    <tr>\n",
       "      <th>year</th>\n",
       "      <th></th>\n",
       "      <th></th>\n",
       "      <th></th>\n",
       "      <th></th>\n",
       "      <th></th>\n",
       "      <th></th>\n",
       "      <th></th>\n",
       "    </tr>\n",
       "  </thead>\n",
       "  <tbody>\n",
       "    <tr>\n",
       "      <th>2013</th>\n",
       "      <td>Apple</td>\n",
       "      <td>30.64</td>\n",
       "      <td>19.34</td>\n",
       "      <td>11.95</td>\n",
       "      <td>3.57</td>\n",
       "      <td>87.929599</td>\n",
       "      <td>31.734622</td>\n",
       "    </tr>\n",
       "    <tr>\n",
       "      <th>2014</th>\n",
       "      <td>Apple</td>\n",
       "      <td>33.61</td>\n",
       "      <td>18.01</td>\n",
       "      <td>15.56</td>\n",
       "      <td>5.50</td>\n",
       "      <td>75.963961</td>\n",
       "      <td>33.982103</td>\n",
       "    </tr>\n",
       "    <tr>\n",
       "      <th>2015</th>\n",
       "      <td>Apple</td>\n",
       "      <td>46.25</td>\n",
       "      <td>20.45</td>\n",
       "      <td>11.93</td>\n",
       "      <td>5.32</td>\n",
       "      <td>64.978795</td>\n",
       "      <td>37.988273</td>\n",
       "    </tr>\n",
       "    <tr>\n",
       "      <th>2016</th>\n",
       "      <td>Apple</td>\n",
       "      <td>36.90</td>\n",
       "      <td>14.93</td>\n",
       "      <td>13.59</td>\n",
       "      <td>4.82</td>\n",
       "      <td>59.572837</td>\n",
       "      <td>24.711888</td>\n",
       "    </tr>\n",
       "    <tr>\n",
       "      <th>2017</th>\n",
       "      <td>Apple</td>\n",
       "      <td>36.87</td>\n",
       "      <td>13.87</td>\n",
       "      <td>16.63</td>\n",
       "      <td>5.99</td>\n",
       "      <td>53.677416</td>\n",
       "      <td>20.732240</td>\n",
       "    </tr>\n",
       "    <tr>\n",
       "      <th>...</th>\n",
       "      <td>...</td>\n",
       "      <td>...</td>\n",
       "      <td>...</td>\n",
       "      <td>...</td>\n",
       "      <td>...</td>\n",
       "      <td>...</td>\n",
       "      <td>...</td>\n",
       "    </tr>\n",
       "    <tr>\n",
       "      <th>2018</th>\n",
       "      <td>Vertex Pharmaceuticals</td>\n",
       "      <td>64.74</td>\n",
       "      <td>42.83</td>\n",
       "      <td>20.11</td>\n",
       "      <td>9.50</td>\n",
       "      <td>88.231959</td>\n",
       "      <td>23.371761</td>\n",
       "    </tr>\n",
       "    <tr>\n",
       "      <th>2019</th>\n",
       "      <td>Vertex Pharmaceuticals</td>\n",
       "      <td>22.37</td>\n",
       "      <td>16.16</td>\n",
       "      <td>47.91</td>\n",
       "      <td>9.24</td>\n",
       "      <td>91.180763</td>\n",
       "      <td>22.384481</td>\n",
       "    </tr>\n",
       "    <tr>\n",
       "      <th>2020</th>\n",
       "      <td>Vertex Pharmaceuticals</td>\n",
       "      <td>36.71</td>\n",
       "      <td>27.02</td>\n",
       "      <td>22.68</td>\n",
       "      <td>7.07</td>\n",
       "      <td>93.619865</td>\n",
       "      <td>32.263870</td>\n",
       "    </tr>\n",
       "    <tr>\n",
       "      <th>2021</th>\n",
       "      <td>Vertex Pharmaceuticals</td>\n",
       "      <td>24.93</td>\n",
       "      <td>18.60</td>\n",
       "      <td>24.13</td>\n",
       "      <td>5.60</td>\n",
       "      <td>94.482591</td>\n",
       "      <td>22.530824</td>\n",
       "    </tr>\n",
       "    <tr>\n",
       "      <th>2022</th>\n",
       "      <td>Vertex Pharmaceuticals</td>\n",
       "      <td>27.67</td>\n",
       "      <td>21.04</td>\n",
       "      <td>22.04</td>\n",
       "      <td>5.27</td>\n",
       "      <td>96.996549</td>\n",
       "      <td>27.365706</td>\n",
       "    </tr>\n",
       "  </tbody>\n",
       "</table>\n",
       "<p>740 rows × 7 columns</p>\n",
       "</div>"
      ],
      "text/plain": [
       "                        name    ROE    ROA    PER   PBR  Equity_Ratio  \\\n",
       "year                                                                    \n",
       "2013                   Apple  30.64  19.34  11.95  3.57     87.929599   \n",
       "2014                   Apple  33.61  18.01  15.56  5.50     75.963961   \n",
       "2015                   Apple  46.25  20.45  11.93  5.32     64.978795   \n",
       "2016                   Apple  36.90  14.93  13.59  4.82     59.572837   \n",
       "2017                   Apple  36.87  13.87  16.63  5.99     53.677416   \n",
       "...                      ...    ...    ...    ...   ...           ...   \n",
       "2018  Vertex Pharmaceuticals  64.74  42.83  20.11  9.50     88.231959   \n",
       "2019  Vertex Pharmaceuticals  22.37  16.16  47.91  9.24     91.180763   \n",
       "2020  Vertex Pharmaceuticals  36.71  27.02  22.68  7.07     93.619865   \n",
       "2021  Vertex Pharmaceuticals  24.93  18.60  24.13  5.60     94.482591   \n",
       "2022  Vertex Pharmaceuticals  27.67  21.04  22.04  5.27     96.996549   \n",
       "\n",
       "      FCF_Ratio  \n",
       "year             \n",
       "2013  31.734622  \n",
       "2014  33.982103  \n",
       "2015  37.988273  \n",
       "2016  24.711888  \n",
       "2017  20.732240  \n",
       "...         ...  \n",
       "2018  23.371761  \n",
       "2019  22.384481  \n",
       "2020  32.263870  \n",
       "2021  22.530824  \n",
       "2022  27.365706  \n",
       "\n",
       "[740 rows x 7 columns]"
      ]
     },
     "execution_count": 124,
     "metadata": {},
     "output_type": "execute_result"
    }
   ],
   "source": [
    "StockMarketEDA_us_clean.insert(1, \"ROE\" ,StockMarketEDA_us_clean.pop('ROE'))\n",
    "StockMarketEDA_us_clean.insert(4, \"PBR\" ,StockMarketEDA_us_clean.pop('PBR'))\n",
    "StockMarketEDA_us_clean.insert(3, \"PER\" ,StockMarketEDA_us_clean.pop('PER'))\n",
    "StockMarketEDA_us_clean"
   ]
  },
  {
   "cell_type": "code",
   "execution_count": 125,
   "metadata": {},
   "outputs": [],
   "source": [
    "StockMarketEDA_us_clean.to_csv('./df_us_ready.csv', sep=',', encoding='utf-8')"
   ]
  },
  {
   "cell_type": "markdown",
   "metadata": {},
   "source": [
    "## 데이터 정리 완료"
   ]
  },
  {
   "attachments": {},
   "cell_type": "markdown",
   "metadata": {},
   "source": [
    "## YOY"
   ]
  },
  {
   "cell_type": "code",
   "execution_count": 127,
   "metadata": {},
   "outputs": [
    {
     "name": "stdout",
     "output_type": "stream",
     "text": [
      "Collecting yfinance\n",
      "  Downloading yfinance-0.2.12-py2.py3-none-any.whl (59 kB)\n",
      "Collecting requests>=2.26\n",
      "  Using cached requests-2.28.2-py3-none-any.whl (62 kB)\n",
      "Collecting frozendict>=2.3.4\n",
      "  Downloading frozendict-2.3.5-cp39-cp39-win_amd64.whl (35 kB)\n",
      "Collecting appdirs>=1.4.4\n",
      "  Using cached appdirs-1.4.4-py2.py3-none-any.whl (9.6 kB)\n",
      "Collecting lxml>=4.9.1\n",
      "  Using cached lxml-4.9.2-cp39-cp39-win_amd64.whl (3.9 MB)\n",
      "Collecting html5lib>=1.1\n",
      "  Using cached html5lib-1.1-py2.py3-none-any.whl (112 kB)\n",
      "Requirement already satisfied: pandas>=1.3.0 in c:\\users\\user\\ws\\venv\\lib\\site-packages (from yfinance) (1.5.3)\n",
      "Requirement already satisfied: beautifulsoup4>=4.11.1 in c:\\users\\user\\ws\\venv\\lib\\site-packages (from yfinance) (4.11.2)\n",
      "Collecting cryptography>=3.3.2\n",
      "  Downloading cryptography-39.0.1-cp36-abi3-win_amd64.whl (2.5 MB)\n",
      "Requirement already satisfied: pytz>=2022.5 in c:\\users\\user\\ws\\venv\\lib\\site-packages (from yfinance) (2022.7.1)\n",
      "Requirement already satisfied: numpy>=1.16.5 in c:\\users\\user\\ws\\venv\\lib\\site-packages (from yfinance) (1.24.2)\n",
      "Collecting multitasking>=0.0.7\n",
      "  Using cached multitasking-0.0.11-py3-none-any.whl (8.5 kB)\n",
      "Requirement already satisfied: soupsieve>1.2 in c:\\users\\user\\ws\\venv\\lib\\site-packages (from beautifulsoup4>=4.11.1->yfinance) (2.4)\n",
      "Requirement already satisfied: cffi>=1.12 in c:\\users\\user\\ws\\venv\\lib\\site-packages (from cryptography>=3.3.2->yfinance) (1.15.1)\n",
      "Requirement already satisfied: pycparser in c:\\users\\user\\ws\\venv\\lib\\site-packages (from cffi>=1.12->cryptography>=3.3.2->yfinance) (2.21)\n",
      "Collecting webencodings\n",
      "  Downloading webencodings-0.5.1-py2.py3-none-any.whl (11 kB)\n",
      "Requirement already satisfied: six>=1.9 in c:\\users\\user\\ws\\venv\\lib\\site-packages (from html5lib>=1.1->yfinance) (1.16.0)\n",
      "Requirement already satisfied: python-dateutil>=2.8.1 in c:\\users\\user\\ws\\venv\\lib\\site-packages (from pandas>=1.3.0->yfinance) (2.8.2)\n",
      "Requirement already satisfied: idna<4,>=2.5 in c:\\users\\user\\ws\\venv\\lib\\site-packages (from requests>=2.26->yfinance) (3.4)\n",
      "Requirement already satisfied: certifi>=2017.4.17 in c:\\users\\user\\ws\\venv\\lib\\site-packages (from requests>=2.26->yfinance) (2022.12.7)\n",
      "Requirement already satisfied: urllib3<1.27,>=1.21.1 in c:\\users\\user\\ws\\venv\\lib\\site-packages (from requests>=2.26->yfinance) (1.26.14)\n",
      "Collecting charset-normalizer<4,>=2\n",
      "  Using cached charset_normalizer-3.0.1-cp39-cp39-win_amd64.whl (96 kB)\n",
      "Installing collected packages: webencodings, charset-normalizer, requests, multitasking, lxml, html5lib, frozendict, cryptography, appdirs, yfinance\n",
      "Successfully installed appdirs-1.4.4 charset-normalizer-3.0.1 cryptography-39.0.1 frozendict-2.3.5 html5lib-1.1 lxml-4.9.2 multitasking-0.0.11 requests-2.28.2 webencodings-0.5.1 yfinance-0.2.12\n",
      "Note: you may need to restart the kernel to use updated packages.\n"
     ]
    },
    {
     "name": "stderr",
     "output_type": "stream",
     "text": [
      "WARNING: You are using pip version 21.1.1; however, version 23.0.1 is available.\n",
      "You should consider upgrading via the 'c:\\Users\\User\\ws\\venv\\Scripts\\python.exe -m pip install --upgrade pip' command.\n"
     ]
    }
   ],
   "source": [
    "pip install yfinance"
   ]
  },
  {
   "cell_type": "code",
   "execution_count": 128,
   "metadata": {},
   "outputs": [],
   "source": [
    "from datetime import datetime\n",
    "from datetime import timedelta\n",
    "import yfinance as yf\n",
    "import yfinance as yfin\n",
    "from tqdm import tqdm\n",
    "\n",
    "def get_ticker_list(df_ticker_list, company_name_list):\n",
    "    ticker_list =[]\n",
    "    for company in company_name_list:\n",
    "        if company in df_ticker_list.index.values.tolist():\n",
    "            ticker_list.append(df_ticker_list.loc[company][0])\n",
    "        else:\n",
    "            pass\n",
    "    return ticker_list\n",
    "\n",
    "def startDay_price(ticker, date_start):\n",
    "    \n",
    "    df = yf.download(ticker, start=date_start, end=datetime.strptime(date_start, '%Y-%m-%d') + timedelta(days=5) )\n",
    "    return df['Close'][0]\n",
    "\n",
    "def endDay_price(ticker, date_end):\n",
    "    df = yf.download(ticker, start=datetime.strptime(date_end, '%Y-%m-%d') + timedelta(days=-10), end=date_end )\n",
    "    return df['Close'][-1]\n"
   ]
  },
  {
   "cell_type": "markdown",
   "metadata": {},
   "source": [
    "## year를 통합하는 작업 필요!"
   ]
  },
  {
   "cell_type": "code",
   "execution_count": 178,
   "metadata": {},
   "outputs": [
    {
     "name": "stderr",
     "output_type": "stream",
     "text": [
      "  0%|          | 0/80 [00:00<?, ?it/s]"
     ]
    },
    {
     "name": "stdout",
     "output_type": "stream",
     "text": [
      "[*********************100%***********************]  1 of 1 completed\n",
      "[*********************100%***********************]  1 of 1 completed"
     ]
    },
    {
     "name": "stderr",
     "output_type": "stream",
     "text": [
      "  1%|▏         | 1/80 [00:01<01:59,  1.51s/it]"
     ]
    },
    {
     "name": "stdout",
     "output_type": "stream",
     "text": [
      "\n",
      "[*********************100%***********************]  1 of 1 completed\n",
      "[*********************100%***********************]  1 of 1 completed"
     ]
    },
    {
     "name": "stderr",
     "output_type": "stream",
     "text": [
      "  2%|▎         | 2/80 [00:02<01:48,  1.40s/it]"
     ]
    },
    {
     "name": "stdout",
     "output_type": "stream",
     "text": [
      "\n",
      "[*********************100%***********************]  1 of 1 completed\n",
      "[*********************100%***********************]  1 of 1 completed"
     ]
    },
    {
     "name": "stderr",
     "output_type": "stream",
     "text": [
      "  4%|▍         | 3/80 [00:04<01:44,  1.36s/it]"
     ]
    },
    {
     "name": "stdout",
     "output_type": "stream",
     "text": [
      "\n",
      "[*********************100%***********************]  1 of 1 completed\n",
      "[*********************100%***********************]  1 of 1 completed"
     ]
    },
    {
     "name": "stderr",
     "output_type": "stream",
     "text": [
      "  5%|▌         | 4/80 [00:05<01:46,  1.40s/it]"
     ]
    },
    {
     "name": "stdout",
     "output_type": "stream",
     "text": [
      "\n",
      "[*********************100%***********************]  1 of 1 completed\n",
      "[*********************100%***********************]  1 of 1 completed"
     ]
    },
    {
     "name": "stderr",
     "output_type": "stream",
     "text": [
      "  6%|▋         | 5/80 [00:07<01:45,  1.40s/it]"
     ]
    },
    {
     "name": "stdout",
     "output_type": "stream",
     "text": [
      "\n",
      "[*********************100%***********************]  1 of 1 completed\n",
      "[*********************100%***********************]  1 of 1 completed"
     ]
    },
    {
     "name": "stderr",
     "output_type": "stream",
     "text": [
      "  8%|▊         | 6/80 [00:08<01:39,  1.34s/it]"
     ]
    },
    {
     "name": "stdout",
     "output_type": "stream",
     "text": [
      "\n",
      "[*********************100%***********************]  1 of 1 completed\n",
      "[*********************100%***********************]  1 of 1 completed"
     ]
    },
    {
     "name": "stderr",
     "output_type": "stream",
     "text": [
      "  9%|▉         | 7/80 [00:09<01:32,  1.26s/it]"
     ]
    },
    {
     "name": "stdout",
     "output_type": "stream",
     "text": [
      "\n",
      "[*********************100%***********************]  1 of 1 completed\n",
      "[*********************100%***********************]  1 of 1 completed"
     ]
    },
    {
     "name": "stderr",
     "output_type": "stream",
     "text": [
      " 10%|█         | 8/80 [00:10<01:32,  1.28s/it]"
     ]
    },
    {
     "name": "stdout",
     "output_type": "stream",
     "text": [
      "\n",
      "[*********************100%***********************]  1 of 1 completed\n",
      "[*********************100%***********************]  1 of 1 completed"
     ]
    },
    {
     "name": "stderr",
     "output_type": "stream",
     "text": [
      " 11%|█▏        | 9/80 [00:12<01:45,  1.48s/it]"
     ]
    },
    {
     "name": "stdout",
     "output_type": "stream",
     "text": [
      "\n",
      "[*********************100%***********************]  1 of 1 completed\n",
      "[*********************100%***********************]  1 of 1 completed"
     ]
    },
    {
     "name": "stderr",
     "output_type": "stream",
     "text": [
      " 12%|█▎        | 10/80 [00:14<01:50,  1.57s/it]"
     ]
    },
    {
     "name": "stdout",
     "output_type": "stream",
     "text": [
      "\n",
      "[*********************100%***********************]  1 of 1 completed\n",
      "[*********************100%***********************]  1 of 1 completed"
     ]
    },
    {
     "name": "stderr",
     "output_type": "stream",
     "text": [
      " 14%|█▍        | 11/80 [00:16<01:59,  1.73s/it]"
     ]
    },
    {
     "name": "stdout",
     "output_type": "stream",
     "text": [
      "\n",
      "[*********************100%***********************]  1 of 1 completed\n",
      "[*********************100%***********************]  1 of 1 completed"
     ]
    },
    {
     "name": "stderr",
     "output_type": "stream",
     "text": [
      " 15%|█▌        | 12/80 [00:18<02:00,  1.77s/it]"
     ]
    },
    {
     "name": "stdout",
     "output_type": "stream",
     "text": [
      "\n",
      "[*********************100%***********************]  1 of 1 completed\n",
      "[*********************100%***********************]  1 of 1 completed"
     ]
    },
    {
     "name": "stderr",
     "output_type": "stream",
     "text": [
      " 16%|█▋        | 13/80 [00:20<02:07,  1.90s/it]"
     ]
    },
    {
     "name": "stdout",
     "output_type": "stream",
     "text": [
      "\n",
      "[*********************100%***********************]  1 of 1 completed\n",
      "[*********************100%***********************]  1 of 1 completed"
     ]
    },
    {
     "name": "stderr",
     "output_type": "stream",
     "text": [
      " 18%|█▊        | 14/80 [00:22<02:04,  1.89s/it]"
     ]
    },
    {
     "name": "stdout",
     "output_type": "stream",
     "text": [
      "\n",
      "[*********************100%***********************]  1 of 1 completed\n",
      "[*********************100%***********************]  1 of 1 completed"
     ]
    },
    {
     "name": "stderr",
     "output_type": "stream",
     "text": [
      " 19%|█▉        | 15/80 [00:24<02:00,  1.85s/it]"
     ]
    },
    {
     "name": "stdout",
     "output_type": "stream",
     "text": [
      "\n",
      "[*********************100%***********************]  1 of 1 completed\n",
      "[*********************100%***********************]  1 of 1 completed"
     ]
    },
    {
     "name": "stderr",
     "output_type": "stream",
     "text": [
      " 20%|██        | 16/80 [00:26<02:00,  1.89s/it]"
     ]
    },
    {
     "name": "stdout",
     "output_type": "stream",
     "text": [
      "\n",
      "[*********************100%***********************]  1 of 1 completed\n",
      "[*********************100%***********************]  1 of 1 completed"
     ]
    },
    {
     "name": "stderr",
     "output_type": "stream",
     "text": [
      " 21%|██▏       | 17/80 [00:27<01:53,  1.80s/it]"
     ]
    },
    {
     "name": "stdout",
     "output_type": "stream",
     "text": [
      "\n",
      "[*********************100%***********************]  1 of 1 completed\n",
      "[*********************100%***********************]  1 of 1 completed"
     ]
    },
    {
     "name": "stderr",
     "output_type": "stream",
     "text": [
      " 22%|██▎       | 18/80 [00:29<01:49,  1.76s/it]"
     ]
    },
    {
     "name": "stdout",
     "output_type": "stream",
     "text": [
      "\n",
      "[*********************100%***********************]  1 of 1 completed\n",
      "[*********************100%***********************]  1 of 1 completed"
     ]
    },
    {
     "name": "stderr",
     "output_type": "stream",
     "text": [
      " 24%|██▍       | 19/80 [00:31<01:52,  1.84s/it]"
     ]
    },
    {
     "name": "stdout",
     "output_type": "stream",
     "text": [
      "\n",
      "[*********************100%***********************]  1 of 1 completed\n",
      "[*********************100%***********************]  1 of 1 completed"
     ]
    },
    {
     "name": "stderr",
     "output_type": "stream",
     "text": [
      " 25%|██▌       | 20/80 [00:33<01:46,  1.77s/it]"
     ]
    },
    {
     "name": "stdout",
     "output_type": "stream",
     "text": [
      "\n",
      "[*********************100%***********************]  1 of 1 completed\n",
      "[*********************100%***********************]  1 of 1 completed"
     ]
    },
    {
     "name": "stderr",
     "output_type": "stream",
     "text": [
      " 26%|██▋       | 21/80 [00:34<01:45,  1.79s/it]"
     ]
    },
    {
     "name": "stdout",
     "output_type": "stream",
     "text": [
      "\n",
      "[*********************100%***********************]  1 of 1 completed\n",
      "[*********************100%***********************]  1 of 1 completed"
     ]
    },
    {
     "name": "stderr",
     "output_type": "stream",
     "text": [
      " 28%|██▊       | 22/80 [00:36<01:40,  1.73s/it]"
     ]
    },
    {
     "name": "stdout",
     "output_type": "stream",
     "text": [
      "\n",
      "[*********************100%***********************]  1 of 1 completed\n",
      "[*********************100%***********************]  1 of 1 completed"
     ]
    },
    {
     "name": "stderr",
     "output_type": "stream",
     "text": [
      " 29%|██▉       | 23/80 [00:38<01:39,  1.75s/it]"
     ]
    },
    {
     "name": "stdout",
     "output_type": "stream",
     "text": [
      "\n",
      "[*********************100%***********************]  1 of 1 completed\n",
      "[*********************100%***********************]  1 of 1 completed"
     ]
    },
    {
     "name": "stderr",
     "output_type": "stream",
     "text": [
      " 30%|███       | 24/80 [00:40<01:50,  1.98s/it]"
     ]
    },
    {
     "name": "stdout",
     "output_type": "stream",
     "text": [
      "\n",
      "[*********************100%***********************]  1 of 1 completed\n",
      "[*********************100%***********************]  1 of 1 completed"
     ]
    },
    {
     "name": "stderr",
     "output_type": "stream",
     "text": [
      " 31%|███▏      | 25/80 [00:42<01:52,  2.04s/it]"
     ]
    },
    {
     "name": "stdout",
     "output_type": "stream",
     "text": [
      "\n",
      "[*********************100%***********************]  1 of 1 completed\n",
      "[*********************100%***********************]  1 of 1 completed"
     ]
    },
    {
     "name": "stderr",
     "output_type": "stream",
     "text": [
      " 32%|███▎      | 26/80 [00:44<01:48,  2.01s/it]"
     ]
    },
    {
     "name": "stdout",
     "output_type": "stream",
     "text": [
      "\n",
      "[*********************100%***********************]  1 of 1 completed\n",
      "[*********************100%***********************]  1 of 1 completed"
     ]
    },
    {
     "name": "stderr",
     "output_type": "stream",
     "text": [
      " 34%|███▍      | 27/80 [00:46<01:48,  2.05s/it]"
     ]
    },
    {
     "name": "stdout",
     "output_type": "stream",
     "text": [
      "\n",
      "[*********************100%***********************]  1 of 1 completed\n",
      "[*********************100%***********************]  1 of 1 completed"
     ]
    },
    {
     "name": "stderr",
     "output_type": "stream",
     "text": [
      " 35%|███▌      | 28/80 [00:48<01:44,  2.02s/it]"
     ]
    },
    {
     "name": "stdout",
     "output_type": "stream",
     "text": [
      "\n",
      "[*********************100%***********************]  1 of 1 completed\n",
      "[*********************100%***********************]  1 of 1 completed"
     ]
    },
    {
     "name": "stderr",
     "output_type": "stream",
     "text": [
      " 36%|███▋      | 29/80 [00:50<01:43,  2.03s/it]"
     ]
    },
    {
     "name": "stdout",
     "output_type": "stream",
     "text": [
      "\n",
      "[*********************100%***********************]  1 of 1 completed\n",
      "[*********************100%***********************]  1 of 1 completed"
     ]
    },
    {
     "name": "stderr",
     "output_type": "stream",
     "text": [
      " 38%|███▊      | 30/80 [00:52<01:29,  1.79s/it]"
     ]
    },
    {
     "name": "stdout",
     "output_type": "stream",
     "text": [
      "\n",
      "[*********************100%***********************]  1 of 1 completed\n",
      "[*********************100%***********************]  1 of 1 completed"
     ]
    },
    {
     "name": "stderr",
     "output_type": "stream",
     "text": [
      " 39%|███▉      | 31/80 [00:53<01:20,  1.64s/it]"
     ]
    },
    {
     "name": "stdout",
     "output_type": "stream",
     "text": [
      "\n",
      "[*********************100%***********************]  1 of 1 completed\n",
      "[*********************100%***********************]  1 of 1 completed"
     ]
    },
    {
     "name": "stderr",
     "output_type": "stream",
     "text": [
      " 40%|████      | 32/80 [00:54<01:14,  1.55s/it]"
     ]
    },
    {
     "name": "stdout",
     "output_type": "stream",
     "text": [
      "\n",
      "[*********************100%***********************]  1 of 1 completed\n",
      "[*********************100%***********************]  1 of 1 completed"
     ]
    },
    {
     "name": "stderr",
     "output_type": "stream",
     "text": [
      " 41%|████▏     | 33/80 [00:56<01:07,  1.43s/it]"
     ]
    },
    {
     "name": "stdout",
     "output_type": "stream",
     "text": [
      "\n",
      "[*********************100%***********************]  1 of 1 completed\n",
      "[*********************100%***********************]  1 of 1 completed"
     ]
    },
    {
     "name": "stderr",
     "output_type": "stream",
     "text": [
      " 42%|████▎     | 34/80 [00:57<01:05,  1.42s/it]"
     ]
    },
    {
     "name": "stdout",
     "output_type": "stream",
     "text": [
      "\n",
      "[*********************100%***********************]  1 of 1 completed\n",
      "[*********************100%***********************]  1 of 1 completed"
     ]
    },
    {
     "name": "stderr",
     "output_type": "stream",
     "text": [
      " 44%|████▍     | 35/80 [00:58<01:02,  1.40s/it]"
     ]
    },
    {
     "name": "stdout",
     "output_type": "stream",
     "text": [
      "\n",
      "[*********************100%***********************]  1 of 1 completed\n",
      "[*********************100%***********************]  1 of 1 completed"
     ]
    },
    {
     "name": "stderr",
     "output_type": "stream",
     "text": [
      " 45%|████▌     | 36/80 [01:00<01:09,  1.57s/it]"
     ]
    },
    {
     "name": "stdout",
     "output_type": "stream",
     "text": [
      "\n",
      "[*********************100%***********************]  1 of 1 completed\n",
      "[*********************100%***********************]  1 of 1 completed"
     ]
    },
    {
     "name": "stderr",
     "output_type": "stream",
     "text": [
      " 46%|████▋     | 37/80 [01:02<01:07,  1.56s/it]"
     ]
    },
    {
     "name": "stdout",
     "output_type": "stream",
     "text": [
      "\n",
      "[*********************100%***********************]  1 of 1 completed\n",
      "[*********************100%***********************]  1 of 1 completed"
     ]
    },
    {
     "name": "stderr",
     "output_type": "stream",
     "text": [
      " 48%|████▊     | 38/80 [01:03<01:01,  1.46s/it]"
     ]
    },
    {
     "name": "stdout",
     "output_type": "stream",
     "text": [
      "\n",
      "[*********************100%***********************]  1 of 1 completed\n",
      "[*********************100%***********************]  1 of 1 completed"
     ]
    },
    {
     "name": "stderr",
     "output_type": "stream",
     "text": [
      " 49%|████▉     | 39/80 [01:05<01:02,  1.52s/it]"
     ]
    },
    {
     "name": "stdout",
     "output_type": "stream",
     "text": [
      "\n",
      "[*********************100%***********************]  1 of 1 completed\n",
      "[*********************100%***********************]  1 of 1 completed"
     ]
    },
    {
     "name": "stderr",
     "output_type": "stream",
     "text": [
      " 50%|█████     | 40/80 [01:06<00:59,  1.49s/it]"
     ]
    },
    {
     "name": "stdout",
     "output_type": "stream",
     "text": [
      "\n",
      "[*********************100%***********************]  1 of 1 completed\n",
      "[*********************100%***********************]  1 of 1 completed"
     ]
    },
    {
     "name": "stderr",
     "output_type": "stream",
     "text": [
      " 51%|█████▏    | 41/80 [01:07<00:55,  1.43s/it]"
     ]
    },
    {
     "name": "stdout",
     "output_type": "stream",
     "text": [
      "\n",
      "[*********************100%***********************]  1 of 1 completed\n",
      "[*********************100%***********************]  1 of 1 completed"
     ]
    },
    {
     "name": "stderr",
     "output_type": "stream",
     "text": [
      " 52%|█████▎    | 42/80 [01:09<00:53,  1.40s/it]"
     ]
    },
    {
     "name": "stdout",
     "output_type": "stream",
     "text": [
      "\n",
      "[*********************100%***********************]  1 of 1 completed\n",
      "[*********************100%***********************]  1 of 1 completed"
     ]
    },
    {
     "name": "stderr",
     "output_type": "stream",
     "text": [
      " 54%|█████▍    | 43/80 [01:10<00:49,  1.35s/it]"
     ]
    },
    {
     "name": "stdout",
     "output_type": "stream",
     "text": [
      "\n",
      "[*********************100%***********************]  1 of 1 completed\n",
      "[*********************100%***********************]  1 of 1 completed"
     ]
    },
    {
     "name": "stderr",
     "output_type": "stream",
     "text": [
      " 55%|█████▌    | 44/80 [01:11<00:47,  1.32s/it]"
     ]
    },
    {
     "name": "stdout",
     "output_type": "stream",
     "text": [
      "\n",
      "[*********************100%***********************]  1 of 1 completed\n",
      "[*********************100%***********************]  1 of 1 completed"
     ]
    },
    {
     "name": "stderr",
     "output_type": "stream",
     "text": [
      " 56%|█████▋    | 45/80 [01:13<00:47,  1.37s/it]"
     ]
    },
    {
     "name": "stdout",
     "output_type": "stream",
     "text": [
      "\n",
      "[*********************100%***********************]  1 of 1 completed\n",
      "[*********************100%***********************]  1 of 1 completed"
     ]
    },
    {
     "name": "stderr",
     "output_type": "stream",
     "text": [
      " 57%|█████▊    | 46/80 [01:14<00:49,  1.45s/it]"
     ]
    },
    {
     "name": "stdout",
     "output_type": "stream",
     "text": [
      "\n",
      "[*********************100%***********************]  1 of 1 completed\n",
      "[*********************100%***********************]  1 of 1 completed"
     ]
    },
    {
     "name": "stderr",
     "output_type": "stream",
     "text": [
      " 59%|█████▉    | 47/80 [01:16<00:46,  1.41s/it]"
     ]
    },
    {
     "name": "stdout",
     "output_type": "stream",
     "text": [
      "\n",
      "[*********************100%***********************]  1 of 1 completed\n",
      "[*********************100%***********************]  1 of 1 completed"
     ]
    },
    {
     "name": "stderr",
     "output_type": "stream",
     "text": [
      " 60%|██████    | 48/80 [01:18<00:51,  1.62s/it]"
     ]
    },
    {
     "name": "stdout",
     "output_type": "stream",
     "text": [
      "\n",
      "[*********************100%***********************]  1 of 1 completed\n",
      "[*********************100%***********************]  1 of 1 completed"
     ]
    },
    {
     "name": "stderr",
     "output_type": "stream",
     "text": [
      " 61%|██████▏   | 49/80 [01:19<00:49,  1.60s/it]"
     ]
    },
    {
     "name": "stdout",
     "output_type": "stream",
     "text": [
      "\n",
      "[*********************100%***********************]  1 of 1 completed\n",
      "[*********************100%***********************]  1 of 1 completed"
     ]
    },
    {
     "name": "stderr",
     "output_type": "stream",
     "text": [
      " 62%|██████▎   | 50/80 [01:21<00:48,  1.60s/it]"
     ]
    },
    {
     "name": "stdout",
     "output_type": "stream",
     "text": [
      "\n",
      "[*********************100%***********************]  1 of 1 completed\n",
      "[*********************100%***********************]  1 of 1 completed"
     ]
    },
    {
     "name": "stderr",
     "output_type": "stream",
     "text": [
      " 64%|██████▍   | 51/80 [01:23<00:48,  1.66s/it]"
     ]
    },
    {
     "name": "stdout",
     "output_type": "stream",
     "text": [
      "\n",
      "[*********************100%***********************]  1 of 1 completed\n",
      "[*********************100%***********************]  1 of 1 completed"
     ]
    },
    {
     "name": "stderr",
     "output_type": "stream",
     "text": [
      " 65%|██████▌   | 52/80 [01:25<00:51,  1.83s/it]"
     ]
    },
    {
     "name": "stdout",
     "output_type": "stream",
     "text": [
      "\n",
      "[*********************100%***********************]  1 of 1 completed\n",
      "[*********************100%***********************]  1 of 1 completed"
     ]
    },
    {
     "name": "stderr",
     "output_type": "stream",
     "text": [
      " 66%|██████▋   | 53/80 [01:27<00:52,  1.96s/it]"
     ]
    },
    {
     "name": "stdout",
     "output_type": "stream",
     "text": [
      "\n",
      "[*********************100%***********************]  1 of 1 completed\n",
      "[*********************100%***********************]  1 of 1 completed"
     ]
    },
    {
     "name": "stderr",
     "output_type": "stream",
     "text": [
      " 68%|██████▊   | 54/80 [01:30<00:55,  2.14s/it]"
     ]
    },
    {
     "name": "stdout",
     "output_type": "stream",
     "text": [
      "\n",
      "[*********************100%***********************]  1 of 1 completed\n",
      "[*********************100%***********************]  1 of 1 completed"
     ]
    },
    {
     "name": "stderr",
     "output_type": "stream",
     "text": [
      " 69%|██████▉   | 55/80 [01:31<00:50,  2.02s/it]"
     ]
    },
    {
     "name": "stdout",
     "output_type": "stream",
     "text": [
      "\n",
      "[*********************100%***********************]  1 of 1 completed\n",
      "[*********************100%***********************]  1 of 1 completed"
     ]
    },
    {
     "name": "stderr",
     "output_type": "stream",
     "text": [
      " 70%|███████   | 56/80 [01:33<00:42,  1.77s/it]"
     ]
    },
    {
     "name": "stdout",
     "output_type": "stream",
     "text": [
      "\n",
      "[*********************100%***********************]  1 of 1 completed\n",
      "[*********************100%***********************]  1 of 1 completed"
     ]
    },
    {
     "name": "stderr",
     "output_type": "stream",
     "text": [
      " 71%|███████▏  | 57/80 [01:34<00:37,  1.63s/it]"
     ]
    },
    {
     "name": "stdout",
     "output_type": "stream",
     "text": [
      "\n",
      "[*********************100%***********************]  1 of 1 completed\n",
      "[*********************100%***********************]  1 of 1 completed"
     ]
    },
    {
     "name": "stderr",
     "output_type": "stream",
     "text": [
      " 72%|███████▎  | 58/80 [01:35<00:33,  1.52s/it]"
     ]
    },
    {
     "name": "stdout",
     "output_type": "stream",
     "text": [
      "\n",
      "[*********************100%***********************]  1 of 1 completed\n",
      "[*********************100%***********************]  1 of 1 completed"
     ]
    },
    {
     "name": "stderr",
     "output_type": "stream",
     "text": [
      " 74%|███████▍  | 59/80 [01:36<00:30,  1.44s/it]"
     ]
    },
    {
     "name": "stdout",
     "output_type": "stream",
     "text": [
      "\n",
      "[*********************100%***********************]  1 of 1 completed\n",
      "[*********************100%***********************]  1 of 1 completed"
     ]
    },
    {
     "name": "stderr",
     "output_type": "stream",
     "text": [
      " 75%|███████▌  | 60/80 [01:38<00:28,  1.41s/it]"
     ]
    },
    {
     "name": "stdout",
     "output_type": "stream",
     "text": [
      "\n",
      "[*********************100%***********************]  1 of 1 completed\n",
      "[*********************100%***********************]  1 of 1 completed"
     ]
    },
    {
     "name": "stderr",
     "output_type": "stream",
     "text": [
      " 76%|███████▋  | 61/80 [01:39<00:25,  1.35s/it]"
     ]
    },
    {
     "name": "stdout",
     "output_type": "stream",
     "text": [
      "\n",
      "[*********************100%***********************]  1 of 1 completed\n",
      "[*********************100%***********************]  1 of 1 completed"
     ]
    },
    {
     "name": "stderr",
     "output_type": "stream",
     "text": [
      " 78%|███████▊  | 62/80 [01:40<00:23,  1.29s/it]"
     ]
    },
    {
     "name": "stdout",
     "output_type": "stream",
     "text": [
      "\n",
      "[*********************100%***********************]  1 of 1 completed\n",
      "[*********************100%***********************]  1 of 1 completed"
     ]
    },
    {
     "name": "stderr",
     "output_type": "stream",
     "text": [
      " 79%|███████▉  | 63/80 [01:42<00:22,  1.34s/it]"
     ]
    },
    {
     "name": "stdout",
     "output_type": "stream",
     "text": [
      "\n",
      "[*********************100%***********************]  1 of 1 completed\n",
      "[*********************100%***********************]  1 of 1 completed"
     ]
    },
    {
     "name": "stderr",
     "output_type": "stream",
     "text": [
      " 80%|████████  | 64/80 [01:43<00:20,  1.27s/it]"
     ]
    },
    {
     "name": "stdout",
     "output_type": "stream",
     "text": [
      "\n",
      "[*********************100%***********************]  1 of 1 completed\n",
      "[*********************100%***********************]  1 of 1 completed"
     ]
    },
    {
     "name": "stderr",
     "output_type": "stream",
     "text": [
      " 81%|████████▏ | 65/80 [01:44<00:19,  1.30s/it]"
     ]
    },
    {
     "name": "stdout",
     "output_type": "stream",
     "text": [
      "\n",
      "[*********************100%***********************]  1 of 1 completed\n",
      "[*********************100%***********************]  1 of 1 completed"
     ]
    },
    {
     "name": "stderr",
     "output_type": "stream",
     "text": [
      " 82%|████████▎ | 66/80 [01:45<00:18,  1.33s/it]"
     ]
    },
    {
     "name": "stdout",
     "output_type": "stream",
     "text": [
      "\n",
      "[*********************100%***********************]  1 of 1 completed\n",
      "[*********************100%***********************]  1 of 1 completed"
     ]
    },
    {
     "name": "stderr",
     "output_type": "stream",
     "text": [
      " 84%|████████▍ | 67/80 [01:47<00:16,  1.30s/it]"
     ]
    },
    {
     "name": "stdout",
     "output_type": "stream",
     "text": [
      "\n",
      "[*********************100%***********************]  1 of 1 completed\n",
      "[*********************100%***********************]  1 of 1 completed"
     ]
    },
    {
     "name": "stderr",
     "output_type": "stream",
     "text": [
      " 85%|████████▌ | 68/80 [01:48<00:15,  1.31s/it]"
     ]
    },
    {
     "name": "stdout",
     "output_type": "stream",
     "text": [
      "\n",
      "[*********************100%***********************]  1 of 1 completed\n",
      "[*********************100%***********************]  1 of 1 completed"
     ]
    },
    {
     "name": "stderr",
     "output_type": "stream",
     "text": [
      " 86%|████████▋ | 69/80 [01:49<00:14,  1.32s/it]"
     ]
    },
    {
     "name": "stdout",
     "output_type": "stream",
     "text": [
      "\n",
      "[*********************100%***********************]  1 of 1 completed\n",
      "[*********************100%***********************]  1 of 1 completed"
     ]
    },
    {
     "name": "stderr",
     "output_type": "stream",
     "text": [
      " 88%|████████▊ | 70/80 [01:51<00:12,  1.28s/it]"
     ]
    },
    {
     "name": "stdout",
     "output_type": "stream",
     "text": [
      "\n",
      "[*********************100%***********************]  1 of 1 completed\n",
      "[*********************100%***********************]  1 of 1 completed"
     ]
    },
    {
     "name": "stderr",
     "output_type": "stream",
     "text": [
      " 89%|████████▉ | 71/80 [01:52<00:11,  1.26s/it]"
     ]
    },
    {
     "name": "stdout",
     "output_type": "stream",
     "text": [
      "\n",
      "[*********************100%***********************]  1 of 1 completed\n",
      "[*********************100%***********************]  1 of 1 completed"
     ]
    },
    {
     "name": "stderr",
     "output_type": "stream",
     "text": [
      " 90%|█████████ | 72/80 [01:53<00:09,  1.24s/it]"
     ]
    },
    {
     "name": "stdout",
     "output_type": "stream",
     "text": [
      "\n",
      "[*********************100%***********************]  1 of 1 completed\n",
      "[*********************100%***********************]  1 of 1 completed"
     ]
    },
    {
     "name": "stderr",
     "output_type": "stream",
     "text": [
      " 91%|█████████▏| 73/80 [01:54<00:08,  1.24s/it]"
     ]
    },
    {
     "name": "stdout",
     "output_type": "stream",
     "text": [
      "\n",
      "[*********************100%***********************]  1 of 1 completed\n",
      "[*********************100%***********************]  1 of 1 completed"
     ]
    },
    {
     "name": "stderr",
     "output_type": "stream",
     "text": [
      " 92%|█████████▎| 74/80 [01:56<00:07,  1.27s/it]"
     ]
    },
    {
     "name": "stdout",
     "output_type": "stream",
     "text": [
      "\n",
      "[*********************100%***********************]  1 of 1 completed\n",
      "[*********************100%***********************]  1 of 1 completed"
     ]
    },
    {
     "name": "stderr",
     "output_type": "stream",
     "text": [
      " 94%|█████████▍| 75/80 [01:57<00:06,  1.25s/it]"
     ]
    },
    {
     "name": "stdout",
     "output_type": "stream",
     "text": [
      "\n",
      "[*********************100%***********************]  1 of 1 completed\n",
      "[*********************100%***********************]  1 of 1 completed"
     ]
    },
    {
     "name": "stderr",
     "output_type": "stream",
     "text": [
      " 95%|█████████▌| 76/80 [01:58<00:05,  1.25s/it]"
     ]
    },
    {
     "name": "stdout",
     "output_type": "stream",
     "text": [
      "\n",
      "[*********************100%***********************]  1 of 1 completed\n",
      "[*********************100%***********************]  1 of 1 completed"
     ]
    },
    {
     "name": "stderr",
     "output_type": "stream",
     "text": [
      " 96%|█████████▋| 77/80 [02:00<00:04,  1.37s/it]"
     ]
    },
    {
     "name": "stdout",
     "output_type": "stream",
     "text": [
      "\n",
      "[*********************100%***********************]  1 of 1 completed\n",
      "[*********************100%***********************]  1 of 1 completed"
     ]
    },
    {
     "name": "stderr",
     "output_type": "stream",
     "text": [
      " 98%|█████████▊| 78/80 [02:01<00:02,  1.41s/it]"
     ]
    },
    {
     "name": "stdout",
     "output_type": "stream",
     "text": [
      "\n",
      "[*********************100%***********************]  1 of 1 completed\n",
      "[*********************100%***********************]  1 of 1 completed"
     ]
    },
    {
     "name": "stderr",
     "output_type": "stream",
     "text": [
      " 99%|█████████▉| 79/80 [02:03<00:01,  1.47s/it]"
     ]
    },
    {
     "name": "stdout",
     "output_type": "stream",
     "text": [
      "\n",
      "[*********************100%***********************]  1 of 1 completed\n",
      "[*********************100%***********************]  1 of 1 completed"
     ]
    },
    {
     "name": "stderr",
     "output_type": "stream",
     "text": [
      "100%|██████████| 80/80 [02:04<00:00,  1.56s/it]"
     ]
    },
    {
     "name": "stdout",
     "output_type": "stream",
     "text": [
      "\n"
     ]
    },
    {
     "name": "stderr",
     "output_type": "stream",
     "text": [
      "\n"
     ]
    }
   ],
   "source": [
    "StockMarketEDA_LR_new_med_US = pd.read_csv('./df_us_ready.csv', index_col=0)\n",
    "\n",
    "user_date_start, user_date_end = str(year) + '-01-01' , str(year) + '-12-31'\n",
    "\n",
    "#df_ticker_list= pd.read_csv('../data/ticker_us.csv', index_col=0)\n",
    "year = 2014\n",
    "company_name_list = new_ticker_list\n",
    "ticker_list = new_code_list\n",
    "\n",
    "closed_start = []\n",
    "closed_end = []\n",
    "\n",
    "for ticker in tqdm(ticker_list):\n",
    "    closed_start.append(startDay_price(ticker, user_date_start))\n",
    "    closed_end.append(endDay_price(ticker, user_date_end))\n",
    "\n",
    "df_closed = pd.DataFrame({\n",
    "    'company' : company_name_list,\n",
    "    'closed_start' : closed_start,\n",
    "    'closed_end' : closed_end\n",
    "})\n",
    "\n",
    "# 데이터 타입 변경\n",
    "df_closed['closed_end'] = df_closed['closed_end'].astype(float)\n",
    "df_closed['closed_start'] = df_closed['closed_start'].astype(float)\n",
    "\n",
    "\n",
    "# 증가율 산출 : (21년도 시총 - 20년도 시총 )/ 20년도 시총\n",
    "df_closed['price_YOY'] = (df_closed['closed_end'] - df_closed['closed_start']) / df_closed['closed_start']\n",
    "\n",
    "# 기존 데이터에 증가율 추가\n",
    "#StockMarketEDA_LR_new_US = pd.read_csv(file_path, index_col=0, dtype={'code': object})\n",
    "\n",
    "#StockMarketEDA_LR_new_US['price_YOY'] = df_closed['price_YOY'].to_list()\n",
    "\n",
    "#YoY_path = '../data/StockMarketEDA_LR_new_US_YOY_'+ str(year) +'.csv'\n",
    "#StockMarketEDA_LR_new_US.to_csv(YoY_path, sep=',', encoding='utf-8')"
   ]
  },
  {
   "cell_type": "code",
   "execution_count": 179,
   "metadata": {},
   "outputs": [
    {
     "data": {
      "text/html": [
       "<div>\n",
       "<style scoped>\n",
       "    .dataframe tbody tr th:only-of-type {\n",
       "        vertical-align: middle;\n",
       "    }\n",
       "\n",
       "    .dataframe tbody tr th {\n",
       "        vertical-align: top;\n",
       "    }\n",
       "\n",
       "    .dataframe thead th {\n",
       "        text-align: right;\n",
       "    }\n",
       "</style>\n",
       "<table border=\"1\" class=\"dataframe\">\n",
       "  <thead>\n",
       "    <tr style=\"text-align: right;\">\n",
       "      <th></th>\n",
       "      <th>company</th>\n",
       "      <th>closed_start</th>\n",
       "      <th>closed_end</th>\n",
       "      <th>price_YOY</th>\n",
       "    </tr>\n",
       "  </thead>\n",
       "  <tbody>\n",
       "    <tr>\n",
       "      <th>0</th>\n",
       "      <td>Apple</td>\n",
       "      <td>129.410004</td>\n",
       "      <td>178.199997</td>\n",
       "      <td>0.377019</td>\n",
       "    </tr>\n",
       "    <tr>\n",
       "      <th>1</th>\n",
       "      <td>Microsoft</td>\n",
       "      <td>217.690002</td>\n",
       "      <td>339.320007</td>\n",
       "      <td>0.558730</td>\n",
       "    </tr>\n",
       "    <tr>\n",
       "      <th>2</th>\n",
       "      <td>Alphabet (Google)</td>\n",
       "      <td>86.412003</td>\n",
       "      <td>146.002502</td>\n",
       "      <td>0.689609</td>\n",
       "    </tr>\n",
       "    <tr>\n",
       "      <th>3</th>\n",
       "      <td>Amazon</td>\n",
       "      <td>159.331497</td>\n",
       "      <td>168.644501</td>\n",
       "      <td>0.058450</td>\n",
       "    </tr>\n",
       "    <tr>\n",
       "      <th>4</th>\n",
       "      <td>Berkshire Hathaway</td>\n",
       "      <td>228.449997</td>\n",
       "      <td>299.980011</td>\n",
       "      <td>0.313110</td>\n",
       "    </tr>\n",
       "    <tr>\n",
       "      <th>...</th>\n",
       "      <td>...</td>\n",
       "      <td>...</td>\n",
       "      <td>...</td>\n",
       "      <td>...</td>\n",
       "    </tr>\n",
       "    <tr>\n",
       "      <th>75</th>\n",
       "      <td>Zoetis</td>\n",
       "      <td>163.589996</td>\n",
       "      <td>245.160004</td>\n",
       "      <td>0.498625</td>\n",
       "    </tr>\n",
       "    <tr>\n",
       "      <th>76</th>\n",
       "      <td>Target</td>\n",
       "      <td>177.630005</td>\n",
       "      <td>231.910004</td>\n",
       "      <td>0.305579</td>\n",
       "    </tr>\n",
       "    <tr>\n",
       "      <th>77</th>\n",
       "      <td>Schlumberger</td>\n",
       "      <td>21.950001</td>\n",
       "      <td>29.820000</td>\n",
       "      <td>0.358542</td>\n",
       "    </tr>\n",
       "    <tr>\n",
       "      <th>78</th>\n",
       "      <td>Duke Energy</td>\n",
       "      <td>89.709999</td>\n",
       "      <td>104.790001</td>\n",
       "      <td>0.168097</td>\n",
       "    </tr>\n",
       "    <tr>\n",
       "      <th>79</th>\n",
       "      <td>Vertex Pharmaceuticals</td>\n",
       "      <td>229.429993</td>\n",
       "      <td>222.449997</td>\n",
       "      <td>-0.030423</td>\n",
       "    </tr>\n",
       "  </tbody>\n",
       "</table>\n",
       "<p>80 rows × 4 columns</p>\n",
       "</div>"
      ],
      "text/plain": [
       "                   company  closed_start  closed_end  price_YOY\n",
       "0                    Apple    129.410004  178.199997   0.377019\n",
       "1                Microsoft    217.690002  339.320007   0.558730\n",
       "2        Alphabet (Google)     86.412003  146.002502   0.689609\n",
       "3                   Amazon    159.331497  168.644501   0.058450\n",
       "4       Berkshire Hathaway    228.449997  299.980011   0.313110\n",
       "..                     ...           ...         ...        ...\n",
       "75                  Zoetis    163.589996  245.160004   0.498625\n",
       "76                  Target    177.630005  231.910004   0.305579\n",
       "77            Schlumberger     21.950001   29.820000   0.358542\n",
       "78             Duke Energy     89.709999  104.790001   0.168097\n",
       "79  Vertex Pharmaceuticals    229.429993  222.449997  -0.030423\n",
       "\n",
       "[80 rows x 4 columns]"
      ]
     },
     "execution_count": 179,
     "metadata": {},
     "output_type": "execute_result"
    }
   ],
   "source": [
    "df_closed"
   ]
  },
  {
   "cell_type": "code",
   "execution_count": 1,
   "metadata": {},
   "outputs": [
    {
     "ename": "NameError",
     "evalue": "name 'new_ticker_list' is not defined",
     "output_type": "error",
     "traceback": [
      "\u001b[1;31m---------------------------------------------------------------------------\u001b[0m",
      "\u001b[1;31mNameError\u001b[0m                                 Traceback (most recent call last)",
      "Cell \u001b[1;32mIn[1], line 3\u001b[0m\n\u001b[0;32m      1\u001b[0m years \u001b[39m=\u001b[39m [\u001b[39m2013\u001b[39m, \u001b[39m2014\u001b[39m, \u001b[39m2015\u001b[39m, \u001b[39m2016\u001b[39m, \u001b[39m2017\u001b[39m, \u001b[39m2018\u001b[39m, \u001b[39m2019\u001b[39m, \u001b[39m2020\u001b[39m, \u001b[39m2021\u001b[39m, \u001b[39m2022\u001b[39m, \u001b[39m2023\u001b[39m]\n\u001b[1;32m----> 3\u001b[0m company_name_list \u001b[39m=\u001b[39m new_ticker_list\n\u001b[0;32m      4\u001b[0m ticker_list \u001b[39m=\u001b[39m new_code_list\n\u001b[0;32m      8\u001b[0m \u001b[39mfor\u001b[39;00m year \u001b[39min\u001b[39;00m years:\n",
      "\u001b[1;31mNameError\u001b[0m: name 'new_ticker_list' is not defined"
     ]
    }
   ],
   "source": [
    "years = [2013, 2014, 2015, 2016, 2017, 2018, 2019, 2020, 2021, 2022, 2023]\n",
    "\n",
    "company_name_list = new_ticker_list\n",
    "ticker_list = new_code_list\n",
    "\n",
    "\n",
    "\n",
    "for year in years:\n",
    "    user_date_start, user_date_end = str(year-1) + '-12-31' , str(year) + '-12-31'\n",
    "\n",
    "    closed_start = []\n",
    "    closed_end = []\n",
    "\n",
    "    for ticker in tqdm(ticker_list):\n",
    "        closed_start.append(endDay_price(ticker, user_date_start))\n",
    "        closed_end.append(endDay_price(ticker, user_date_end))\n",
    "\n",
    "    df_closed = pd.DataFrame({\n",
    "        'company' : company_name_list,\n",
    "        'closed_start' : closed_start,\n",
    "        'closed_end' : closed_end\n",
    "    })\n",
    "\n",
    "    # 데이터 타입 변경\n",
    "    df_closed['closed_end'] = df_closed['closed_end'].astype(float)\n",
    "    df_closed['closed_start'] = df_closed['closed_start'].astype(float)\n",
    "\n",
    "    # 증가율 산출 : (21년도 시총 - 20년도 시총 )/ 20년도 시총\n",
    "    df_closed['price_YOY'] = (df_closed['closed_end'] - df_closed['closed_start']) / df_closed['closed_start']\n",
    "\n",
    "# 기존 데이터에 증가율 추가\n",
    "\n",
    "#df_us_ready['price_YOY'] = df_closed['price_YOY'].to_list()"
   ]
  }
 ],
 "metadata": {
  "kernelspec": {
   "display_name": "venv",
   "language": "python",
   "name": "python3"
  },
  "language_info": {
   "codemirror_mode": {
    "name": "ipython",
    "version": 3
   },
   "file_extension": ".py",
   "mimetype": "text/x-python",
   "name": "python",
   "nbconvert_exporter": "python",
   "pygments_lexer": "ipython3",
   "version": "3.9.5"
  },
  "orig_nbformat": 4,
  "vscode": {
   "interpreter": {
    "hash": "19d552cfa1f15e414e17164e638e6e4d583736f2a4ca28c79f83cb55997fc1a4"
   }
  }
 },
 "nbformat": 4,
 "nbformat_minor": 2
}
