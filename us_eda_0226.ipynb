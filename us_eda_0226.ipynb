{
 "cells": [
  {
   "cell_type": "code",
   "execution_count": 1,
   "metadata": {},
   "outputs": [
    {
     "name": "stdout",
     "output_type": "stream",
     "text": [
      "Collecting selenium\n",
      "  Downloading selenium-4.8.2-py3-none-any.whl (6.9 MB)\n",
      "Collecting trio~=0.17\n",
      "  Downloading trio-0.22.0-py3-none-any.whl (384 kB)\n",
      "Collecting trio-websocket~=0.9\n",
      "  Downloading trio_websocket-0.9.2-py3-none-any.whl (16 kB)\n",
      "Collecting urllib3[socks]~=1.26\n",
      "  Downloading urllib3-1.26.14-py2.py3-none-any.whl (140 kB)\n",
      "Collecting certifi>=2021.10.8\n",
      "  Downloading certifi-2022.12.7-py3-none-any.whl (155 kB)\n",
      "Collecting sniffio\n",
      "  Downloading sniffio-1.3.0-py3-none-any.whl (10 kB)\n",
      "Collecting cffi>=1.14; os_name == \"nt\" and implementation_name != \"pypy\"\n",
      "  Downloading cffi-1.15.1-cp39-cp39-win_amd64.whl (179 kB)\n",
      "Collecting sortedcontainers\n",
      "  Downloading sortedcontainers-2.4.0-py2.py3-none-any.whl (29 kB)\n",
      "Collecting outcome\n",
      "  Downloading outcome-1.2.0-py2.py3-none-any.whl (9.7 kB)\n",
      "Collecting async-generator>=1.9\n",
      "  Downloading async_generator-1.10-py3-none-any.whl (18 kB)\n",
      "Collecting exceptiongroup>=1.0.0rc9; python_version < \"3.11\"\n",
      "  Downloading exceptiongroup-1.1.0-py3-none-any.whl (14 kB)\n",
      "Collecting idna\n",
      "  Downloading idna-3.4-py3-none-any.whl (61 kB)\n",
      "Collecting attrs>=19.2.0\n",
      "  Downloading attrs-22.2.0-py3-none-any.whl (60 kB)\n",
      "Collecting wsproto>=0.14\n",
      "  Downloading wsproto-1.2.0-py3-none-any.whl (24 kB)\n",
      "Collecting PySocks!=1.5.7,<2.0,>=1.5.6; extra == \"socks\"\n",
      "  Downloading PySocks-1.7.1-py3-none-any.whl (16 kB)\n",
      "Collecting pycparser\n",
      "  Downloading pycparser-2.21-py2.py3-none-any.whl (118 kB)\n",
      "Collecting h11<1,>=0.9.0\n",
      "  Downloading h11-0.14.0-py3-none-any.whl (58 kB)\n",
      "Installing collected packages: sniffio, pycparser, cffi, sortedcontainers, attrs, outcome, async-generator, exceptiongroup, idna, trio, h11, wsproto, trio-websocket, PySocks, urllib3, certifi, selenium\n",
      "Successfully installed PySocks-1.7.1 async-generator-1.10 attrs-22.2.0 certifi-2022.12.7 cffi-1.15.1 exceptiongroup-1.1.0 h11-0.14.0 idna-3.4 outcome-1.2.0 pycparser-2.21 selenium-4.8.2 sniffio-1.3.0 sortedcontainers-2.4.0 trio-0.22.0 trio-websocket-0.9.2 urllib3-1.26.14 wsproto-1.2.0\n",
      "Note: you may need to restart the kernel to use updated packages.\n"
     ]
    },
    {
     "name": "stderr",
     "output_type": "stream",
     "text": [
      "WARNING: You are using pip version 20.2.3; however, version 23.0.1 is available.\n",
      "You should consider upgrading via the 'c:\\python\\ws\\venv\\Scripts\\python.exe -m pip install --upgrade pip' command.\n"
     ]
    }
   ],
   "source": [
    "pip install selenium"
   ]
  },
  {
   "cell_type": "code",
   "execution_count": 2,
   "metadata": {},
   "outputs": [
    {
     "name": "stdout",
     "output_type": "stream",
     "text": [
      "Collecting beautifulsoup4\n",
      "  Downloading beautifulsoup4-4.11.2-py3-none-any.whl (129 kB)\n",
      "Collecting soupsieve>1.2\n",
      "  Downloading soupsieve-2.4-py3-none-any.whl (37 kB)\n",
      "Installing collected packages: soupsieve, beautifulsoup4\n",
      "Successfully installed beautifulsoup4-4.11.2 soupsieve-2.4\n",
      "Note: you may need to restart the kernel to use updated packages.\n"
     ]
    },
    {
     "name": "stderr",
     "output_type": "stream",
     "text": [
      "WARNING: You are using pip version 20.2.3; however, version 23.0.1 is available.\n",
      "You should consider upgrading via the 'c:\\python\\ws\\venv\\Scripts\\python.exe -m pip install --upgrade pip' command.\n"
     ]
    }
   ],
   "source": [
    "pip install beautifulsoup4"
   ]
  },
  {
   "cell_type": "code",
   "execution_count": 3,
   "metadata": {},
   "outputs": [],
   "source": [
    "from selenium import webdriver\n",
    "from selenium.webdriver.chrome.service import Service\n",
    "from selenium.webdriver.common.by import By\n",
    "from selenium.webdriver.common.keys import Keys\n",
    "from selenium.webdriver import ActionChains\n",
    "from bs4 import BeautifulSoup\n",
    "import time\n",
    "from selenium.webdriver.support.ui import WebDriverWait\n",
    "from selenium.webdriver.support import expected_conditions as EC\n",
    "from selenium.webdriver.support.ui import Select\n",
    "\n",
    "chrome_options = webdriver.ChromeOptions()\n",
    "\n",
    "url = 'https://companiesmarketcap.com/usa/largest-companies-in-the-usa-by-market-cap/'\n",
    "driver = webdriver.Chrome(service=Service('../driver/chromedriver'), options=chrome_options)\n",
    "driver.set_window_size(1920,1080)\n",
    "driver.get(url)"
   ]
  },
  {
   "cell_type": "code",
   "execution_count": 4,
   "metadata": {},
   "outputs": [],
   "source": [
    "# 주식 TOP 100 TICKER 크롤링\n",
    "name=[]\n",
    "code = []\n",
    "a = driver.find_elements(By.CLASS_NAME,'company-code')\n",
    "\n",
    "# for i in range(len(a)):\n",
    "#     a = driver.find_elements(By.CLASS_NAME,'company-code')\n",
    "#     b = driver.find_elements(By.CLASS_NAME,'company-name')\n",
    "#     c = a[i].get_attribute('innerText')\n",
    "#     d = b[i].get_attribute('innerText')\n",
    "#     comp_name.append(d)\n",
    "#     code.append(c)\n",
    "\n",
    "# driver.find_element(By.CLASS_NAME,'page-link').click()\n",
    "\n",
    "for j in range(len(a)):\n",
    "    a = driver.find_elements(By.CLASS_NAME,'company-code')\n",
    "    b = driver.find_elements(By.CLASS_NAME,'company-name')\n",
    "    c = a[j].get_attribute('innerText')\n",
    "    d = b[j].get_attribute('innerText')\n",
    "    name.append(d)\n",
    "    code.append(c)"
   ]
  },
  {
   "cell_type": "code",
   "execution_count": 5,
   "metadata": {},
   "outputs": [
    {
     "data": {
      "text/plain": [
       "['AAPL',\n",
       " 'MSFT',\n",
       " 'GOOG',\n",
       " 'AMZN',\n",
       " 'BRK-B',\n",
       " 'TSLA',\n",
       " 'NVDA',\n",
       " 'V',\n",
       " 'UNH',\n",
       " 'XOM',\n",
       " 'META',\n",
       " 'JPM',\n",
       " 'JNJ',\n",
       " 'WMT',\n",
       " 'MA',\n",
       " 'PG',\n",
       " 'CVX',\n",
       " 'LLY',\n",
       " 'HD',\n",
       " 'MRK',\n",
       " 'BAC',\n",
       " 'ABBV',\n",
       " 'KO',\n",
       " 'PEP',\n",
       " 'AVGO',\n",
       " 'ORCL',\n",
       " 'PFE',\n",
       " 'COST',\n",
       " 'TMO',\n",
       " 'CSCO',\n",
       " 'MCD',\n",
       " 'DIS',\n",
       " 'NKE',\n",
       " 'DHR',\n",
       " 'WFC',\n",
       " 'TMUS',\n",
       " 'ABT',\n",
       " 'MS',\n",
       " 'VZ',\n",
       " 'CRM',\n",
       " 'CMCSA',\n",
       " 'UPS',\n",
       " 'TXN',\n",
       " 'PM',\n",
       " 'SCHW',\n",
       " 'BMY',\n",
       " 'ADBE',\n",
       " 'RTX',\n",
       " 'NEE',\n",
       " 'NFLX',\n",
       " 'QCOM',\n",
       " 'T',\n",
       " 'AXP',\n",
       " 'HON',\n",
       " 'COP',\n",
       " 'AMD',\n",
       " 'AMGN',\n",
       " 'DE',\n",
       " 'LMT',\n",
       " 'GS',\n",
       " 'CAT',\n",
       " 'LOW',\n",
       " 'UNP',\n",
       " 'BA',\n",
       " 'INTU',\n",
       " 'IBM',\n",
       " 'SBUX',\n",
       " 'ELV',\n",
       " 'SPGI',\n",
       " 'PLD',\n",
       " 'CVS',\n",
       " 'INTC',\n",
       " 'BLK',\n",
       " 'GILD',\n",
       " 'SYK',\n",
       " 'C',\n",
       " 'BKNG',\n",
       " 'AMAT',\n",
       " 'ADI',\n",
       " 'ADP',\n",
       " 'AMT',\n",
       " 'GE',\n",
       " 'MDLZ',\n",
       " 'TJX',\n",
       " 'CI',\n",
       " 'EL',\n",
       " 'NOW',\n",
       " 'MO',\n",
       " 'PYPL',\n",
       " 'PGR',\n",
       " 'REGN',\n",
       " 'ISRG',\n",
       " 'MMC',\n",
       " 'ABNB',\n",
       " 'ZTS',\n",
       " 'TGT',\n",
       " 'SLB',\n",
       " 'DUK',\n",
       " 'VRTX',\n",
       " 'USB']"
      ]
     },
     "execution_count": 5,
     "metadata": {},
     "output_type": "execute_result"
    }
   ],
   "source": [
    "code"
   ]
  },
  {
   "cell_type": "code",
   "execution_count": 6,
   "metadata": {},
   "outputs": [
    {
     "data": {
      "text/plain": [
       "['Apple',\n",
       " 'Microsoft',\n",
       " 'Alphabet (Google)',\n",
       " 'Amazon',\n",
       " 'Berkshire Hathaway',\n",
       " 'Tesla',\n",
       " 'NVIDIA',\n",
       " 'Visa',\n",
       " 'UnitedHealth',\n",
       " 'Exxon Mobil',\n",
       " 'Meta Platforms (Facebook)',\n",
       " 'JPMorgan Chase',\n",
       " 'Johnson & Johnson',\n",
       " 'Walmart',\n",
       " 'Mastercard',\n",
       " 'Procter & Gamble',\n",
       " 'Chevron',\n",
       " 'Eli Lilly',\n",
       " 'Home Depot',\n",
       " 'Merck',\n",
       " 'Bank of America',\n",
       " 'AbbVie',\n",
       " 'Coca-Cola',\n",
       " 'Pepsico',\n",
       " 'Broadcom',\n",
       " 'Oracle',\n",
       " 'Pfizer',\n",
       " 'Costco',\n",
       " 'Thermo Fisher Scientific',\n",
       " 'Cisco',\n",
       " 'McDonald',\n",
       " 'Walt Disney',\n",
       " 'Nike',\n",
       " 'Danaher',\n",
       " 'Wells Fargo',\n",
       " 'T-Mobile US',\n",
       " 'Abbott Laboratories',\n",
       " 'Morgan Stanley',\n",
       " 'Verizon',\n",
       " 'Salesforce',\n",
       " 'Comcast',\n",
       " 'United Parcel Service',\n",
       " 'Texas Instruments',\n",
       " 'Philip Morris',\n",
       " 'Charles Schwab',\n",
       " 'Bristol-Myers Squibb',\n",
       " 'Adobe',\n",
       " 'Raytheon Technologies',\n",
       " 'Nextera Energy',\n",
       " 'Netflix',\n",
       " 'QUALCOMM',\n",
       " 'AT&T',\n",
       " 'American Express',\n",
       " 'Honeywell',\n",
       " 'ConocoPhillips',\n",
       " 'AMD',\n",
       " 'Amgen',\n",
       " 'Deere & Company',\n",
       " 'Lockheed Martin',\n",
       " 'Goldman Sachs',\n",
       " 'Caterpillar',\n",
       " \"Lowe's Companies\",\n",
       " 'Union Pacific Corporation',\n",
       " 'Boeing',\n",
       " 'Intuit',\n",
       " 'IBM',\n",
       " 'Starbucks',\n",
       " 'Elevance Health',\n",
       " 'S&P Global',\n",
       " 'Prologis',\n",
       " 'CVS Health',\n",
       " 'Intel',\n",
       " 'BlackRock',\n",
       " 'Gilead Sciences',\n",
       " 'Stryker Corporation',\n",
       " 'Citigroup',\n",
       " 'Booking Holdings (Booking.com)',\n",
       " 'Applied Materials',\n",
       " 'Analog Devices',\n",
       " 'Automatic Data Processing',\n",
       " 'American Tower',\n",
       " 'General Electric',\n",
       " 'Mondelez',\n",
       " 'TJX Companies',\n",
       " 'Cigna',\n",
       " 'Estee Lauder',\n",
       " 'ServiceNow',\n",
       " 'Altria Group',\n",
       " 'PayPal',\n",
       " 'Progressive',\n",
       " 'Regeneron Pharmaceuticals',\n",
       " 'Intuitive Surgical',\n",
       " 'Marsh & McLennan Companies',\n",
       " 'Airbnb',\n",
       " 'Zoetis',\n",
       " 'Target',\n",
       " 'Schlumberger',\n",
       " 'Duke Energy',\n",
       " 'Vertex Pharmaceuticals',\n",
       " 'U.S. Bancorp']"
      ]
     },
     "execution_count": 6,
     "metadata": {},
     "output_type": "execute_result"
    }
   ],
   "source": [
    "name"
   ]
  },
  {
   "cell_type": "code",
   "execution_count": 7,
   "metadata": {},
   "outputs": [
    {
     "data": {
      "text/html": [
       "<div>\n",
       "<style scoped>\n",
       "    .dataframe tbody tr th:only-of-type {\n",
       "        vertical-align: middle;\n",
       "    }\n",
       "\n",
       "    .dataframe tbody tr th {\n",
       "        vertical-align: top;\n",
       "    }\n",
       "\n",
       "    .dataframe thead th {\n",
       "        text-align: right;\n",
       "    }\n",
       "</style>\n",
       "<table border=\"1\" class=\"dataframe\">\n",
       "  <thead>\n",
       "    <tr style=\"text-align: right;\">\n",
       "      <th></th>\n",
       "      <th>company</th>\n",
       "      <th>code</th>\n",
       "    </tr>\n",
       "  </thead>\n",
       "  <tbody>\n",
       "    <tr>\n",
       "      <th>0</th>\n",
       "      <td>Apple</td>\n",
       "      <td>AAPL</td>\n",
       "    </tr>\n",
       "    <tr>\n",
       "      <th>1</th>\n",
       "      <td>Microsoft</td>\n",
       "      <td>MSFT</td>\n",
       "    </tr>\n",
       "    <tr>\n",
       "      <th>2</th>\n",
       "      <td>Alphabet (Google)</td>\n",
       "      <td>GOOG</td>\n",
       "    </tr>\n",
       "    <tr>\n",
       "      <th>3</th>\n",
       "      <td>Amazon</td>\n",
       "      <td>AMZN</td>\n",
       "    </tr>\n",
       "    <tr>\n",
       "      <th>4</th>\n",
       "      <td>Berkshire Hathaway</td>\n",
       "      <td>BRK-B</td>\n",
       "    </tr>\n",
       "    <tr>\n",
       "      <th>...</th>\n",
       "      <td>...</td>\n",
       "      <td>...</td>\n",
       "    </tr>\n",
       "    <tr>\n",
       "      <th>95</th>\n",
       "      <td>Target</td>\n",
       "      <td>TGT</td>\n",
       "    </tr>\n",
       "    <tr>\n",
       "      <th>96</th>\n",
       "      <td>Schlumberger</td>\n",
       "      <td>SLB</td>\n",
       "    </tr>\n",
       "    <tr>\n",
       "      <th>97</th>\n",
       "      <td>Duke Energy</td>\n",
       "      <td>DUK</td>\n",
       "    </tr>\n",
       "    <tr>\n",
       "      <th>98</th>\n",
       "      <td>Vertex Pharmaceuticals</td>\n",
       "      <td>VRTX</td>\n",
       "    </tr>\n",
       "    <tr>\n",
       "      <th>99</th>\n",
       "      <td>U.S. Bancorp</td>\n",
       "      <td>USB</td>\n",
       "    </tr>\n",
       "  </tbody>\n",
       "</table>\n",
       "<p>100 rows × 2 columns</p>\n",
       "</div>"
      ],
      "text/plain": [
       "                   company   code\n",
       "0                    Apple   AAPL\n",
       "1                Microsoft   MSFT\n",
       "2        Alphabet (Google)   GOOG\n",
       "3                   Amazon   AMZN\n",
       "4       Berkshire Hathaway  BRK-B\n",
       "..                     ...    ...\n",
       "95                  Target    TGT\n",
       "96            Schlumberger    SLB\n",
       "97             Duke Energy    DUK\n",
       "98  Vertex Pharmaceuticals   VRTX\n",
       "99            U.S. Bancorp    USB\n",
       "\n",
       "[100 rows x 2 columns]"
      ]
     },
     "execution_count": 7,
     "metadata": {},
     "output_type": "execute_result"
    }
   ],
   "source": [
    "import pandas as pd\n",
    "df_tmp = pd.DataFrame({'company': name,\n",
    "                       'code':code\n",
    "                       })\n",
    "\n",
    "df_tmp"
   ]
  },
  {
   "cell_type": "code",
   "execution_count": 8,
   "metadata": {},
   "outputs": [
    {
     "data": {
      "text/html": [
       "<div>\n",
       "<style scoped>\n",
       "    .dataframe tbody tr th:only-of-type {\n",
       "        vertical-align: middle;\n",
       "    }\n",
       "\n",
       "    .dataframe tbody tr th {\n",
       "        vertical-align: top;\n",
       "    }\n",
       "\n",
       "    .dataframe thead th {\n",
       "        text-align: right;\n",
       "    }\n",
       "</style>\n",
       "<table border=\"1\" class=\"dataframe\">\n",
       "  <thead>\n",
       "    <tr style=\"text-align: right;\">\n",
       "      <th></th>\n",
       "      <th>company</th>\n",
       "    </tr>\n",
       "    <tr>\n",
       "      <th>code</th>\n",
       "      <th></th>\n",
       "    </tr>\n",
       "  </thead>\n",
       "  <tbody>\n",
       "    <tr>\n",
       "      <th>AAPL</th>\n",
       "      <td>Apple</td>\n",
       "    </tr>\n",
       "    <tr>\n",
       "      <th>MSFT</th>\n",
       "      <td>Microsoft</td>\n",
       "    </tr>\n",
       "    <tr>\n",
       "      <th>GOOG</th>\n",
       "      <td>Alphabet (Google)</td>\n",
       "    </tr>\n",
       "  </tbody>\n",
       "</table>\n",
       "</div>"
      ],
      "text/plain": [
       "                company\n",
       "code                   \n",
       "AAPL              Apple\n",
       "MSFT          Microsoft\n",
       "GOOG  Alphabet (Google)"
      ]
     },
     "execution_count": 8,
     "metadata": {},
     "output_type": "execute_result"
    }
   ],
   "source": [
    "import pandas as pd\n",
    "company_code = df_tmp['code'].tolist()\n",
    "df_ticker_list = df_tmp.set_index('code')\n",
    "df_ticker_list.head(3)"
   ]
  },
  {
   "cell_type": "code",
   "execution_count": 10,
   "metadata": {},
   "outputs": [],
   "source": [
    "url = 'https://stockrow.com/users/sign_in'\n",
    "driver.get(url)\n",
    "driver.set_window_size(1920,1080)\n",
    "time.sleep(0.5)\n",
    "sign_in = driver.find_elements(By.TAG_NAME,'input')\n",
    "email = sign_in[1].send_keys('ksyrobot@gmail.com')\n",
    "password = sign_in[2].send_keys('rlatpdus22')\n",
    "sign_in[5].click()"
   ]
  },
  {
   "cell_type": "code",
   "execution_count": 9,
   "metadata": {},
   "outputs": [
    {
     "name": "stdout",
     "output_type": "stream",
     "text": [
      "Collecting tqdmNote: you may need to restart the kernel to use updated packages.\n",
      "\n",
      "  Downloading tqdm-4.64.1-py2.py3-none-any.whl (78 kB)\n",
      "Requirement already satisfied: colorama; platform_system == \"Windows\" in c:\\python\\ws\\venv\\lib\\site-packages (from tqdm) (0.4.6)\n",
      "Installing collected packages: tqdm\n",
      "Successfully installed tqdm-4.64.1\n"
     ]
    },
    {
     "name": "stderr",
     "output_type": "stream",
     "text": [
      "WARNING: You are using pip version 20.2.3; however, version 23.0.1 is available.\n",
      "You should consider upgrading via the 'c:\\python\\ws\\venv\\Scripts\\python.exe -m pip install --upgrade pip' command.\n"
     ]
    }
   ],
   "source": [
    "pip install tqdm"
   ]
  },
  {
   "cell_type": "code",
   "execution_count": 11,
   "metadata": {},
   "outputs": [
    {
     "name": "stderr",
     "output_type": "stream",
     "text": [
      "  5%|▌         | 5/100 [00:22<06:24,  4.05s/it]"
     ]
    },
    {
     "name": "stdout",
     "output_type": "stream",
     "text": [
      "[['675.93', '0.00', '527.97', '150.72', '188.43', '72.70', '78.80', '76.46', '50.57', '0.00', '69.60', '36.80', '27.20', 'PE Ratio'], ['18.70', '13.35', '23.58', '18.52', '20.60', '16.80', '14.71', '17.44', '12.20', '5.99', '5.35', '4.15', '3.31', 'PB Ratio'], ['2031.00', '1949.00', '7450.00', '10466.00', '8307.00', '19400.00', '25825.00', '31020.00', '(9069.00)', '(11569.00)', '19782.00', '36614.00', '56848.00', 'FCF'], ['3191.00', '8265.00', '8227.00', '12891.00', '30925.00', '32997.00', '37744.00', '47931.00', '64667.00', '67150.00', '–', '–', '–', 'Total Debt'], ['9746.00', '10741.00', '13384.00', '19285.00', '27709.00', '43549.00', '62060.00', '93404.00', '138245.00', '146043.00', '–', '–', '–', \"Sh' Equity\"], ['0.75', '(0.51)', '1.00', '3.20', '2.83', '6.85', '5.97', '7.81', '9.00', '(0.62)', '3.90', '5.58', '5.91', 'ROA'], ['3.05', '(2.35)', '4.94', '14.52', '12.91', '28.27', '21.95', '27.44', '28.81', '(1.91)', '10.80', '13.30', '15.00', 'ROE'], ['Amazon', 'Amazon', 'Amazon', 'Amazon', 'Amazon', 'Amazon', 'Amazon', 'Amazon', 'Amazon', 'Amazon', 'Amazon', 'Amazon', 'Amazon', 'Amazon']]\n",
      "BRK-B\n"
     ]
    },
    {
     "name": "stderr",
     "output_type": "stream",
     "text": [
      " 11%|█         | 11/100 [00:52<06:54,  4.66s/it]"
     ]
    },
    {
     "name": "stdout",
     "output_type": "stream",
     "text": [
      "[['13.73', '12.16', '20.25', '48.35', '18.37', '13.97', '20.77', '0.00', '11.35', '8.03', '10.30', '11.00', '–', 'PE Ratio'], ['2.48', '2.19', '1.85', '2.18', '1.86', '1.47', '1.50', '1.07', '1.49', '2.17', '2.16', '2.02', '–', 'PB Ratio'], ['11245.00', '12164.00', '3854.00', '5919.00', '14664.00', '16440.00', '5355.00', '(1615.00)', '39229.00', '63637.00', '43244.00', '37965.00', '–', 'FCF'], ['6891.00', '11653.00', '19925.00', '42762.00', '42336.00', '37796.00', '48146.00', '68812.00', '49075.00', '41193.00', '–', '–', '–', 'Total Debt'], ['180495.00', '181064.00', '176810.00', '173830.00', '194500.00', '198528.00', '198938.00', '164130.00', '175683.00', '202473.00', '–', '–', '–', \"Sh' Equity\"], ['9.57', '9.34', '4.71', '2.35', '5.81', '6.00', '4.05', '(6.45)', '6.86', '15.75', '10.50', '8.67', '–', 'ROA'], ['18.50', '17.99', '9.03', '4.47', '10.70', '10.60', '7.22', '(12.36)', '13.56', '29.48', '21.10', '17.30', '–', 'ROE'], ['Exxon Mobil', 'Exxon Mobil', 'Exxon Mobil', 'Exxon Mobil', 'Exxon Mobil', 'Exxon Mobil', 'Exxon Mobil', 'Exxon Mobil', 'Exxon Mobil', 'Exxon Mobil', 'Exxon Mobil', 'Exxon Mobil', 'Exxon Mobil', 'Exxon Mobil']]\n",
      "META\n"
     ]
    },
    {
     "name": "stderr",
     "output_type": "stream",
     "text": [
      " 12%|█▏        | 12/100 [00:55<05:56,  4.05s/it]"
     ]
    },
    {
     "name": "stdout",
     "output_type": "stream",
     "text": [
      "[['13.73', '12.16', '20.25', '48.35', '18.37', '13.97', '20.77', '0.00', '11.35', '8.03', '10.30', '11.00', '–', 'PE Ratio'], ['2.48', '2.19', '1.85', '2.18', '1.86', '1.47', '1.50', '1.07', '1.49', '2.17', '2.16', '2.02', '–', 'PB Ratio'], ['11245.00', '12164.00', '3854.00', '5919.00', '14664.00', '16440.00', '5355.00', '(1615.00)', '39229.00', '63637.00', '43244.00', '37965.00', '–', 'FCF'], ['6891.00', '11653.00', '19925.00', '42762.00', '42336.00', '37796.00', '48146.00', '68812.00', '49075.00', '41193.00', '–', '–', '–', 'Total Debt'], ['180495.00', '181064.00', '176810.00', '173830.00', '194500.00', '198528.00', '198938.00', '164130.00', '175683.00', '202473.00', '–', '–', '–', \"Sh' Equity\"], ['9.57', '9.34', '4.71', '2.35', '5.81', '6.00', '4.05', '(6.45)', '6.86', '15.75', '10.50', '8.67', '–', 'ROA'], ['18.50', '17.99', '9.03', '4.47', '10.70', '10.60', '7.22', '(12.36)', '13.56', '29.48', '21.10', '17.30', '–', 'ROE'], ['Exxon Mobil', 'Exxon Mobil', 'Exxon Mobil', 'Exxon Mobil', 'Exxon Mobil', 'Exxon Mobil', 'Exxon Mobil', 'Exxon Mobil', 'Exxon Mobil', 'Exxon Mobil', 'Exxon Mobil', 'Exxon Mobil', 'Exxon Mobil', 'Exxon Mobil']]\n",
      "JPM\n"
     ]
    },
    {
     "name": "stderr",
     "output_type": "stream",
     "text": [
      " 13%|█▎        | 13/100 [00:58<05:26,  3.75s/it]"
     ]
    },
    {
     "name": "stdout",
     "output_type": "stream",
     "text": [
      "[['13.73', '12.16', '20.25', '48.35', '18.37', '13.97', '20.77', '0.00', '11.35', '8.03', '10.30', '11.00', '–', 'PE Ratio'], ['2.48', '2.19', '1.85', '2.18', '1.86', '1.47', '1.50', '1.07', '1.49', '2.17', '2.16', '2.02', '–', 'PB Ratio'], ['11245.00', '12164.00', '3854.00', '5919.00', '14664.00', '16440.00', '5355.00', '(1615.00)', '39229.00', '63637.00', '43244.00', '37965.00', '–', 'FCF'], ['6891.00', '11653.00', '19925.00', '42762.00', '42336.00', '37796.00', '48146.00', '68812.00', '49075.00', '41193.00', '–', '–', '–', 'Total Debt'], ['180495.00', '181064.00', '176810.00', '173830.00', '194500.00', '198528.00', '198938.00', '164130.00', '175683.00', '202473.00', '–', '–', '–', \"Sh' Equity\"], ['9.57', '9.34', '4.71', '2.35', '5.81', '6.00', '4.05', '(6.45)', '6.86', '15.75', '10.50', '8.67', '–', 'ROA'], ['18.50', '17.99', '9.03', '4.47', '10.70', '10.60', '7.22', '(12.36)', '13.56', '29.48', '21.10', '17.30', '–', 'ROE'], ['Exxon Mobil', 'Exxon Mobil', 'Exxon Mobil', 'Exxon Mobil', 'Exxon Mobil', 'Exxon Mobil', 'Exxon Mobil', 'Exxon Mobil', 'Exxon Mobil', 'Exxon Mobil', 'Exxon Mobil', 'Exxon Mobil', 'Exxon Mobil', 'Exxon Mobil']]\n",
      "JNJ\n"
     ]
    },
    {
     "name": "stderr",
     "output_type": "stream",
     "text": [
      " 14%|█▍        | 14/100 [01:01<04:59,  3.48s/it]"
     ]
    },
    {
     "name": "stdout",
     "output_type": "stream",
     "text": [
      "[['13.73', '12.16', '20.25', '48.35', '18.37', '13.97', '20.77', '0.00', '11.35', '8.03', '10.30', '11.00', '–', 'PE Ratio'], ['2.48', '2.19', '1.85', '2.18', '1.86', '1.47', '1.50', '1.07', '1.49', '2.17', '2.16', '2.02', '–', 'PB Ratio'], ['11245.00', '12164.00', '3854.00', '5919.00', '14664.00', '16440.00', '5355.00', '(1615.00)', '39229.00', '63637.00', '43244.00', '37965.00', '–', 'FCF'], ['6891.00', '11653.00', '19925.00', '42762.00', '42336.00', '37796.00', '48146.00', '68812.00', '49075.00', '41193.00', '–', '–', '–', 'Total Debt'], ['180495.00', '181064.00', '176810.00', '173830.00', '194500.00', '198528.00', '198938.00', '164130.00', '175683.00', '202473.00', '–', '–', '–', \"Sh' Equity\"], ['9.57', '9.34', '4.71', '2.35', '5.81', '6.00', '4.05', '(6.45)', '6.86', '15.75', '10.50', '8.67', '–', 'ROA'], ['18.50', '17.99', '9.03', '4.47', '10.70', '10.60', '7.22', '(12.36)', '13.56', '29.48', '21.10', '17.30', '–', 'ROE'], ['Exxon Mobil', 'Exxon Mobil', 'Exxon Mobil', 'Exxon Mobil', 'Exxon Mobil', 'Exxon Mobil', 'Exxon Mobil', 'Exxon Mobil', 'Exxon Mobil', 'Exxon Mobil', 'Exxon Mobil', 'Exxon Mobil', 'Exxon Mobil', 'Exxon Mobil']]\n",
      "WMT\n"
     ]
    },
    {
     "name": "stderr",
     "output_type": "stream",
     "text": [
      " 19%|█▉        | 19/100 [01:24<05:26,  4.03s/it]"
     ]
    },
    {
     "name": "stdout",
     "output_type": "stream",
     "text": [
      "[['11.83', '30.94', '37.28', '28.91', '0.00', '36.97', '14.97', '24.83', '44.99', '52.90', '41.00', '29.00', '21.70', 'PE Ratio'], ['3.12', '4.80', '6.13', '5.61', '7.64', '10.90', '45.34', '26.31', '27.40', '32.35', '22.47', '16.73', '11.59', 'PB Ratio'], ['4878.20', '3002.80', '2401.00', '3887.40', '4538.80', '4313.90', '3802.70', '5111.70', '5950.90', '5230.10', '5747.00', '8520.00', '10880.00', 'FCF'], ['4200.30', '5332.80', '7972.40', '10304.80', '13647.50', '10298.00', '15926.00', '16596.00', '16884.00', '14737.50', '–', '–', '–', 'Total Debt'], ['17640.70', '15388.10', '14590.30', '14080.50', '11667.90', '9829.00', '2607.00', '5642.00', '8979.00', '10775.40', '–', '–', '–', \"Sh' Equity\"], ['13.45', '6.68', '6.70', '7.36', '(0.49)', '7.09', '11.15', '14.42', '11.70', '12.71', '15.20', '21.40', '27.80', 'ROA'], ['28.91', '14.48', '16.07', '19.10', '(1.59)', '29.32', '74.59', '150.18', '76.36', '63.23', '67.80', '76.00', '72.40', 'ROE'], ['Eli Lilly', 'Eli Lilly', 'Eli Lilly', 'Eli Lilly', 'Eli Lilly', 'Eli Lilly', 'Eli Lilly', 'Eli Lilly', 'Eli Lilly', 'Eli Lilly', 'Eli Lilly', 'Eli Lilly', 'Eli Lilly', 'Eli Lilly']]\n",
      "HD\n"
     ]
    },
    {
     "name": "stderr",
     "output_type": "stream",
     "text": [
      " 21%|██        | 21/100 [01:32<05:03,  3.85s/it]"
     ]
    },
    {
     "name": "stdout",
     "output_type": "stream",
     "text": [
      "[['32.71', '13.22', '32.31', '28.28', '57.69', '31.43', '22.78', '28.18', '14.88', '19.46', '17.50', '13.90', '–', 'PE Ratio'], ['2.70', '3.21', '3.17', '3.94', '4.24', '7.23', '8.56', '7.77', '5.06', '6.33', '5.39', '4.44', '–', 'PB Ratio'], ['10106.00', '5672.00', '11255.00', '8762.00', '4563.00', '8307.00', '5515.00', '3188.00', '8674.00', '–', '18422.34', '20713.83', '–', 'FCF'], ['20539.00', '18699.00', '23829.00', '24842.00', '24410.00', '25114.00', '26582.00', '32082.00', '33406.00', '–', '–', '–', '–', 'Total Debt'], ['52326.00', '48791.00', '44767.00', '40308.00', '34569.00', '26882.00', '26001.00', '25404.00', '38257.00', '–', '–', '–', '–', \"Sh' Equity\"], ['4.16', '11.70', '4.45', '3.98', '2.61', '7.30', '11.79', '8.03', '13.23', '27.47', '15.40', '17.20', '–', 'ROA'], ['8.17', '23.58', '9.50', '9.22', '6.39', '20.24', '37.23', '27.50', '41.00', '0.00', '35.80', '36.20', '–', 'ROE'], ['Merck', 'Merck', 'Merck', 'Merck', 'Merck', 'Merck', 'Merck', 'Merck', 'Merck', 'Merck', 'Merck', 'Merck', 'Merck', 'Merck']]\n",
      "BAC\n"
     ]
    },
    {
     "name": "stderr",
     "output_type": "stream",
     "text": [
      " 24%|██▍       | 24/100 [01:44<04:58,  3.93s/it]"
     ]
    },
    {
     "name": "stdout",
     "output_type": "stream",
     "text": [
      "[['21.40', '26.39', '25.72', '27.87', '162.64', '31.57', '26.48', '30.47', '26.20', '28.61', '23.10', '21.60', '20.10', 'PE Ratio'], ['5.48', '6.06', '7.26', '7.77', '10.25', '10.58', '11.22', '11.07', '10.28', '10.54', '9.57', '8.38', '7.31', 'PB Ratio'], ['8103.00', '8432.00', '8060.00', '6680.00', '5399.00', '6327.00', '9395.00', '8856.00', '11366.00', '9609.00', '9939.00', '11239.00', '11840.00', 'FCF'], ['20178.00', '22615.00', '30987.00', '33211.00', '34480.00', '30379.00', '31769.00', '40610.00', '39454.00', '36776.00', '–', '–', '–', 'Total Debt'], ['33440.00', '30561.00', '25764.00', '23220.00', '18977.00', '19058.00', '21098.00', '21284.00', '24860.00', '25826.00', '–', '–', '–', \"Sh' Equity\"], ['9.74', '7.80', '8.08', '7.36', '1.42', '7.52', '10.52', '8.92', '10.76', '10.20', '12.00', '12.80', '12.90', 'ROA'], ['25.77', '22.18', '26.10', '26.65', '5.92', '33.83', '44.43', '36.56', '42.35', '37.65', '44.60', '46.60', '42.20', 'ROE'], ['Coca-Cola', 'Coca-Cola', 'Coca-Cola', 'Coca-Cola', 'Coca-Cola', 'Coca-Cola', 'Coca-Cola', 'Coca-Cola', 'Coca-Cola', 'Coca-Cola', 'Coca-Cola', 'Coca-Cola', 'Coca-Cola', 'Coca-Cola']]\n",
      "PEP\n"
     ]
    },
    {
     "name": "stderr",
     "output_type": "stream",
     "text": [
      " 25%|██▌       | 25/100 [01:47<04:22,  3.50s/it]"
     ]
    },
    {
     "name": "stdout",
     "output_type": "stream",
     "text": [
      "[['21.40', '26.39', '25.72', '27.87', '162.64', '31.57', '26.48', '30.47', '26.20', '28.61', '23.10', '21.60', '20.10', 'PE Ratio'], ['5.48', '6.06', '7.26', '7.77', '10.25', '10.58', '11.22', '11.07', '10.28', '10.54', '9.57', '8.38', '7.31', 'PB Ratio'], ['8103.00', '8432.00', '8060.00', '6680.00', '5399.00', '6327.00', '9395.00', '8856.00', '11366.00', '9609.00', '9939.00', '11239.00', '11840.00', 'FCF'], ['20178.00', '22615.00', '30987.00', '33211.00', '34480.00', '30379.00', '31769.00', '40610.00', '39454.00', '36776.00', '–', '–', '–', 'Total Debt'], ['33440.00', '30561.00', '25764.00', '23220.00', '18977.00', '19058.00', '21098.00', '21284.00', '24860.00', '25826.00', '–', '–', '–', \"Sh' Equity\"], ['9.74', '7.80', '8.08', '7.36', '1.42', '7.52', '10.52', '8.92', '10.76', '10.20', '12.00', '12.80', '12.90', 'ROA'], ['25.77', '22.18', '26.10', '26.65', '5.92', '33.83', '44.43', '36.56', '42.35', '37.65', '44.60', '46.60', '42.20', 'ROE'], ['Coca-Cola', 'Coca-Cola', 'Coca-Cola', 'Coca-Cola', 'Coca-Cola', 'Coca-Cola', 'Coca-Cola', 'Coca-Cola', 'Coca-Cola', 'Coca-Cola', 'Coca-Cola', 'Coca-Cola', 'Coca-Cola', 'Coca-Cola']]\n",
      "AVGO\n"
     ]
    },
    {
     "name": "stderr",
     "output_type": "stream",
     "text": [
      " 26%|██▌       | 26/100 [01:50<03:58,  3.22s/it]"
     ]
    },
    {
     "name": "stdout",
     "output_type": "stream",
     "text": [
      "[['21.40', '26.39', '25.72', '27.87', '162.64', '31.57', '26.48', '30.47', '26.20', '28.61', '23.10', '21.60', '20.10', 'PE Ratio'], ['5.48', '6.06', '7.26', '7.77', '10.25', '10.58', '11.22', '11.07', '10.28', '10.54', '9.57', '8.38', '7.31', 'PB Ratio'], ['8103.00', '8432.00', '8060.00', '6680.00', '5399.00', '6327.00', '9395.00', '8856.00', '11366.00', '9609.00', '9939.00', '11239.00', '11840.00', 'FCF'], ['20178.00', '22615.00', '30987.00', '33211.00', '34480.00', '30379.00', '31769.00', '40610.00', '39454.00', '36776.00', '–', '–', '–', 'Total Debt'], ['33440.00', '30561.00', '25764.00', '23220.00', '18977.00', '19058.00', '21098.00', '21284.00', '24860.00', '25826.00', '–', '–', '–', \"Sh' Equity\"], ['9.74', '7.80', '8.08', '7.36', '1.42', '7.52', '10.52', '8.92', '10.76', '10.20', '12.00', '12.80', '12.90', 'ROA'], ['25.77', '22.18', '26.10', '26.65', '5.92', '33.83', '44.43', '36.56', '42.35', '37.65', '44.60', '46.60', '42.20', 'ROE'], ['Coca-Cola', 'Coca-Cola', 'Coca-Cola', 'Coca-Cola', 'Coca-Cola', 'Coca-Cola', 'Coca-Cola', 'Coca-Cola', 'Coca-Cola', 'Coca-Cola', 'Coca-Cola', 'Coca-Cola', 'Coca-Cola', 'Coca-Cola']]\n",
      "ORCL\n"
     ]
    },
    {
     "name": "stderr",
     "output_type": "stream",
     "text": [
      " 27%|██▋       | 27/100 [01:52<03:38,  3.00s/it]"
     ]
    },
    {
     "name": "stdout",
     "output_type": "stream",
     "text": [
      "[['21.40', '26.39', '25.72', '27.87', '162.64', '31.57', '26.48', '30.47', '26.20', '28.61', '23.10', '21.60', '20.10', 'PE Ratio'], ['5.48', '6.06', '7.26', '7.77', '10.25', '10.58', '11.22', '11.07', '10.28', '10.54', '9.57', '8.38', '7.31', 'PB Ratio'], ['8103.00', '8432.00', '8060.00', '6680.00', '5399.00', '6327.00', '9395.00', '8856.00', '11366.00', '9609.00', '9939.00', '11239.00', '11840.00', 'FCF'], ['20178.00', '22615.00', '30987.00', '33211.00', '34480.00', '30379.00', '31769.00', '40610.00', '39454.00', '36776.00', '–', '–', '–', 'Total Debt'], ['33440.00', '30561.00', '25764.00', '23220.00', '18977.00', '19058.00', '21098.00', '21284.00', '24860.00', '25826.00', '–', '–', '–', \"Sh' Equity\"], ['9.74', '7.80', '8.08', '7.36', '1.42', '7.52', '10.52', '8.92', '10.76', '10.20', '12.00', '12.80', '12.90', 'ROA'], ['25.77', '22.18', '26.10', '26.65', '5.92', '33.83', '44.43', '36.56', '42.35', '37.65', '44.60', '46.60', '42.20', 'ROE'], ['Coca-Cola', 'Coca-Cola', 'Coca-Cola', 'Coca-Cola', 'Coca-Cola', 'Coca-Cola', 'Coca-Cola', 'Coca-Cola', 'Coca-Cola', 'Coca-Cola', 'Coca-Cola', 'Coca-Cola', 'Coca-Cola', 'Coca-Cola']]\n",
      "PFE\n"
     ]
    },
    {
     "name": "stderr",
     "output_type": "stream",
     "text": [
      " 30%|███       | 30/100 [02:04<04:06,  3.52s/it]"
     ]
    },
    {
     "name": "stdout",
     "output_type": "stream",
     "text": [
      "[['31.45', '26.32', '28.66', '28.01', '34.16', '30.66', '35.16', '28.95', '34.03', '31.15', '29.90', '25.10', '–', 'PE Ratio'], ['2.38', '2.43', '2.65', '2.63', '3.00', '3.26', '4.38', '5.34', '6.43', '4.91', '4.48', '4.21', '–', 'PB Ratio'], ['1749.00', '2241.30', '2537.00', '2840.00', '3504.00', '3835.00', '4083.00', '6823.00', '6809.00', '6935.00', '6983.00', '9325.00', '–', 'FCF'], ['9499.60', '12351.60', '11420.20', '16628.00', '21008.00', '18990.00', '17919.00', '21919.00', '35136.00', '34488.00', '–', '–', '–', 'Total Debt'], ['16856.10', '20548.10', '21350.20', '21540.00', '25413.00', '27586.00', '29675.00', '34517.00', '40855.00', '44032.00', '–', '–', '–', \"Sh' Equity\"], ['4.29', '5.07', '4.72', '4.66', '4.34', '5.20', '6.45', '10.01', '9.41', '7.22', '9.70', '10.50', '–', 'ROA'], ['7.88', '10.13', '9.43', '9.43', '9.48', '11.09', '12.91', '19.86', '20.50', '16.37', '19.90', '21.80', '–', 'ROE'], ['Thermo Fisher Scientific', 'Thermo Fisher Scientific', 'Thermo Fisher Scientific', 'Thermo Fisher Scientific', 'Thermo Fisher Scientific', 'Thermo Fisher Scientific', 'Thermo Fisher Scientific', 'Thermo Fisher Scientific', 'Thermo Fisher Scientific', 'Thermo Fisher Scientific', 'Thermo Fisher Scientific', 'Thermo Fisher Scientific', 'Thermo Fisher Scientific', 'Thermo Fisher Scientific']]\n",
      "CSCO\n"
     ]
    },
    {
     "name": "stderr",
     "output_type": "stream",
     "text": [
      " 46%|████▌     | 46/100 [03:25<03:59,  4.43s/it]"
     ]
    },
    {
     "name": "stdout",
     "output_type": "stream",
     "text": [
      "[['33.33', '31.45', '31.66', '30.23', '31.56', '16.81', '17.75', '25.02', '29.61', '23.28', '16.90', '14.60', '–', 'PE Ratio'], ['3.51', '3.60', '3.63', '3.90', '4.38', '3.13', '3.29', '1.57', '3.43', '4.17', '3.11', '2.86', '–', 'PB Ratio'], ['1407.00', '1948.00', '980.00', '3257.00', '(1239.00)', '11886.00', '8617.00', '6221.00', '1202.00', '–', '6253.00', '15768.00', '–', 'FCF'], ['1903.00', '1899.00', '2877.00', '3134.00', '20661.00', '6886.00', '8258.00', '15616.00', '24996.00', '–', '–', '–', '–', 'Total Debt'], ['10381.00', '11803.00', '13402.00', '16421.00', '18525.00', '20670.00', '21745.00', '56060.00', '56261.00', '–', '–', '–', '–', \"Sh' Equity\"], ['0.73', '0.85', '0.81', '0.86', '0.93', '1.23', '1.19', '0.72', '0.88', '1.99', '1.10', '1.40', '–', 'ROA'], ['11.08', '12.34', '11.93', '13.65', '14.85', '19.81', '19.15', '9.05', '11.33', '0.00', '21.60', '22.70', '–', 'ROE'], ['Charles Schwab', 'Charles Schwab', 'Charles Schwab', 'Charles Schwab', 'Charles Schwab', 'Charles Schwab', 'Charles Schwab', 'Charles Schwab', 'Charles Schwab', 'Charles Schwab', 'Charles Schwab', 'Charles Schwab', 'Charles Schwab', 'Charles Schwab']]\n",
      "BMY\n"
     ]
    },
    {
     "name": "stderr",
     "output_type": "stream",
     "text": [
      " 65%|██████▌   | 65/100 [05:04<02:47,  4.78s/it]"
     ]
    },
    {
     "name": "stdout",
     "output_type": "stream",
     "text": [
      "[['22.67', '17.40', '19.23', '20.25', '21.76', '17.85', '0.00', '0.00', '0.00', '0.00', '20.40', '13.60', '–', 'PE Ratio'], ['6.91', '10.76', '15.53', '113.75', '104.41', '455.59', '0.00', '0.00', '0.00', '0.00', '(7.86)', '(14.59)', '–', 'PB Ratio'], ['5992.00', '6656.00', '6955.00', '7921.00', '11568.00', '13651.00', '(4073.00)', '(19417.00)', '(3867.00)', '2325.00', '6840.00', '10342.00', '–', 'FCF'], ['9635.00', '9070.00', '9964.00', '9952.00', '11117.00', '13847.00', '27302.00', '63583.00', '58102.00', '57001.00', '–', '–', '–', 'Total Debt'], ['14997.00', '8790.00', '6397.00', '877.00', '1713.00', '410.00', '(8300.00)', '(18075.00)', '(14846.00)', '(15848.00)', '–', '–', '–', \"Sh' Equity\"], ['5.04', '5.86', '5.52', '5.46', '8.35', '9.10', '(0.51)', '(8.31)', '(2.89)', '(3.58)', '2.70', '4.60', '–', 'ROA'], ['43.67', '45.74', '68.11', '138.33', '652.66', '984.74', '16.12', '90.03', '25.53', '32.16', '0.00', '0.00', '–', 'ROE'], ['Boeing', 'Boeing', 'Boeing', 'Boeing', 'Boeing', 'Boeing', 'Boeing', 'Boeing', 'Boeing', 'Boeing', 'Boeing', 'Boeing', 'Boeing', 'Boeing']]\n",
      "INTU\n"
     ]
    },
    {
     "name": "stderr",
     "output_type": "stream",
     "text": [
      " 66%|██████▌   | 66/100 [05:07<02:23,  4.22s/it]"
     ]
    },
    {
     "name": "stdout",
     "output_type": "stream",
     "text": [
      "[['22.67', '17.40', '19.23', '20.25', '21.76', '17.85', '0.00', '0.00', '0.00', '0.00', '20.40', '13.60', '–', 'PE Ratio'], ['6.91', '10.76', '15.53', '113.75', '104.41', '455.59', '0.00', '0.00', '0.00', '0.00', '(7.86)', '(14.59)', '–', 'PB Ratio'], ['5992.00', '6656.00', '6955.00', '7921.00', '11568.00', '13651.00', '(4073.00)', '(19417.00)', '(3867.00)', '2325.00', '6840.00', '10342.00', '–', 'FCF'], ['9635.00', '9070.00', '9964.00', '9952.00', '11117.00', '13847.00', '27302.00', '63583.00', '58102.00', '57001.00', '–', '–', '–', 'Total Debt'], ['14997.00', '8790.00', '6397.00', '877.00', '1713.00', '410.00', '(8300.00)', '(18075.00)', '(14846.00)', '(15848.00)', '–', '–', '–', \"Sh' Equity\"], ['5.04', '5.86', '5.52', '5.46', '8.35', '9.10', '(0.51)', '(8.31)', '(2.89)', '(3.58)', '2.70', '4.60', '–', 'ROA'], ['43.67', '45.74', '68.11', '138.33', '652.66', '984.74', '16.12', '90.03', '25.53', '32.16', '0.00', '0.00', '–', 'ROE'], ['Boeing', 'Boeing', 'Boeing', 'Boeing', 'Boeing', 'Boeing', 'Boeing', 'Boeing', 'Boeing', 'Boeing', 'Boeing', 'Boeing', 'Boeing', 'Boeing']]\n",
      "IBM\n"
     ]
    },
    {
     "name": "stderr",
     "output_type": "stream",
     "text": [
      " 68%|██████▊   | 68/100 [05:15<02:09,  4.04s/it]"
     ]
    },
    {
     "name": "stdout",
     "output_type": "stream",
     "text": [
      "[['34.06', '27.85', '31.23', '28.49', '27.31', '17.31', '30.18', '111.58', '31.07', '29.88', '30.60', '25.30', '21.50', 'PE Ratio'], ['12.87', '10.78', '14.61', '13.53', '14.29', '65.36', '0.00', '0.00', '0.00', '0.00', '(14.34)', '(12.79)', '(10.10)', 'PB Ratio'], ['1757.10', '(553.10)', '2454.30', '3257.60', '2732.40', '9961.40', '3240.40', '114.20', '4519.10', '2556.00', '3620.00', '4177.00', '4853.00', 'FCF'], ['1299.40', '2048.30', '2347.50', '3585.20', '3936.60', '9440.10', '11172.00', '15909.50', '14615.80', '15043.90', '–', '–', '–', 'Total Debt'], ['4482.30', '5273.70', '5819.80', '5890.70', '5457.00', '1175.80', '(6231.00)', '(7799.40)', '(5314.50)', '(8698.70)', '–', '–', '–', \"Sh' Equity\"], ['0.08', '18.57', '23.80', '21.08', '20.12', '23.46', '16.60', '3.82', '13.82', '11.05', '17.00', '19.20', '16.10', 'ROA'], ['0.17', '42.40', '49.71', '48.12', '50.84', '136.24', '(142.40)', '(13.23)', '(64.04)', '(46.84)', '0.00', '0.00', '0.00', 'ROE'], ['Starbucks', 'Starbucks', 'Starbucks', 'Starbucks', 'Starbucks', 'Starbucks', 'Starbucks', 'Starbucks', 'Starbucks', 'Starbucks', 'Starbucks', 'Starbucks', 'Starbucks', 'Starbucks']]\n",
      "ELV\n"
     ]
    },
    {
     "name": "stderr",
     "output_type": "stream",
     "text": [
      " 69%|██████▉   | 69/100 [05:18<01:50,  3.58s/it]"
     ]
    },
    {
     "name": "stdout",
     "output_type": "stream",
     "text": [
      "[['34.06', '27.85', '31.23', '28.49', '27.31', '17.31', '30.18', '111.58', '31.07', '29.88', '30.60', '25.30', '21.50', 'PE Ratio'], ['12.87', '10.78', '14.61', '13.53', '14.29', '65.36', '0.00', '0.00', '0.00', '0.00', '(14.34)', '(12.79)', '(10.10)', 'PB Ratio'], ['1757.10', '(553.10)', '2454.30', '3257.60', '2732.40', '9961.40', '3240.40', '114.20', '4519.10', '2556.00', '3620.00', '4177.00', '4853.00', 'FCF'], ['1299.40', '2048.30', '2347.50', '3585.20', '3936.60', '9440.10', '11172.00', '15909.50', '14615.80', '15043.90', '–', '–', '–', 'Total Debt'], ['4482.30', '5273.70', '5819.80', '5890.70', '5457.00', '1175.80', '(6231.00)', '(7799.40)', '(5314.50)', '(8698.70)', '–', '–', '–', \"Sh' Equity\"], ['0.08', '18.57', '23.80', '21.08', '20.12', '23.46', '16.60', '3.82', '13.82', '11.05', '17.00', '19.20', '16.10', 'ROA'], ['0.17', '42.40', '49.71', '48.12', '50.84', '136.24', '(142.40)', '(13.23)', '(64.04)', '(46.84)', '0.00', '0.00', '0.00', 'ROE'], ['Starbucks', 'Starbucks', 'Starbucks', 'Starbucks', 'Starbucks', 'Starbucks', 'Starbucks', 'Starbucks', 'Starbucks', 'Starbucks', 'Starbucks', 'Starbucks', 'Starbucks', 'Starbucks']]\n",
      "SPGI\n"
     ]
    },
    {
     "name": "stderr",
     "output_type": "stream",
     "text": [
      " 91%|█████████ | 91/100 [07:42<00:56,  6.25s/it]"
     ]
    },
    {
     "name": "stdout",
     "output_type": "stream",
     "text": [
      "[['13.98', '12.50', '14.79', '20.07', '20.35', '13.56', '10.72', '10.19', '18.04', '91.01', '14.90', '–', '–', 'PE Ratio'], ['2.64', '2.30', '2.55', '2.60', '3.46', '3.40', '3.21', '3.50', '3.38', '5.33', '2.25', '–', '–', 'PB Ratio'], ['1763.20', '1623.40', '2172.80', '2523.90', '3616.40', '6028.20', '5951.40', '6704.00', '7584.40', '–', '0.00', '–', '–', 'FCF'], ['1860.90', '2164.70', '2707.90', '3148.20', '3306.30', '4404.90', '4407.10', '5396.10', '4898.80', '6388.30', '–', '–', '–', 'Total Debt'], ['6189.50', '6928.60', '7289.40', '7957.10', '9284.80', '10821.80', '13673.20', '17038.60', '18231.60', '15891.00', '–', '–', '–', \"Sh' Equity\"], ['4.95', '5.10', '4.56', '3.26', '4.41', '6.08', '7.77', '9.54', '4.92', '0.95', '0.00', '–', '–', 'ROA'], ['19.11', '19.53', '17.83', '13.52', '18.47', '26.45', '33.55', '38.20', '19.39', '0.00', '16.20', '–', '–', 'ROE'], ['Progressive', 'Progressive', 'Progressive', 'Progressive', 'Progressive', 'Progressive', 'Progressive', 'Progressive', 'Progressive', 'Progressive', 'Progressive', 'Progressive', 'Progressive', 'Progressive']]\n",
      "REGN\n"
     ]
    },
    {
     "name": "stderr",
     "output_type": "stream",
     "text": [
      " 93%|█████████▎| 93/100 [07:52<00:38,  5.49s/it]"
     ]
    },
    {
     "name": "stdout",
     "output_type": "stream",
     "text": [
      "[['22.46', '46.24', '34.43', '33.51', '63.45', '48.23', '49.43', '90.30', '75.06', '71.41', '57.50', '47.80', '39.80', 'PE Ratio'], ['4.30', '5.78', '4.69', '4.25', '8.77', '8.14', '8.23', '9.81', '10.71', '8.50', '5.70', '4.77', '4.14', 'PB Ratio'], ['775.40', '559.50', '725.20', '1033.10', '953.20', '982.20', '1172.60', '1143.30', '1749.90', '958.40', '1864.00', '2223.00', '2652.00', 'FCF'], ['–', '–', '–', '–', '–', '–', '77.00', '80.00', '87.00', '94.00', '–', '–', '–', 'Total Debt'], ['3501.40', '3379.40', '4319.50', '5777.80', '4780.40', '6687.50', '8284.70', '9759.10', '11951.50', '11112.60', '–', '–', '–', \"Sh' Equity\"], ['16.76', '10.59', '13.28', '12.96', '10.94', '16.56', '15.69', '10.15', '13.79', '9.97', '12.80', '13.40', '13.60', 'ROA'], ['18.95', '12.17', '15.30', '14.62', '12.71', '19.67', '18.42', '11.76', '15.70', '11.47', '14.40', '14.80', '15.50', 'ROE'], ['Intuitive Surgical', 'Intuitive Surgical', 'Intuitive Surgical', 'Intuitive Surgical', 'Intuitive Surgical', 'Intuitive Surgical', 'Intuitive Surgical', 'Intuitive Surgical', 'Intuitive Surgical', 'Intuitive Surgical', 'Intuitive Surgical', 'Intuitive Surgical', 'Intuitive Surgical', 'Intuitive Surgical']]\n",
      "MMC\n"
     ]
    },
    {
     "name": "stderr",
     "output_type": "stream",
     "text": [
      " 96%|█████████▌| 96/100 [08:07<00:19,  4.80s/it]"
     ]
    },
    {
     "name": "stdout",
     "output_type": "stream",
     "text": [
      "[['32.37', '37.09', '70.47', '32.48', '40.78', '29.00', '42.15', '48.11', '56.75', '33.38', '35.40', '30.30', '–', 'PE Ratio'], ['16.99', '16.13', '21.95', '17.72', '19.69', '18.91', '23.37', '20.86', '25.47', '15.64', '11.78', '9.32', '–', 'PB Ratio'], ['506.00', '440.00', '442.00', '587.00', '1159.00', '1508.00', '1356.00', '1694.00', '1738.00', '1327.00', '2648.00', '2970.00', '–', 'FCF'], ['3657.00', '3631.00', '4868.00', '4468.00', '4953.00', '6452.00', '6447.00', '7199.00', '6633.00', '7904.00', '–', '–', '–', 'Total Debt'], ['962.00', '1337.00', '1091.00', '1499.00', '1786.00', '2185.00', '2708.00', '3773.00', '4544.00', '4403.00', '–', '–', '–', \"Sh' Equity\"], ['7.86', '8.87', '4.68', '10.55', '10.64', '14.75', '13.44', '13.02', '14.81', '14.67', '17.30', '18.70', '–', 'ROA'], ['20.15', '50.72', '27.92', '63.40', '52.60', '71.92', '61.31', '50.55', '48.98', '47.26', '41.20', '36.50', '–', 'ROE'], ['Zoetis', 'Zoetis', 'Zoetis', 'Zoetis', 'Zoetis', 'Zoetis', 'Zoetis', 'Zoetis', 'Zoetis', 'Zoetis', 'Zoetis', 'Zoetis', 'Zoetis', 'Zoetis']]\n",
      "TGT\n"
     ]
    },
    {
     "name": "stderr",
     "output_type": "stream",
     "text": [
      " 97%|█████████▋| 97/100 [08:10<00:12,  4.28s/it]"
     ]
    },
    {
     "name": "stdout",
     "output_type": "stream",
     "text": [
      "[['32.37', '37.09', '70.47', '32.48', '40.78', '29.00', '42.15', '48.11', '56.75', '33.38', '35.40', '30.30', '–', 'PE Ratio'], ['16.99', '16.13', '21.95', '17.72', '19.69', '18.91', '23.37', '20.86', '25.47', '15.64', '11.78', '9.32', '–', 'PB Ratio'], ['506.00', '440.00', '442.00', '587.00', '1159.00', '1508.00', '1356.00', '1694.00', '1738.00', '1327.00', '2648.00', '2970.00', '–', 'FCF'], ['3657.00', '3631.00', '4868.00', '4468.00', '4953.00', '6452.00', '6447.00', '7199.00', '6633.00', '7904.00', '–', '–', '–', 'Total Debt'], ['962.00', '1337.00', '1091.00', '1499.00', '1786.00', '2185.00', '2708.00', '3773.00', '4544.00', '4403.00', '–', '–', '–', \"Sh' Equity\"], ['7.86', '8.87', '4.68', '10.55', '10.64', '14.75', '13.44', '13.02', '14.81', '14.67', '17.30', '18.70', '–', 'ROA'], ['20.15', '50.72', '27.92', '63.40', '52.60', '71.92', '61.31', '50.55', '48.98', '47.26', '41.20', '36.50', '–', 'ROE'], ['Zoetis', 'Zoetis', 'Zoetis', 'Zoetis', 'Zoetis', 'Zoetis', 'Zoetis', 'Zoetis', 'Zoetis', 'Zoetis', 'Zoetis', 'Zoetis', 'Zoetis', 'Zoetis']]\n",
      "SLB\n"
     ]
    },
    {
     "name": "stderr",
     "output_type": "stream",
     "text": [
      " 99%|█████████▉| 99/100 [08:19<00:04,  4.19s/it]"
     ]
    },
    {
     "name": "stdout",
     "output_type": "stream",
     "text": [
      "[['18.35', '31.41', '17.67', '24.83', '19.09', '23.01', '17.99', '52.92', '21.19', '31.14', '17.10', '16.00', '–', 'PE Ratio'], ['1.18', '1.44', '1.25', '1.31', '1.40', '1.39', '1.45', '1.43', '1.64', '1.60', '1.44', '1.45', '–', 'PB Ratio'], ['856.00', '1202.00', '(66.00)', '(1038.00)', '(1428.00)', '(2203.00)', '(2913.00)', '(1051.00)', '(1425.00)', '5927.00', '(2431.00)', '(1495.00)', '–', 'FCF'], ['40256.00', '39868.00', '38868.00', '47895.00', '52279.00', '54529.00', '58126.00', '59863.00', '63835.00', '71215.00', '–', '–', '–', 'Total Debt'], ['41408.00', '40899.00', '39771.00', '41041.00', '41737.00', '43834.00', '47951.00', '49184.00', '51136.00', '51986.00', '–', '–', '–', \"Sh' Equity\"], ['2.33', '1.60', '2.33', '1.70', '2.26', '1.88', '2.44', '0.79', '2.29', '1.47', '2.50', '2.58', '–', 'ROA'], ['6.47', '4.58', '6.98', '5.33', '7.39', '6.23', '8.25', '2.73', '7.89', '5.17', '8.82', '9.26', '–', 'ROE'], ['Duke Energy', 'Duke Energy', 'Duke Energy', 'Duke Energy', 'Duke Energy', 'Duke Energy', 'Duke Energy', 'Duke Energy', 'Duke Energy', 'Duke Energy', 'Duke Energy', 'Duke Energy', 'Duke Energy', 'Duke Energy']]\n",
      "VRTX\n"
     ]
    },
    {
     "name": "stderr",
     "output_type": "stream",
     "text": [
      "100%|██████████| 100/100 [08:22<00:00,  5.03s/it]"
     ]
    },
    {
     "name": "stdout",
     "output_type": "stream",
     "text": [
      "[['18.35', '31.41', '17.67', '24.83', '19.09', '23.01', '17.99', '52.92', '21.19', '31.14', '17.10', '16.00', '–', 'PE Ratio'], ['1.18', '1.44', '1.25', '1.31', '1.40', '1.39', '1.45', '1.43', '1.64', '1.60', '1.44', '1.45', '–', 'PB Ratio'], ['856.00', '1202.00', '(66.00)', '(1038.00)', '(1428.00)', '(2203.00)', '(2913.00)', '(1051.00)', '(1425.00)', '5927.00', '(2431.00)', '(1495.00)', '–', 'FCF'], ['40256.00', '39868.00', '38868.00', '47895.00', '52279.00', '54529.00', '58126.00', '59863.00', '63835.00', '71215.00', '–', '–', '–', 'Total Debt'], ['41408.00', '40899.00', '39771.00', '41041.00', '41737.00', '43834.00', '47951.00', '49184.00', '51136.00', '51986.00', '–', '–', '–', \"Sh' Equity\"], ['2.33', '1.60', '2.33', '1.70', '2.26', '1.88', '2.44', '0.79', '2.29', '1.47', '2.50', '2.58', '–', 'ROA'], ['6.47', '4.58', '6.98', '5.33', '7.39', '6.23', '8.25', '2.73', '7.89', '5.17', '8.82', '9.26', '–', 'ROE'], ['Duke Energy', 'Duke Energy', 'Duke Energy', 'Duke Energy', 'Duke Energy', 'Duke Energy', 'Duke Energy', 'Duke Energy', 'Duke Energy', 'Duke Energy', 'Duke Energy', 'Duke Energy', 'Duke Energy', 'Duke Energy']]\n",
      "USB\n"
     ]
    },
    {
     "name": "stderr",
     "output_type": "stream",
     "text": [
      "\n"
     ]
    }
   ],
   "source": [
    "from tqdm import tqdm\n",
    "url_base = 'https://stockrow.com/'\n",
    "code_error = 0 #문제 발생하면 체크\n",
    "key_index_list = [6, 8, 19, 21, 22, 23, 25] #PER, PBR, ROE, ROA, FCF, Sh Equity, Debt\n",
    "data_list = [] #종목별 중간 데이터\n",
    "usa_df = [] #최종 데이터\n",
    "\n",
    "for each_company in tqdm(code[:]): #code : ticker of top 100 companies\n",
    "    # if  len(usa_df) <= 1:\n",
    "        driver.get(url_base + each_company) #데이터 접근\n",
    "        time.sleep(2)\n",
    "\n",
    "        try:\n",
    "            table = driver.find_element(By.CLASS_NAME, 'fundamentals') #전체 테이블\n",
    "            table_rows = table.find_elements(By.TAG_NAME, 'tr')\n",
    "\n",
    "            for key_index in key_index_list: #각각의 지표\n",
    "                raw_data = table_rows[key_index].find_elements(By.TAG_NAME, 'td') #해당 지표의 값 \n",
    "                tag_list = [] #데이터 가공을 위한 비어있느 리스트\n",
    "\n",
    "\n",
    "                # replacing , or %\n",
    "                if key_index not in [23, 25]:\n",
    "                    for tag in raw_data:\n",
    "                        tag_list.append(tag.text.replace(\",\",''))\n",
    "                    data_list.append(tag_list)\n",
    "\n",
    "                else:\n",
    "                    for tag in raw_data:\n",
    "                        tag_list.append(tag.text.replace('%',''))\n",
    "                    data_list.append(tag_list)      \n",
    "            \n",
    "\n",
    "            # company_name_code add\n",
    "            company_name_list = [] #회사 이름\n",
    "            real_company_name = df_ticker_list.loc[each_company][0]\n",
    "            for i in range(14): #데이터 shape을 맞추기 위하여 2013~2025 + 지표이름\n",
    "                company_name_list.append(real_company_name)\n",
    "                \n",
    "            data_list.append(company_name_list)\n",
    "            \n",
    "            usa_df.append(data_list) #하나의 회사에 대한 데이터\n",
    "            data_list = [] #다음 회사를 위한 초기화\n",
    "            time.sleep(0.1)\n",
    "\n",
    "        except:\n",
    "            print(usa_df[-1])\n",
    "            code_error += 1\n",
    "            print(each_company)\n",
    "        \n",
    "    # else:\n",
    "    #     break"
   ]
  },
  {
   "cell_type": "code",
   "execution_count": 12,
   "metadata": {},
   "outputs": [
    {
     "data": {
      "text/html": [
       "<div>\n",
       "<style scoped>\n",
       "    .dataframe tbody tr th:only-of-type {\n",
       "        vertical-align: middle;\n",
       "    }\n",
       "\n",
       "    .dataframe tbody tr th {\n",
       "        vertical-align: top;\n",
       "    }\n",
       "\n",
       "    .dataframe thead th {\n",
       "        text-align: right;\n",
       "    }\n",
       "</style>\n",
       "<table border=\"1\" class=\"dataframe\">\n",
       "  <thead>\n",
       "    <tr style=\"text-align: right;\">\n",
       "      <th></th>\n",
       "      <th>0</th>\n",
       "      <th>1</th>\n",
       "      <th>2</th>\n",
       "      <th>3</th>\n",
       "      <th>4</th>\n",
       "      <th>5</th>\n",
       "      <th>6</th>\n",
       "      <th>7</th>\n",
       "    </tr>\n",
       "  </thead>\n",
       "  <tbody>\n",
       "    <tr>\n",
       "      <th>0</th>\n",
       "      <td>[11.95, 15.56, 11.93, 13.59, 16.63, 18.99, 18....</td>\n",
       "      <td>[3.57, 5.50, 5.32, 4.82, 5.99, 10.51, 11.43, 3...</td>\n",
       "      <td>[44590.00, 49900.00, 69778.00, 53200.00, 51774...</td>\n",
       "      <td>[16960.00, 35295.00, 64328.00, 87032.00, 11568...</td>\n",
       "      <td>[123549.00, 111547.00, 119355.00, 128249.00, 1...</td>\n",
       "      <td>[19.34, 18.01, 20.45, 14.93, 13.87, 16.07, 15....</td>\n",
       "      <td>[30.64, 33.61, 46.25, 36.90, 36.87, 49.36, 55....</td>\n",
       "      <td>[Apple, Apple, Apple, Apple, Apple, Apple, App...</td>\n",
       "    </tr>\n",
       "    <tr>\n",
       "      <th>1</th>\n",
       "      <td>[13.22, 15.68, 30.03, 24.48, 25.25, 46.73, 26....</td>\n",
       "      <td>[3.65, 3.85, 4.51, 5.63, 6.09, 9.31, 10.17, 13...</td>\n",
       "      <td>[24576.00, 27017.00, 23724.00, 24982.00, 31378...</td>\n",
       "      <td>[15600.00, 22645.00, 35292.00, 53461.00, 86194...</td>\n",
       "      <td>[78944.00, 89784.00, 80083.00, 71997.00, 87711...</td>\n",
       "      <td>[16.58, 14.02, 7.03, 11.16, 11.49, 6.51, 14.39...</td>\n",
       "      <td>[30.09, 26.17, 14.36, 27.01, 31.92, 19.45, 42....</td>\n",
       "      <td>[Microsoft, Microsoft, Microsoft, Microsoft, M...</td>\n",
       "    </tr>\n",
       "    <tr>\n",
       "      <th>2</th>\n",
       "      <td>[14.41, 24.65, 32.68, 27.86, 58.45, 23.42, 26....</td>\n",
       "      <td>[4.26, 3.42, 4.32, 3.89, 4.84, 4.05, 4.60, 5.3...</td>\n",
       "      <td>[11301.00, 12065.00, 16657.00, 26064.00, 23907...</td>\n",
       "      <td>[2236.00, 3228.00, 1995.00, 3935.00, 3969.00, ...</td>\n",
       "      <td>[87309.00, 103860.00, 120331.00, 139036.00, 15...</td>\n",
       "      <td>[12.44, 11.77, 11.44, 12.37, 6.94, 14.29, 13.5...</td>\n",
       "      <td>[16.01, 14.79, 14.12, 15.02, 8.69, 18.62, 18.1...</td>\n",
       "      <td>[Alphabet (Google), Alphabet (Google), Alphabe...</td>\n",
       "    </tr>\n",
       "    <tr>\n",
       "      <th>3</th>\n",
       "      <td>[675.93, 0.00, 527.97, 150.72, 188.43, 72.70, ...</td>\n",
       "      <td>[18.70, 13.35, 23.58, 18.52, 20.60, 16.80, 14....</td>\n",
       "      <td>[2031.00, 1949.00, 7450.00, 10466.00, 8307.00,...</td>\n",
       "      <td>[3191.00, 8265.00, 8227.00, 12891.00, 30925.00...</td>\n",
       "      <td>[9746.00, 10741.00, 13384.00, 19285.00, 27709....</td>\n",
       "      <td>[0.75, (0.51), 1.00, 3.20, 2.83, 6.85, 5.97, 7...</td>\n",
       "      <td>[3.05, (2.35), 4.94, 14.52, 12.91, 28.27, 21.9...</td>\n",
       "      <td>[Amazon, Amazon, Amazon, Amazon, Amazon, Amazo...</td>\n",
       "    </tr>\n",
       "    <tr>\n",
       "      <th>4</th>\n",
       "      <td>[0.00, 0.00, 0.00, 0.00, 0.00, 0.00, 0.00, 966...</td>\n",
       "      <td>[26.93, 30.39, 28.39, 5.65, 10.17, 9.86, 9.94,...</td>\n",
       "      <td>[0.58, (1027.22), (2159.35), (1404.63), (3476....</td>\n",
       "      <td>[598.97, 2488.08, 2696.30, 7029.27, 10314.94, ...</td>\n",
       "      <td>[667.12, 911.71, 1083.70, 5538.09, 5234.59, 49...</td>\n",
       "      <td>[(4.19), (7.13), (12.79), (4.39), (7.65), (3.3...</td>\n",
       "      <td>[(18.69), (37.25), (89.07), (20.38), (36.43), ...</td>\n",
       "      <td>[Tesla, Tesla, Tesla, Tesla, Tesla, Tesla, Tes...</td>\n",
       "    </tr>\n",
       "    <tr>\n",
       "      <th>...</th>\n",
       "      <td>...</td>\n",
       "      <td>...</td>\n",
       "      <td>...</td>\n",
       "      <td>...</td>\n",
       "      <td>...</td>\n",
       "      <td>...</td>\n",
       "      <td>...</td>\n",
       "      <td>...</td>\n",
       "    </tr>\n",
       "    <tr>\n",
       "      <th>72</th>\n",
       "      <td>[13.98, 12.50, 14.79, 20.07, 20.35, 13.56, 10....</td>\n",
       "      <td>[2.64, 2.30, 2.55, 2.60, 3.46, 3.40, 3.21, 3.5...</td>\n",
       "      <td>[1763.20, 1623.40, 2172.80, 2523.90, 3616.40, ...</td>\n",
       "      <td>[1860.90, 2164.70, 2707.90, 3148.20, 3306.30, ...</td>\n",
       "      <td>[6189.50, 6928.60, 7289.40, 7957.10, 9284.80, ...</td>\n",
       "      <td>[4.95, 5.10, 4.56, 3.26, 4.41, 6.08, 7.77, 9.5...</td>\n",
       "      <td>[19.11, 19.53, 17.83, 13.52, 18.47, 26.45, 33....</td>\n",
       "      <td>[Progressive, Progressive, Progressive, Progre...</td>\n",
       "    </tr>\n",
       "    <tr>\n",
       "      <th>73</th>\n",
       "      <td>[22.46, 46.24, 34.43, 33.51, 63.45, 48.23, 49....</td>\n",
       "      <td>[4.30, 5.78, 4.69, 4.25, 8.77, 8.14, 8.23, 9.8...</td>\n",
       "      <td>[775.40, 559.50, 725.20, 1033.10, 953.20, 982....</td>\n",
       "      <td>[–, –, –, –, –, –, 77.00, 80.00, 87.00, 94.00,...</td>\n",
       "      <td>[3501.40, 3379.40, 4319.50, 5777.80, 4780.40, ...</td>\n",
       "      <td>[16.76, 10.59, 13.28, 12.96, 10.94, 16.56, 15....</td>\n",
       "      <td>[18.95, 12.17, 15.30, 14.62, 12.71, 19.67, 18....</td>\n",
       "      <td>[Intuitive Surgical, Intuitive Surgical, Intui...</td>\n",
       "    </tr>\n",
       "    <tr>\n",
       "      <th>74</th>\n",
       "      <td>[–, –, –, –, 0.00, 0.00, 0.00, 0.00, 0.00, 28....</td>\n",
       "      <td>[–, –, –, –, 0.00, 0.00, 0.00, 17.49, 21.48, 9...</td>\n",
       "      <td>[–, –, –, –, 151.02, 504.93, 97.28, (777.00), ...</td>\n",
       "      <td>[–, –, –, –, –, 3232.00, 3651.00, 1882.56, 204...</td>\n",
       "      <td>[–, –, –, –, 0.00, (517.31), (807.68), 2901.78...</td>\n",
       "      <td>[–, –, –, –, (2.12), (0.51), (9.04), (48.77), ...</td>\n",
       "      <td>[–, –, –, –, 0.00, 2.54, 101.79, (437.90), (9....</td>\n",
       "      <td>[Airbnb, Airbnb, Airbnb, Airbnb, Airbnb, Airbn...</td>\n",
       "    </tr>\n",
       "    <tr>\n",
       "      <th>75</th>\n",
       "      <td>[32.37, 37.09, 70.47, 32.48, 40.78, 29.00, 42....</td>\n",
       "      <td>[16.99, 16.13, 21.95, 17.72, 19.69, 18.91, 23....</td>\n",
       "      <td>[506.00, 440.00, 442.00, 587.00, 1159.00, 1508...</td>\n",
       "      <td>[3657.00, 3631.00, 4868.00, 4468.00, 4953.00, ...</td>\n",
       "      <td>[962.00, 1337.00, 1091.00, 1499.00, 1786.00, 2...</td>\n",
       "      <td>[7.86, 8.87, 4.68, 10.55, 10.64, 14.75, 13.44,...</td>\n",
       "      <td>[20.15, 50.72, 27.92, 63.40, 52.60, 71.92, 61....</td>\n",
       "      <td>[Zoetis, Zoetis, Zoetis, Zoetis, Zoetis, Zoeti...</td>\n",
       "    </tr>\n",
       "    <tr>\n",
       "      <th>76</th>\n",
       "      <td>[18.35, 31.41, 17.67, 24.83, 19.09, 23.01, 17....</td>\n",
       "      <td>[1.18, 1.44, 1.25, 1.31, 1.40, 1.39, 1.45, 1.4...</td>\n",
       "      <td>[856.00, 1202.00, (66.00), (1038.00), (1428.00...</td>\n",
       "      <td>[40256.00, 39868.00, 38868.00, 47895.00, 52279...</td>\n",
       "      <td>[41408.00, 40899.00, 39771.00, 41041.00, 41737...</td>\n",
       "      <td>[2.33, 1.60, 2.33, 1.70, 2.26, 1.88, 2.44, 0.7...</td>\n",
       "      <td>[6.47, 4.58, 6.98, 5.33, 7.39, 6.23, 8.25, 2.7...</td>\n",
       "      <td>[Duke Energy, Duke Energy, Duke Energy, Duke E...</td>\n",
       "    </tr>\n",
       "  </tbody>\n",
       "</table>\n",
       "<p>77 rows × 8 columns</p>\n",
       "</div>"
      ],
      "text/plain": [
       "                                                    0  \\\n",
       "0   [11.95, 15.56, 11.93, 13.59, 16.63, 18.99, 18....   \n",
       "1   [13.22, 15.68, 30.03, 24.48, 25.25, 46.73, 26....   \n",
       "2   [14.41, 24.65, 32.68, 27.86, 58.45, 23.42, 26....   \n",
       "3   [675.93, 0.00, 527.97, 150.72, 188.43, 72.70, ...   \n",
       "4   [0.00, 0.00, 0.00, 0.00, 0.00, 0.00, 0.00, 966...   \n",
       "..                                                ...   \n",
       "72  [13.98, 12.50, 14.79, 20.07, 20.35, 13.56, 10....   \n",
       "73  [22.46, 46.24, 34.43, 33.51, 63.45, 48.23, 49....   \n",
       "74  [–, –, –, –, 0.00, 0.00, 0.00, 0.00, 0.00, 28....   \n",
       "75  [32.37, 37.09, 70.47, 32.48, 40.78, 29.00, 42....   \n",
       "76  [18.35, 31.41, 17.67, 24.83, 19.09, 23.01, 17....   \n",
       "\n",
       "                                                    1  \\\n",
       "0   [3.57, 5.50, 5.32, 4.82, 5.99, 10.51, 11.43, 3...   \n",
       "1   [3.65, 3.85, 4.51, 5.63, 6.09, 9.31, 10.17, 13...   \n",
       "2   [4.26, 3.42, 4.32, 3.89, 4.84, 4.05, 4.60, 5.3...   \n",
       "3   [18.70, 13.35, 23.58, 18.52, 20.60, 16.80, 14....   \n",
       "4   [26.93, 30.39, 28.39, 5.65, 10.17, 9.86, 9.94,...   \n",
       "..                                                ...   \n",
       "72  [2.64, 2.30, 2.55, 2.60, 3.46, 3.40, 3.21, 3.5...   \n",
       "73  [4.30, 5.78, 4.69, 4.25, 8.77, 8.14, 8.23, 9.8...   \n",
       "74  [–, –, –, –, 0.00, 0.00, 0.00, 17.49, 21.48, 9...   \n",
       "75  [16.99, 16.13, 21.95, 17.72, 19.69, 18.91, 23....   \n",
       "76  [1.18, 1.44, 1.25, 1.31, 1.40, 1.39, 1.45, 1.4...   \n",
       "\n",
       "                                                    2  \\\n",
       "0   [44590.00, 49900.00, 69778.00, 53200.00, 51774...   \n",
       "1   [24576.00, 27017.00, 23724.00, 24982.00, 31378...   \n",
       "2   [11301.00, 12065.00, 16657.00, 26064.00, 23907...   \n",
       "3   [2031.00, 1949.00, 7450.00, 10466.00, 8307.00,...   \n",
       "4   [0.58, (1027.22), (2159.35), (1404.63), (3476....   \n",
       "..                                                ...   \n",
       "72  [1763.20, 1623.40, 2172.80, 2523.90, 3616.40, ...   \n",
       "73  [775.40, 559.50, 725.20, 1033.10, 953.20, 982....   \n",
       "74  [–, –, –, –, 151.02, 504.93, 97.28, (777.00), ...   \n",
       "75  [506.00, 440.00, 442.00, 587.00, 1159.00, 1508...   \n",
       "76  [856.00, 1202.00, (66.00), (1038.00), (1428.00...   \n",
       "\n",
       "                                                    3  \\\n",
       "0   [16960.00, 35295.00, 64328.00, 87032.00, 11568...   \n",
       "1   [15600.00, 22645.00, 35292.00, 53461.00, 86194...   \n",
       "2   [2236.00, 3228.00, 1995.00, 3935.00, 3969.00, ...   \n",
       "3   [3191.00, 8265.00, 8227.00, 12891.00, 30925.00...   \n",
       "4   [598.97, 2488.08, 2696.30, 7029.27, 10314.94, ...   \n",
       "..                                                ...   \n",
       "72  [1860.90, 2164.70, 2707.90, 3148.20, 3306.30, ...   \n",
       "73  [–, –, –, –, –, –, 77.00, 80.00, 87.00, 94.00,...   \n",
       "74  [–, –, –, –, –, 3232.00, 3651.00, 1882.56, 204...   \n",
       "75  [3657.00, 3631.00, 4868.00, 4468.00, 4953.00, ...   \n",
       "76  [40256.00, 39868.00, 38868.00, 47895.00, 52279...   \n",
       "\n",
       "                                                    4  \\\n",
       "0   [123549.00, 111547.00, 119355.00, 128249.00, 1...   \n",
       "1   [78944.00, 89784.00, 80083.00, 71997.00, 87711...   \n",
       "2   [87309.00, 103860.00, 120331.00, 139036.00, 15...   \n",
       "3   [9746.00, 10741.00, 13384.00, 19285.00, 27709....   \n",
       "4   [667.12, 911.71, 1083.70, 5538.09, 5234.59, 49...   \n",
       "..                                                ...   \n",
       "72  [6189.50, 6928.60, 7289.40, 7957.10, 9284.80, ...   \n",
       "73  [3501.40, 3379.40, 4319.50, 5777.80, 4780.40, ...   \n",
       "74  [–, –, –, –, 0.00, (517.31), (807.68), 2901.78...   \n",
       "75  [962.00, 1337.00, 1091.00, 1499.00, 1786.00, 2...   \n",
       "76  [41408.00, 40899.00, 39771.00, 41041.00, 41737...   \n",
       "\n",
       "                                                    5  \\\n",
       "0   [19.34, 18.01, 20.45, 14.93, 13.87, 16.07, 15....   \n",
       "1   [16.58, 14.02, 7.03, 11.16, 11.49, 6.51, 14.39...   \n",
       "2   [12.44, 11.77, 11.44, 12.37, 6.94, 14.29, 13.5...   \n",
       "3   [0.75, (0.51), 1.00, 3.20, 2.83, 6.85, 5.97, 7...   \n",
       "4   [(4.19), (7.13), (12.79), (4.39), (7.65), (3.3...   \n",
       "..                                                ...   \n",
       "72  [4.95, 5.10, 4.56, 3.26, 4.41, 6.08, 7.77, 9.5...   \n",
       "73  [16.76, 10.59, 13.28, 12.96, 10.94, 16.56, 15....   \n",
       "74  [–, –, –, –, (2.12), (0.51), (9.04), (48.77), ...   \n",
       "75  [7.86, 8.87, 4.68, 10.55, 10.64, 14.75, 13.44,...   \n",
       "76  [2.33, 1.60, 2.33, 1.70, 2.26, 1.88, 2.44, 0.7...   \n",
       "\n",
       "                                                    6  \\\n",
       "0   [30.64, 33.61, 46.25, 36.90, 36.87, 49.36, 55....   \n",
       "1   [30.09, 26.17, 14.36, 27.01, 31.92, 19.45, 42....   \n",
       "2   [16.01, 14.79, 14.12, 15.02, 8.69, 18.62, 18.1...   \n",
       "3   [3.05, (2.35), 4.94, 14.52, 12.91, 28.27, 21.9...   \n",
       "4   [(18.69), (37.25), (89.07), (20.38), (36.43), ...   \n",
       "..                                                ...   \n",
       "72  [19.11, 19.53, 17.83, 13.52, 18.47, 26.45, 33....   \n",
       "73  [18.95, 12.17, 15.30, 14.62, 12.71, 19.67, 18....   \n",
       "74  [–, –, –, –, 0.00, 2.54, 101.79, (437.90), (9....   \n",
       "75  [20.15, 50.72, 27.92, 63.40, 52.60, 71.92, 61....   \n",
       "76  [6.47, 4.58, 6.98, 5.33, 7.39, 6.23, 8.25, 2.7...   \n",
       "\n",
       "                                                    7  \n",
       "0   [Apple, Apple, Apple, Apple, Apple, Apple, App...  \n",
       "1   [Microsoft, Microsoft, Microsoft, Microsoft, M...  \n",
       "2   [Alphabet (Google), Alphabet (Google), Alphabe...  \n",
       "3   [Amazon, Amazon, Amazon, Amazon, Amazon, Amazo...  \n",
       "4   [Tesla, Tesla, Tesla, Tesla, Tesla, Tesla, Tes...  \n",
       "..                                                ...  \n",
       "72  [Progressive, Progressive, Progressive, Progre...  \n",
       "73  [Intuitive Surgical, Intuitive Surgical, Intui...  \n",
       "74  [Airbnb, Airbnb, Airbnb, Airbnb, Airbnb, Airbn...  \n",
       "75  [Zoetis, Zoetis, Zoetis, Zoetis, Zoetis, Zoeti...  \n",
       "76  [Duke Energy, Duke Energy, Duke Energy, Duke E...  \n",
       "\n",
       "[77 rows x 8 columns]"
      ]
     },
     "execution_count": 12,
     "metadata": {},
     "output_type": "execute_result"
    }
   ],
   "source": [
    "df_usa = pd.DataFrame(usa_df)\n",
    "df_raw_us = df_usa.copy()\n",
    "df_raw_us"
   ]
  },
  {
   "cell_type": "code",
   "execution_count": 13,
   "metadata": {},
   "outputs": [],
   "source": [
    "df_raw_us.to_csv('./df_raw_us.csv', sep=',', encoding='utf-8')"
   ]
  },
  {
   "cell_type": "code",
   "execution_count": 14,
   "metadata": {},
   "outputs": [
    {
     "data": {
      "text/html": [
       "<div>\n",
       "<style scoped>\n",
       "    .dataframe tbody tr th:only-of-type {\n",
       "        vertical-align: middle;\n",
       "    }\n",
       "\n",
       "    .dataframe tbody tr th {\n",
       "        vertical-align: top;\n",
       "    }\n",
       "\n",
       "    .dataframe thead th {\n",
       "        text-align: right;\n",
       "    }\n",
       "</style>\n",
       "<table border=\"1\" class=\"dataframe\">\n",
       "  <thead>\n",
       "    <tr style=\"text-align: right;\">\n",
       "      <th></th>\n",
       "      <th>year</th>\n",
       "      <th>PE ratio</th>\n",
       "      <th>PB Ratio</th>\n",
       "      <th>FCF</th>\n",
       "      <th>Total Debt</th>\n",
       "      <th>Sh Equity</th>\n",
       "      <th>ROA</th>\n",
       "      <th>ROE</th>\n",
       "      <th>company name</th>\n",
       "    </tr>\n",
       "  </thead>\n",
       "  <tbody>\n",
       "    <tr>\n",
       "      <th>0</th>\n",
       "      <td>2013</td>\n",
       "      <td>11.95</td>\n",
       "      <td>3.57</td>\n",
       "      <td>44590.00</td>\n",
       "      <td>16960.00</td>\n",
       "      <td>123549.00</td>\n",
       "      <td>19.34</td>\n",
       "      <td>30.64</td>\n",
       "      <td>Apple</td>\n",
       "    </tr>\n",
       "    <tr>\n",
       "      <th>1</th>\n",
       "      <td>2014</td>\n",
       "      <td>15.56</td>\n",
       "      <td>5.50</td>\n",
       "      <td>49900.00</td>\n",
       "      <td>35295.00</td>\n",
       "      <td>111547.00</td>\n",
       "      <td>18.01</td>\n",
       "      <td>33.61</td>\n",
       "      <td>Apple</td>\n",
       "    </tr>\n",
       "    <tr>\n",
       "      <th>2</th>\n",
       "      <td>2015</td>\n",
       "      <td>11.93</td>\n",
       "      <td>5.32</td>\n",
       "      <td>69778.00</td>\n",
       "      <td>64328.00</td>\n",
       "      <td>119355.00</td>\n",
       "      <td>20.45</td>\n",
       "      <td>46.25</td>\n",
       "      <td>Apple</td>\n",
       "    </tr>\n",
       "    <tr>\n",
       "      <th>3</th>\n",
       "      <td>2016</td>\n",
       "      <td>13.59</td>\n",
       "      <td>4.82</td>\n",
       "      <td>53200.00</td>\n",
       "      <td>87032.00</td>\n",
       "      <td>128249.00</td>\n",
       "      <td>14.93</td>\n",
       "      <td>36.90</td>\n",
       "      <td>Apple</td>\n",
       "    </tr>\n",
       "    <tr>\n",
       "      <th>4</th>\n",
       "      <td>2017</td>\n",
       "      <td>16.63</td>\n",
       "      <td>5.99</td>\n",
       "      <td>51774.00</td>\n",
       "      <td>115680.00</td>\n",
       "      <td>134047.00</td>\n",
       "      <td>13.87</td>\n",
       "      <td>36.87</td>\n",
       "      <td>Apple</td>\n",
       "    </tr>\n",
       "    <tr>\n",
       "      <th>...</th>\n",
       "      <td>...</td>\n",
       "      <td>...</td>\n",
       "      <td>...</td>\n",
       "      <td>...</td>\n",
       "      <td>...</td>\n",
       "      <td>...</td>\n",
       "      <td>...</td>\n",
       "      <td>...</td>\n",
       "      <td>...</td>\n",
       "    </tr>\n",
       "    <tr>\n",
       "      <th>765</th>\n",
       "      <td>2018</td>\n",
       "      <td>23.01</td>\n",
       "      <td>1.39</td>\n",
       "      <td>(2203.00)</td>\n",
       "      <td>54529.00</td>\n",
       "      <td>43834.00</td>\n",
       "      <td>1.88</td>\n",
       "      <td>6.23</td>\n",
       "      <td>Duke Energy</td>\n",
       "    </tr>\n",
       "    <tr>\n",
       "      <th>766</th>\n",
       "      <td>2019</td>\n",
       "      <td>17.99</td>\n",
       "      <td>1.45</td>\n",
       "      <td>(2913.00)</td>\n",
       "      <td>58126.00</td>\n",
       "      <td>47951.00</td>\n",
       "      <td>2.44</td>\n",
       "      <td>8.25</td>\n",
       "      <td>Duke Energy</td>\n",
       "    </tr>\n",
       "    <tr>\n",
       "      <th>767</th>\n",
       "      <td>2020</td>\n",
       "      <td>52.92</td>\n",
       "      <td>1.43</td>\n",
       "      <td>(1051.00)</td>\n",
       "      <td>59863.00</td>\n",
       "      <td>49184.00</td>\n",
       "      <td>0.79</td>\n",
       "      <td>2.73</td>\n",
       "      <td>Duke Energy</td>\n",
       "    </tr>\n",
       "    <tr>\n",
       "      <th>768</th>\n",
       "      <td>2021</td>\n",
       "      <td>21.19</td>\n",
       "      <td>1.64</td>\n",
       "      <td>(1425.00)</td>\n",
       "      <td>63835.00</td>\n",
       "      <td>51136.00</td>\n",
       "      <td>2.29</td>\n",
       "      <td>7.89</td>\n",
       "      <td>Duke Energy</td>\n",
       "    </tr>\n",
       "    <tr>\n",
       "      <th>769</th>\n",
       "      <td>2022</td>\n",
       "      <td>31.14</td>\n",
       "      <td>1.60</td>\n",
       "      <td>5927.00</td>\n",
       "      <td>71215.00</td>\n",
       "      <td>51986.00</td>\n",
       "      <td>1.47</td>\n",
       "      <td>5.17</td>\n",
       "      <td>Duke Energy</td>\n",
       "    </tr>\n",
       "  </tbody>\n",
       "</table>\n",
       "<p>770 rows × 9 columns</p>\n",
       "</div>"
      ],
      "text/plain": [
       "     year PE ratio PB Ratio        FCF Total Debt  Sh Equity    ROA    ROE  \\\n",
       "0    2013    11.95     3.57   44590.00   16960.00  123549.00  19.34  30.64   \n",
       "1    2014    15.56     5.50   49900.00   35295.00  111547.00  18.01  33.61   \n",
       "2    2015    11.93     5.32   69778.00   64328.00  119355.00  20.45  46.25   \n",
       "3    2016    13.59     4.82   53200.00   87032.00  128249.00  14.93  36.90   \n",
       "4    2017    16.63     5.99   51774.00  115680.00  134047.00  13.87  36.87   \n",
       "..    ...      ...      ...        ...        ...        ...    ...    ...   \n",
       "765  2018    23.01     1.39  (2203.00)   54529.00   43834.00   1.88   6.23   \n",
       "766  2019    17.99     1.45  (2913.00)   58126.00   47951.00   2.44   8.25   \n",
       "767  2020    52.92     1.43  (1051.00)   59863.00   49184.00   0.79   2.73   \n",
       "768  2021    21.19     1.64  (1425.00)   63835.00   51136.00   2.29   7.89   \n",
       "769  2022    31.14     1.60    5927.00   71215.00   51986.00   1.47   5.17   \n",
       "\n",
       "    company name  \n",
       "0          Apple  \n",
       "1          Apple  \n",
       "2          Apple  \n",
       "3          Apple  \n",
       "4          Apple  \n",
       "..           ...  \n",
       "765  Duke Energy  \n",
       "766  Duke Energy  \n",
       "767  Duke Energy  \n",
       "768  Duke Energy  \n",
       "769  Duke Energy  \n",
       "\n",
       "[770 rows x 9 columns]"
      ]
     },
     "execution_count": 14,
     "metadata": {},
     "output_type": "execute_result"
    }
   ],
   "source": [
    "# 빈 데이터 프레임 생성\n",
    "StockMarketEDA_us_raw = pd.DataFrame(columns = [\n",
    "    'year',\n",
    "    'PE ratio',\n",
    "    'PB Ratio',\n",
    "    'FCF',\n",
    "    'Total Debt',\n",
    "    'Sh Equity',\n",
    "    'ROA',\n",
    "    'ROE',\n",
    "    'company name'\n",
    "])\n",
    "\n",
    "\n",
    "year = [yr for yr in range(2013,2023)]\n",
    "user_year = -4 # -4:2022, -3:2023 제외시켜야할 컬럼\n",
    "# loop 를 돌며 데이터 프레임 생성\n",
    "for each_company in usa_df: #각 회사별로\n",
    "    df_temp = pd.DataFrame({\n",
    "        'year': year,\n",
    "        'PE ratio': each_company[0][:user_year],\n",
    "        'PB Ratio': each_company[1][:user_year],\n",
    "        'FCF': each_company[2][:user_year],\n",
    "        'Total Debt': each_company[3][:user_year],\n",
    "        'Sh Equity': each_company[4][:user_year],\n",
    "        'ROA': each_company[5][:user_year],\n",
    "        'ROE': each_company[6][:user_year],\n",
    "        'company name': each_company[-1][:user_year],\n",
    "    })\n",
    "    StockMarketEDA_us_raw = pd.concat([StockMarketEDA_us_raw,df_temp])\n",
    "StockMarketEDA_us_raw.reset_index(inplace=True)\n",
    "del StockMarketEDA_us_raw['index']\n",
    "StockMarketEDA_us_raw"
   ]
  },
  {
   "cell_type": "code",
   "execution_count": 56,
   "metadata": {},
   "outputs": [
    {
     "data": {
      "text/html": [
       "<div>\n",
       "<style scoped>\n",
       "    .dataframe tbody tr th:only-of-type {\n",
       "        vertical-align: middle;\n",
       "    }\n",
       "\n",
       "    .dataframe tbody tr th {\n",
       "        vertical-align: top;\n",
       "    }\n",
       "\n",
       "    .dataframe thead th {\n",
       "        text-align: right;\n",
       "    }\n",
       "</style>\n",
       "<table border=\"1\" class=\"dataframe\">\n",
       "  <thead>\n",
       "    <tr style=\"text-align: right;\">\n",
       "      <th></th>\n",
       "      <th>year</th>\n",
       "      <th>PE ratio</th>\n",
       "      <th>PB Ratio</th>\n",
       "      <th>FCF</th>\n",
       "      <th>Total Debt</th>\n",
       "      <th>Sh Equity</th>\n",
       "      <th>ROA</th>\n",
       "      <th>ROE</th>\n",
       "      <th>company name</th>\n",
       "    </tr>\n",
       "  </thead>\n",
       "  <tbody>\n",
       "    <tr>\n",
       "      <th>0</th>\n",
       "      <td>2013</td>\n",
       "      <td>11.95</td>\n",
       "      <td>3.57</td>\n",
       "      <td>44590.00</td>\n",
       "      <td>16960.00</td>\n",
       "      <td>123549.00</td>\n",
       "      <td>19.34</td>\n",
       "      <td>30.64</td>\n",
       "      <td>Apple</td>\n",
       "    </tr>\n",
       "    <tr>\n",
       "      <th>1</th>\n",
       "      <td>2014</td>\n",
       "      <td>15.56</td>\n",
       "      <td>5.50</td>\n",
       "      <td>49900.00</td>\n",
       "      <td>35295.00</td>\n",
       "      <td>111547.00</td>\n",
       "      <td>18.01</td>\n",
       "      <td>33.61</td>\n",
       "      <td>Apple</td>\n",
       "    </tr>\n",
       "    <tr>\n",
       "      <th>2</th>\n",
       "      <td>2015</td>\n",
       "      <td>11.93</td>\n",
       "      <td>5.32</td>\n",
       "      <td>69778.00</td>\n",
       "      <td>64328.00</td>\n",
       "      <td>119355.00</td>\n",
       "      <td>20.45</td>\n",
       "      <td>46.25</td>\n",
       "      <td>Apple</td>\n",
       "    </tr>\n",
       "    <tr>\n",
       "      <th>3</th>\n",
       "      <td>2016</td>\n",
       "      <td>13.59</td>\n",
       "      <td>4.82</td>\n",
       "      <td>53200.00</td>\n",
       "      <td>87032.00</td>\n",
       "      <td>128249.00</td>\n",
       "      <td>14.93</td>\n",
       "      <td>36.90</td>\n",
       "      <td>Apple</td>\n",
       "    </tr>\n",
       "    <tr>\n",
       "      <th>4</th>\n",
       "      <td>2017</td>\n",
       "      <td>16.63</td>\n",
       "      <td>5.99</td>\n",
       "      <td>51774.00</td>\n",
       "      <td>115680.00</td>\n",
       "      <td>134047.00</td>\n",
       "      <td>13.87</td>\n",
       "      <td>36.87</td>\n",
       "      <td>Apple</td>\n",
       "    </tr>\n",
       "    <tr>\n",
       "      <th>...</th>\n",
       "      <td>...</td>\n",
       "      <td>...</td>\n",
       "      <td>...</td>\n",
       "      <td>...</td>\n",
       "      <td>...</td>\n",
       "      <td>...</td>\n",
       "      <td>...</td>\n",
       "      <td>...</td>\n",
       "      <td>...</td>\n",
       "    </tr>\n",
       "    <tr>\n",
       "      <th>765</th>\n",
       "      <td>2018</td>\n",
       "      <td>23.01</td>\n",
       "      <td>1.39</td>\n",
       "      <td>(2203.00)</td>\n",
       "      <td>54529.00</td>\n",
       "      <td>43834.00</td>\n",
       "      <td>1.88</td>\n",
       "      <td>6.23</td>\n",
       "      <td>Duke Energy</td>\n",
       "    </tr>\n",
       "    <tr>\n",
       "      <th>766</th>\n",
       "      <td>2019</td>\n",
       "      <td>17.99</td>\n",
       "      <td>1.45</td>\n",
       "      <td>(2913.00)</td>\n",
       "      <td>58126.00</td>\n",
       "      <td>47951.00</td>\n",
       "      <td>2.44</td>\n",
       "      <td>8.25</td>\n",
       "      <td>Duke Energy</td>\n",
       "    </tr>\n",
       "    <tr>\n",
       "      <th>767</th>\n",
       "      <td>2020</td>\n",
       "      <td>52.92</td>\n",
       "      <td>1.43</td>\n",
       "      <td>(1051.00)</td>\n",
       "      <td>59863.00</td>\n",
       "      <td>49184.00</td>\n",
       "      <td>0.79</td>\n",
       "      <td>2.73</td>\n",
       "      <td>Duke Energy</td>\n",
       "    </tr>\n",
       "    <tr>\n",
       "      <th>768</th>\n",
       "      <td>2021</td>\n",
       "      <td>21.19</td>\n",
       "      <td>1.64</td>\n",
       "      <td>(1425.00)</td>\n",
       "      <td>63835.00</td>\n",
       "      <td>51136.00</td>\n",
       "      <td>2.29</td>\n",
       "      <td>7.89</td>\n",
       "      <td>Duke Energy</td>\n",
       "    </tr>\n",
       "    <tr>\n",
       "      <th>769</th>\n",
       "      <td>2022</td>\n",
       "      <td>31.14</td>\n",
       "      <td>1.60</td>\n",
       "      <td>5927.00</td>\n",
       "      <td>71215.00</td>\n",
       "      <td>51986.00</td>\n",
       "      <td>1.47</td>\n",
       "      <td>5.17</td>\n",
       "      <td>Duke Energy</td>\n",
       "    </tr>\n",
       "  </tbody>\n",
       "</table>\n",
       "<p>770 rows × 9 columns</p>\n",
       "</div>"
      ],
      "text/plain": [
       "     year PE ratio PB Ratio        FCF Total Debt  Sh Equity    ROA    ROE  \\\n",
       "0    2013    11.95     3.57   44590.00   16960.00  123549.00  19.34  30.64   \n",
       "1    2014    15.56     5.50   49900.00   35295.00  111547.00  18.01  33.61   \n",
       "2    2015    11.93     5.32   69778.00   64328.00  119355.00  20.45  46.25   \n",
       "3    2016    13.59     4.82   53200.00   87032.00  128249.00  14.93  36.90   \n",
       "4    2017    16.63     5.99   51774.00  115680.00  134047.00  13.87  36.87   \n",
       "..    ...      ...      ...        ...        ...        ...    ...    ...   \n",
       "765  2018    23.01     1.39  (2203.00)   54529.00   43834.00   1.88   6.23   \n",
       "766  2019    17.99     1.45  (2913.00)   58126.00   47951.00   2.44   8.25   \n",
       "767  2020    52.92     1.43  (1051.00)   59863.00   49184.00   0.79   2.73   \n",
       "768  2021    21.19     1.64  (1425.00)   63835.00   51136.00   2.29   7.89   \n",
       "769  2022    31.14     1.60    5927.00   71215.00   51986.00   1.47   5.17   \n",
       "\n",
       "    company name  \n",
       "0          Apple  \n",
       "1          Apple  \n",
       "2          Apple  \n",
       "3          Apple  \n",
       "4          Apple  \n",
       "..           ...  \n",
       "765  Duke Energy  \n",
       "766  Duke Energy  \n",
       "767  Duke Energy  \n",
       "768  Duke Energy  \n",
       "769  Duke Energy  \n",
       "\n",
       "[770 rows x 9 columns]"
      ]
     },
     "execution_count": 56,
     "metadata": {},
     "output_type": "execute_result"
    }
   ],
   "source": [
    "df_us_ing_v1 = StockMarketEDA_us_raw.copy()\n",
    "df_us_ing_v1 "
   ]
  },
  {
   "cell_type": "code",
   "execution_count": 57,
   "metadata": {},
   "outputs": [],
   "source": [
    "df_us_ing_v1.to_csv('./df_us_ing_v1.csv', sep=',', encoding='utf-8')"
   ]
  },
  {
   "attachments": {},
   "cell_type": "markdown",
   "metadata": {},
   "source": [
    "## 데이터 분리 : '-'를 포함한 경우"
   ]
  },
  {
   "cell_type": "code",
   "execution_count": 58,
   "metadata": {},
   "outputs": [
    {
     "data": {
      "text/plain": [
       "80"
      ]
     },
     "execution_count": 58,
     "metadata": {},
     "output_type": "execute_result"
    }
   ],
   "source": [
    "wrong_value_index_list = []\n",
    "\n",
    "column_list = StockMarketEDA_us_raw.columns.values.tolist()\n",
    "for column in column_list:\n",
    "    for index, each_row in enumerate(StockMarketEDA_us_raw[column]):\n",
    "        if each_row == '–':\n",
    "            wrong_value_index_list.append(StockMarketEDA_us_raw['company name'][index])\n",
    "\n",
    "len(wrong_value_index_list)"
   ]
  },
  {
   "cell_type": "code",
   "execution_count": 59,
   "metadata": {},
   "outputs": [],
   "source": [
    "df_wrong_value_company_list = pd.DataFrame({'wrong_value_company_list':wrong_value_index_list})\n",
    "wrong_value_company_list = df_wrong_value_company_list['wrong_value_company_list'].unique().tolist()\n",
    "all_company_list = StockMarketEDA_us_raw['company name'].unique().tolist()"
   ]
  },
  {
   "cell_type": "code",
   "execution_count": 60,
   "metadata": {},
   "outputs": [
    {
     "data": {
      "text/html": [
       "<div>\n",
       "<style scoped>\n",
       "    .dataframe tbody tr th:only-of-type {\n",
       "        vertical-align: middle;\n",
       "    }\n",
       "\n",
       "    .dataframe tbody tr th {\n",
       "        vertical-align: top;\n",
       "    }\n",
       "\n",
       "    .dataframe thead th {\n",
       "        text-align: right;\n",
       "    }\n",
       "</style>\n",
       "<table border=\"1\" class=\"dataframe\">\n",
       "  <thead>\n",
       "    <tr style=\"text-align: right;\">\n",
       "      <th></th>\n",
       "      <th>wrong_value_company_list</th>\n",
       "    </tr>\n",
       "  </thead>\n",
       "  <tbody>\n",
       "    <tr>\n",
       "      <th>0</th>\n",
       "      <td>AT&amp;T</td>\n",
       "    </tr>\n",
       "    <tr>\n",
       "      <th>1</th>\n",
       "      <td>ConocoPhillips</td>\n",
       "    </tr>\n",
       "    <tr>\n",
       "      <th>2</th>\n",
       "      <td>Booking Holdings (Booking.com)</td>\n",
       "    </tr>\n",
       "    <tr>\n",
       "      <th>3</th>\n",
       "      <td>Airbnb</td>\n",
       "    </tr>\n",
       "    <tr>\n",
       "      <th>4</th>\n",
       "      <td>Airbnb</td>\n",
       "    </tr>\n",
       "    <tr>\n",
       "      <th>...</th>\n",
       "      <td>...</td>\n",
       "    </tr>\n",
       "    <tr>\n",
       "      <th>75</th>\n",
       "      <td>Booking Holdings (Booking.com)</td>\n",
       "    </tr>\n",
       "    <tr>\n",
       "      <th>76</th>\n",
       "      <td>Airbnb</td>\n",
       "    </tr>\n",
       "    <tr>\n",
       "      <th>77</th>\n",
       "      <td>Airbnb</td>\n",
       "    </tr>\n",
       "    <tr>\n",
       "      <th>78</th>\n",
       "      <td>Airbnb</td>\n",
       "    </tr>\n",
       "    <tr>\n",
       "      <th>79</th>\n",
       "      <td>Airbnb</td>\n",
       "    </tr>\n",
       "  </tbody>\n",
       "</table>\n",
       "<p>80 rows × 1 columns</p>\n",
       "</div>"
      ],
      "text/plain": [
       "          wrong_value_company_list\n",
       "0                             AT&T\n",
       "1                   ConocoPhillips\n",
       "2   Booking Holdings (Booking.com)\n",
       "3                           Airbnb\n",
       "4                           Airbnb\n",
       "..                             ...\n",
       "75  Booking Holdings (Booking.com)\n",
       "76                          Airbnb\n",
       "77                          Airbnb\n",
       "78                          Airbnb\n",
       "79                          Airbnb\n",
       "\n",
       "[80 rows x 1 columns]"
      ]
     },
     "execution_count": 60,
     "metadata": {},
     "output_type": "execute_result"
    }
   ],
   "source": [
    "df_wrong_value_company_list"
   ]
  },
  {
   "cell_type": "markdown",
   "metadata": {},
   "source": [
    "## 새로운 ticker list"
   ]
  },
  {
   "cell_type": "code",
   "execution_count": 61,
   "metadata": {},
   "outputs": [
    {
     "data": {
      "text/html": [
       "<div>\n",
       "<style scoped>\n",
       "    .dataframe tbody tr th:only-of-type {\n",
       "        vertical-align: middle;\n",
       "    }\n",
       "\n",
       "    .dataframe tbody tr th {\n",
       "        vertical-align: top;\n",
       "    }\n",
       "\n",
       "    .dataframe thead th {\n",
       "        text-align: right;\n",
       "    }\n",
       "</style>\n",
       "<table border=\"1\" class=\"dataframe\">\n",
       "  <thead>\n",
       "    <tr style=\"text-align: right;\">\n",
       "      <th></th>\n",
       "      <th>company</th>\n",
       "      <th>code</th>\n",
       "    </tr>\n",
       "  </thead>\n",
       "  <tbody>\n",
       "    <tr>\n",
       "      <th>0</th>\n",
       "      <td>Apple</td>\n",
       "      <td>AAPL</td>\n",
       "    </tr>\n",
       "    <tr>\n",
       "      <th>1</th>\n",
       "      <td>Microsoft</td>\n",
       "      <td>MSFT</td>\n",
       "    </tr>\n",
       "    <tr>\n",
       "      <th>2</th>\n",
       "      <td>Alphabet (Google)</td>\n",
       "      <td>GOOG</td>\n",
       "    </tr>\n",
       "    <tr>\n",
       "      <th>3</th>\n",
       "      <td>Amazon</td>\n",
       "      <td>AMZN</td>\n",
       "    </tr>\n",
       "    <tr>\n",
       "      <th>4</th>\n",
       "      <td>Berkshire Hathaway</td>\n",
       "      <td>BRK-B</td>\n",
       "    </tr>\n",
       "    <tr>\n",
       "      <th>...</th>\n",
       "      <td>...</td>\n",
       "      <td>...</td>\n",
       "    </tr>\n",
       "    <tr>\n",
       "      <th>95</th>\n",
       "      <td>Target</td>\n",
       "      <td>TGT</td>\n",
       "    </tr>\n",
       "    <tr>\n",
       "      <th>96</th>\n",
       "      <td>Schlumberger</td>\n",
       "      <td>SLB</td>\n",
       "    </tr>\n",
       "    <tr>\n",
       "      <th>97</th>\n",
       "      <td>Duke Energy</td>\n",
       "      <td>DUK</td>\n",
       "    </tr>\n",
       "    <tr>\n",
       "      <th>98</th>\n",
       "      <td>Vertex Pharmaceuticals</td>\n",
       "      <td>VRTX</td>\n",
       "    </tr>\n",
       "    <tr>\n",
       "      <th>99</th>\n",
       "      <td>U.S. Bancorp</td>\n",
       "      <td>USB</td>\n",
       "    </tr>\n",
       "  </tbody>\n",
       "</table>\n",
       "<p>100 rows × 2 columns</p>\n",
       "</div>"
      ],
      "text/plain": [
       "                   company   code\n",
       "0                    Apple   AAPL\n",
       "1                Microsoft   MSFT\n",
       "2        Alphabet (Google)   GOOG\n",
       "3                   Amazon   AMZN\n",
       "4       Berkshire Hathaway  BRK-B\n",
       "..                     ...    ...\n",
       "95                  Target    TGT\n",
       "96            Schlumberger    SLB\n",
       "97             Duke Energy    DUK\n",
       "98  Vertex Pharmaceuticals   VRTX\n",
       "99            U.S. Bancorp    USB\n",
       "\n",
       "[100 rows x 2 columns]"
      ]
     },
     "execution_count": 61,
     "metadata": {},
     "output_type": "execute_result"
    }
   ],
   "source": [
    "df_tmp"
   ]
  },
  {
   "cell_type": "code",
   "execution_count": 62,
   "metadata": {},
   "outputs": [
    {
     "data": {
      "text/plain": [
       "array(['AT&T', 'ConocoPhillips', 'Booking Holdings (Booking.com)',\n",
       "       'Airbnb', 'Merck', 'Morgan Stanley', 'Charles Schwab',\n",
       "       'Goldman Sachs', 'BlackRock', 'Citigroup', 'Altria Group',\n",
       "       'Progressive', 'Visa', 'Mastercard', 'Chevron', 'QUALCOMM',\n",
       "       'PayPal', 'Intuitive Surgical'], dtype=object)"
      ]
     },
     "execution_count": 62,
     "metadata": {},
     "output_type": "execute_result"
    }
   ],
   "source": [
    "out_name_list = df_wrong_value_company_list['wrong_value_company_list'].unique()\n",
    "out_name_list"
   ]
  },
  {
   "cell_type": "code",
   "execution_count": 63,
   "metadata": {},
   "outputs": [
    {
     "data": {
      "text/plain": [
       "82"
      ]
     },
     "execution_count": 63,
     "metadata": {},
     "output_type": "execute_result"
    }
   ],
   "source": [
    "new_ticker_list = df_tmp['code'].tolist()\n",
    "\n",
    "for i in range(100):\n",
    "    for j in out_name_list:\n",
    "        if df_tmp['company'][i] ==j:\n",
    "            new_ticker_list.remove(df_tmp['code'][i])\n",
    "\n",
    "len(new_ticker_list)"
   ]
  },
  {
   "cell_type": "code",
   "execution_count": 64,
   "metadata": {},
   "outputs": [
    {
     "data": {
      "text/plain": [
       "100"
      ]
     },
     "execution_count": 64,
     "metadata": {},
     "output_type": "execute_result"
    }
   ],
   "source": [
    "new_name_list = df_ticker_list['company'].tolist()\n",
    "len(new_name_list)"
   ]
  },
  {
   "cell_type": "code",
   "execution_count": 65,
   "metadata": {},
   "outputs": [
    {
     "data": {
      "text/plain": [
       "82"
      ]
     },
     "execution_count": 65,
     "metadata": {},
     "output_type": "execute_result"
    }
   ],
   "source": [
    "# 티커와 이름은 다르다!\n",
    "for i in out_name_list:\n",
    "    new_name_list.remove(i)\n",
    "  \n",
    "len(new_name_list)"
   ]
  },
  {
   "cell_type": "markdown",
   "metadata": {},
   "source": [
    "## Error가 없는 이름과 코드"
   ]
  },
  {
   "cell_type": "code",
   "execution_count": 66,
   "metadata": {},
   "outputs": [
    {
     "data": {
      "text/html": [
       "<div>\n",
       "<style scoped>\n",
       "    .dataframe tbody tr th:only-of-type {\n",
       "        vertical-align: middle;\n",
       "    }\n",
       "\n",
       "    .dataframe tbody tr th {\n",
       "        vertical-align: top;\n",
       "    }\n",
       "\n",
       "    .dataframe thead th {\n",
       "        text-align: right;\n",
       "    }\n",
       "</style>\n",
       "<table border=\"1\" class=\"dataframe\">\n",
       "  <thead>\n",
       "    <tr style=\"text-align: right;\">\n",
       "      <th></th>\n",
       "      <th>company</th>\n",
       "      <th>code</th>\n",
       "    </tr>\n",
       "  </thead>\n",
       "  <tbody>\n",
       "    <tr>\n",
       "      <th>0</th>\n",
       "      <td>Apple</td>\n",
       "      <td>AAPL</td>\n",
       "    </tr>\n",
       "    <tr>\n",
       "      <th>1</th>\n",
       "      <td>Microsoft</td>\n",
       "      <td>MSFT</td>\n",
       "    </tr>\n",
       "    <tr>\n",
       "      <th>2</th>\n",
       "      <td>Alphabet (Google)</td>\n",
       "      <td>GOOG</td>\n",
       "    </tr>\n",
       "    <tr>\n",
       "      <th>3</th>\n",
       "      <td>Amazon</td>\n",
       "      <td>AMZN</td>\n",
       "    </tr>\n",
       "    <tr>\n",
       "      <th>4</th>\n",
       "      <td>Berkshire Hathaway</td>\n",
       "      <td>BRK-B</td>\n",
       "    </tr>\n",
       "    <tr>\n",
       "      <th>...</th>\n",
       "      <td>...</td>\n",
       "      <td>...</td>\n",
       "    </tr>\n",
       "    <tr>\n",
       "      <th>77</th>\n",
       "      <td>Target</td>\n",
       "      <td>TGT</td>\n",
       "    </tr>\n",
       "    <tr>\n",
       "      <th>78</th>\n",
       "      <td>Schlumberger</td>\n",
       "      <td>SLB</td>\n",
       "    </tr>\n",
       "    <tr>\n",
       "      <th>79</th>\n",
       "      <td>Duke Energy</td>\n",
       "      <td>DUK</td>\n",
       "    </tr>\n",
       "    <tr>\n",
       "      <th>80</th>\n",
       "      <td>Vertex Pharmaceuticals</td>\n",
       "      <td>VRTX</td>\n",
       "    </tr>\n",
       "    <tr>\n",
       "      <th>81</th>\n",
       "      <td>U.S. Bancorp</td>\n",
       "      <td>USB</td>\n",
       "    </tr>\n",
       "  </tbody>\n",
       "</table>\n",
       "<p>82 rows × 2 columns</p>\n",
       "</div>"
      ],
      "text/plain": [
       "                   company   code\n",
       "0                    Apple   AAPL\n",
       "1                Microsoft   MSFT\n",
       "2        Alphabet (Google)   GOOG\n",
       "3                   Amazon   AMZN\n",
       "4       Berkshire Hathaway  BRK-B\n",
       "..                     ...    ...\n",
       "77                  Target    TGT\n",
       "78            Schlumberger    SLB\n",
       "79             Duke Energy    DUK\n",
       "80  Vertex Pharmaceuticals   VRTX\n",
       "81            U.S. Bancorp    USB\n",
       "\n",
       "[82 rows x 2 columns]"
      ]
     },
     "execution_count": 66,
     "metadata": {},
     "output_type": "execute_result"
    }
   ],
   "source": [
    "df_new = pd.DataFrame({'company': new_name_list ,\n",
    "                       'code': new_ticker_list\n",
    "                       })\n",
    "\n",
    "df_new"
   ]
  },
  {
   "cell_type": "code",
   "execution_count": 67,
   "metadata": {},
   "outputs": [
    {
     "data": {
      "text/html": [
       "<div>\n",
       "<style scoped>\n",
       "    .dataframe tbody tr th:only-of-type {\n",
       "        vertical-align: middle;\n",
       "    }\n",
       "\n",
       "    .dataframe tbody tr th {\n",
       "        vertical-align: top;\n",
       "    }\n",
       "\n",
       "    .dataframe thead th {\n",
       "        text-align: right;\n",
       "    }\n",
       "</style>\n",
       "<table border=\"1\" class=\"dataframe\">\n",
       "  <thead>\n",
       "    <tr style=\"text-align: right;\">\n",
       "      <th></th>\n",
       "      <th>company_name</th>\n",
       "      <th>PE ratio</th>\n",
       "      <th>PB Ratio</th>\n",
       "      <th>FCF</th>\n",
       "      <th>Total Debt</th>\n",
       "      <th>Sh Equity</th>\n",
       "      <th>ROA</th>\n",
       "      <th>ROE</th>\n",
       "    </tr>\n",
       "    <tr>\n",
       "      <th>year</th>\n",
       "      <th></th>\n",
       "      <th></th>\n",
       "      <th></th>\n",
       "      <th></th>\n",
       "      <th></th>\n",
       "      <th></th>\n",
       "      <th></th>\n",
       "      <th></th>\n",
       "    </tr>\n",
       "  </thead>\n",
       "  <tbody>\n",
       "    <tr>\n",
       "      <th>2013</th>\n",
       "      <td>Apple</td>\n",
       "      <td>11.95</td>\n",
       "      <td>3.57</td>\n",
       "      <td>44590.00</td>\n",
       "      <td>16960.00</td>\n",
       "      <td>123549.00</td>\n",
       "      <td>19.34</td>\n",
       "      <td>30.64</td>\n",
       "    </tr>\n",
       "    <tr>\n",
       "      <th>2014</th>\n",
       "      <td>Apple</td>\n",
       "      <td>15.56</td>\n",
       "      <td>5.50</td>\n",
       "      <td>49900.00</td>\n",
       "      <td>35295.00</td>\n",
       "      <td>111547.00</td>\n",
       "      <td>18.01</td>\n",
       "      <td>33.61</td>\n",
       "    </tr>\n",
       "    <tr>\n",
       "      <th>2015</th>\n",
       "      <td>Apple</td>\n",
       "      <td>11.93</td>\n",
       "      <td>5.32</td>\n",
       "      <td>69778.00</td>\n",
       "      <td>64328.00</td>\n",
       "      <td>119355.00</td>\n",
       "      <td>20.45</td>\n",
       "      <td>46.25</td>\n",
       "    </tr>\n",
       "    <tr>\n",
       "      <th>2016</th>\n",
       "      <td>Apple</td>\n",
       "      <td>13.59</td>\n",
       "      <td>4.82</td>\n",
       "      <td>53200.00</td>\n",
       "      <td>87032.00</td>\n",
       "      <td>128249.00</td>\n",
       "      <td>14.93</td>\n",
       "      <td>36.90</td>\n",
       "    </tr>\n",
       "    <tr>\n",
       "      <th>2017</th>\n",
       "      <td>Apple</td>\n",
       "      <td>16.63</td>\n",
       "      <td>5.99</td>\n",
       "      <td>51774.00</td>\n",
       "      <td>115680.00</td>\n",
       "      <td>134047.00</td>\n",
       "      <td>13.87</td>\n",
       "      <td>36.87</td>\n",
       "    </tr>\n",
       "    <tr>\n",
       "      <th>...</th>\n",
       "      <td>...</td>\n",
       "      <td>...</td>\n",
       "      <td>...</td>\n",
       "      <td>...</td>\n",
       "      <td>...</td>\n",
       "      <td>...</td>\n",
       "      <td>...</td>\n",
       "      <td>...</td>\n",
       "    </tr>\n",
       "    <tr>\n",
       "      <th>2018</th>\n",
       "      <td>Duke Energy</td>\n",
       "      <td>23.01</td>\n",
       "      <td>1.39</td>\n",
       "      <td>2203.00</td>\n",
       "      <td>54529.00</td>\n",
       "      <td>43834.00</td>\n",
       "      <td>1.88</td>\n",
       "      <td>6.23</td>\n",
       "    </tr>\n",
       "    <tr>\n",
       "      <th>2019</th>\n",
       "      <td>Duke Energy</td>\n",
       "      <td>17.99</td>\n",
       "      <td>1.45</td>\n",
       "      <td>2913.00</td>\n",
       "      <td>58126.00</td>\n",
       "      <td>47951.00</td>\n",
       "      <td>2.44</td>\n",
       "      <td>8.25</td>\n",
       "    </tr>\n",
       "    <tr>\n",
       "      <th>2020</th>\n",
       "      <td>Duke Energy</td>\n",
       "      <td>52.92</td>\n",
       "      <td>1.43</td>\n",
       "      <td>1051.00</td>\n",
       "      <td>59863.00</td>\n",
       "      <td>49184.00</td>\n",
       "      <td>0.79</td>\n",
       "      <td>2.73</td>\n",
       "    </tr>\n",
       "    <tr>\n",
       "      <th>2021</th>\n",
       "      <td>Duke Energy</td>\n",
       "      <td>21.19</td>\n",
       "      <td>1.64</td>\n",
       "      <td>1425.00</td>\n",
       "      <td>63835.00</td>\n",
       "      <td>51136.00</td>\n",
       "      <td>2.29</td>\n",
       "      <td>7.89</td>\n",
       "    </tr>\n",
       "    <tr>\n",
       "      <th>2022</th>\n",
       "      <td>Duke Energy</td>\n",
       "      <td>31.14</td>\n",
       "      <td>1.60</td>\n",
       "      <td>5927.00</td>\n",
       "      <td>71215.00</td>\n",
       "      <td>51986.00</td>\n",
       "      <td>1.47</td>\n",
       "      <td>5.17</td>\n",
       "    </tr>\n",
       "  </tbody>\n",
       "</table>\n",
       "<p>590 rows × 8 columns</p>\n",
       "</div>"
      ],
      "text/plain": [
       "     company_name PE ratio PB Ratio       FCF Total Debt  Sh Equity    ROA  \\\n",
       "year                                                                         \n",
       "2013        Apple    11.95     3.57  44590.00   16960.00  123549.00  19.34   \n",
       "2014        Apple    15.56     5.50  49900.00   35295.00  111547.00  18.01   \n",
       "2015        Apple    11.93     5.32  69778.00   64328.00  119355.00  20.45   \n",
       "2016        Apple    13.59     4.82  53200.00   87032.00  128249.00  14.93   \n",
       "2017        Apple    16.63     5.99  51774.00  115680.00  134047.00  13.87   \n",
       "...           ...      ...      ...       ...        ...        ...    ...   \n",
       "2018  Duke Energy    23.01     1.39   2203.00   54529.00   43834.00   1.88   \n",
       "2019  Duke Energy    17.99     1.45   2913.00   58126.00   47951.00   2.44   \n",
       "2020  Duke Energy    52.92     1.43   1051.00   59863.00   49184.00   0.79   \n",
       "2021  Duke Energy    21.19     1.64   1425.00   63835.00   51136.00   2.29   \n",
       "2022  Duke Energy    31.14     1.60   5927.00   71215.00   51986.00   1.47   \n",
       "\n",
       "        ROE  \n",
       "year         \n",
       "2013  30.64  \n",
       "2014  33.61  \n",
       "2015  46.25  \n",
       "2016  36.90  \n",
       "2017  36.87  \n",
       "...     ...  \n",
       "2018   6.23  \n",
       "2019   8.25  \n",
       "2020   2.73  \n",
       "2021   7.89  \n",
       "2022   5.17  \n",
       "\n",
       "[590 rows x 8 columns]"
      ]
     },
     "execution_count": 67,
     "metadata": {},
     "output_type": "execute_result"
    }
   ],
   "source": [
    "def EDA_each(EDA_df, index):\n",
    "    return EDA_df.loc[EDA_df['company name'] == index]\n",
    "\n",
    "StockMarketEDA_us_clean = pd.DataFrame(columns = [\n",
    "    'PE ratio',\n",
    "    'PB Ratio',\n",
    "    'FCF',\n",
    "    'Total Debt',\n",
    "    'Sh Equity',\n",
    "    'ROA',\n",
    "    'ROE',\n",
    "    'company name'\n",
    "])\n",
    "\n",
    "\n",
    "for each_company in all_company_list:\n",
    "    if each_company not in wrong_value_company_list:\n",
    "        tmp = EDA_each(StockMarketEDA_us_raw,each_company)\n",
    "        StockMarketEDA_us_clean = pd.concat([StockMarketEDA_us_clean, tmp])\n",
    "\n",
    "StockMarketEDA_us_clean.insert(0, 'company_name', StockMarketEDA_us_clean.pop('company name'))\n",
    "\n",
    "StockMarketEDA_us_clean = StockMarketEDA_us_clean.reset_index()\n",
    "del StockMarketEDA_us_clean['index']\n",
    "\n",
    "for index in range(len(StockMarketEDA_us_clean)):\n",
    "    for column in StockMarketEDA_us_clean.columns.values.tolist():\n",
    "        if type(StockMarketEDA_us_clean[column].loc[index]) == str:\n",
    "            StockMarketEDA_us_clean[column].loc[index] = StockMarketEDA_us_clean[column].loc[index].replace(\"(\",\"\").replace(\")\",\"\").replace(\",\",\"\")\n",
    "\n",
    "# StockMarketEDA_us_clean.insert(0, 'company_name', StockMarketEDA_us_clean.pop('company name'))\n",
    "StockMarketEDA_us_clean = StockMarketEDA_us_clean.set_index('year')\n",
    "#StockMarketEDA_us_clean.to_csv('../data/StockMarketEDA_us_clean.csv', sep=',', encoding='utf-8')\n",
    "StockMarketEDA_us_clean"
   ]
  },
  {
   "cell_type": "code",
   "execution_count": 116,
   "metadata": {},
   "outputs": [],
   "source": [
    "df_us_no_error = StockMarketEDA_us_clean.copy()\n",
    "df_us_no_error.to_csv('./df_us_no_error.csv', sep=',', encoding='utf-8')"
   ]
  },
  {
   "cell_type": "code",
   "execution_count": 117,
   "metadata": {},
   "outputs": [
    {
     "data": {
      "text/html": [
       "<div>\n",
       "<style scoped>\n",
       "    .dataframe tbody tr th:only-of-type {\n",
       "        vertical-align: middle;\n",
       "    }\n",
       "\n",
       "    .dataframe tbody tr th {\n",
       "        vertical-align: top;\n",
       "    }\n",
       "\n",
       "    .dataframe thead th {\n",
       "        text-align: right;\n",
       "    }\n",
       "</style>\n",
       "<table border=\"1\" class=\"dataframe\">\n",
       "  <thead>\n",
       "    <tr style=\"text-align: right;\">\n",
       "      <th></th>\n",
       "      <th>company_name</th>\n",
       "      <th>PE ratio</th>\n",
       "      <th>PB Ratio</th>\n",
       "      <th>FCF</th>\n",
       "      <th>Total Debt</th>\n",
       "      <th>Sh Equity</th>\n",
       "      <th>ROA</th>\n",
       "      <th>ROE</th>\n",
       "    </tr>\n",
       "    <tr>\n",
       "      <th>year</th>\n",
       "      <th></th>\n",
       "      <th></th>\n",
       "      <th></th>\n",
       "      <th></th>\n",
       "      <th></th>\n",
       "      <th></th>\n",
       "      <th></th>\n",
       "      <th></th>\n",
       "    </tr>\n",
       "  </thead>\n",
       "  <tbody>\n",
       "    <tr>\n",
       "      <th>2013</th>\n",
       "      <td>Apple</td>\n",
       "      <td>11.95</td>\n",
       "      <td>3.57</td>\n",
       "      <td>44590.00</td>\n",
       "      <td>16960.00</td>\n",
       "      <td>123549.00</td>\n",
       "      <td>19.34</td>\n",
       "      <td>30.64</td>\n",
       "    </tr>\n",
       "    <tr>\n",
       "      <th>2014</th>\n",
       "      <td>Apple</td>\n",
       "      <td>15.56</td>\n",
       "      <td>5.50</td>\n",
       "      <td>49900.00</td>\n",
       "      <td>35295.00</td>\n",
       "      <td>111547.00</td>\n",
       "      <td>18.01</td>\n",
       "      <td>33.61</td>\n",
       "    </tr>\n",
       "    <tr>\n",
       "      <th>2015</th>\n",
       "      <td>Apple</td>\n",
       "      <td>11.93</td>\n",
       "      <td>5.32</td>\n",
       "      <td>69778.00</td>\n",
       "      <td>64328.00</td>\n",
       "      <td>119355.00</td>\n",
       "      <td>20.45</td>\n",
       "      <td>46.25</td>\n",
       "    </tr>\n",
       "    <tr>\n",
       "      <th>2016</th>\n",
       "      <td>Apple</td>\n",
       "      <td>13.59</td>\n",
       "      <td>4.82</td>\n",
       "      <td>53200.00</td>\n",
       "      <td>87032.00</td>\n",
       "      <td>128249.00</td>\n",
       "      <td>14.93</td>\n",
       "      <td>36.90</td>\n",
       "    </tr>\n",
       "    <tr>\n",
       "      <th>2017</th>\n",
       "      <td>Apple</td>\n",
       "      <td>16.63</td>\n",
       "      <td>5.99</td>\n",
       "      <td>51774.00</td>\n",
       "      <td>115680.00</td>\n",
       "      <td>134047.00</td>\n",
       "      <td>13.87</td>\n",
       "      <td>36.87</td>\n",
       "    </tr>\n",
       "    <tr>\n",
       "      <th>...</th>\n",
       "      <td>...</td>\n",
       "      <td>...</td>\n",
       "      <td>...</td>\n",
       "      <td>...</td>\n",
       "      <td>...</td>\n",
       "      <td>...</td>\n",
       "      <td>...</td>\n",
       "      <td>...</td>\n",
       "    </tr>\n",
       "    <tr>\n",
       "      <th>2018</th>\n",
       "      <td>Vertex Pharmaceuticals</td>\n",
       "      <td>20.11</td>\n",
       "      <td>9.50</td>\n",
       "      <td>1174.84</td>\n",
       "      <td>591.55</td>\n",
       "      <td>4435.20</td>\n",
       "      <td>42.83</td>\n",
       "      <td>64.74</td>\n",
       "    </tr>\n",
       "    <tr>\n",
       "      <th>2019</th>\n",
       "      <td>Vertex Pharmaceuticals</td>\n",
       "      <td>47.91</td>\n",
       "      <td>9.24</td>\n",
       "      <td>1493.90</td>\n",
       "      <td>588.58</td>\n",
       "      <td>6085.24</td>\n",
       "      <td>16.16</td>\n",
       "      <td>22.37</td>\n",
       "    </tr>\n",
       "    <tr>\n",
       "      <th>2020</th>\n",
       "      <td>Vertex Pharmaceuticals</td>\n",
       "      <td>22.68</td>\n",
       "      <td>7.07</td>\n",
       "      <td>2993.70</td>\n",
       "      <td>592.00</td>\n",
       "      <td>8686.80</td>\n",
       "      <td>27.02</td>\n",
       "      <td>36.71</td>\n",
       "    </tr>\n",
       "    <tr>\n",
       "      <th>2021</th>\n",
       "      <td>Vertex Pharmaceuticals</td>\n",
       "      <td>24.13</td>\n",
       "      <td>5.60</td>\n",
       "      <td>2408.50</td>\n",
       "      <td>589.80</td>\n",
       "      <td>10100.00</td>\n",
       "      <td>18.60</td>\n",
       "      <td>24.93</td>\n",
       "    </tr>\n",
       "    <tr>\n",
       "      <th>2022</th>\n",
       "      <td>Vertex Pharmaceuticals</td>\n",
       "      <td>22.04</td>\n",
       "      <td>5.27</td>\n",
       "      <td>3925.20</td>\n",
       "      <td>430.80</td>\n",
       "      <td>13912.70</td>\n",
       "      <td>21.04</td>\n",
       "      <td>27.67</td>\n",
       "    </tr>\n",
       "  </tbody>\n",
       "</table>\n",
       "<p>740 rows × 8 columns</p>\n",
       "</div>"
      ],
      "text/plain": [
       "                company_name PE ratio PB Ratio       FCF Total Debt  \\\n",
       "year                                                                  \n",
       "2013                   Apple    11.95     3.57  44590.00   16960.00   \n",
       "2014                   Apple    15.56     5.50  49900.00   35295.00   \n",
       "2015                   Apple    11.93     5.32  69778.00   64328.00   \n",
       "2016                   Apple    13.59     4.82  53200.00   87032.00   \n",
       "2017                   Apple    16.63     5.99  51774.00  115680.00   \n",
       "...                      ...      ...      ...       ...        ...   \n",
       "2018  Vertex Pharmaceuticals    20.11     9.50   1174.84     591.55   \n",
       "2019  Vertex Pharmaceuticals    47.91     9.24   1493.90     588.58   \n",
       "2020  Vertex Pharmaceuticals    22.68     7.07   2993.70     592.00   \n",
       "2021  Vertex Pharmaceuticals    24.13     5.60   2408.50     589.80   \n",
       "2022  Vertex Pharmaceuticals    22.04     5.27   3925.20     430.80   \n",
       "\n",
       "      Sh Equity    ROA    ROE  \n",
       "year                           \n",
       "2013  123549.00  19.34  30.64  \n",
       "2014  111547.00  18.01  33.61  \n",
       "2015  119355.00  20.45  46.25  \n",
       "2016  128249.00  14.93  36.90  \n",
       "2017  134047.00  13.87  36.87  \n",
       "...         ...    ...    ...  \n",
       "2018    4435.20  42.83  64.74  \n",
       "2019    6085.24  16.16  22.37  \n",
       "2020    8686.80  27.02  36.71  \n",
       "2021   10100.00  18.60  24.93  \n",
       "2022   13912.70  21.04  27.67  \n",
       "\n",
       "[740 rows x 8 columns]"
      ]
     },
     "execution_count": 117,
     "metadata": {},
     "output_type": "execute_result"
    }
   ],
   "source": [
    "StockMarketEDA_us_clean"
   ]
  },
  {
   "cell_type": "code",
   "execution_count": 118,
   "metadata": {},
   "outputs": [
    {
     "name": "stdout",
     "output_type": "stream",
     "text": [
      "<class 'pandas.core.frame.DataFrame'>\n",
      "Int64Index: 740 entries, 2013 to 2022\n",
      "Data columns (total 8 columns):\n",
      " #   Column        Non-Null Count  Dtype \n",
      "---  ------        --------------  ----- \n",
      " 0   company_name  740 non-null    object\n",
      " 1   PE ratio      740 non-null    object\n",
      " 2   PB Ratio      740 non-null    object\n",
      " 3   FCF           740 non-null    object\n",
      " 4   Total Debt    740 non-null    object\n",
      " 5   Sh Equity     740 non-null    object\n",
      " 6   ROA           740 non-null    object\n",
      " 7   ROE           740 non-null    object\n",
      "dtypes: object(8)\n",
      "memory usage: 52.0+ KB\n"
     ]
    }
   ],
   "source": [
    "StockMarketEDA_us_clean.info()"
   ]
  },
  {
   "cell_type": "code",
   "execution_count": 119,
   "metadata": {},
   "outputs": [
    {
     "data": {
      "text/plain": [
       "Index(['company_name', 'PE ratio', 'PB Ratio', 'FCF', 'Total Debt',\n",
       "       'Sh Equity', 'ROA', 'ROE'],\n",
       "      dtype='object')"
      ]
     },
     "execution_count": 119,
     "metadata": {},
     "output_type": "execute_result"
    }
   ],
   "source": [
    "StockMarketEDA_us_clean.columns"
   ]
  },
  {
   "cell_type": "code",
   "execution_count": 120,
   "metadata": {},
   "outputs": [
    {
     "name": "stdout",
     "output_type": "stream",
     "text": [
      "<class 'pandas.core.frame.DataFrame'>\n",
      "Int64Index: 740 entries, 2013 to 2022\n",
      "Data columns (total 8 columns):\n",
      " #   Column        Non-Null Count  Dtype  \n",
      "---  ------        --------------  -----  \n",
      " 0   company_name  740 non-null    object \n",
      " 1   PE ratio      740 non-null    float64\n",
      " 2   PB Ratio      740 non-null    float64\n",
      " 3   FCF           740 non-null    float64\n",
      " 4   Total Debt    740 non-null    float64\n",
      " 5   Sh Equity     740 non-null    float64\n",
      " 6   ROA           740 non-null    float64\n",
      " 7   ROE           740 non-null    float64\n",
      "dtypes: float64(7), object(1)\n",
      "memory usage: 52.0+ KB\n"
     ]
    }
   ],
   "source": [
    "import numpy as np\n",
    "\n",
    "for i in StockMarketEDA_us_clean.columns[1:]:\n",
    "    StockMarketEDA_us_clean[i] = StockMarketEDA_us_clean[i].astype(np.float64)\n",
    "\n",
    "StockMarketEDA_us_clean.info()"
   ]
  },
  {
   "cell_type": "code",
   "execution_count": 121,
   "metadata": {},
   "outputs": [
    {
     "data": {
      "text/html": [
       "<div>\n",
       "<style scoped>\n",
       "    .dataframe tbody tr th:only-of-type {\n",
       "        vertical-align: middle;\n",
       "    }\n",
       "\n",
       "    .dataframe tbody tr th {\n",
       "        vertical-align: top;\n",
       "    }\n",
       "\n",
       "    .dataframe thead th {\n",
       "        text-align: right;\n",
       "    }\n",
       "</style>\n",
       "<table border=\"1\" class=\"dataframe\">\n",
       "  <thead>\n",
       "    <tr style=\"text-align: right;\">\n",
       "      <th></th>\n",
       "      <th>company_name</th>\n",
       "      <th>PE ratio</th>\n",
       "      <th>PB Ratio</th>\n",
       "      <th>FCF</th>\n",
       "      <th>Total Debt</th>\n",
       "      <th>Sh Equity</th>\n",
       "      <th>ROA</th>\n",
       "      <th>ROE</th>\n",
       "      <th>Equity_Ratio</th>\n",
       "      <th>FCF_Ratio</th>\n",
       "    </tr>\n",
       "    <tr>\n",
       "      <th>year</th>\n",
       "      <th></th>\n",
       "      <th></th>\n",
       "      <th></th>\n",
       "      <th></th>\n",
       "      <th></th>\n",
       "      <th></th>\n",
       "      <th></th>\n",
       "      <th></th>\n",
       "      <th></th>\n",
       "      <th></th>\n",
       "    </tr>\n",
       "  </thead>\n",
       "  <tbody>\n",
       "    <tr>\n",
       "      <th>2013</th>\n",
       "      <td>Apple</td>\n",
       "      <td>11.95</td>\n",
       "      <td>3.57</td>\n",
       "      <td>44590.00</td>\n",
       "      <td>16960.00</td>\n",
       "      <td>123549.00</td>\n",
       "      <td>19.34</td>\n",
       "      <td>30.64</td>\n",
       "      <td>87.929599</td>\n",
       "      <td>31.734622</td>\n",
       "    </tr>\n",
       "    <tr>\n",
       "      <th>2014</th>\n",
       "      <td>Apple</td>\n",
       "      <td>15.56</td>\n",
       "      <td>5.50</td>\n",
       "      <td>49900.00</td>\n",
       "      <td>35295.00</td>\n",
       "      <td>111547.00</td>\n",
       "      <td>18.01</td>\n",
       "      <td>33.61</td>\n",
       "      <td>75.963961</td>\n",
       "      <td>33.982103</td>\n",
       "    </tr>\n",
       "    <tr>\n",
       "      <th>2015</th>\n",
       "      <td>Apple</td>\n",
       "      <td>11.93</td>\n",
       "      <td>5.32</td>\n",
       "      <td>69778.00</td>\n",
       "      <td>64328.00</td>\n",
       "      <td>119355.00</td>\n",
       "      <td>20.45</td>\n",
       "      <td>46.25</td>\n",
       "      <td>64.978795</td>\n",
       "      <td>37.988273</td>\n",
       "    </tr>\n",
       "    <tr>\n",
       "      <th>2016</th>\n",
       "      <td>Apple</td>\n",
       "      <td>13.59</td>\n",
       "      <td>4.82</td>\n",
       "      <td>53200.00</td>\n",
       "      <td>87032.00</td>\n",
       "      <td>128249.00</td>\n",
       "      <td>14.93</td>\n",
       "      <td>36.90</td>\n",
       "      <td>59.572837</td>\n",
       "      <td>24.711888</td>\n",
       "    </tr>\n",
       "    <tr>\n",
       "      <th>2017</th>\n",
       "      <td>Apple</td>\n",
       "      <td>16.63</td>\n",
       "      <td>5.99</td>\n",
       "      <td>51774.00</td>\n",
       "      <td>115680.00</td>\n",
       "      <td>134047.00</td>\n",
       "      <td>13.87</td>\n",
       "      <td>36.87</td>\n",
       "      <td>53.677416</td>\n",
       "      <td>20.732240</td>\n",
       "    </tr>\n",
       "    <tr>\n",
       "      <th>...</th>\n",
       "      <td>...</td>\n",
       "      <td>...</td>\n",
       "      <td>...</td>\n",
       "      <td>...</td>\n",
       "      <td>...</td>\n",
       "      <td>...</td>\n",
       "      <td>...</td>\n",
       "      <td>...</td>\n",
       "      <td>...</td>\n",
       "      <td>...</td>\n",
       "    </tr>\n",
       "    <tr>\n",
       "      <th>2018</th>\n",
       "      <td>Vertex Pharmaceuticals</td>\n",
       "      <td>20.11</td>\n",
       "      <td>9.50</td>\n",
       "      <td>1174.84</td>\n",
       "      <td>591.55</td>\n",
       "      <td>4435.20</td>\n",
       "      <td>42.83</td>\n",
       "      <td>64.74</td>\n",
       "      <td>88.231959</td>\n",
       "      <td>23.371761</td>\n",
       "    </tr>\n",
       "    <tr>\n",
       "      <th>2019</th>\n",
       "      <td>Vertex Pharmaceuticals</td>\n",
       "      <td>47.91</td>\n",
       "      <td>9.24</td>\n",
       "      <td>1493.90</td>\n",
       "      <td>588.58</td>\n",
       "      <td>6085.24</td>\n",
       "      <td>16.16</td>\n",
       "      <td>22.37</td>\n",
       "      <td>91.180763</td>\n",
       "      <td>22.384481</td>\n",
       "    </tr>\n",
       "    <tr>\n",
       "      <th>2020</th>\n",
       "      <td>Vertex Pharmaceuticals</td>\n",
       "      <td>22.68</td>\n",
       "      <td>7.07</td>\n",
       "      <td>2993.70</td>\n",
       "      <td>592.00</td>\n",
       "      <td>8686.80</td>\n",
       "      <td>27.02</td>\n",
       "      <td>36.71</td>\n",
       "      <td>93.619865</td>\n",
       "      <td>32.263870</td>\n",
       "    </tr>\n",
       "    <tr>\n",
       "      <th>2021</th>\n",
       "      <td>Vertex Pharmaceuticals</td>\n",
       "      <td>24.13</td>\n",
       "      <td>5.60</td>\n",
       "      <td>2408.50</td>\n",
       "      <td>589.80</td>\n",
       "      <td>10100.00</td>\n",
       "      <td>18.60</td>\n",
       "      <td>24.93</td>\n",
       "      <td>94.482591</td>\n",
       "      <td>22.530824</td>\n",
       "    </tr>\n",
       "    <tr>\n",
       "      <th>2022</th>\n",
       "      <td>Vertex Pharmaceuticals</td>\n",
       "      <td>22.04</td>\n",
       "      <td>5.27</td>\n",
       "      <td>3925.20</td>\n",
       "      <td>430.80</td>\n",
       "      <td>13912.70</td>\n",
       "      <td>21.04</td>\n",
       "      <td>27.67</td>\n",
       "      <td>96.996549</td>\n",
       "      <td>27.365706</td>\n",
       "    </tr>\n",
       "  </tbody>\n",
       "</table>\n",
       "<p>740 rows × 10 columns</p>\n",
       "</div>"
      ],
      "text/plain": [
       "                company_name  PE ratio  PB Ratio       FCF  Total Debt  \\\n",
       "year                                                                     \n",
       "2013                   Apple     11.95      3.57  44590.00    16960.00   \n",
       "2014                   Apple     15.56      5.50  49900.00    35295.00   \n",
       "2015                   Apple     11.93      5.32  69778.00    64328.00   \n",
       "2016                   Apple     13.59      4.82  53200.00    87032.00   \n",
       "2017                   Apple     16.63      5.99  51774.00   115680.00   \n",
       "...                      ...       ...       ...       ...         ...   \n",
       "2018  Vertex Pharmaceuticals     20.11      9.50   1174.84      591.55   \n",
       "2019  Vertex Pharmaceuticals     47.91      9.24   1493.90      588.58   \n",
       "2020  Vertex Pharmaceuticals     22.68      7.07   2993.70      592.00   \n",
       "2021  Vertex Pharmaceuticals     24.13      5.60   2408.50      589.80   \n",
       "2022  Vertex Pharmaceuticals     22.04      5.27   3925.20      430.80   \n",
       "\n",
       "      Sh Equity    ROA    ROE  Equity_Ratio  FCF_Ratio  \n",
       "year                                                    \n",
       "2013  123549.00  19.34  30.64     87.929599  31.734622  \n",
       "2014  111547.00  18.01  33.61     75.963961  33.982103  \n",
       "2015  119355.00  20.45  46.25     64.978795  37.988273  \n",
       "2016  128249.00  14.93  36.90     59.572837  24.711888  \n",
       "2017  134047.00  13.87  36.87     53.677416  20.732240  \n",
       "...         ...    ...    ...           ...        ...  \n",
       "2018    4435.20  42.83  64.74     88.231959  23.371761  \n",
       "2019    6085.24  16.16  22.37     91.180763  22.384481  \n",
       "2020    8686.80  27.02  36.71     93.619865  32.263870  \n",
       "2021   10100.00  18.60  24.93     94.482591  22.530824  \n",
       "2022   13912.70  21.04  27.67     96.996549  27.365706  \n",
       "\n",
       "[740 rows x 10 columns]"
      ]
     },
     "execution_count": 121,
     "metadata": {},
     "output_type": "execute_result"
    }
   ],
   "source": [
    "# RATIO\n",
    "column_index_list_percent = ['Equity_Ratio', 'FCF_Ratio']\n",
    "column_index_list = ['Sh Equity', 'FCF']\n",
    "for column_index_percent, column_index in zip(column_index_list_percent, column_index_list):\n",
    "    StockMarketEDA_us_clean[column_index_percent] = StockMarketEDA_us_clean[column_index] /(StockMarketEDA_us_clean['Total Debt'] + StockMarketEDA_us_clean['Sh Equity'])*100\n",
    "StockMarketEDA_us_clean"
   ]
  },
  {
   "cell_type": "code",
   "execution_count": 122,
   "metadata": {},
   "outputs": [],
   "source": [
    "StockMarketEDA_us_clean = StockMarketEDA_us_clean.drop(StockMarketEDA_us_clean.columns[[3,4,5]], axis=1)"
   ]
  },
  {
   "cell_type": "code",
   "execution_count": 123,
   "metadata": {},
   "outputs": [
    {
     "data": {
      "text/html": [
       "<div>\n",
       "<style scoped>\n",
       "    .dataframe tbody tr th:only-of-type {\n",
       "        vertical-align: middle;\n",
       "    }\n",
       "\n",
       "    .dataframe tbody tr th {\n",
       "        vertical-align: top;\n",
       "    }\n",
       "\n",
       "    .dataframe thead th {\n",
       "        text-align: right;\n",
       "    }\n",
       "</style>\n",
       "<table border=\"1\" class=\"dataframe\">\n",
       "  <thead>\n",
       "    <tr style=\"text-align: right;\">\n",
       "      <th></th>\n",
       "      <th>name</th>\n",
       "      <th>PER</th>\n",
       "      <th>PBR</th>\n",
       "      <th>ROA</th>\n",
       "      <th>ROE</th>\n",
       "      <th>Equity_Ratio</th>\n",
       "      <th>FCF_Ratio</th>\n",
       "    </tr>\n",
       "    <tr>\n",
       "      <th>year</th>\n",
       "      <th></th>\n",
       "      <th></th>\n",
       "      <th></th>\n",
       "      <th></th>\n",
       "      <th></th>\n",
       "      <th></th>\n",
       "      <th></th>\n",
       "    </tr>\n",
       "  </thead>\n",
       "  <tbody>\n",
       "    <tr>\n",
       "      <th>2013</th>\n",
       "      <td>Apple</td>\n",
       "      <td>11.95</td>\n",
       "      <td>3.57</td>\n",
       "      <td>19.34</td>\n",
       "      <td>30.64</td>\n",
       "      <td>87.929599</td>\n",
       "      <td>31.734622</td>\n",
       "    </tr>\n",
       "    <tr>\n",
       "      <th>2014</th>\n",
       "      <td>Apple</td>\n",
       "      <td>15.56</td>\n",
       "      <td>5.50</td>\n",
       "      <td>18.01</td>\n",
       "      <td>33.61</td>\n",
       "      <td>75.963961</td>\n",
       "      <td>33.982103</td>\n",
       "    </tr>\n",
       "    <tr>\n",
       "      <th>2015</th>\n",
       "      <td>Apple</td>\n",
       "      <td>11.93</td>\n",
       "      <td>5.32</td>\n",
       "      <td>20.45</td>\n",
       "      <td>46.25</td>\n",
       "      <td>64.978795</td>\n",
       "      <td>37.988273</td>\n",
       "    </tr>\n",
       "    <tr>\n",
       "      <th>2016</th>\n",
       "      <td>Apple</td>\n",
       "      <td>13.59</td>\n",
       "      <td>4.82</td>\n",
       "      <td>14.93</td>\n",
       "      <td>36.90</td>\n",
       "      <td>59.572837</td>\n",
       "      <td>24.711888</td>\n",
       "    </tr>\n",
       "    <tr>\n",
       "      <th>2017</th>\n",
       "      <td>Apple</td>\n",
       "      <td>16.63</td>\n",
       "      <td>5.99</td>\n",
       "      <td>13.87</td>\n",
       "      <td>36.87</td>\n",
       "      <td>53.677416</td>\n",
       "      <td>20.732240</td>\n",
       "    </tr>\n",
       "    <tr>\n",
       "      <th>...</th>\n",
       "      <td>...</td>\n",
       "      <td>...</td>\n",
       "      <td>...</td>\n",
       "      <td>...</td>\n",
       "      <td>...</td>\n",
       "      <td>...</td>\n",
       "      <td>...</td>\n",
       "    </tr>\n",
       "    <tr>\n",
       "      <th>2018</th>\n",
       "      <td>Vertex Pharmaceuticals</td>\n",
       "      <td>20.11</td>\n",
       "      <td>9.50</td>\n",
       "      <td>42.83</td>\n",
       "      <td>64.74</td>\n",
       "      <td>88.231959</td>\n",
       "      <td>23.371761</td>\n",
       "    </tr>\n",
       "    <tr>\n",
       "      <th>2019</th>\n",
       "      <td>Vertex Pharmaceuticals</td>\n",
       "      <td>47.91</td>\n",
       "      <td>9.24</td>\n",
       "      <td>16.16</td>\n",
       "      <td>22.37</td>\n",
       "      <td>91.180763</td>\n",
       "      <td>22.384481</td>\n",
       "    </tr>\n",
       "    <tr>\n",
       "      <th>2020</th>\n",
       "      <td>Vertex Pharmaceuticals</td>\n",
       "      <td>22.68</td>\n",
       "      <td>7.07</td>\n",
       "      <td>27.02</td>\n",
       "      <td>36.71</td>\n",
       "      <td>93.619865</td>\n",
       "      <td>32.263870</td>\n",
       "    </tr>\n",
       "    <tr>\n",
       "      <th>2021</th>\n",
       "      <td>Vertex Pharmaceuticals</td>\n",
       "      <td>24.13</td>\n",
       "      <td>5.60</td>\n",
       "      <td>18.60</td>\n",
       "      <td>24.93</td>\n",
       "      <td>94.482591</td>\n",
       "      <td>22.530824</td>\n",
       "    </tr>\n",
       "    <tr>\n",
       "      <th>2022</th>\n",
       "      <td>Vertex Pharmaceuticals</td>\n",
       "      <td>22.04</td>\n",
       "      <td>5.27</td>\n",
       "      <td>21.04</td>\n",
       "      <td>27.67</td>\n",
       "      <td>96.996549</td>\n",
       "      <td>27.365706</td>\n",
       "    </tr>\n",
       "  </tbody>\n",
       "</table>\n",
       "<p>740 rows × 7 columns</p>\n",
       "</div>"
      ],
      "text/plain": [
       "                        name    PER   PBR    ROA    ROE  Equity_Ratio  \\\n",
       "year                                                                    \n",
       "2013                   Apple  11.95  3.57  19.34  30.64     87.929599   \n",
       "2014                   Apple  15.56  5.50  18.01  33.61     75.963961   \n",
       "2015                   Apple  11.93  5.32  20.45  46.25     64.978795   \n",
       "2016                   Apple  13.59  4.82  14.93  36.90     59.572837   \n",
       "2017                   Apple  16.63  5.99  13.87  36.87     53.677416   \n",
       "...                      ...    ...   ...    ...    ...           ...   \n",
       "2018  Vertex Pharmaceuticals  20.11  9.50  42.83  64.74     88.231959   \n",
       "2019  Vertex Pharmaceuticals  47.91  9.24  16.16  22.37     91.180763   \n",
       "2020  Vertex Pharmaceuticals  22.68  7.07  27.02  36.71     93.619865   \n",
       "2021  Vertex Pharmaceuticals  24.13  5.60  18.60  24.93     94.482591   \n",
       "2022  Vertex Pharmaceuticals  22.04  5.27  21.04  27.67     96.996549   \n",
       "\n",
       "      FCF_Ratio  \n",
       "year             \n",
       "2013  31.734622  \n",
       "2014  33.982103  \n",
       "2015  37.988273  \n",
       "2016  24.711888  \n",
       "2017  20.732240  \n",
       "...         ...  \n",
       "2018  23.371761  \n",
       "2019  22.384481  \n",
       "2020  32.263870  \n",
       "2021  22.530824  \n",
       "2022  27.365706  \n",
       "\n",
       "[740 rows x 7 columns]"
      ]
     },
     "execution_count": 123,
     "metadata": {},
     "output_type": "execute_result"
    }
   ],
   "source": [
    "StockMarketEDA_us_clean.rename(\n",
    "    columns={\n",
    "        StockMarketEDA_us_clean.columns[0]: \"name\",\n",
    "        StockMarketEDA_us_clean.columns[1]: \"PER\",\n",
    "        StockMarketEDA_us_clean.columns[2]: \"PBR\",\n",
    "        StockMarketEDA_us_clean.columns[3]: \"ROA\",\n",
    "        StockMarketEDA_us_clean.columns[4]: \"ROE\"\n",
    "    }, inplace=True\n",
    ")\n",
    "StockMarketEDA_us_clean"
   ]
  },
  {
   "cell_type": "code",
   "execution_count": 124,
   "metadata": {},
   "outputs": [
    {
     "data": {
      "text/html": [
       "<div>\n",
       "<style scoped>\n",
       "    .dataframe tbody tr th:only-of-type {\n",
       "        vertical-align: middle;\n",
       "    }\n",
       "\n",
       "    .dataframe tbody tr th {\n",
       "        vertical-align: top;\n",
       "    }\n",
       "\n",
       "    .dataframe thead th {\n",
       "        text-align: right;\n",
       "    }\n",
       "</style>\n",
       "<table border=\"1\" class=\"dataframe\">\n",
       "  <thead>\n",
       "    <tr style=\"text-align: right;\">\n",
       "      <th></th>\n",
       "      <th>name</th>\n",
       "      <th>ROE</th>\n",
       "      <th>ROA</th>\n",
       "      <th>PER</th>\n",
       "      <th>PBR</th>\n",
       "      <th>Equity_Ratio</th>\n",
       "      <th>FCF_Ratio</th>\n",
       "    </tr>\n",
       "    <tr>\n",
       "      <th>year</th>\n",
       "      <th></th>\n",
       "      <th></th>\n",
       "      <th></th>\n",
       "      <th></th>\n",
       "      <th></th>\n",
       "      <th></th>\n",
       "      <th></th>\n",
       "    </tr>\n",
       "  </thead>\n",
       "  <tbody>\n",
       "    <tr>\n",
       "      <th>2013</th>\n",
       "      <td>Apple</td>\n",
       "      <td>30.64</td>\n",
       "      <td>19.34</td>\n",
       "      <td>11.95</td>\n",
       "      <td>3.57</td>\n",
       "      <td>87.929599</td>\n",
       "      <td>31.734622</td>\n",
       "    </tr>\n",
       "    <tr>\n",
       "      <th>2014</th>\n",
       "      <td>Apple</td>\n",
       "      <td>33.61</td>\n",
       "      <td>18.01</td>\n",
       "      <td>15.56</td>\n",
       "      <td>5.50</td>\n",
       "      <td>75.963961</td>\n",
       "      <td>33.982103</td>\n",
       "    </tr>\n",
       "    <tr>\n",
       "      <th>2015</th>\n",
       "      <td>Apple</td>\n",
       "      <td>46.25</td>\n",
       "      <td>20.45</td>\n",
       "      <td>11.93</td>\n",
       "      <td>5.32</td>\n",
       "      <td>64.978795</td>\n",
       "      <td>37.988273</td>\n",
       "    </tr>\n",
       "    <tr>\n",
       "      <th>2016</th>\n",
       "      <td>Apple</td>\n",
       "      <td>36.90</td>\n",
       "      <td>14.93</td>\n",
       "      <td>13.59</td>\n",
       "      <td>4.82</td>\n",
       "      <td>59.572837</td>\n",
       "      <td>24.711888</td>\n",
       "    </tr>\n",
       "    <tr>\n",
       "      <th>2017</th>\n",
       "      <td>Apple</td>\n",
       "      <td>36.87</td>\n",
       "      <td>13.87</td>\n",
       "      <td>16.63</td>\n",
       "      <td>5.99</td>\n",
       "      <td>53.677416</td>\n",
       "      <td>20.732240</td>\n",
       "    </tr>\n",
       "    <tr>\n",
       "      <th>...</th>\n",
       "      <td>...</td>\n",
       "      <td>...</td>\n",
       "      <td>...</td>\n",
       "      <td>...</td>\n",
       "      <td>...</td>\n",
       "      <td>...</td>\n",
       "      <td>...</td>\n",
       "    </tr>\n",
       "    <tr>\n",
       "      <th>2018</th>\n",
       "      <td>Vertex Pharmaceuticals</td>\n",
       "      <td>64.74</td>\n",
       "      <td>42.83</td>\n",
       "      <td>20.11</td>\n",
       "      <td>9.50</td>\n",
       "      <td>88.231959</td>\n",
       "      <td>23.371761</td>\n",
       "    </tr>\n",
       "    <tr>\n",
       "      <th>2019</th>\n",
       "      <td>Vertex Pharmaceuticals</td>\n",
       "      <td>22.37</td>\n",
       "      <td>16.16</td>\n",
       "      <td>47.91</td>\n",
       "      <td>9.24</td>\n",
       "      <td>91.180763</td>\n",
       "      <td>22.384481</td>\n",
       "    </tr>\n",
       "    <tr>\n",
       "      <th>2020</th>\n",
       "      <td>Vertex Pharmaceuticals</td>\n",
       "      <td>36.71</td>\n",
       "      <td>27.02</td>\n",
       "      <td>22.68</td>\n",
       "      <td>7.07</td>\n",
       "      <td>93.619865</td>\n",
       "      <td>32.263870</td>\n",
       "    </tr>\n",
       "    <tr>\n",
       "      <th>2021</th>\n",
       "      <td>Vertex Pharmaceuticals</td>\n",
       "      <td>24.93</td>\n",
       "      <td>18.60</td>\n",
       "      <td>24.13</td>\n",
       "      <td>5.60</td>\n",
       "      <td>94.482591</td>\n",
       "      <td>22.530824</td>\n",
       "    </tr>\n",
       "    <tr>\n",
       "      <th>2022</th>\n",
       "      <td>Vertex Pharmaceuticals</td>\n",
       "      <td>27.67</td>\n",
       "      <td>21.04</td>\n",
       "      <td>22.04</td>\n",
       "      <td>5.27</td>\n",
       "      <td>96.996549</td>\n",
       "      <td>27.365706</td>\n",
       "    </tr>\n",
       "  </tbody>\n",
       "</table>\n",
       "<p>740 rows × 7 columns</p>\n",
       "</div>"
      ],
      "text/plain": [
       "                        name    ROE    ROA    PER   PBR  Equity_Ratio  \\\n",
       "year                                                                    \n",
       "2013                   Apple  30.64  19.34  11.95  3.57     87.929599   \n",
       "2014                   Apple  33.61  18.01  15.56  5.50     75.963961   \n",
       "2015                   Apple  46.25  20.45  11.93  5.32     64.978795   \n",
       "2016                   Apple  36.90  14.93  13.59  4.82     59.572837   \n",
       "2017                   Apple  36.87  13.87  16.63  5.99     53.677416   \n",
       "...                      ...    ...    ...    ...   ...           ...   \n",
       "2018  Vertex Pharmaceuticals  64.74  42.83  20.11  9.50     88.231959   \n",
       "2019  Vertex Pharmaceuticals  22.37  16.16  47.91  9.24     91.180763   \n",
       "2020  Vertex Pharmaceuticals  36.71  27.02  22.68  7.07     93.619865   \n",
       "2021  Vertex Pharmaceuticals  24.93  18.60  24.13  5.60     94.482591   \n",
       "2022  Vertex Pharmaceuticals  27.67  21.04  22.04  5.27     96.996549   \n",
       "\n",
       "      FCF_Ratio  \n",
       "year             \n",
       "2013  31.734622  \n",
       "2014  33.982103  \n",
       "2015  37.988273  \n",
       "2016  24.711888  \n",
       "2017  20.732240  \n",
       "...         ...  \n",
       "2018  23.371761  \n",
       "2019  22.384481  \n",
       "2020  32.263870  \n",
       "2021  22.530824  \n",
       "2022  27.365706  \n",
       "\n",
       "[740 rows x 7 columns]"
      ]
     },
     "execution_count": 124,
     "metadata": {},
     "output_type": "execute_result"
    }
   ],
   "source": [
    "StockMarketEDA_us_clean.insert(1, \"ROE\" ,StockMarketEDA_us_clean.pop('ROE'))\n",
    "StockMarketEDA_us_clean.insert(4, \"PBR\" ,StockMarketEDA_us_clean.pop('PBR'))\n",
    "StockMarketEDA_us_clean.insert(3, \"PER\" ,StockMarketEDA_us_clean.pop('PER'))\n",
    "StockMarketEDA_us_clean"
   ]
  },
  {
   "cell_type": "code",
   "execution_count": 125,
   "metadata": {},
   "outputs": [],
   "source": [
    "StockMarketEDA_us_clean.to_csv('./df_us_ready.csv', sep=',', encoding='utf-8')"
   ]
  },
  {
   "cell_type": "markdown",
   "metadata": {},
   "source": [
    "## 데이터 정리 완료"
   ]
  },
  {
   "attachments": {},
   "cell_type": "markdown",
   "metadata": {},
   "source": [
    "## YOY"
   ]
  },
  {
   "cell_type": "code",
   "execution_count": 127,
   "metadata": {},
   "outputs": [
    {
     "name": "stdout",
     "output_type": "stream",
     "text": [
      "Collecting yfinance\n",
      "  Downloading yfinance-0.2.12-py2.py3-none-any.whl (59 kB)\n",
      "Collecting requests>=2.26\n",
      "  Using cached requests-2.28.2-py3-none-any.whl (62 kB)\n",
      "Collecting frozendict>=2.3.4\n",
      "  Downloading frozendict-2.3.5-cp39-cp39-win_amd64.whl (35 kB)\n",
      "Collecting appdirs>=1.4.4\n",
      "  Using cached appdirs-1.4.4-py2.py3-none-any.whl (9.6 kB)\n",
      "Collecting lxml>=4.9.1\n",
      "  Using cached lxml-4.9.2-cp39-cp39-win_amd64.whl (3.9 MB)\n",
      "Collecting html5lib>=1.1\n",
      "  Using cached html5lib-1.1-py2.py3-none-any.whl (112 kB)\n",
      "Requirement already satisfied: pandas>=1.3.0 in c:\\users\\user\\ws\\venv\\lib\\site-packages (from yfinance) (1.5.3)\n",
      "Requirement already satisfied: beautifulsoup4>=4.11.1 in c:\\users\\user\\ws\\venv\\lib\\site-packages (from yfinance) (4.11.2)\n",
      "Collecting cryptography>=3.3.2\n",
      "  Downloading cryptography-39.0.1-cp36-abi3-win_amd64.whl (2.5 MB)\n",
      "Requirement already satisfied: pytz>=2022.5 in c:\\users\\user\\ws\\venv\\lib\\site-packages (from yfinance) (2022.7.1)\n",
      "Requirement already satisfied: numpy>=1.16.5 in c:\\users\\user\\ws\\venv\\lib\\site-packages (from yfinance) (1.24.2)\n",
      "Collecting multitasking>=0.0.7\n",
      "  Using cached multitasking-0.0.11-py3-none-any.whl (8.5 kB)\n",
      "Requirement already satisfied: soupsieve>1.2 in c:\\users\\user\\ws\\venv\\lib\\site-packages (from beautifulsoup4>=4.11.1->yfinance) (2.4)\n",
      "Requirement already satisfied: cffi>=1.12 in c:\\users\\user\\ws\\venv\\lib\\site-packages (from cryptography>=3.3.2->yfinance) (1.15.1)\n",
      "Requirement already satisfied: pycparser in c:\\users\\user\\ws\\venv\\lib\\site-packages (from cffi>=1.12->cryptography>=3.3.2->yfinance) (2.21)\n",
      "Collecting webencodings\n",
      "  Downloading webencodings-0.5.1-py2.py3-none-any.whl (11 kB)\n",
      "Requirement already satisfied: six>=1.9 in c:\\users\\user\\ws\\venv\\lib\\site-packages (from html5lib>=1.1->yfinance) (1.16.0)\n",
      "Requirement already satisfied: python-dateutil>=2.8.1 in c:\\users\\user\\ws\\venv\\lib\\site-packages (from pandas>=1.3.0->yfinance) (2.8.2)\n",
      "Requirement already satisfied: idna<4,>=2.5 in c:\\users\\user\\ws\\venv\\lib\\site-packages (from requests>=2.26->yfinance) (3.4)\n",
      "Requirement already satisfied: certifi>=2017.4.17 in c:\\users\\user\\ws\\venv\\lib\\site-packages (from requests>=2.26->yfinance) (2022.12.7)\n",
      "Requirement already satisfied: urllib3<1.27,>=1.21.1 in c:\\users\\user\\ws\\venv\\lib\\site-packages (from requests>=2.26->yfinance) (1.26.14)\n",
      "Collecting charset-normalizer<4,>=2\n",
      "  Using cached charset_normalizer-3.0.1-cp39-cp39-win_amd64.whl (96 kB)\n",
      "Installing collected packages: webencodings, charset-normalizer, requests, multitasking, lxml, html5lib, frozendict, cryptography, appdirs, yfinance\n",
      "Successfully installed appdirs-1.4.4 charset-normalizer-3.0.1 cryptography-39.0.1 frozendict-2.3.5 html5lib-1.1 lxml-4.9.2 multitasking-0.0.11 requests-2.28.2 webencodings-0.5.1 yfinance-0.2.12\n",
      "Note: you may need to restart the kernel to use updated packages.\n"
     ]
    },
    {
     "name": "stderr",
     "output_type": "stream",
     "text": [
      "WARNING: You are using pip version 21.1.1; however, version 23.0.1 is available.\n",
      "You should consider upgrading via the 'c:\\Users\\User\\ws\\venv\\Scripts\\python.exe -m pip install --upgrade pip' command.\n"
     ]
    }
   ],
   "source": [
    "pip install yfinance"
   ]
  },
  {
   "cell_type": "code",
   "execution_count": 128,
   "metadata": {},
   "outputs": [],
   "source": [
    "from datetime import datetime\n",
    "from datetime import timedelta\n",
    "import yfinance as yf\n",
    "import yfinance as yfin\n",
    "from tqdm import tqdm\n",
    "\n",
    "def get_ticker_list(df_ticker_list, company_name_list):\n",
    "    ticker_list =[]\n",
    "    for company in company_name_list:\n",
    "        if company in df_ticker_list.index.values.tolist():\n",
    "            ticker_list.append(df_ticker_list.loc[company][0])\n",
    "        else:\n",
    "            pass\n",
    "    return ticker_list\n",
    "\n",
    "def startDay_price(ticker, date_start):\n",
    "    \n",
    "    df = yf.download(ticker, start=date_start, end=datetime.strptime(date_start, '%Y-%m-%d') + timedelta(days=5) )\n",
    "    return df['Close'][0]\n",
    "\n",
    "def endDay_price(ticker, date_end):\n",
    "    df = yf.download(ticker, start=datetime.strptime(date_end, '%Y-%m-%d') + timedelta(days=-10), end=date_end )\n",
    "    return df['Close'][-1]\n"
   ]
  },
  {
   "cell_type": "markdown",
   "metadata": {},
   "source": [
    "## year를 통합하는 작업 필요!"
   ]
  },
  {
   "cell_type": "code",
   "execution_count": 178,
   "metadata": {},
   "outputs": [
    {
     "name": "stderr",
     "output_type": "stream",
     "text": [
      "  0%|          | 0/80 [00:00<?, ?it/s]"
     ]
    },
    {
     "name": "stdout",
     "output_type": "stream",
     "text": [
      "[*********************100%***********************]  1 of 1 completed\n",
      "[*********************100%***********************]  1 of 1 completed"
     ]
    },
    {
     "name": "stderr",
     "output_type": "stream",
     "text": [
      "  1%|▏         | 1/80 [00:01<01:59,  1.51s/it]"
     ]
    },
    {
     "name": "stdout",
     "output_type": "stream",
     "text": [
      "\n",
      "[*********************100%***********************]  1 of 1 completed\n",
      "[*********************100%***********************]  1 of 1 completed"
     ]
    },
    {
     "name": "stderr",
     "output_type": "stream",
     "text": [
      "  2%|▎         | 2/80 [00:02<01:48,  1.40s/it]"
     ]
    },
    {
     "name": "stdout",
     "output_type": "stream",
     "text": [
      "\n",
      "[*********************100%***********************]  1 of 1 completed\n",
      "[*********************100%***********************]  1 of 1 completed"
     ]
    },
    {
     "name": "stderr",
     "output_type": "stream",
     "text": [
      "  4%|▍         | 3/80 [00:04<01:44,  1.36s/it]"
     ]
    },
    {
     "name": "stdout",
     "output_type": "stream",
     "text": [
      "\n",
      "[*********************100%***********************]  1 of 1 completed\n",
      "[*********************100%***********************]  1 of 1 completed"
     ]
    },
    {
     "name": "stderr",
     "output_type": "stream",
     "text": [
      "  5%|▌         | 4/80 [00:05<01:46,  1.40s/it]"
     ]
    },
    {
     "name": "stdout",
     "output_type": "stream",
     "text": [
      "\n",
      "[*********************100%***********************]  1 of 1 completed\n",
      "[*********************100%***********************]  1 of 1 completed"
     ]
    },
    {
     "name": "stderr",
     "output_type": "stream",
     "text": [
      "  6%|▋         | 5/80 [00:07<01:45,  1.40s/it]"
     ]
    },
    {
     "name": "stdout",
     "output_type": "stream",
     "text": [
      "\n",
      "[*********************100%***********************]  1 of 1 completed\n",
      "[*********************100%***********************]  1 of 1 completed"
     ]
    },
    {
     "name": "stderr",
     "output_type": "stream",
     "text": [
      "  8%|▊         | 6/80 [00:08<01:39,  1.34s/it]"
     ]
    },
    {
     "name": "stdout",
     "output_type": "stream",
     "text": [
      "\n",
      "[*********************100%***********************]  1 of 1 completed\n",
      "[*********************100%***********************]  1 of 1 completed"
     ]
    },
    {
     "name": "stderr",
     "output_type": "stream",
     "text": [
      "  9%|▉         | 7/80 [00:09<01:32,  1.26s/it]"
     ]
    },
    {
     "name": "stdout",
     "output_type": "stream",
     "text": [
      "\n",
      "[*********************100%***********************]  1 of 1 completed\n",
      "[*********************100%***********************]  1 of 1 completed"
     ]
    },
    {
     "name": "stderr",
     "output_type": "stream",
     "text": [
      " 10%|█         | 8/80 [00:10<01:32,  1.28s/it]"
     ]
    },
    {
     "name": "stdout",
     "output_type": "stream",
     "text": [
      "\n",
      "[*********************100%***********************]  1 of 1 completed\n",
      "[*********************100%***********************]  1 of 1 completed"
     ]
    },
    {
     "name": "stderr",
     "output_type": "stream",
     "text": [
      " 11%|█▏        | 9/80 [00:12<01:45,  1.48s/it]"
     ]
    },
    {
     "name": "stdout",
     "output_type": "stream",
     "text": [
      "\n",
      "[*********************100%***********************]  1 of 1 completed\n",
      "[*********************100%***********************]  1 of 1 completed"
     ]
    },
    {
     "name": "stderr",
     "output_type": "stream",
     "text": [
      " 12%|█▎        | 10/80 [00:14<01:50,  1.57s/it]"
     ]
    },
    {
     "name": "stdout",
     "output_type": "stream",
     "text": [
      "\n",
      "[*********************100%***********************]  1 of 1 completed\n",
      "[*********************100%***********************]  1 of 1 completed"
     ]
    },
    {
     "name": "stderr",
     "output_type": "stream",
     "text": [
      " 14%|█▍        | 11/80 [00:16<01:59,  1.73s/it]"
     ]
    },
    {
     "name": "stdout",
     "output_type": "stream",
     "text": [
      "\n",
      "[*********************100%***********************]  1 of 1 completed\n",
      "[*********************100%***********************]  1 of 1 completed"
     ]
    },
    {
     "name": "stderr",
     "output_type": "stream",
     "text": [
      " 15%|█▌        | 12/80 [00:18<02:00,  1.77s/it]"
     ]
    },
    {
     "name": "stdout",
     "output_type": "stream",
     "text": [
      "\n",
      "[*********************100%***********************]  1 of 1 completed\n",
      "[*********************100%***********************]  1 of 1 completed"
     ]
    },
    {
     "name": "stderr",
     "output_type": "stream",
     "text": [
      " 16%|█▋        | 13/80 [00:20<02:07,  1.90s/it]"
     ]
    },
    {
     "name": "stdout",
     "output_type": "stream",
     "text": [
      "\n",
      "[*********************100%***********************]  1 of 1 completed\n",
      "[*********************100%***********************]  1 of 1 completed"
     ]
    },
    {
     "name": "stderr",
     "output_type": "stream",
     "text": [
      " 18%|█▊        | 14/80 [00:22<02:04,  1.89s/it]"
     ]
    },
    {
     "name": "stdout",
     "output_type": "stream",
     "text": [
      "\n",
      "[*********************100%***********************]  1 of 1 completed\n",
      "[*********************100%***********************]  1 of 1 completed"
     ]
    },
    {
     "name": "stderr",
     "output_type": "stream",
     "text": [
      " 19%|█▉        | 15/80 [00:24<02:00,  1.85s/it]"
     ]
    },
    {
     "name": "stdout",
     "output_type": "stream",
     "text": [
      "\n",
      "[*********************100%***********************]  1 of 1 completed\n",
      "[*********************100%***********************]  1 of 1 completed"
     ]
    },
    {
     "name": "stderr",
     "output_type": "stream",
     "text": [
      " 20%|██        | 16/80 [00:26<02:00,  1.89s/it]"
     ]
    },
    {
     "name": "stdout",
     "output_type": "stream",
     "text": [
      "\n",
      "[*********************100%***********************]  1 of 1 completed\n",
      "[*********************100%***********************]  1 of 1 completed"
     ]
    },
    {
     "name": "stderr",
     "output_type": "stream",
     "text": [
      " 21%|██▏       | 17/80 [00:27<01:53,  1.80s/it]"
     ]
    },
    {
     "name": "stdout",
     "output_type": "stream",
     "text": [
      "\n",
      "[*********************100%***********************]  1 of 1 completed\n",
      "[*********************100%***********************]  1 of 1 completed"
     ]
    },
    {
     "name": "stderr",
     "output_type": "stream",
     "text": [
      " 22%|██▎       | 18/80 [00:29<01:49,  1.76s/it]"
     ]
    },
    {
     "name": "stdout",
     "output_type": "stream",
     "text": [
      "\n",
      "[*********************100%***********************]  1 of 1 completed\n",
      "[*********************100%***********************]  1 of 1 completed"
     ]
    },
    {
     "name": "stderr",
     "output_type": "stream",
     "text": [
      " 24%|██▍       | 19/80 [00:31<01:52,  1.84s/it]"
     ]
    },
    {
     "name": "stdout",
     "output_type": "stream",
     "text": [
      "\n",
      "[*********************100%***********************]  1 of 1 completed\n",
      "[*********************100%***********************]  1 of 1 completed"
     ]
    },
    {
     "name": "stderr",
     "output_type": "stream",
     "text": [
      " 25%|██▌       | 20/80 [00:33<01:46,  1.77s/it]"
     ]
    },
    {
     "name": "stdout",
     "output_type": "stream",
     "text": [
      "\n",
      "[*********************100%***********************]  1 of 1 completed\n",
      "[*********************100%***********************]  1 of 1 completed"
     ]
    },
    {
     "name": "stderr",
     "output_type": "stream",
     "text": [
      " 26%|██▋       | 21/80 [00:34<01:45,  1.79s/it]"
     ]
    },
    {
     "name": "stdout",
     "output_type": "stream",
     "text": [
      "\n",
      "[*********************100%***********************]  1 of 1 completed\n",
      "[*********************100%***********************]  1 of 1 completed"
     ]
    },
    {
     "name": "stderr",
     "output_type": "stream",
     "text": [
      " 28%|██▊       | 22/80 [00:36<01:40,  1.73s/it]"
     ]
    },
    {
     "name": "stdout",
     "output_type": "stream",
     "text": [
      "\n",
      "[*********************100%***********************]  1 of 1 completed\n",
      "[*********************100%***********************]  1 of 1 completed"
     ]
    },
    {
     "name": "stderr",
     "output_type": "stream",
     "text": [
      " 29%|██▉       | 23/80 [00:38<01:39,  1.75s/it]"
     ]
    },
    {
     "name": "stdout",
     "output_type": "stream",
     "text": [
      "\n",
      "[*********************100%***********************]  1 of 1 completed\n",
      "[*********************100%***********************]  1 of 1 completed"
     ]
    },
    {
     "name": "stderr",
     "output_type": "stream",
     "text": [
      " 30%|███       | 24/80 [00:40<01:50,  1.98s/it]"
     ]
    },
    {
     "name": "stdout",
     "output_type": "stream",
     "text": [
      "\n",
      "[*********************100%***********************]  1 of 1 completed\n",
      "[*********************100%***********************]  1 of 1 completed"
     ]
    },
    {
     "name": "stderr",
     "output_type": "stream",
     "text": [
      " 31%|███▏      | 25/80 [00:42<01:52,  2.04s/it]"
     ]
    },
    {
     "name": "stdout",
     "output_type": "stream",
     "text": [
      "\n",
      "[*********************100%***********************]  1 of 1 completed\n",
      "[*********************100%***********************]  1 of 1 completed"
     ]
    },
    {
     "name": "stderr",
     "output_type": "stream",
     "text": [
      " 32%|███▎      | 26/80 [00:44<01:48,  2.01s/it]"
     ]
    },
    {
     "name": "stdout",
     "output_type": "stream",
     "text": [
      "\n",
      "[*********************100%***********************]  1 of 1 completed\n",
      "[*********************100%***********************]  1 of 1 completed"
     ]
    },
    {
     "name": "stderr",
     "output_type": "stream",
     "text": [
      " 34%|███▍      | 27/80 [00:46<01:48,  2.05s/it]"
     ]
    },
    {
     "name": "stdout",
     "output_type": "stream",
     "text": [
      "\n",
      "[*********************100%***********************]  1 of 1 completed\n",
      "[*********************100%***********************]  1 of 1 completed"
     ]
    },
    {
     "name": "stderr",
     "output_type": "stream",
     "text": [
      " 35%|███▌      | 28/80 [00:48<01:44,  2.02s/it]"
     ]
    },
    {
     "name": "stdout",
     "output_type": "stream",
     "text": [
      "\n",
      "[*********************100%***********************]  1 of 1 completed\n",
      "[*********************100%***********************]  1 of 1 completed"
     ]
    },
    {
     "name": "stderr",
     "output_type": "stream",
     "text": [
      " 36%|███▋      | 29/80 [00:50<01:43,  2.03s/it]"
     ]
    },
    {
     "name": "stdout",
     "output_type": "stream",
     "text": [
      "\n",
      "[*********************100%***********************]  1 of 1 completed\n",
      "[*********************100%***********************]  1 of 1 completed"
     ]
    },
    {
     "name": "stderr",
     "output_type": "stream",
     "text": [
      " 38%|███▊      | 30/80 [00:52<01:29,  1.79s/it]"
     ]
    },
    {
     "name": "stdout",
     "output_type": "stream",
     "text": [
      "\n",
      "[*********************100%***********************]  1 of 1 completed\n",
      "[*********************100%***********************]  1 of 1 completed"
     ]
    },
    {
     "name": "stderr",
     "output_type": "stream",
     "text": [
      " 39%|███▉      | 31/80 [00:53<01:20,  1.64s/it]"
     ]
    },
    {
     "name": "stdout",
     "output_type": "stream",
     "text": [
      "\n",
      "[*********************100%***********************]  1 of 1 completed\n",
      "[*********************100%***********************]  1 of 1 completed"
     ]
    },
    {
     "name": "stderr",
     "output_type": "stream",
     "text": [
      " 40%|████      | 32/80 [00:54<01:14,  1.55s/it]"
     ]
    },
    {
     "name": "stdout",
     "output_type": "stream",
     "text": [
      "\n",
      "[*********************100%***********************]  1 of 1 completed\n",
      "[*********************100%***********************]  1 of 1 completed"
     ]
    },
    {
     "name": "stderr",
     "output_type": "stream",
     "text": [
      " 41%|████▏     | 33/80 [00:56<01:07,  1.43s/it]"
     ]
    },
    {
     "name": "stdout",
     "output_type": "stream",
     "text": [
      "\n",
      "[*********************100%***********************]  1 of 1 completed\n",
      "[*********************100%***********************]  1 of 1 completed"
     ]
    },
    {
     "name": "stderr",
     "output_type": "stream",
     "text": [
      " 42%|████▎     | 34/80 [00:57<01:05,  1.42s/it]"
     ]
    },
    {
     "name": "stdout",
     "output_type": "stream",
     "text": [
      "\n",
      "[*********************100%***********************]  1 of 1 completed\n",
      "[*********************100%***********************]  1 of 1 completed"
     ]
    },
    {
     "name": "stderr",
     "output_type": "stream",
     "text": [
      " 44%|████▍     | 35/80 [00:58<01:02,  1.40s/it]"
     ]
    },
    {
     "name": "stdout",
     "output_type": "stream",
     "text": [
      "\n",
      "[*********************100%***********************]  1 of 1 completed\n",
      "[*********************100%***********************]  1 of 1 completed"
     ]
    },
    {
     "name": "stderr",
     "output_type": "stream",
     "text": [
      " 45%|████▌     | 36/80 [01:00<01:09,  1.57s/it]"
     ]
    },
    {
     "name": "stdout",
     "output_type": "stream",
     "text": [
      "\n",
      "[*********************100%***********************]  1 of 1 completed\n",
      "[*********************100%***********************]  1 of 1 completed"
     ]
    },
    {
     "name": "stderr",
     "output_type": "stream",
     "text": [
      " 46%|████▋     | 37/80 [01:02<01:07,  1.56s/it]"
     ]
    },
    {
     "name": "stdout",
     "output_type": "stream",
     "text": [
      "\n",
      "[*********************100%***********************]  1 of 1 completed\n",
      "[*********************100%***********************]  1 of 1 completed"
     ]
    },
    {
     "name": "stderr",
     "output_type": "stream",
     "text": [
      " 48%|████▊     | 38/80 [01:03<01:01,  1.46s/it]"
     ]
    },
    {
     "name": "stdout",
     "output_type": "stream",
     "text": [
      "\n",
      "[*********************100%***********************]  1 of 1 completed\n",
      "[*********************100%***********************]  1 of 1 completed"
     ]
    },
    {
     "name": "stderr",
     "output_type": "stream",
     "text": [
      " 49%|████▉     | 39/80 [01:05<01:02,  1.52s/it]"
     ]
    },
    {
     "name": "stdout",
     "output_type": "stream",
     "text": [
      "\n",
      "[*********************100%***********************]  1 of 1 completed\n",
      "[*********************100%***********************]  1 of 1 completed"
     ]
    },
    {
     "name": "stderr",
     "output_type": "stream",
     "text": [
      " 50%|█████     | 40/80 [01:06<00:59,  1.49s/it]"
     ]
    },
    {
     "name": "stdout",
     "output_type": "stream",
     "text": [
      "\n",
      "[*********************100%***********************]  1 of 1 completed\n",
      "[*********************100%***********************]  1 of 1 completed"
     ]
    },
    {
     "name": "stderr",
     "output_type": "stream",
     "text": [
      " 51%|█████▏    | 41/80 [01:07<00:55,  1.43s/it]"
     ]
    },
    {
     "name": "stdout",
     "output_type": "stream",
     "text": [
      "\n",
      "[*********************100%***********************]  1 of 1 completed\n",
      "[*********************100%***********************]  1 of 1 completed"
     ]
    },
    {
     "name": "stderr",
     "output_type": "stream",
     "text": [
      " 52%|█████▎    | 42/80 [01:09<00:53,  1.40s/it]"
     ]
    },
    {
     "name": "stdout",
     "output_type": "stream",
     "text": [
      "\n",
      "[*********************100%***********************]  1 of 1 completed\n",
      "[*********************100%***********************]  1 of 1 completed"
     ]
    },
    {
     "name": "stderr",
     "output_type": "stream",
     "text": [
      " 54%|█████▍    | 43/80 [01:10<00:49,  1.35s/it]"
     ]
    },
    {
     "name": "stdout",
     "output_type": "stream",
     "text": [
      "\n",
      "[*********************100%***********************]  1 of 1 completed\n",
      "[*********************100%***********************]  1 of 1 completed"
     ]
    },
    {
     "name": "stderr",
     "output_type": "stream",
     "text": [
      " 55%|█████▌    | 44/80 [01:11<00:47,  1.32s/it]"
     ]
    },
    {
     "name": "stdout",
     "output_type": "stream",
     "text": [
      "\n",
      "[*********************100%***********************]  1 of 1 completed\n",
      "[*********************100%***********************]  1 of 1 completed"
     ]
    },
    {
     "name": "stderr",
     "output_type": "stream",
     "text": [
      " 56%|█████▋    | 45/80 [01:13<00:47,  1.37s/it]"
     ]
    },
    {
     "name": "stdout",
     "output_type": "stream",
     "text": [
      "\n",
      "[*********************100%***********************]  1 of 1 completed\n",
      "[*********************100%***********************]  1 of 1 completed"
     ]
    },
    {
     "name": "stderr",
     "output_type": "stream",
     "text": [
      " 57%|█████▊    | 46/80 [01:14<00:49,  1.45s/it]"
     ]
    },
    {
     "name": "stdout",
     "output_type": "stream",
     "text": [
      "\n",
      "[*********************100%***********************]  1 of 1 completed\n",
      "[*********************100%***********************]  1 of 1 completed"
     ]
    },
    {
     "name": "stderr",
     "output_type": "stream",
     "text": [
      " 59%|█████▉    | 47/80 [01:16<00:46,  1.41s/it]"
     ]
    },
    {
     "name": "stdout",
     "output_type": "stream",
     "text": [
      "\n",
      "[*********************100%***********************]  1 of 1 completed\n",
      "[*********************100%***********************]  1 of 1 completed"
     ]
    },
    {
     "name": "stderr",
     "output_type": "stream",
     "text": [
      " 60%|██████    | 48/80 [01:18<00:51,  1.62s/it]"
     ]
    },
    {
     "name": "stdout",
     "output_type": "stream",
     "text": [
      "\n",
      "[*********************100%***********************]  1 of 1 completed\n",
      "[*********************100%***********************]  1 of 1 completed"
     ]
    },
    {
     "name": "stderr",
     "output_type": "stream",
     "text": [
      " 61%|██████▏   | 49/80 [01:19<00:49,  1.60s/it]"
     ]
    },
    {
     "name": "stdout",
     "output_type": "stream",
     "text": [
      "\n",
      "[*********************100%***********************]  1 of 1 completed\n",
      "[*********************100%***********************]  1 of 1 completed"
     ]
    },
    {
     "name": "stderr",
     "output_type": "stream",
     "text": [
      " 62%|██████▎   | 50/80 [01:21<00:48,  1.60s/it]"
     ]
    },
    {
     "name": "stdout",
     "output_type": "stream",
     "text": [
      "\n",
      "[*********************100%***********************]  1 of 1 completed\n",
      "[*********************100%***********************]  1 of 1 completed"
     ]
    },
    {
     "name": "stderr",
     "output_type": "stream",
     "text": [
      " 64%|██████▍   | 51/80 [01:23<00:48,  1.66s/it]"
     ]
    },
    {
     "name": "stdout",
     "output_type": "stream",
     "text": [
      "\n",
      "[*********************100%***********************]  1 of 1 completed\n",
      "[*********************100%***********************]  1 of 1 completed"
     ]
    },
    {
     "name": "stderr",
     "output_type": "stream",
     "text": [
      " 65%|██████▌   | 52/80 [01:25<00:51,  1.83s/it]"
     ]
    },
    {
     "name": "stdout",
     "output_type": "stream",
     "text": [
      "\n",
      "[*********************100%***********************]  1 of 1 completed\n",
      "[*********************100%***********************]  1 of 1 completed"
     ]
    },
    {
     "name": "stderr",
     "output_type": "stream",
     "text": [
      " 66%|██████▋   | 53/80 [01:27<00:52,  1.96s/it]"
     ]
    },
    {
     "name": "stdout",
     "output_type": "stream",
     "text": [
      "\n",
      "[*********************100%***********************]  1 of 1 completed\n",
      "[*********************100%***********************]  1 of 1 completed"
     ]
    },
    {
     "name": "stderr",
     "output_type": "stream",
     "text": [
      " 68%|██████▊   | 54/80 [01:30<00:55,  2.14s/it]"
     ]
    },
    {
     "name": "stdout",
     "output_type": "stream",
     "text": [
      "\n",
      "[*********************100%***********************]  1 of 1 completed\n",
      "[*********************100%***********************]  1 of 1 completed"
     ]
    },
    {
     "name": "stderr",
     "output_type": "stream",
     "text": [
      " 69%|██████▉   | 55/80 [01:31<00:50,  2.02s/it]"
     ]
    },
    {
     "name": "stdout",
     "output_type": "stream",
     "text": [
      "\n",
      "[*********************100%***********************]  1 of 1 completed\n",
      "[*********************100%***********************]  1 of 1 completed"
     ]
    },
    {
     "name": "stderr",
     "output_type": "stream",
     "text": [
      " 70%|███████   | 56/80 [01:33<00:42,  1.77s/it]"
     ]
    },
    {
     "name": "stdout",
     "output_type": "stream",
     "text": [
      "\n",
      "[*********************100%***********************]  1 of 1 completed\n",
      "[*********************100%***********************]  1 of 1 completed"
     ]
    },
    {
     "name": "stderr",
     "output_type": "stream",
     "text": [
      " 71%|███████▏  | 57/80 [01:34<00:37,  1.63s/it]"
     ]
    },
    {
     "name": "stdout",
     "output_type": "stream",
     "text": [
      "\n",
      "[*********************100%***********************]  1 of 1 completed\n",
      "[*********************100%***********************]  1 of 1 completed"
     ]
    },
    {
     "name": "stderr",
     "output_type": "stream",
     "text": [
      " 72%|███████▎  | 58/80 [01:35<00:33,  1.52s/it]"
     ]
    },
    {
     "name": "stdout",
     "output_type": "stream",
     "text": [
      "\n",
      "[*********************100%***********************]  1 of 1 completed\n",
      "[*********************100%***********************]  1 of 1 completed"
     ]
    },
    {
     "name": "stderr",
     "output_type": "stream",
     "text": [
      " 74%|███████▍  | 59/80 [01:36<00:30,  1.44s/it]"
     ]
    },
    {
     "name": "stdout",
     "output_type": "stream",
     "text": [
      "\n",
      "[*********************100%***********************]  1 of 1 completed\n",
      "[*********************100%***********************]  1 of 1 completed"
     ]
    },
    {
     "name": "stderr",
     "output_type": "stream",
     "text": [
      " 75%|███████▌  | 60/80 [01:38<00:28,  1.41s/it]"
     ]
    },
    {
     "name": "stdout",
     "output_type": "stream",
     "text": [
      "\n",
      "[*********************100%***********************]  1 of 1 completed\n",
      "[*********************100%***********************]  1 of 1 completed"
     ]
    },
    {
     "name": "stderr",
     "output_type": "stream",
     "text": [
      " 76%|███████▋  | 61/80 [01:39<00:25,  1.35s/it]"
     ]
    },
    {
     "name": "stdout",
     "output_type": "stream",
     "text": [
      "\n",
      "[*********************100%***********************]  1 of 1 completed\n",
      "[*********************100%***********************]  1 of 1 completed"
     ]
    },
    {
     "name": "stderr",
     "output_type": "stream",
     "text": [
      " 78%|███████▊  | 62/80 [01:40<00:23,  1.29s/it]"
     ]
    },
    {
     "name": "stdout",
     "output_type": "stream",
     "text": [
      "\n",
      "[*********************100%***********************]  1 of 1 completed\n",
      "[*********************100%***********************]  1 of 1 completed"
     ]
    },
    {
     "name": "stderr",
     "output_type": "stream",
     "text": [
      " 79%|███████▉  | 63/80 [01:42<00:22,  1.34s/it]"
     ]
    },
    {
     "name": "stdout",
     "output_type": "stream",
     "text": [
      "\n",
      "[*********************100%***********************]  1 of 1 completed\n",
      "[*********************100%***********************]  1 of 1 completed"
     ]
    },
    {
     "name": "stderr",
     "output_type": "stream",
     "text": [
      " 80%|████████  | 64/80 [01:43<00:20,  1.27s/it]"
     ]
    },
    {
     "name": "stdout",
     "output_type": "stream",
     "text": [
      "\n",
      "[*********************100%***********************]  1 of 1 completed\n",
      "[*********************100%***********************]  1 of 1 completed"
     ]
    },
    {
     "name": "stderr",
     "output_type": "stream",
     "text": [
      " 81%|████████▏ | 65/80 [01:44<00:19,  1.30s/it]"
     ]
    },
    {
     "name": "stdout",
     "output_type": "stream",
     "text": [
      "\n",
      "[*********************100%***********************]  1 of 1 completed\n",
      "[*********************100%***********************]  1 of 1 completed"
     ]
    },
    {
     "name": "stderr",
     "output_type": "stream",
     "text": [
      " 82%|████████▎ | 66/80 [01:45<00:18,  1.33s/it]"
     ]
    },
    {
     "name": "stdout",
     "output_type": "stream",
     "text": [
      "\n",
      "[*********************100%***********************]  1 of 1 completed\n",
      "[*********************100%***********************]  1 of 1 completed"
     ]
    },
    {
     "name": "stderr",
     "output_type": "stream",
     "text": [
      " 84%|████████▍ | 67/80 [01:47<00:16,  1.30s/it]"
     ]
    },
    {
     "name": "stdout",
     "output_type": "stream",
     "text": [
      "\n",
      "[*********************100%***********************]  1 of 1 completed\n",
      "[*********************100%***********************]  1 of 1 completed"
     ]
    },
    {
     "name": "stderr",
     "output_type": "stream",
     "text": [
      " 85%|████████▌ | 68/80 [01:48<00:15,  1.31s/it]"
     ]
    },
    {
     "name": "stdout",
     "output_type": "stream",
     "text": [
      "\n",
      "[*********************100%***********************]  1 of 1 completed\n",
      "[*********************100%***********************]  1 of 1 completed"
     ]
    },
    {
     "name": "stderr",
     "output_type": "stream",
     "text": [
      " 86%|████████▋ | 69/80 [01:49<00:14,  1.32s/it]"
     ]
    },
    {
     "name": "stdout",
     "output_type": "stream",
     "text": [
      "\n",
      "[*********************100%***********************]  1 of 1 completed\n",
      "[*********************100%***********************]  1 of 1 completed"
     ]
    },
    {
     "name": "stderr",
     "output_type": "stream",
     "text": [
      " 88%|████████▊ | 70/80 [01:51<00:12,  1.28s/it]"
     ]
    },
    {
     "name": "stdout",
     "output_type": "stream",
     "text": [
      "\n",
      "[*********************100%***********************]  1 of 1 completed\n",
      "[*********************100%***********************]  1 of 1 completed"
     ]
    },
    {
     "name": "stderr",
     "output_type": "stream",
     "text": [
      " 89%|████████▉ | 71/80 [01:52<00:11,  1.26s/it]"
     ]
    },
    {
     "name": "stdout",
     "output_type": "stream",
     "text": [
      "\n",
      "[*********************100%***********************]  1 of 1 completed\n",
      "[*********************100%***********************]  1 of 1 completed"
     ]
    },
    {
     "name": "stderr",
     "output_type": "stream",
     "text": [
      " 90%|█████████ | 72/80 [01:53<00:09,  1.24s/it]"
     ]
    },
    {
     "name": "stdout",
     "output_type": "stream",
     "text": [
      "\n",
      "[*********************100%***********************]  1 of 1 completed\n",
      "[*********************100%***********************]  1 of 1 completed"
     ]
    },
    {
     "name": "stderr",
     "output_type": "stream",
     "text": [
      " 91%|█████████▏| 73/80 [01:54<00:08,  1.24s/it]"
     ]
    },
    {
     "name": "stdout",
     "output_type": "stream",
     "text": [
      "\n",
      "[*********************100%***********************]  1 of 1 completed\n",
      "[*********************100%***********************]  1 of 1 completed"
     ]
    },
    {
     "name": "stderr",
     "output_type": "stream",
     "text": [
      " 92%|█████████▎| 74/80 [01:56<00:07,  1.27s/it]"
     ]
    },
    {
     "name": "stdout",
     "output_type": "stream",
     "text": [
      "\n",
      "[*********************100%***********************]  1 of 1 completed\n",
      "[*********************100%***********************]  1 of 1 completed"
     ]
    },
    {
     "name": "stderr",
     "output_type": "stream",
     "text": [
      " 94%|█████████▍| 75/80 [01:57<00:06,  1.25s/it]"
     ]
    },
    {
     "name": "stdout",
     "output_type": "stream",
     "text": [
      "\n",
      "[*********************100%***********************]  1 of 1 completed\n",
      "[*********************100%***********************]  1 of 1 completed"
     ]
    },
    {
     "name": "stderr",
     "output_type": "stream",
     "text": [
      " 95%|█████████▌| 76/80 [01:58<00:05,  1.25s/it]"
     ]
    },
    {
     "name": "stdout",
     "output_type": "stream",
     "text": [
      "\n",
      "[*********************100%***********************]  1 of 1 completed\n",
      "[*********************100%***********************]  1 of 1 completed"
     ]
    },
    {
     "name": "stderr",
     "output_type": "stream",
     "text": [
      " 96%|█████████▋| 77/80 [02:00<00:04,  1.37s/it]"
     ]
    },
    {
     "name": "stdout",
     "output_type": "stream",
     "text": [
      "\n",
      "[*********************100%***********************]  1 of 1 completed\n",
      "[*********************100%***********************]  1 of 1 completed"
     ]
    },
    {
     "name": "stderr",
     "output_type": "stream",
     "text": [
      " 98%|█████████▊| 78/80 [02:01<00:02,  1.41s/it]"
     ]
    },
    {
     "name": "stdout",
     "output_type": "stream",
     "text": [
      "\n",
      "[*********************100%***********************]  1 of 1 completed\n",
      "[*********************100%***********************]  1 of 1 completed"
     ]
    },
    {
     "name": "stderr",
     "output_type": "stream",
     "text": [
      " 99%|█████████▉| 79/80 [02:03<00:01,  1.47s/it]"
     ]
    },
    {
     "name": "stdout",
     "output_type": "stream",
     "text": [
      "\n",
      "[*********************100%***********************]  1 of 1 completed\n",
      "[*********************100%***********************]  1 of 1 completed"
     ]
    },
    {
     "name": "stderr",
     "output_type": "stream",
     "text": [
      "100%|██████████| 80/80 [02:04<00:00,  1.56s/it]"
     ]
    },
    {
     "name": "stdout",
     "output_type": "stream",
     "text": [
      "\n"
     ]
    },
    {
     "name": "stderr",
     "output_type": "stream",
     "text": [
      "\n"
     ]
    }
   ],
   "source": [
    "StockMarketEDA_LR_new_med_US = pd.read_csv('./df_us_ready.csv', index_col=0)\n",
    "\n",
    "user_date_start, user_date_end = str(year) + '-01-01' , str(year) + '-12-31'\n",
    "\n",
    "#df_ticker_list= pd.read_csv('../data/ticker_us.csv', index_col=0)\n",
    "year = 2014\n",
    "company_name_list = new_ticker_list\n",
    "ticker_list = new_code_list\n",
    "\n",
    "closed_start = []\n",
    "closed_end = []\n",
    "\n",
    "for ticker in tqdm(ticker_list):\n",
    "    closed_start.append(startDay_price(ticker, user_date_start))\n",
    "    closed_end.append(endDay_price(ticker, user_date_end))\n",
    "\n",
    "df_closed = pd.DataFrame({\n",
    "    'company' : company_name_list,\n",
    "    'closed_start' : closed_start,\n",
    "    'closed_end' : closed_end\n",
    "})\n",
    "\n",
    "# 데이터 타입 변경\n",
    "df_closed['closed_end'] = df_closed['closed_end'].astype(float)\n",
    "df_closed['closed_start'] = df_closed['closed_start'].astype(float)\n",
    "\n",
    "\n",
    "# 증가율 산출 : (21년도 시총 - 20년도 시총 )/ 20년도 시총\n",
    "df_closed['price_YOY'] = (df_closed['closed_end'] - df_closed['closed_start']) / df_closed['closed_start']\n",
    "\n",
    "# 기존 데이터에 증가율 추가\n",
    "#StockMarketEDA_LR_new_US = pd.read_csv(file_path, index_col=0, dtype={'code': object})\n",
    "\n",
    "#StockMarketEDA_LR_new_US['price_YOY'] = df_closed['price_YOY'].to_list()\n",
    "\n",
    "#YoY_path = '../data/StockMarketEDA_LR_new_US_YOY_'+ str(year) +'.csv'\n",
    "#StockMarketEDA_LR_new_US.to_csv(YoY_path, sep=',', encoding='utf-8')"
   ]
  },
  {
   "cell_type": "code",
   "execution_count": 179,
   "metadata": {},
   "outputs": [
    {
     "data": {
      "text/html": [
       "<div>\n",
       "<style scoped>\n",
       "    .dataframe tbody tr th:only-of-type {\n",
       "        vertical-align: middle;\n",
       "    }\n",
       "\n",
       "    .dataframe tbody tr th {\n",
       "        vertical-align: top;\n",
       "    }\n",
       "\n",
       "    .dataframe thead th {\n",
       "        text-align: right;\n",
       "    }\n",
       "</style>\n",
       "<table border=\"1\" class=\"dataframe\">\n",
       "  <thead>\n",
       "    <tr style=\"text-align: right;\">\n",
       "      <th></th>\n",
       "      <th>company</th>\n",
       "      <th>closed_start</th>\n",
       "      <th>closed_end</th>\n",
       "      <th>price_YOY</th>\n",
       "    </tr>\n",
       "  </thead>\n",
       "  <tbody>\n",
       "    <tr>\n",
       "      <th>0</th>\n",
       "      <td>Apple</td>\n",
       "      <td>129.410004</td>\n",
       "      <td>178.199997</td>\n",
       "      <td>0.377019</td>\n",
       "    </tr>\n",
       "    <tr>\n",
       "      <th>1</th>\n",
       "      <td>Microsoft</td>\n",
       "      <td>217.690002</td>\n",
       "      <td>339.320007</td>\n",
       "      <td>0.558730</td>\n",
       "    </tr>\n",
       "    <tr>\n",
       "      <th>2</th>\n",
       "      <td>Alphabet (Google)</td>\n",
       "      <td>86.412003</td>\n",
       "      <td>146.002502</td>\n",
       "      <td>0.689609</td>\n",
       "    </tr>\n",
       "    <tr>\n",
       "      <th>3</th>\n",
       "      <td>Amazon</td>\n",
       "      <td>159.331497</td>\n",
       "      <td>168.644501</td>\n",
       "      <td>0.058450</td>\n",
       "    </tr>\n",
       "    <tr>\n",
       "      <th>4</th>\n",
       "      <td>Berkshire Hathaway</td>\n",
       "      <td>228.449997</td>\n",
       "      <td>299.980011</td>\n",
       "      <td>0.313110</td>\n",
       "    </tr>\n",
       "    <tr>\n",
       "      <th>...</th>\n",
       "      <td>...</td>\n",
       "      <td>...</td>\n",
       "      <td>...</td>\n",
       "      <td>...</td>\n",
       "    </tr>\n",
       "    <tr>\n",
       "      <th>75</th>\n",
       "      <td>Zoetis</td>\n",
       "      <td>163.589996</td>\n",
       "      <td>245.160004</td>\n",
       "      <td>0.498625</td>\n",
       "    </tr>\n",
       "    <tr>\n",
       "      <th>76</th>\n",
       "      <td>Target</td>\n",
       "      <td>177.630005</td>\n",
       "      <td>231.910004</td>\n",
       "      <td>0.305579</td>\n",
       "    </tr>\n",
       "    <tr>\n",
       "      <th>77</th>\n",
       "      <td>Schlumberger</td>\n",
       "      <td>21.950001</td>\n",
       "      <td>29.820000</td>\n",
       "      <td>0.358542</td>\n",
       "    </tr>\n",
       "    <tr>\n",
       "      <th>78</th>\n",
       "      <td>Duke Energy</td>\n",
       "      <td>89.709999</td>\n",
       "      <td>104.790001</td>\n",
       "      <td>0.168097</td>\n",
       "    </tr>\n",
       "    <tr>\n",
       "      <th>79</th>\n",
       "      <td>Vertex Pharmaceuticals</td>\n",
       "      <td>229.429993</td>\n",
       "      <td>222.449997</td>\n",
       "      <td>-0.030423</td>\n",
       "    </tr>\n",
       "  </tbody>\n",
       "</table>\n",
       "<p>80 rows × 4 columns</p>\n",
       "</div>"
      ],
      "text/plain": [
       "                   company  closed_start  closed_end  price_YOY\n",
       "0                    Apple    129.410004  178.199997   0.377019\n",
       "1                Microsoft    217.690002  339.320007   0.558730\n",
       "2        Alphabet (Google)     86.412003  146.002502   0.689609\n",
       "3                   Amazon    159.331497  168.644501   0.058450\n",
       "4       Berkshire Hathaway    228.449997  299.980011   0.313110\n",
       "..                     ...           ...         ...        ...\n",
       "75                  Zoetis    163.589996  245.160004   0.498625\n",
       "76                  Target    177.630005  231.910004   0.305579\n",
       "77            Schlumberger     21.950001   29.820000   0.358542\n",
       "78             Duke Energy     89.709999  104.790001   0.168097\n",
       "79  Vertex Pharmaceuticals    229.429993  222.449997  -0.030423\n",
       "\n",
       "[80 rows x 4 columns]"
      ]
     },
     "execution_count": 179,
     "metadata": {},
     "output_type": "execute_result"
    }
   ],
   "source": [
    "df_closed"
   ]
  },
  {
   "cell_type": "code",
   "execution_count": null,
   "metadata": {},
   "outputs": [],
   "source": []
  }
 ],
 "metadata": {
  "kernelspec": {
   "display_name": "venv",
   "language": "python",
   "name": "python3"
  },
  "language_info": {
   "codemirror_mode": {
    "name": "ipython",
    "version": 3
   },
   "file_extension": ".py",
   "mimetype": "text/x-python",
   "name": "python",
   "nbconvert_exporter": "python",
   "pygments_lexer": "ipython3",
   "version": "3.9.0"
  },
  "orig_nbformat": 4,
  "vscode": {
   "interpreter": {
    "hash": "19d552cfa1f15e414e17164e638e6e4d583736f2a4ca28c79f83cb55997fc1a4"
   }
  }
 },
 "nbformat": 4,
 "nbformat_minor": 2
}
