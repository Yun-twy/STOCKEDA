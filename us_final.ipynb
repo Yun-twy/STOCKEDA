{
 "cells": [
  {
   "cell_type": "code",
   "execution_count": 2,
   "metadata": {},
   "outputs": [],
   "source": [
    "from selenium import webdriver\n",
    "from selenium.webdriver.chrome.service import Service\n",
    "from selenium.webdriver.common.by import By\n",
    "from selenium.webdriver.common.keys import Keys\n",
    "from selenium.webdriver import ActionChains\n",
    "from bs4 import BeautifulSoup\n",
    "import time\n",
    "from selenium.webdriver.support.ui import WebDriverWait\n",
    "from selenium.webdriver.support import expected_conditions as EC\n",
    "from selenium.webdriver.support.ui import Select\n",
    "\n",
    "chrome_options = webdriver.ChromeOptions()\n",
    "\n",
    "url = 'https://companiesmarketcap.com/usa/largest-companies-in-the-usa-by-market-cap/'\n",
    "driver = webdriver.Chrome(service=Service('../driver/chromedriver'), options=chrome_options)\n",
    "driver.set_window_size(1920,1080)\n",
    "driver.get(url)"
   ]
  },
  {
   "cell_type": "code",
   "execution_count": 149,
   "metadata": {},
   "outputs": [],
   "source": [
    "# 주식 TOP 100 TICKER 크롤링\n",
    "comp_name=[]\n",
    "code = []\n",
    "a = driver.find_elements(By.CLASS_NAME,'company-code')\n",
    "\n",
    "# for i in range(len(a)):\n",
    "#     a = driver.find_elements(By.CLASS_NAME,'company-code')\n",
    "#     b = driver.find_elements(By.CLASS_NAME,'company-name')\n",
    "#     c = a[i].get_attribute('innerText')\n",
    "#     d = b[i].get_attribute('innerText')\n",
    "#     comp_name.append(d)\n",
    "#     code.append(c)\n",
    "\n",
    "# driver.find_element(By.CLASS_NAME,'page-link').click()\n",
    "\n",
    "for j in range(len(a)):\n",
    "    a = driver.find_elements(By.CLASS_NAME,'company-code')\n",
    "    b = driver.find_elements(By.CLASS_NAME,'company-name')\n",
    "    c = a[j].get_attribute('innerText')\n",
    "    d = b[j].get_attribute('innerText')\n",
    "    comp_name.append(d)\n",
    "    code.append(c)"
   ]
  },
  {
   "cell_type": "code",
   "execution_count": 152,
   "metadata": {},
   "outputs": [],
   "source": [
    "for j in range(len(a)):\n",
    "    a = driver.find_elements(By.CLASS_NAME,'company-code')\n",
    "    b = driver.find_elements(By.CLASS_NAME,'company-name')\n",
    "    c = a[j].get_attribute('innerText')\n",
    "    d = b[j].get_attribute('innerText')\n",
    "    comp_name.append(d)\n",
    "    code.append(c)"
   ]
  },
  {
   "cell_type": "code",
   "execution_count": 153,
   "metadata": {},
   "outputs": [],
   "source": [
    "comp_code =[]\n",
    "for i in code:\n",
    "    temp = i.replace('-','.').replace('META','FB')\n",
    "    comp_code.append(temp)\n"
   ]
  },
  {
   "cell_type": "code",
   "execution_count": 305,
   "metadata": {},
   "outputs": [
    {
     "ename": "NameError",
     "evalue": "name 'comp_name' is not defined",
     "output_type": "error",
     "traceback": [
      "\u001b[0;31m---------------------------------------------------------------------------\u001b[0m",
      "\u001b[0;31mNameError\u001b[0m                                 Traceback (most recent call last)",
      "Cell \u001b[0;32mIn[305], line 2\u001b[0m\n\u001b[1;32m      1\u001b[0m \u001b[39mimport\u001b[39;00m \u001b[39mpandas\u001b[39;00m \u001b[39mas\u001b[39;00m \u001b[39mpd\u001b[39;00m\n\u001b[0;32m----> 2\u001b[0m df_tmp \u001b[39m=\u001b[39m pd\u001b[39m.\u001b[39mDataFrame({\u001b[39m'\u001b[39m\u001b[39mcompany\u001b[39m\u001b[39m'\u001b[39m: comp_name,\n\u001b[1;32m      3\u001b[0m                        \u001b[39m'\u001b[39m\u001b[39mcode\u001b[39m\u001b[39m'\u001b[39m:comp_code\n\u001b[1;32m      4\u001b[0m                        })\n\u001b[1;32m      6\u001b[0m df_tmp\u001b[39m.\u001b[39mto_csv(\u001b[39m'\u001b[39m\u001b[39m../data/ticker_us.csv\u001b[39m\u001b[39m'\u001b[39m, sep\u001b[39m=\u001b[39m\u001b[39m'\u001b[39m\u001b[39m,\u001b[39m\u001b[39m'\u001b[39m, encoding\u001b[39m=\u001b[39m\u001b[39m'\u001b[39m\u001b[39mutf-8\u001b[39m\u001b[39m'\u001b[39m)\n",
      "\u001b[0;31mNameError\u001b[0m: name 'comp_name' is not defined"
     ]
    }
   ],
   "source": [
    "import pandas as pd\n",
    "df_tmp = pd.DataFrame({'company': comp_name,\n",
    "                       'code':comp_code\n",
    "                       })\n",
    "\n",
    "df_tmp.to_csv('../data/ticker_us.csv', sep=',', encoding='utf-8')"
   ]
  },
  {
   "attachments": {},
   "cell_type": "markdown",
   "metadata": {},
   "source": [
    "---\n",
    "### ticker list 가져오기"
   ]
  },
  {
   "cell_type": "code",
   "execution_count": 17,
   "metadata": {},
   "outputs": [
    {
     "data": {
      "text/html": [
       "<div>\n",
       "<style scoped>\n",
       "    .dataframe tbody tr th:only-of-type {\n",
       "        vertical-align: middle;\n",
       "    }\n",
       "\n",
       "    .dataframe tbody tr th {\n",
       "        vertical-align: top;\n",
       "    }\n",
       "\n",
       "    .dataframe thead th {\n",
       "        text-align: right;\n",
       "    }\n",
       "</style>\n",
       "<table border=\"1\" class=\"dataframe\">\n",
       "  <thead>\n",
       "    <tr style=\"text-align: right;\">\n",
       "      <th></th>\n",
       "      <th>compnay</th>\n",
       "    </tr>\n",
       "    <tr>\n",
       "      <th>code</th>\n",
       "      <th></th>\n",
       "    </tr>\n",
       "  </thead>\n",
       "  <tbody>\n",
       "    <tr>\n",
       "      <th>AAPL</th>\n",
       "      <td>Apple</td>\n",
       "    </tr>\n",
       "    <tr>\n",
       "      <th>MSFT</th>\n",
       "      <td>Microsoft</td>\n",
       "    </tr>\n",
       "    <tr>\n",
       "      <th>GOOG</th>\n",
       "      <td>Alphabet (Google)</td>\n",
       "    </tr>\n",
       "  </tbody>\n",
       "</table>\n",
       "</div>"
      ],
      "text/plain": [
       "                compnay\n",
       "code                   \n",
       "AAPL              Apple\n",
       "MSFT          Microsoft\n",
       "GOOG  Alphabet (Google)"
      ]
     },
     "execution_count": 17,
     "metadata": {},
     "output_type": "execute_result"
    }
   ],
   "source": [
    "import pandas as pd\n",
    "df_ticker_list= pd.read_csv('../data/ticker_us.csv', index_col=0)\n",
    "company_code = df_ticker_list['code'].tolist()\n",
    "df_ticker_list = df_ticker_list.set_index('code')\n",
    "df_ticker_list.head(3)"
   ]
  },
  {
   "cell_type": "markdown",
   "metadata": {},
   "source": [
    "---"
   ]
  },
  {
   "cell_type": "code",
   "execution_count": 3,
   "metadata": {},
   "outputs": [],
   "source": [
    "url = 'https://stockrow.com/users/sign_in'\n",
    "driver.get(url)\n",
    "driver.set_window_size(1920,1080)\n",
    "time.sleep(0.5)\n",
    "sign_in = driver.find_elements(By.TAG_NAME,'input')\n",
    "email = sign_in[1].send_keys('ksyrobot@gmail.com')\n",
    "password = sign_in[2].send_keys('rlatpdus22')\n",
    "sign_in[5].click()\n"
   ]
  },
  {
   "cell_type": "code",
   "execution_count": 30,
   "metadata": {},
   "outputs": [
    {
     "data": {
      "text/plain": [
       "250"
      ]
     },
     "execution_count": 30,
     "metadata": {},
     "output_type": "execute_result"
    }
   ],
   "source": [
    "len(company_code[102:352])"
   ]
  },
  {
   "cell_type": "code",
   "execution_count": 21,
   "metadata": {},
   "outputs": [
    {
     "name": "stderr",
     "output_type": "stream",
     "text": [
      "  2%|▏         | 5/250 [00:35<25:34,  6.26s/it]"
     ]
    },
    {
     "name": "stdout",
     "output_type": "stream",
     "text": [
      "[['62.27', '17.37', '19.79', '14.62', '13.52', '11.75', '13.31', '20.81', '23.89', '12.95', '16.10', '19.90', '14.60', 'PE Ratio'], ['1.66', '2.21', '2.43', '2.19', '3.28', '4.25', '6.18', '9.04', '15.50', '9.50', '9.12', '8.10', '6.97', 'PB Ratio'], ['559.80', '727.94', '587.24', '1254.68', '1873.15', '2382.28', '2872.52', '1923.21', '3239.07', '2553.64', '5684.00', '3204.00', '4176.00', 'FCF'], ['1490.83', '1518.82', '2361.03', '4325.86', '2693.41', '2416.59', '4489.90', '5810.73', '5001.68', '5005.83', '–', '–', '–', 'Total Debt'], ['4488.87', '5029.73', '5344.95', '6102.07', '6987.31', '6580.04', '4723.30', '5183.49', '6027.19', '6278.37', '–', '–', '–', \"Sh' Equity\"], ['1.49', '8.30', '7.55', '8.45', '13.92', '19.35', '17.90', '16.96', '25.67', '27.84', '25.80', '20.00', '22.80', 'ROA'], ['2.37', '13.29', '12.64', '15.97', '25.94', '35.09', '38.77', '45.46', '69.73', '74.85', '62.50', '41.80', '46.30', 'ROE'], ['Lam Research', 'Lam Research', 'Lam Research', 'Lam Research', 'Lam Research', 'Lam Research', 'Lam Research', 'Lam Research', 'Lam Research', 'Lam Research', 'Lam Research', 'Lam Research', 'Lam Research', 'Lam Research']]\n",
      "BX\n"
     ]
    },
    {
     "name": "stderr",
     "output_type": "stream",
     "text": [
      "  8%|▊         | 20/250 [02:03<17:33,  4.58s/it]"
     ]
    },
    {
     "name": "stdout",
     "output_type": "stream",
     "text": [
      "[['24.80', '29.29', '22.81', '22.63', '21.73', '33.04', '34.76', '32.72', '49.60', '31.92', '31.10', '25.80', '–', 'PE Ratio'], ['10.68', '25.39', '27.58', '13.42', '10.54', '9.81', '12.99', '18.41', '37.93', '23.73', '18.33', '19.06', '–', 'PB Ratio'], ['917.09', '880.98', '1213.12', '1069.55', '1661.20', '1692.70', '1992.40', '3104.80', '1872.60', '–', '2224.00', '2563.00', '–', 'FCF'], ['1721.87', '1798.70', '1949.89', '1952.54', '10520.60', '9343.70', '8685.20', '8292.10', '9615.00', '10569.70', '–', '–', '–', 'Total Debt'], ['1774.54', '996.47', '867.91', '1878.44', '3647.90', '3730.70', '4123.30', '3610.80', '2437.20', '3102.10', '–', '–', '–', \"Sh' Equity\"], ['11.86', '14.33', '18.36', '18.08', '12.97', '5.68', '7.78', '9.93', '9.08', '9.34', '8.91', '13.00', '–', 'ROA'], ['43.68', '63.42', '113.05', '82.49', '62.53', '30.05', '39.25', '52.51', '61.65', '0.00', '63.50', '72.00', '–', 'ROE'], ['Sherwin-Williams', 'Sherwin-Williams', 'Sherwin-Williams', 'Sherwin-Williams', 'Sherwin-Williams', 'Sherwin-Williams', 'Sherwin-Williams', 'Sherwin-Williams', 'Sherwin-Williams', 'Sherwin-Williams', 'Sherwin-Williams', 'Sherwin-Williams', 'Sherwin-Williams', 'Sherwin-Williams']]\n",
      "KKR\n"
     ]
    },
    {
     "name": "stderr",
     "output_type": "stream",
     "text": [
      " 13%|█▎        | 33/250 [03:13<16:38,  4.60s/it]"
     ]
    },
    {
     "name": "stdout",
     "output_type": "stream",
     "text": [
      "[['15.19', '17.02', '16.39', '18.90', '7.78', '15.71', '18.94', '30.23', '24.56', '18.21', '18.30', '17.00', '15.30', 'PE Ratio'], ['2.56', '2.73', '2.10', '2.53', '2.59', '2.70', '3.37', '4.10', '5.39', '4.54', '4.21', '4.12', '0.00', 'PB Ratio'], ['1251.00', '911.00', '586.00', '1277.00', '1732.00', '1979.00', '2250.00', '2476.00', '2944.00', '2537.00', '2482.00', '2392.00', '2768.00', 'FCF'], ['9448.00', '8985.00', '10093.00', '10212.00', '9836.00', '11145.00', '12196.00', '12681.00', '13840.00', '15182.00', '–', '–', '–', 'Total Debt'], ['11289.00', '12408.00', '12188.00', '12409.00', '16359.00', '15362.00', '15184.00', '14791.00', '13641.00', '12733.00', '–', '–', '–', \"Sh' Equity\"], ['6.06', '6.07', '4.60', '4.82', '15.30', '7.39', '7.33', '5.30', '7.86', '8.45', '7.90', '9.38', '9.30', 'ROA'], ['18.08', '16.83', '12.60', '13.52', '37.54', '16.77', '17.79', '13.41', '21.12', '24.80', '23.20', '26.10', '25.90', 'ROE'], ['Norfolk Southern', 'Norfolk Southern', 'Norfolk Southern', 'Norfolk Southern', 'Norfolk Southern', 'Norfolk Southern', 'Norfolk Southern', 'Norfolk Southern', 'Norfolk Southern', 'Norfolk Southern', 'Norfolk Southern', 'Norfolk Southern', 'Norfolk Southern', 'Norfolk Southern']]\n",
      "EPD\n"
     ]
    },
    {
     "name": "stderr",
     "output_type": "stream",
     "text": [
      " 34%|███▍      | 85/250 [08:12<16:23,  5.96s/it]"
     ]
    },
    {
     "name": "stdout",
     "output_type": "stream",
     "text": [
      "[['–', '–', '–', '120.83', '120.83', '120.83', '0.00', '43.02', '19.87', '31.35', '–', '–', '–', 'PE Ratio'], ['–', '–', '–', '0.29', '0.29', '0.29', '0.90', '1.16', '1.36', '1.65', '–', '–', '–', 'PB Ratio'], ['–', '–', '–', '3357.00', '1190.00', '(949.00)', '156.00', '1672.00', '2229.00', '340.00', '–', '–', '–', 'FCF'], ['–', '–', '–', '–', '13070.00', '7938.00', '122.00', '1105.00', '1117.00', '1307.00', '–', '–', '–', 'Total Debt'], ['–', '–', '–', '–', '0.00', '75153.00', '24555.00', '25063.00', '25623.00', '25541.00', '–', '–', '–', \"Sh' Equity\"], ['–', '–', '–', '0.00', '2.63', '(9.32)', '(1.27)', '1.60', '4.14', '2.70', '–', '–', '–', 'ROA'], ['–', '–', '–', '0.00', '3.91', '(6.77)', '(1.92)', '2.74', '6.94', '4.48', '–', '–', '–', 'ROE'], ['Corteva', 'Corteva', 'Corteva', 'Corteva', 'Corteva', 'Corteva', 'Corteva', 'Corteva', 'Corteva', 'Corteva', 'Corteva', 'Corteva', 'Corteva', 'Corteva']]\n",
      "APO\n"
     ]
    },
    {
     "name": "stderr",
     "output_type": "stream",
     "text": [
      " 43%|████▎     | 107/250 [10:11<10:44,  4.51s/it]"
     ]
    },
    {
     "name": "stdout",
     "output_type": "stream",
     "text": [
      "[['–', '19.46', '22.33', '22.09', '18.06', '21.38', '24.32', '19.71', '19.24', '35.67', '–', '13.60', '11.50', 'PE Ratio'], ['–', '2.57', '3.47', '3.62', '1.57', '2.58', '2.04', '2.05', '1.32', '1.78', '–', '1.30', '1.16', 'PB Ratio'], ['–', '314.00', '1120.00', '508.00', '1545.00', '1067.00', '559.00', '753.00', '4634.00', '3295.00', '–', '2943.00', '3465.00', 'FCF'], ['–', '669.00', '879.00', '1221.00', '4655.00', '4699.00', '6686.00', '13726.00', '16779.00', '18838.00', '–', '–', '–', 'Total Debt'], ['–', '1243.00', '1743.00', '2168.00', '5909.00', '6864.00', '11013.00', '12659.00', '25885.00', '26940.00', '–', '–', '–', \"Sh' Equity\"], ['–', '5.24', '5.79', '5.39', '4.08', '3.94', '3.41', '3.67', '3.30', '1.83', '–', '4.07', '4.20', 'ROA'], ['–', '15.02', '18.15', '18.15', '13.92', '12.96', '10.07', '11.16', '9.38', '5.10', '–', '12.40', '12.80', 'ROE'], ['Centene', 'Centene', 'Centene', 'Centene', 'Centene', 'Centene', 'Centene', 'Centene', 'Centene', 'Centene', 'Centene', 'Centene', 'Centene', 'Centene']]\n",
      "ET\n"
     ]
    },
    {
     "name": "stderr",
     "output_type": "stream",
     "text": [
      " 55%|█████▍    | 137/250 [12:49<08:28,  4.50s/it]"
     ]
    },
    {
     "name": "stdout",
     "output_type": "stream",
     "text": [
      "[['24.81', '22.31', '22.48', '21.99', '28.04', '17.58', '18.85', '31.89', '21.85', '12.80', '15.10', '13.90', '–', 'PE Ratio'], ['4.97', '4.14', '3.94', '3.20', '3.94', '3.23', '3.15', '4.08', '3.90', '2.40', '2.57', '2.30', '–', 'PB Ratio'], ['1162.20', '1261.00', '1914.00', '1345.00', '2123.00', '2215.00', '2107.00', '2901.00', '2216.00', '2236.00', '2202.00', '2473.00', '–', 'FCF'], ['–', '937.50', '877.00', '878.00', '873.00', '745.00', '951.00', '923.00', '867.00', '638.00', '–', '–', '–', 'Total Debt'], ['6135.79', '7740.20', '9278.00', '10728.00', '10669.00', '11424.00', '11022.00', '10836.00', '11991.00', '12309.00', '–', '–', '–', \"Sh' Equity\"], ['16.77', '14.67', '13.24', '11.37', '10.20', '13.53', '11.49', '8.40', '12.29', '12.83', '12.10', '12.50', '–', 'ROA'], ['22.36', '20.74', '19.09', '15.53', '14.06', '19.02', '16.41', '12.74', '18.72', '18.85', '17.90', '18.20', '–', 'ROE'], ['Cognizant Technology Solutions', 'Cognizant Technology Solutions', 'Cognizant Technology Solutions', 'Cognizant Technology Solutions', 'Cognizant Technology Solutions', 'Cognizant Technology Solutions', 'Cognizant Technology Solutions', 'Cognizant Technology Solutions', 'Cognizant Technology Solutions', 'Cognizant Technology Solutions', 'Cognizant Technology Solutions', 'Cognizant Technology Solutions', 'Cognizant Technology Solutions', 'Cognizant Technology Solutions']]\n",
      "MPLX\n"
     ]
    },
    {
     "name": "stderr",
     "output_type": "stream",
     "text": [
      " 81%|████████  | 203/250 [17:33<02:47,  3.56s/it]"
     ]
    },
    {
     "name": "stdout",
     "output_type": "stream",
     "text": [
      "[['–', '0.00', '0.00', '0.00', '0.00', '0.00', '0.00', '0.00', '50.33', '0.00', '–', '(59.50)', '528.00', 'PE Ratio'], ['–', '21.07', '18.81', '8.45', '11.76', '11.86', '7.01', '10.08', '8.78', '9.19', '–', '21.55', '20.00', 'PB Ratio'], ['–', '(23.26)', '(77.17)', '(146.59)', '(124.81)', '(147.62)', '(224.75)', '(234.49)', '774.16', '(551.34)', '–', '(249.00)', '273.00', 'FCF'], ['–', '–', '–', '–', '–', '–', '–', '77.00', '75.00', '71.00', '–', '–', '–', 'Total Debt'], ['–', '230.19', '210.83', '685.91', '634.09', '677.57', '1273.94', '1876.29', '3488.10', '3065.14', '–', '–', '–', \"Sh' Equity\"], ['–', '(13.09)', '(16.15)', '(17.80)', '(16.17)', '(14.63)', '(18.70)', '(8.55)', '19.77', '(17.47)', '–', '(6.91)', '(0.73)', 'ROA'], ['–', '(27.40)', '(34.53)', '(26.87)', '(21.23)', '(19.14)', '(22.82)', '(10.07)', '22.88', '(20.58)', '–', '(4.45)', '2.77', 'ROE'], ['Seagen', 'Seagen', 'Seagen', 'Seagen', 'Seagen', 'Seagen', 'Seagen', 'Seagen', 'Seagen', 'Seagen', 'Seagen', 'Seagen', 'Seagen', 'Seagen']]\n",
      "CQP\n"
     ]
    },
    {
     "name": "stderr",
     "output_type": "stream",
     "text": [
      "100%|██████████| 250/250 [20:45<00:00,  4.98s/it]\n"
     ]
    }
   ],
   "source": [
    "from tqdm import tqdm\n",
    "url_base = 'https://stockrow.com/'\n",
    "code_error = 0\n",
    "test = []\n",
    "year_list = []\n",
    "key_index_list = [6, 8, 19, 21, 22, 23, 25] #원하는 지표 : PER, PBR, \n",
    "data_list = []\n",
    "usa_df = []\n",
    "\n",
    "for each_company in tqdm(company_code[102:352]):\n",
    "    # if  len(usa_df) <= 1:\n",
    "        driver.get(url_base + each_company)\n",
    "        time.sleep(2)\n",
    "\n",
    "        try:\n",
    "            table = driver.find_element(By.CLASS_NAME, 'fundamentals') #전체 테이블\n",
    "            table_rows = table.find_elements(By.TAG_NAME, 'tr')\n",
    "\n",
    "            for key_index in key_index_list:\n",
    "                raw_data = table_rows[key_index].find_elements(By.TAG_NAME, 'td')\n",
    "                tag_list = []\n",
    "\n",
    "\n",
    "                # replacing , or %\n",
    "                if key_index not in [23, 25]:\n",
    "                    for tag in raw_data:\n",
    "                        tag_list.append(tag.text.replace(\",\",''))\n",
    "                    data_list.append(tag_list)\n",
    "\n",
    "                else:\n",
    "                    for tag in raw_data:\n",
    "                        tag_list.append(tag.text.replace('%',''))\n",
    "                    data_list.append(tag_list)      \n",
    "            \n",
    "\n",
    "            # company_name_code add\n",
    "            company_name_list = []\n",
    "            real_company_name = df_ticker_list.loc[each_company][0]\n",
    "            for i in range(14):\n",
    "                company_name_list.append(real_company_name)\n",
    "                \n",
    "            data_list.append(company_name_list)\n",
    "            \n",
    "            usa_df.append(data_list)\n",
    "            data_list = [] \n",
    "            time.sleep(0.1)\n",
    "\n",
    "        except:\n",
    "            print(usa_df[-1])\n",
    "            code_error += 1\n",
    "            print(each_company)\n",
    "        \n",
    "    # else:\n",
    "    #     break"
   ]
  },
  {
   "cell_type": "code",
   "execution_count": 26,
   "metadata": {},
   "outputs": [
    {
     "data": {
      "text/plain": [
       "(8,\n",
       " [['34.47',\n",
       "   '29.80',\n",
       "   '25.71',\n",
       "   '28.87',\n",
       "   '41.07',\n",
       "   '42.68',\n",
       "   '50.14',\n",
       "   '46.62',\n",
       "   '61.24',\n",
       "   '62.80',\n",
       "   '55.70',\n",
       "   '49.50',\n",
       "   '42.90',\n",
       "   'PE Ratio'],\n",
       "  ['4.91',\n",
       "   '4.65',\n",
       "   '3.84',\n",
       "   '4.32',\n",
       "   '6.12',\n",
       "   '7.39',\n",
       "   '9.73',\n",
       "   '7.28',\n",
       "   '8.12',\n",
       "   '8.35',\n",
       "   '6.51',\n",
       "   '5.70',\n",
       "   '4.44',\n",
       "   'PB Ratio'],\n",
       "  ['113.51',\n",
       "   '174.28',\n",
       "   '154.61',\n",
       "   '228.85',\n",
       "   '262.29',\n",
       "   '286.62',\n",
       "   '408.44',\n",
       "   '386.19',\n",
       "   '407.90',\n",
       "   '435.87',\n",
       "   '497.00',\n",
       "   '554.00',\n",
       "   '611.00',\n",
       "   'FCF'],\n",
       "  ['377.51',\n",
       "   '329.11',\n",
       "   '367.60',\n",
       "   '458.23',\n",
       "   '673.98',\n",
       "   '532.47',\n",
       "   '561.96',\n",
       "   '739.83',\n",
       "   '236.50',\n",
       "   '290.27',\n",
       "   '–',\n",
       "   '–',\n",
       "   '–',\n",
       "   'Total Debt'],\n",
       "  ['723.24',\n",
       "   '774.62',\n",
       "   '893.27',\n",
       "   '1047.70',\n",
       "   '1248.29',\n",
       "   '1503.01',\n",
       "   '1694.66',\n",
       "   '2010.61',\n",
       "   '2296.94',\n",
       "   '2648.31',\n",
       "   '–',\n",
       "   '–',\n",
       "   '–',\n",
       "   \"Sh' Equity\"],\n",
       "  ['7.51',\n",
       "   '8.03',\n",
       "   '8.27',\n",
       "   '8.36',\n",
       "   '8.25',\n",
       "   '10.04',\n",
       "   '11.66',\n",
       "   '9.64',\n",
       "   '8.64',\n",
       "   '9.26',\n",
       "   '0.00',\n",
       "   '0.00',\n",
       "   '0.00',\n",
       "   'ROA'],\n",
       "  ['14.19',\n",
       "   '16.20',\n",
       "   '15.99',\n",
       "   '16.09',\n",
       "   '16.20',\n",
       "   '18.84',\n",
       "   '20.51',\n",
       "   '16.95',\n",
       "   '14.12',\n",
       "   '14.22',\n",
       "   '14.90',\n",
       "   '14.30',\n",
       "   '13.70',\n",
       "   'ROE'],\n",
       "  ['HEICO',\n",
       "   'HEICO',\n",
       "   'HEICO',\n",
       "   'HEICO',\n",
       "   'HEICO',\n",
       "   'HEICO',\n",
       "   'HEICO',\n",
       "   'HEICO',\n",
       "   'HEICO',\n",
       "   'HEICO',\n",
       "   'HEICO',\n",
       "   'HEICO',\n",
       "   'HEICO',\n",
       "   'HEICO']])"
      ]
     },
     "execution_count": 26,
     "metadata": {},
     "output_type": "execute_result"
    }
   ],
   "source": [
    "len(usa_df[-1]),usa_df[-1]"
   ]
  },
  {
   "cell_type": "code",
   "execution_count": 37,
   "metadata": {},
   "outputs": [
    {
     "data": {
      "text/plain": [
       "(['PE Ratio',\n",
       "  'PB Ratio',\n",
       "  'FCF',\n",
       "  'Total Debt',\n",
       "  \"Sh' Equity\",\n",
       "  'ROA',\n",
       "  'ROE',\n",
       "  'AMZN'],\n",
       " 8)"
      ]
     },
     "execution_count": 37,
     "metadata": {},
     "output_type": "execute_result"
    }
   ],
   "source": [
    "tmp_list = []\n",
    "for i in range(len(test)):\n",
    "    tmp_list.append(test[i][-1])\n",
    "\n",
    "tmp_list, len(tmp_list)"
   ]
  },
  {
   "attachments": {},
   "cell_type": "markdown",
   "metadata": {},
   "source": [
    "---\n",
    "---\n",
    "### 판다 데이터 프레임으로 정렬"
   ]
  },
  {
   "cell_type": "code",
   "execution_count": 29,
   "metadata": {},
   "outputs": [
    {
     "data": {
      "text/html": [
       "<div>\n",
       "<style scoped>\n",
       "    .dataframe tbody tr th:only-of-type {\n",
       "        vertical-align: middle;\n",
       "    }\n",
       "\n",
       "    .dataframe tbody tr th {\n",
       "        vertical-align: top;\n",
       "    }\n",
       "\n",
       "    .dataframe thead th {\n",
       "        text-align: right;\n",
       "    }\n",
       "</style>\n",
       "<table border=\"1\" class=\"dataframe\">\n",
       "  <thead>\n",
       "    <tr style=\"text-align: right;\">\n",
       "      <th></th>\n",
       "      <th>year</th>\n",
       "      <th>PE ratio</th>\n",
       "      <th>PB Ratio</th>\n",
       "      <th>FCF</th>\n",
       "      <th>Total Debt</th>\n",
       "      <th>Sh Equity</th>\n",
       "      <th>ROA</th>\n",
       "      <th>ROE</th>\n",
       "      <th>company name</th>\n",
       "    </tr>\n",
       "  </thead>\n",
       "  <tbody>\n",
       "    <tr>\n",
       "      <th>3417</th>\n",
       "      <td>2020</td>\n",
       "      <td>28.83</td>\n",
       "      <td>5.56</td>\n",
       "      <td>522.09</td>\n",
       "      <td>1353.42</td>\n",
       "      <td>2600.14</td>\n",
       "      <td>8.88</td>\n",
       "      <td>20.79</td>\n",
       "      <td>J. B. Hunt</td>\n",
       "    </tr>\n",
       "    <tr>\n",
       "      <th>3418</th>\n",
       "      <td>2021</td>\n",
       "      <td>28.63</td>\n",
       "      <td>6.91</td>\n",
       "      <td>346.88</td>\n",
       "      <td>1301.23</td>\n",
       "      <td>3117.82</td>\n",
       "      <td>11.96</td>\n",
       "      <td>26.61</td>\n",
       "      <td>J. B. Hunt</td>\n",
       "    </tr>\n",
       "    <tr>\n",
       "      <th>3419</th>\n",
       "      <td>2022</td>\n",
       "      <td>18.76</td>\n",
       "      <td>4.88</td>\n",
       "      <td>–</td>\n",
       "      <td>1261.74</td>\n",
       "      <td>3666.77</td>\n",
       "      <td>13.34</td>\n",
       "      <td>0.00</td>\n",
       "      <td>J. B. Hunt</td>\n",
       "    </tr>\n",
       "    <tr>\n",
       "      <th>3420</th>\n",
       "      <td>2013</td>\n",
       "      <td>34.47</td>\n",
       "      <td>4.91</td>\n",
       "      <td>113.51</td>\n",
       "      <td>377.51</td>\n",
       "      <td>723.24</td>\n",
       "      <td>7.51</td>\n",
       "      <td>14.19</td>\n",
       "      <td>HEICO</td>\n",
       "    </tr>\n",
       "    <tr>\n",
       "      <th>3421</th>\n",
       "      <td>2014</td>\n",
       "      <td>29.80</td>\n",
       "      <td>4.65</td>\n",
       "      <td>174.28</td>\n",
       "      <td>329.11</td>\n",
       "      <td>774.62</td>\n",
       "      <td>8.03</td>\n",
       "      <td>16.20</td>\n",
       "      <td>HEICO</td>\n",
       "    </tr>\n",
       "    <tr>\n",
       "      <th>3422</th>\n",
       "      <td>2015</td>\n",
       "      <td>25.71</td>\n",
       "      <td>3.84</td>\n",
       "      <td>154.61</td>\n",
       "      <td>367.60</td>\n",
       "      <td>893.27</td>\n",
       "      <td>8.27</td>\n",
       "      <td>15.99</td>\n",
       "      <td>HEICO</td>\n",
       "    </tr>\n",
       "    <tr>\n",
       "      <th>3423</th>\n",
       "      <td>2016</td>\n",
       "      <td>28.87</td>\n",
       "      <td>4.32</td>\n",
       "      <td>228.85</td>\n",
       "      <td>458.23</td>\n",
       "      <td>1047.70</td>\n",
       "      <td>8.36</td>\n",
       "      <td>16.09</td>\n",
       "      <td>HEICO</td>\n",
       "    </tr>\n",
       "    <tr>\n",
       "      <th>3424</th>\n",
       "      <td>2017</td>\n",
       "      <td>41.07</td>\n",
       "      <td>6.12</td>\n",
       "      <td>262.29</td>\n",
       "      <td>673.98</td>\n",
       "      <td>1248.29</td>\n",
       "      <td>8.25</td>\n",
       "      <td>16.20</td>\n",
       "      <td>HEICO</td>\n",
       "    </tr>\n",
       "    <tr>\n",
       "      <th>3425</th>\n",
       "      <td>2018</td>\n",
       "      <td>42.68</td>\n",
       "      <td>7.39</td>\n",
       "      <td>286.62</td>\n",
       "      <td>532.47</td>\n",
       "      <td>1503.01</td>\n",
       "      <td>10.04</td>\n",
       "      <td>18.84</td>\n",
       "      <td>HEICO</td>\n",
       "    </tr>\n",
       "    <tr>\n",
       "      <th>3426</th>\n",
       "      <td>2019</td>\n",
       "      <td>50.14</td>\n",
       "      <td>9.73</td>\n",
       "      <td>408.44</td>\n",
       "      <td>561.96</td>\n",
       "      <td>1694.66</td>\n",
       "      <td>11.66</td>\n",
       "      <td>20.51</td>\n",
       "      <td>HEICO</td>\n",
       "    </tr>\n",
       "    <tr>\n",
       "      <th>3427</th>\n",
       "      <td>2020</td>\n",
       "      <td>46.62</td>\n",
       "      <td>7.28</td>\n",
       "      <td>386.19</td>\n",
       "      <td>739.83</td>\n",
       "      <td>2010.61</td>\n",
       "      <td>9.64</td>\n",
       "      <td>16.95</td>\n",
       "      <td>HEICO</td>\n",
       "    </tr>\n",
       "    <tr>\n",
       "      <th>3428</th>\n",
       "      <td>2021</td>\n",
       "      <td>61.24</td>\n",
       "      <td>8.12</td>\n",
       "      <td>407.90</td>\n",
       "      <td>236.50</td>\n",
       "      <td>2296.94</td>\n",
       "      <td>8.64</td>\n",
       "      <td>14.12</td>\n",
       "      <td>HEICO</td>\n",
       "    </tr>\n",
       "    <tr>\n",
       "      <th>3429</th>\n",
       "      <td>2022</td>\n",
       "      <td>62.80</td>\n",
       "      <td>8.35</td>\n",
       "      <td>435.87</td>\n",
       "      <td>290.27</td>\n",
       "      <td>2648.31</td>\n",
       "      <td>9.26</td>\n",
       "      <td>14.22</td>\n",
       "      <td>HEICO</td>\n",
       "    </tr>\n",
       "  </tbody>\n",
       "</table>\n",
       "</div>"
      ],
      "text/plain": [
       "      year PE ratio PB Ratio     FCF Total Debt Sh Equity    ROA    ROE  \\\n",
       "3417  2020    28.83     5.56  522.09    1353.42   2600.14   8.88  20.79   \n",
       "3418  2021    28.63     6.91  346.88    1301.23   3117.82  11.96  26.61   \n",
       "3419  2022    18.76     4.88       –    1261.74   3666.77  13.34   0.00   \n",
       "3420  2013    34.47     4.91  113.51     377.51    723.24   7.51  14.19   \n",
       "3421  2014    29.80     4.65  174.28     329.11    774.62   8.03  16.20   \n",
       "3422  2015    25.71     3.84  154.61     367.60    893.27   8.27  15.99   \n",
       "3423  2016    28.87     4.32  228.85     458.23   1047.70   8.36  16.09   \n",
       "3424  2017    41.07     6.12  262.29     673.98   1248.29   8.25  16.20   \n",
       "3425  2018    42.68     7.39  286.62     532.47   1503.01  10.04  18.84   \n",
       "3426  2019    50.14     9.73  408.44     561.96   1694.66  11.66  20.51   \n",
       "3427  2020    46.62     7.28  386.19     739.83   2010.61   9.64  16.95   \n",
       "3428  2021    61.24     8.12  407.90     236.50   2296.94   8.64  14.12   \n",
       "3429  2022    62.80     8.35  435.87     290.27   2648.31   9.26  14.22   \n",
       "\n",
       "     company name  \n",
       "3417   J. B. Hunt  \n",
       "3418   J. B. Hunt  \n",
       "3419   J. B. Hunt  \n",
       "3420        HEICO  \n",
       "3421        HEICO  \n",
       "3422        HEICO  \n",
       "3423        HEICO  \n",
       "3424        HEICO  \n",
       "3425        HEICO  \n",
       "3426        HEICO  \n",
       "3427        HEICO  \n",
       "3428        HEICO  \n",
       "3429        HEICO  "
      ]
     },
     "execution_count": 29,
     "metadata": {},
     "output_type": "execute_result"
    }
   ],
   "source": [
    "# 빈 데이터 프레임 생성\n",
    "StockMarketEDA_us_raw = pd.DataFrame(columns = [\n",
    "    'year',\n",
    "    'PE ratio',\n",
    "    'PB Ratio',\n",
    "    'FCF',\n",
    "    'Total Debt',\n",
    "    'Sh Equity',\n",
    "    'ROA',\n",
    "    'ROE',\n",
    "    'company name'\n",
    "])\n",
    "\n",
    "\n",
    "year = [yr for yr in range(2013,2023)]\n",
    "user_year = -4 # -4:2022, -3:2023\n",
    "# loop 를 돌며 데이터 프레임 생성\n",
    "for each_company in usa_df:\n",
    "    df_temp = pd.DataFrame({\n",
    "        'year': year,\n",
    "        'PE ratio': each_company[0][:user_year],\n",
    "        'PB Ratio': each_company[1][:user_year],\n",
    "        'FCF': each_company[2][:user_year],\n",
    "        'Total Debt': each_company[3][:user_year],\n",
    "        'Sh Equity': each_company[4][:user_year],\n",
    "        'ROA': each_company[5][:user_year],\n",
    "        'ROE': each_company[6][:user_year],\n",
    "        'company name': each_company[-1][:user_year],\n",
    "    })\n",
    "    StockMarketEDA_us_raw = pd.concat([StockMarketEDA_us_raw,df_temp])\n",
    "StockMarketEDA_us_raw.reset_index(inplace=True)\n",
    "del StockMarketEDA_us_raw['index']\n",
    "StockMarketEDA_us_raw.tail(13)"
   ]
  },
  {
   "cell_type": "code",
   "execution_count": 31,
   "metadata": {},
   "outputs": [],
   "source": [
    "StockMarketEDA_us_raw.to_csv('../data/StockMarketEDA_us_raw_350.csv', sep=',', encoding='utf-8')"
   ]
  },
  {
   "cell_type": "code",
   "execution_count": 32,
   "metadata": {},
   "outputs": [
    {
     "data": {
      "text/html": [
       "<div>\n",
       "<style scoped>\n",
       "    .dataframe tbody tr th:only-of-type {\n",
       "        vertical-align: middle;\n",
       "    }\n",
       "\n",
       "    .dataframe tbody tr th {\n",
       "        vertical-align: top;\n",
       "    }\n",
       "\n",
       "    .dataframe thead th {\n",
       "        text-align: right;\n",
       "    }\n",
       "</style>\n",
       "<table border=\"1\" class=\"dataframe\">\n",
       "  <thead>\n",
       "    <tr style=\"text-align: right;\">\n",
       "      <th></th>\n",
       "      <th>year</th>\n",
       "      <th>PE ratio</th>\n",
       "      <th>PB Ratio</th>\n",
       "      <th>FCF</th>\n",
       "      <th>Total Debt</th>\n",
       "      <th>Sh Equity</th>\n",
       "      <th>ROA</th>\n",
       "      <th>ROE</th>\n",
       "      <th>company name</th>\n",
       "    </tr>\n",
       "  </thead>\n",
       "  <tbody>\n",
       "    <tr>\n",
       "      <th>3419</th>\n",
       "      <td>2022</td>\n",
       "      <td>18.76</td>\n",
       "      <td>4.88</td>\n",
       "      <td>–</td>\n",
       "      <td>1261.74</td>\n",
       "      <td>3666.77</td>\n",
       "      <td>13.34</td>\n",
       "      <td>0.00</td>\n",
       "      <td>J. B. Hunt</td>\n",
       "    </tr>\n",
       "    <tr>\n",
       "      <th>3420</th>\n",
       "      <td>2013</td>\n",
       "      <td>34.47</td>\n",
       "      <td>4.91</td>\n",
       "      <td>113.51</td>\n",
       "      <td>377.51</td>\n",
       "      <td>723.24</td>\n",
       "      <td>7.51</td>\n",
       "      <td>14.19</td>\n",
       "      <td>HEICO</td>\n",
       "    </tr>\n",
       "    <tr>\n",
       "      <th>3421</th>\n",
       "      <td>2014</td>\n",
       "      <td>29.80</td>\n",
       "      <td>4.65</td>\n",
       "      <td>174.28</td>\n",
       "      <td>329.11</td>\n",
       "      <td>774.62</td>\n",
       "      <td>8.03</td>\n",
       "      <td>16.20</td>\n",
       "      <td>HEICO</td>\n",
       "    </tr>\n",
       "    <tr>\n",
       "      <th>3422</th>\n",
       "      <td>2015</td>\n",
       "      <td>25.71</td>\n",
       "      <td>3.84</td>\n",
       "      <td>154.61</td>\n",
       "      <td>367.60</td>\n",
       "      <td>893.27</td>\n",
       "      <td>8.27</td>\n",
       "      <td>15.99</td>\n",
       "      <td>HEICO</td>\n",
       "    </tr>\n",
       "    <tr>\n",
       "      <th>3423</th>\n",
       "      <td>2016</td>\n",
       "      <td>28.87</td>\n",
       "      <td>4.32</td>\n",
       "      <td>228.85</td>\n",
       "      <td>458.23</td>\n",
       "      <td>1047.70</td>\n",
       "      <td>8.36</td>\n",
       "      <td>16.09</td>\n",
       "      <td>HEICO</td>\n",
       "    </tr>\n",
       "    <tr>\n",
       "      <th>3424</th>\n",
       "      <td>2017</td>\n",
       "      <td>41.07</td>\n",
       "      <td>6.12</td>\n",
       "      <td>262.29</td>\n",
       "      <td>673.98</td>\n",
       "      <td>1248.29</td>\n",
       "      <td>8.25</td>\n",
       "      <td>16.20</td>\n",
       "      <td>HEICO</td>\n",
       "    </tr>\n",
       "    <tr>\n",
       "      <th>3425</th>\n",
       "      <td>2018</td>\n",
       "      <td>42.68</td>\n",
       "      <td>7.39</td>\n",
       "      <td>286.62</td>\n",
       "      <td>532.47</td>\n",
       "      <td>1503.01</td>\n",
       "      <td>10.04</td>\n",
       "      <td>18.84</td>\n",
       "      <td>HEICO</td>\n",
       "    </tr>\n",
       "    <tr>\n",
       "      <th>3426</th>\n",
       "      <td>2019</td>\n",
       "      <td>50.14</td>\n",
       "      <td>9.73</td>\n",
       "      <td>408.44</td>\n",
       "      <td>561.96</td>\n",
       "      <td>1694.66</td>\n",
       "      <td>11.66</td>\n",
       "      <td>20.51</td>\n",
       "      <td>HEICO</td>\n",
       "    </tr>\n",
       "    <tr>\n",
       "      <th>3427</th>\n",
       "      <td>2020</td>\n",
       "      <td>46.62</td>\n",
       "      <td>7.28</td>\n",
       "      <td>386.19</td>\n",
       "      <td>739.83</td>\n",
       "      <td>2010.61</td>\n",
       "      <td>9.64</td>\n",
       "      <td>16.95</td>\n",
       "      <td>HEICO</td>\n",
       "    </tr>\n",
       "    <tr>\n",
       "      <th>3428</th>\n",
       "      <td>2021</td>\n",
       "      <td>61.24</td>\n",
       "      <td>8.12</td>\n",
       "      <td>407.90</td>\n",
       "      <td>236.50</td>\n",
       "      <td>2296.94</td>\n",
       "      <td>8.64</td>\n",
       "      <td>14.12</td>\n",
       "      <td>HEICO</td>\n",
       "    </tr>\n",
       "    <tr>\n",
       "      <th>3429</th>\n",
       "      <td>2022</td>\n",
       "      <td>62.80</td>\n",
       "      <td>8.35</td>\n",
       "      <td>435.87</td>\n",
       "      <td>290.27</td>\n",
       "      <td>2648.31</td>\n",
       "      <td>9.26</td>\n",
       "      <td>14.22</td>\n",
       "      <td>HEICO</td>\n",
       "    </tr>\n",
       "  </tbody>\n",
       "</table>\n",
       "</div>"
      ],
      "text/plain": [
       "      year PE ratio PB Ratio     FCF Total Debt Sh Equity    ROA    ROE  \\\n",
       "3419  2022    18.76     4.88       –    1261.74   3666.77  13.34   0.00   \n",
       "3420  2013    34.47     4.91  113.51     377.51    723.24   7.51  14.19   \n",
       "3421  2014    29.80     4.65  174.28     329.11    774.62   8.03  16.20   \n",
       "3422  2015    25.71     3.84  154.61     367.60    893.27   8.27  15.99   \n",
       "3423  2016    28.87     4.32  228.85     458.23   1047.70   8.36  16.09   \n",
       "3424  2017    41.07     6.12  262.29     673.98   1248.29   8.25  16.20   \n",
       "3425  2018    42.68     7.39  286.62     532.47   1503.01  10.04  18.84   \n",
       "3426  2019    50.14     9.73  408.44     561.96   1694.66  11.66  20.51   \n",
       "3427  2020    46.62     7.28  386.19     739.83   2010.61   9.64  16.95   \n",
       "3428  2021    61.24     8.12  407.90     236.50   2296.94   8.64  14.12   \n",
       "3429  2022    62.80     8.35  435.87     290.27   2648.31   9.26  14.22   \n",
       "\n",
       "     company name  \n",
       "3419   J. B. Hunt  \n",
       "3420        HEICO  \n",
       "3421        HEICO  \n",
       "3422        HEICO  \n",
       "3423        HEICO  \n",
       "3424        HEICO  \n",
       "3425        HEICO  \n",
       "3426        HEICO  \n",
       "3427        HEICO  \n",
       "3428        HEICO  \n",
       "3429        HEICO  "
      ]
     },
     "execution_count": 32,
     "metadata": {},
     "output_type": "execute_result"
    }
   ],
   "source": [
    "StockMarketEDA_us_raw= pd.read_csv('../data/StockMarketEDA_us_raw_350.csv', index_col=0)\n",
    "StockMarketEDA_us_raw.tail(11)"
   ]
  },
  {
   "attachments": {},
   "cell_type": "markdown",
   "metadata": {},
   "source": [
    "---\n",
    "### ```-``` 있는 데이터 분리 "
   ]
  },
  {
   "cell_type": "code",
   "execution_count": 33,
   "metadata": {},
   "outputs": [
    {
     "data": {
      "text/plain": [
       "1623"
      ]
     },
     "execution_count": 33,
     "metadata": {},
     "output_type": "execute_result"
    }
   ],
   "source": [
    "wrong_value_index_list = []\n",
    "\n",
    "column_list = StockMarketEDA_us_raw.columns.values.tolist()\n",
    "for column in column_list:\n",
    "    for index, each_row in enumerate(StockMarketEDA_us_raw[column]):\n",
    "        if each_row == '–':\n",
    "            wrong_value_index_list.append(StockMarketEDA_us_raw['company name'][index])\n",
    "\n",
    "len(wrong_value_index_list)"
   ]
  },
  {
   "cell_type": "code",
   "execution_count": 34,
   "metadata": {},
   "outputs": [
    {
     "data": {
      "text/html": [
       "<div>\n",
       "<style scoped>\n",
       "    .dataframe tbody tr th:only-of-type {\n",
       "        vertical-align: middle;\n",
       "    }\n",
       "\n",
       "    .dataframe tbody tr th {\n",
       "        vertical-align: top;\n",
       "    }\n",
       "\n",
       "    .dataframe thead th {\n",
       "        text-align: right;\n",
       "    }\n",
       "</style>\n",
       "<table border=\"1\" class=\"dataframe\">\n",
       "  <thead>\n",
       "    <tr style=\"text-align: right;\">\n",
       "      <th></th>\n",
       "      <th>wrong_value_company_list</th>\n",
       "    </tr>\n",
       "  </thead>\n",
       "  <tbody>\n",
       "    <tr>\n",
       "      <th>0</th>\n",
       "      <td>Alphabet (Google)</td>\n",
       "    </tr>\n",
       "    <tr>\n",
       "      <th>1</th>\n",
       "      <td>Berkshire Hathaway</td>\n",
       "    </tr>\n",
       "    <tr>\n",
       "      <th>2</th>\n",
       "      <td>Meta Platforms (Facebook)</td>\n",
       "    </tr>\n",
       "    <tr>\n",
       "      <th>3</th>\n",
       "      <td>Coca-Cola</td>\n",
       "    </tr>\n",
       "    <tr>\n",
       "      <th>4</th>\n",
       "      <td>AbbVie</td>\n",
       "    </tr>\n",
       "    <tr>\n",
       "      <th>...</th>\n",
       "      <td>...</td>\n",
       "    </tr>\n",
       "    <tr>\n",
       "      <th>1618</th>\n",
       "      <td>PPL</td>\n",
       "    </tr>\n",
       "    <tr>\n",
       "      <th>1619</th>\n",
       "      <td>EPAM Systems</td>\n",
       "    </tr>\n",
       "    <tr>\n",
       "      <th>1620</th>\n",
       "      <td>Monolithic Power Systems</td>\n",
       "    </tr>\n",
       "    <tr>\n",
       "      <th>1621</th>\n",
       "      <td>BioMarin Pharmaceutical</td>\n",
       "    </tr>\n",
       "    <tr>\n",
       "      <th>1622</th>\n",
       "      <td>Ventas</td>\n",
       "    </tr>\n",
       "  </tbody>\n",
       "</table>\n",
       "<p>1623 rows × 1 columns</p>\n",
       "</div>"
      ],
      "text/plain": [
       "       wrong_value_company_list\n",
       "0             Alphabet (Google)\n",
       "1            Berkshire Hathaway\n",
       "2     Meta Platforms (Facebook)\n",
       "3                     Coca-Cola\n",
       "4                        AbbVie\n",
       "...                         ...\n",
       "1618                        PPL\n",
       "1619               EPAM Systems\n",
       "1620   Monolithic Power Systems\n",
       "1621    BioMarin Pharmaceutical\n",
       "1622                     Ventas\n",
       "\n",
       "[1623 rows x 1 columns]"
      ]
     },
     "execution_count": 34,
     "metadata": {},
     "output_type": "execute_result"
    }
   ],
   "source": [
    "df_wrong_value_company_list = pd.DataFrame({'wrong_value_company_list':wrong_value_index_list})\n",
    "wrong_value_company_list = df_wrong_value_company_list['wrong_value_company_list'].unique().tolist()\n",
    "all_company_list = StockMarketEDA_us_raw['company name'].unique().tolist()\n"
   ]
  },
  {
   "cell_type": "code",
   "execution_count": 155,
   "metadata": {},
   "outputs": [
    {
     "name": "stderr",
     "output_type": "stream",
     "text": [
      "/tmp/ipykernel_19313/2981324395.py:29: SettingWithCopyWarning: \n",
      "A value is trying to be set on a copy of a slice from a DataFrame\n",
      "\n",
      "See the caveats in the documentation: https://pandas.pydata.org/pandas-docs/stable/user_guide/indexing.html#returning-a-view-versus-a-copy\n",
      "  StockMarketEDA_us_clean[column].loc[index] = StockMarketEDA_us_clean[column].loc[index].replace(\"(\",\"\").replace(\")\",\"\").replace(\",\",\"\")\n"
     ]
    },
    {
     "data": {
      "text/html": [
       "<div>\n",
       "<style scoped>\n",
       "    .dataframe tbody tr th:only-of-type {\n",
       "        vertical-align: middle;\n",
       "    }\n",
       "\n",
       "    .dataframe tbody tr th {\n",
       "        vertical-align: top;\n",
       "    }\n",
       "\n",
       "    .dataframe thead th {\n",
       "        text-align: right;\n",
       "    }\n",
       "</style>\n",
       "<table border=\"1\" class=\"dataframe\">\n",
       "  <thead>\n",
       "    <tr style=\"text-align: right;\">\n",
       "      <th></th>\n",
       "      <th>company_name</th>\n",
       "      <th>PE ratio</th>\n",
       "      <th>PB Ratio</th>\n",
       "      <th>FCF</th>\n",
       "      <th>Total Debt</th>\n",
       "      <th>Sh Equity</th>\n",
       "      <th>ROA</th>\n",
       "      <th>ROE</th>\n",
       "    </tr>\n",
       "    <tr>\n",
       "      <th>year</th>\n",
       "      <th></th>\n",
       "      <th></th>\n",
       "      <th></th>\n",
       "      <th></th>\n",
       "      <th></th>\n",
       "      <th></th>\n",
       "      <th></th>\n",
       "      <th></th>\n",
       "    </tr>\n",
       "  </thead>\n",
       "  <tbody>\n",
       "    <tr>\n",
       "      <th>2013.0</th>\n",
       "      <td>Apple</td>\n",
       "      <td>11.95</td>\n",
       "      <td>3.57</td>\n",
       "      <td>44590.00</td>\n",
       "      <td>16960.00</td>\n",
       "      <td>123549.00</td>\n",
       "      <td>19.34</td>\n",
       "      <td>30.64</td>\n",
       "    </tr>\n",
       "    <tr>\n",
       "      <th>2014.0</th>\n",
       "      <td>Apple</td>\n",
       "      <td>15.56</td>\n",
       "      <td>5.50</td>\n",
       "      <td>49900.00</td>\n",
       "      <td>35295.00</td>\n",
       "      <td>111547.00</td>\n",
       "      <td>18.01</td>\n",
       "      <td>33.61</td>\n",
       "    </tr>\n",
       "    <tr>\n",
       "      <th>2015.0</th>\n",
       "      <td>Apple</td>\n",
       "      <td>11.93</td>\n",
       "      <td>5.32</td>\n",
       "      <td>69778.00</td>\n",
       "      <td>64328.00</td>\n",
       "      <td>119355.00</td>\n",
       "      <td>20.45</td>\n",
       "      <td>46.25</td>\n",
       "    </tr>\n",
       "    <tr>\n",
       "      <th>2016.0</th>\n",
       "      <td>Apple</td>\n",
       "      <td>13.59</td>\n",
       "      <td>4.82</td>\n",
       "      <td>53200.00</td>\n",
       "      <td>87032.00</td>\n",
       "      <td>128249.00</td>\n",
       "      <td>14.93</td>\n",
       "      <td>36.90</td>\n",
       "    </tr>\n",
       "    <tr>\n",
       "      <th>2017.0</th>\n",
       "      <td>Apple</td>\n",
       "      <td>16.63</td>\n",
       "      <td>5.99</td>\n",
       "      <td>51774.00</td>\n",
       "      <td>115680.00</td>\n",
       "      <td>134047.00</td>\n",
       "      <td>13.87</td>\n",
       "      <td>36.87</td>\n",
       "    </tr>\n",
       "    <tr>\n",
       "      <th>...</th>\n",
       "      <td>...</td>\n",
       "      <td>...</td>\n",
       "      <td>...</td>\n",
       "      <td>...</td>\n",
       "      <td>...</td>\n",
       "      <td>...</td>\n",
       "      <td>...</td>\n",
       "      <td>...</td>\n",
       "    </tr>\n",
       "    <tr>\n",
       "      <th>2018.0</th>\n",
       "      <td>HEICO</td>\n",
       "      <td>42.68</td>\n",
       "      <td>7.39</td>\n",
       "      <td>286.62</td>\n",
       "      <td>532.47</td>\n",
       "      <td>1503.01</td>\n",
       "      <td>10.04</td>\n",
       "      <td>18.84</td>\n",
       "    </tr>\n",
       "    <tr>\n",
       "      <th>2019.0</th>\n",
       "      <td>HEICO</td>\n",
       "      <td>50.14</td>\n",
       "      <td>9.73</td>\n",
       "      <td>408.44</td>\n",
       "      <td>561.96</td>\n",
       "      <td>1694.66</td>\n",
       "      <td>11.66</td>\n",
       "      <td>20.51</td>\n",
       "    </tr>\n",
       "    <tr>\n",
       "      <th>2020.0</th>\n",
       "      <td>HEICO</td>\n",
       "      <td>46.62</td>\n",
       "      <td>7.28</td>\n",
       "      <td>386.19</td>\n",
       "      <td>739.83</td>\n",
       "      <td>2010.61</td>\n",
       "      <td>9.64</td>\n",
       "      <td>16.95</td>\n",
       "    </tr>\n",
       "    <tr>\n",
       "      <th>2021.0</th>\n",
       "      <td>HEICO</td>\n",
       "      <td>61.24</td>\n",
       "      <td>8.12</td>\n",
       "      <td>407.90</td>\n",
       "      <td>236.50</td>\n",
       "      <td>2296.94</td>\n",
       "      <td>8.64</td>\n",
       "      <td>14.12</td>\n",
       "    </tr>\n",
       "    <tr>\n",
       "      <th>2022.0</th>\n",
       "      <td>HEICO</td>\n",
       "      <td>62.80</td>\n",
       "      <td>8.35</td>\n",
       "      <td>435.87</td>\n",
       "      <td>290.27</td>\n",
       "      <td>2648.31</td>\n",
       "      <td>9.26</td>\n",
       "      <td>14.22</td>\n",
       "    </tr>\n",
       "  </tbody>\n",
       "</table>\n",
       "<p>1290 rows × 8 columns</p>\n",
       "</div>"
      ],
      "text/plain": [
       "       company_name PE ratio PB Ratio       FCF Total Debt  Sh Equity    ROA  \\\n",
       "year                                                                           \n",
       "2013.0        Apple    11.95     3.57  44590.00   16960.00  123549.00  19.34   \n",
       "2014.0        Apple    15.56     5.50  49900.00   35295.00  111547.00  18.01   \n",
       "2015.0        Apple    11.93     5.32  69778.00   64328.00  119355.00  20.45   \n",
       "2016.0        Apple    13.59     4.82  53200.00   87032.00  128249.00  14.93   \n",
       "2017.0        Apple    16.63     5.99  51774.00  115680.00  134047.00  13.87   \n",
       "...             ...      ...      ...       ...        ...        ...    ...   \n",
       "2018.0        HEICO    42.68     7.39    286.62     532.47    1503.01  10.04   \n",
       "2019.0        HEICO    50.14     9.73    408.44     561.96    1694.66  11.66   \n",
       "2020.0        HEICO    46.62     7.28    386.19     739.83    2010.61   9.64   \n",
       "2021.0        HEICO    61.24     8.12    407.90     236.50    2296.94   8.64   \n",
       "2022.0        HEICO    62.80     8.35    435.87     290.27    2648.31   9.26   \n",
       "\n",
       "          ROE  \n",
       "year           \n",
       "2013.0  30.64  \n",
       "2014.0  33.61  \n",
       "2015.0  46.25  \n",
       "2016.0  36.90  \n",
       "2017.0  36.87  \n",
       "...       ...  \n",
       "2018.0  18.84  \n",
       "2019.0  20.51  \n",
       "2020.0  16.95  \n",
       "2021.0  14.12  \n",
       "2022.0  14.22  \n",
       "\n",
       "[1290 rows x 8 columns]"
      ]
     },
     "execution_count": 155,
     "metadata": {},
     "output_type": "execute_result"
    }
   ],
   "source": [
    "def EDA_each(EDA_df, index):\n",
    "    return EDA_df.loc[EDA_df['company name'] == index]\n",
    "\n",
    "StockMarketEDA_us_clean = pd.DataFrame(columns = [\n",
    "    'PE ratio',\n",
    "    'PB Ratio',\n",
    "    'FCF',\n",
    "    'Total Debt',\n",
    "    'Sh Equity',\n",
    "    'ROA',\n",
    "    'ROE',\n",
    "    'company name'\n",
    "])\n",
    "\n",
    "\n",
    "for each_company in all_company_list:\n",
    "    if each_company not in wrong_value_company_list:\n",
    "        tmp = EDA_each(StockMarketEDA_us_raw,each_company)\n",
    "        StockMarketEDA_us_clean = pd.concat([StockMarketEDA_us_clean, tmp])\n",
    "\n",
    "StockMarketEDA_us_clean.insert(0, 'company_name', StockMarketEDA_us_clean.pop('company name'))\n",
    "\n",
    "StockMarketEDA_us_clean = StockMarketEDA_us_clean.reset_index()\n",
    "del StockMarketEDA_us_clean['index']\n",
    "\n",
    "for index in range(len(StockMarketEDA_us_clean)):\n",
    "    for column in StockMarketEDA_us_clean.columns.values.tolist():\n",
    "        if type(StockMarketEDA_us_clean[column].loc[index]) == str:\n",
    "            StockMarketEDA_us_clean[column].loc[index] = StockMarketEDA_us_clean[column].loc[index].replace(\"(\",\"\").replace(\")\",\"\").replace(\",\",\"\")\n",
    "\n",
    "# StockMarketEDA_us_clean.insert(0, 'company_name', StockMarketEDA_us_clean.pop('company name'))\n",
    "StockMarketEDA_us_clean = StockMarketEDA_us_clean.set_index('year')\n",
    "StockMarketEDA_us_clean.to_csv('../data/StockMarketEDA_us_clean.csv', sep=',', encoding='utf-8')\n",
    "StockMarketEDA_us_clean"
   ]
  },
  {
   "cell_type": "code",
   "execution_count": 177,
   "metadata": {},
   "outputs": [
    {
     "data": {
      "text/html": [
       "<div>\n",
       "<style scoped>\n",
       "    .dataframe tbody tr th:only-of-type {\n",
       "        vertical-align: middle;\n",
       "    }\n",
       "\n",
       "    .dataframe tbody tr th {\n",
       "        vertical-align: top;\n",
       "    }\n",
       "\n",
       "    .dataframe thead th {\n",
       "        text-align: right;\n",
       "    }\n",
       "</style>\n",
       "<table border=\"1\" class=\"dataframe\">\n",
       "  <thead>\n",
       "    <tr style=\"text-align: right;\">\n",
       "      <th></th>\n",
       "      <th>company_name</th>\n",
       "      <th>PE ratio</th>\n",
       "      <th>PB Ratio</th>\n",
       "      <th>FCF</th>\n",
       "      <th>Total Debt</th>\n",
       "      <th>Sh Equity</th>\n",
       "      <th>ROA</th>\n",
       "      <th>ROE</th>\n",
       "    </tr>\n",
       "    <tr>\n",
       "      <th>year</th>\n",
       "      <th></th>\n",
       "      <th></th>\n",
       "      <th></th>\n",
       "      <th></th>\n",
       "      <th></th>\n",
       "      <th></th>\n",
       "      <th></th>\n",
       "      <th></th>\n",
       "    </tr>\n",
       "  </thead>\n",
       "  <tbody>\n",
       "    <tr>\n",
       "      <th>2013.0</th>\n",
       "      <td>Apple</td>\n",
       "      <td>11.95</td>\n",
       "      <td>3.57</td>\n",
       "      <td>44590.00</td>\n",
       "      <td>16960.00</td>\n",
       "      <td>123549.00</td>\n",
       "      <td>19.34</td>\n",
       "      <td>30.64</td>\n",
       "    </tr>\n",
       "    <tr>\n",
       "      <th>2014.0</th>\n",
       "      <td>Apple</td>\n",
       "      <td>15.56</td>\n",
       "      <td>5.50</td>\n",
       "      <td>49900.00</td>\n",
       "      <td>35295.00</td>\n",
       "      <td>111547.00</td>\n",
       "      <td>18.01</td>\n",
       "      <td>33.61</td>\n",
       "    </tr>\n",
       "    <tr>\n",
       "      <th>2015.0</th>\n",
       "      <td>Apple</td>\n",
       "      <td>11.93</td>\n",
       "      <td>5.32</td>\n",
       "      <td>69778.00</td>\n",
       "      <td>64328.00</td>\n",
       "      <td>119355.00</td>\n",
       "      <td>20.45</td>\n",
       "      <td>46.25</td>\n",
       "    </tr>\n",
       "    <tr>\n",
       "      <th>2016.0</th>\n",
       "      <td>Apple</td>\n",
       "      <td>13.59</td>\n",
       "      <td>4.82</td>\n",
       "      <td>53200.00</td>\n",
       "      <td>87032.00</td>\n",
       "      <td>128249.00</td>\n",
       "      <td>14.93</td>\n",
       "      <td>36.90</td>\n",
       "    </tr>\n",
       "    <tr>\n",
       "      <th>2017.0</th>\n",
       "      <td>Apple</td>\n",
       "      <td>16.63</td>\n",
       "      <td>5.99</td>\n",
       "      <td>51774.00</td>\n",
       "      <td>115680.00</td>\n",
       "      <td>134047.00</td>\n",
       "      <td>13.87</td>\n",
       "      <td>36.87</td>\n",
       "    </tr>\n",
       "    <tr>\n",
       "      <th>...</th>\n",
       "      <td>...</td>\n",
       "      <td>...</td>\n",
       "      <td>...</td>\n",
       "      <td>...</td>\n",
       "      <td>...</td>\n",
       "      <td>...</td>\n",
       "      <td>...</td>\n",
       "      <td>...</td>\n",
       "    </tr>\n",
       "    <tr>\n",
       "      <th>2018.0</th>\n",
       "      <td>HEICO</td>\n",
       "      <td>42.68</td>\n",
       "      <td>7.39</td>\n",
       "      <td>286.62</td>\n",
       "      <td>532.47</td>\n",
       "      <td>1503.01</td>\n",
       "      <td>10.04</td>\n",
       "      <td>18.84</td>\n",
       "    </tr>\n",
       "    <tr>\n",
       "      <th>2019.0</th>\n",
       "      <td>HEICO</td>\n",
       "      <td>50.14</td>\n",
       "      <td>9.73</td>\n",
       "      <td>408.44</td>\n",
       "      <td>561.96</td>\n",
       "      <td>1694.66</td>\n",
       "      <td>11.66</td>\n",
       "      <td>20.51</td>\n",
       "    </tr>\n",
       "    <tr>\n",
       "      <th>2020.0</th>\n",
       "      <td>HEICO</td>\n",
       "      <td>46.62</td>\n",
       "      <td>7.28</td>\n",
       "      <td>386.19</td>\n",
       "      <td>739.83</td>\n",
       "      <td>2010.61</td>\n",
       "      <td>9.64</td>\n",
       "      <td>16.95</td>\n",
       "    </tr>\n",
       "    <tr>\n",
       "      <th>2021.0</th>\n",
       "      <td>HEICO</td>\n",
       "      <td>61.24</td>\n",
       "      <td>8.12</td>\n",
       "      <td>407.90</td>\n",
       "      <td>236.50</td>\n",
       "      <td>2296.94</td>\n",
       "      <td>8.64</td>\n",
       "      <td>14.12</td>\n",
       "    </tr>\n",
       "    <tr>\n",
       "      <th>2022.0</th>\n",
       "      <td>HEICO</td>\n",
       "      <td>62.80</td>\n",
       "      <td>8.35</td>\n",
       "      <td>435.87</td>\n",
       "      <td>290.27</td>\n",
       "      <td>2648.31</td>\n",
       "      <td>9.26</td>\n",
       "      <td>14.22</td>\n",
       "    </tr>\n",
       "  </tbody>\n",
       "</table>\n",
       "<p>1290 rows × 8 columns</p>\n",
       "</div>"
      ],
      "text/plain": [
       "       company_name  PE ratio  PB Ratio       FCF  Total Debt  Sh Equity  \\\n",
       "year                                                                       \n",
       "2013.0        Apple     11.95      3.57  44590.00    16960.00  123549.00   \n",
       "2014.0        Apple     15.56      5.50  49900.00    35295.00  111547.00   \n",
       "2015.0        Apple     11.93      5.32  69778.00    64328.00  119355.00   \n",
       "2016.0        Apple     13.59      4.82  53200.00    87032.00  128249.00   \n",
       "2017.0        Apple     16.63      5.99  51774.00   115680.00  134047.00   \n",
       "...             ...       ...       ...       ...         ...        ...   \n",
       "2018.0        HEICO     42.68      7.39    286.62      532.47    1503.01   \n",
       "2019.0        HEICO     50.14      9.73    408.44      561.96    1694.66   \n",
       "2020.0        HEICO     46.62      7.28    386.19      739.83    2010.61   \n",
       "2021.0        HEICO     61.24      8.12    407.90      236.50    2296.94   \n",
       "2022.0        HEICO     62.80      8.35    435.87      290.27    2648.31   \n",
       "\n",
       "          ROA    ROE  \n",
       "year                  \n",
       "2013.0  19.34  30.64  \n",
       "2014.0  18.01  33.61  \n",
       "2015.0  20.45  46.25  \n",
       "2016.0  14.93  36.90  \n",
       "2017.0  13.87  36.87  \n",
       "...       ...    ...  \n",
       "2018.0  10.04  18.84  \n",
       "2019.0  11.66  20.51  \n",
       "2020.0   9.64  16.95  \n",
       "2021.0   8.64  14.12  \n",
       "2022.0   9.26  14.22  \n",
       "\n",
       "[1290 rows x 8 columns]"
      ]
     },
     "execution_count": 177,
     "metadata": {},
     "output_type": "execute_result"
    }
   ],
   "source": [
    "StockMarketEDA_us_clean= pd.read_csv('../data/StockMarketEDA_us_clean.csv', index_col=0)\n",
    "StockMarketEDA_us_clean"
   ]
  },
  {
   "attachments": {},
   "cell_type": "markdown",
   "metadata": {},
   "source": [
    "### 자본총계율, FCF율 생성 및 column 통일\n",
    "- 종목, ROE(%)\tROA(%)\tPER(배)\tPBR(배)\t자본총계율\tFCF율"
   ]
  },
  {
   "cell_type": "code",
   "execution_count": 178,
   "metadata": {},
   "outputs": [
    {
     "data": {
      "text/html": [
       "<div>\n",
       "<style scoped>\n",
       "    .dataframe tbody tr th:only-of-type {\n",
       "        vertical-align: middle;\n",
       "    }\n",
       "\n",
       "    .dataframe tbody tr th {\n",
       "        vertical-align: top;\n",
       "    }\n",
       "\n",
       "    .dataframe thead th {\n",
       "        text-align: right;\n",
       "    }\n",
       "</style>\n",
       "<table border=\"1\" class=\"dataframe\">\n",
       "  <thead>\n",
       "    <tr style=\"text-align: right;\">\n",
       "      <th></th>\n",
       "      <th>company_name</th>\n",
       "      <th>PE ratio</th>\n",
       "      <th>PB Ratio</th>\n",
       "      <th>FCF</th>\n",
       "      <th>Total Debt</th>\n",
       "      <th>Sh Equity</th>\n",
       "      <th>ROA</th>\n",
       "      <th>ROE</th>\n",
       "      <th>자본총계율</th>\n",
       "      <th>FCF율</th>\n",
       "    </tr>\n",
       "    <tr>\n",
       "      <th>year</th>\n",
       "      <th></th>\n",
       "      <th></th>\n",
       "      <th></th>\n",
       "      <th></th>\n",
       "      <th></th>\n",
       "      <th></th>\n",
       "      <th></th>\n",
       "      <th></th>\n",
       "      <th></th>\n",
       "      <th></th>\n",
       "    </tr>\n",
       "  </thead>\n",
       "  <tbody>\n",
       "    <tr>\n",
       "      <th>2013.0</th>\n",
       "      <td>Apple</td>\n",
       "      <td>11.95</td>\n",
       "      <td>3.57</td>\n",
       "      <td>44590.00</td>\n",
       "      <td>16960.00</td>\n",
       "      <td>123549.00</td>\n",
       "      <td>19.34</td>\n",
       "      <td>30.64</td>\n",
       "      <td>87.929599</td>\n",
       "      <td>31.734622</td>\n",
       "    </tr>\n",
       "    <tr>\n",
       "      <th>2014.0</th>\n",
       "      <td>Apple</td>\n",
       "      <td>15.56</td>\n",
       "      <td>5.50</td>\n",
       "      <td>49900.00</td>\n",
       "      <td>35295.00</td>\n",
       "      <td>111547.00</td>\n",
       "      <td>18.01</td>\n",
       "      <td>33.61</td>\n",
       "      <td>75.963961</td>\n",
       "      <td>33.982103</td>\n",
       "    </tr>\n",
       "    <tr>\n",
       "      <th>2015.0</th>\n",
       "      <td>Apple</td>\n",
       "      <td>11.93</td>\n",
       "      <td>5.32</td>\n",
       "      <td>69778.00</td>\n",
       "      <td>64328.00</td>\n",
       "      <td>119355.00</td>\n",
       "      <td>20.45</td>\n",
       "      <td>46.25</td>\n",
       "      <td>64.978795</td>\n",
       "      <td>37.988273</td>\n",
       "    </tr>\n",
       "    <tr>\n",
       "      <th>2016.0</th>\n",
       "      <td>Apple</td>\n",
       "      <td>13.59</td>\n",
       "      <td>4.82</td>\n",
       "      <td>53200.00</td>\n",
       "      <td>87032.00</td>\n",
       "      <td>128249.00</td>\n",
       "      <td>14.93</td>\n",
       "      <td>36.90</td>\n",
       "      <td>59.572837</td>\n",
       "      <td>24.711888</td>\n",
       "    </tr>\n",
       "    <tr>\n",
       "      <th>2017.0</th>\n",
       "      <td>Apple</td>\n",
       "      <td>16.63</td>\n",
       "      <td>5.99</td>\n",
       "      <td>51774.00</td>\n",
       "      <td>115680.00</td>\n",
       "      <td>134047.00</td>\n",
       "      <td>13.87</td>\n",
       "      <td>36.87</td>\n",
       "      <td>53.677416</td>\n",
       "      <td>20.732240</td>\n",
       "    </tr>\n",
       "    <tr>\n",
       "      <th>...</th>\n",
       "      <td>...</td>\n",
       "      <td>...</td>\n",
       "      <td>...</td>\n",
       "      <td>...</td>\n",
       "      <td>...</td>\n",
       "      <td>...</td>\n",
       "      <td>...</td>\n",
       "      <td>...</td>\n",
       "      <td>...</td>\n",
       "      <td>...</td>\n",
       "    </tr>\n",
       "    <tr>\n",
       "      <th>2018.0</th>\n",
       "      <td>HEICO</td>\n",
       "      <td>42.68</td>\n",
       "      <td>7.39</td>\n",
       "      <td>286.62</td>\n",
       "      <td>532.47</td>\n",
       "      <td>1503.01</td>\n",
       "      <td>10.04</td>\n",
       "      <td>18.84</td>\n",
       "      <td>73.840568</td>\n",
       "      <td>14.081200</td>\n",
       "    </tr>\n",
       "    <tr>\n",
       "      <th>2019.0</th>\n",
       "      <td>HEICO</td>\n",
       "      <td>50.14</td>\n",
       "      <td>9.73</td>\n",
       "      <td>408.44</td>\n",
       "      <td>561.96</td>\n",
       "      <td>1694.66</td>\n",
       "      <td>11.66</td>\n",
       "      <td>20.51</td>\n",
       "      <td>75.097269</td>\n",
       "      <td>18.099636</td>\n",
       "    </tr>\n",
       "    <tr>\n",
       "      <th>2020.0</th>\n",
       "      <td>HEICO</td>\n",
       "      <td>46.62</td>\n",
       "      <td>7.28</td>\n",
       "      <td>386.19</td>\n",
       "      <td>739.83</td>\n",
       "      <td>2010.61</td>\n",
       "      <td>9.64</td>\n",
       "      <td>16.95</td>\n",
       "      <td>73.101395</td>\n",
       "      <td>14.041026</td>\n",
       "    </tr>\n",
       "    <tr>\n",
       "      <th>2021.0</th>\n",
       "      <td>HEICO</td>\n",
       "      <td>61.24</td>\n",
       "      <td>8.12</td>\n",
       "      <td>407.90</td>\n",
       "      <td>236.50</td>\n",
       "      <td>2296.94</td>\n",
       "      <td>8.64</td>\n",
       "      <td>14.12</td>\n",
       "      <td>90.664867</td>\n",
       "      <td>16.100638</td>\n",
       "    </tr>\n",
       "    <tr>\n",
       "      <th>2022.0</th>\n",
       "      <td>HEICO</td>\n",
       "      <td>62.80</td>\n",
       "      <td>8.35</td>\n",
       "      <td>435.87</td>\n",
       "      <td>290.27</td>\n",
       "      <td>2648.31</td>\n",
       "      <td>9.26</td>\n",
       "      <td>14.22</td>\n",
       "      <td>90.122100</td>\n",
       "      <td>14.832674</td>\n",
       "    </tr>\n",
       "  </tbody>\n",
       "</table>\n",
       "<p>1290 rows × 10 columns</p>\n",
       "</div>"
      ],
      "text/plain": [
       "       company_name  PE ratio  PB Ratio       FCF  Total Debt  Sh Equity  \\\n",
       "year                                                                       \n",
       "2013.0        Apple     11.95      3.57  44590.00    16960.00  123549.00   \n",
       "2014.0        Apple     15.56      5.50  49900.00    35295.00  111547.00   \n",
       "2015.0        Apple     11.93      5.32  69778.00    64328.00  119355.00   \n",
       "2016.0        Apple     13.59      4.82  53200.00    87032.00  128249.00   \n",
       "2017.0        Apple     16.63      5.99  51774.00   115680.00  134047.00   \n",
       "...             ...       ...       ...       ...         ...        ...   \n",
       "2018.0        HEICO     42.68      7.39    286.62      532.47    1503.01   \n",
       "2019.0        HEICO     50.14      9.73    408.44      561.96    1694.66   \n",
       "2020.0        HEICO     46.62      7.28    386.19      739.83    2010.61   \n",
       "2021.0        HEICO     61.24      8.12    407.90      236.50    2296.94   \n",
       "2022.0        HEICO     62.80      8.35    435.87      290.27    2648.31   \n",
       "\n",
       "          ROA    ROE      자본총계율       FCF율  \n",
       "year                                        \n",
       "2013.0  19.34  30.64  87.929599  31.734622  \n",
       "2014.0  18.01  33.61  75.963961  33.982103  \n",
       "2015.0  20.45  46.25  64.978795  37.988273  \n",
       "2016.0  14.93  36.90  59.572837  24.711888  \n",
       "2017.0  13.87  36.87  53.677416  20.732240  \n",
       "...       ...    ...        ...        ...  \n",
       "2018.0  10.04  18.84  73.840568  14.081200  \n",
       "2019.0  11.66  20.51  75.097269  18.099636  \n",
       "2020.0   9.64  16.95  73.101395  14.041026  \n",
       "2021.0   8.64  14.12  90.664867  16.100638  \n",
       "2022.0   9.26  14.22  90.122100  14.832674  \n",
       "\n",
       "[1290 rows x 10 columns]"
      ]
     },
     "execution_count": 178,
     "metadata": {},
     "output_type": "execute_result"
    }
   ],
   "source": [
    "# 자본총계율\n",
    "column_index_list_percent = ['자본총계율', 'FCF율']\n",
    "column_index_list = ['Sh Equity', 'FCF']\n",
    "for column_index_percent, column_index in zip(column_index_list_percent, column_index_list):\n",
    "    StockMarketEDA_us_clean[column_index_percent] = StockMarketEDA_us_clean[column_index] /(StockMarketEDA_us_clean['Total Debt'] + StockMarketEDA_us_clean['Sh Equity'])*100\n",
    "StockMarketEDA_us_clean"
   ]
  },
  {
   "cell_type": "code",
   "execution_count": 179,
   "metadata": {},
   "outputs": [
    {
     "data": {
      "text/html": [
       "<div>\n",
       "<style scoped>\n",
       "    .dataframe tbody tr th:only-of-type {\n",
       "        vertical-align: middle;\n",
       "    }\n",
       "\n",
       "    .dataframe tbody tr th {\n",
       "        vertical-align: top;\n",
       "    }\n",
       "\n",
       "    .dataframe thead th {\n",
       "        text-align: right;\n",
       "    }\n",
       "</style>\n",
       "<table border=\"1\" class=\"dataframe\">\n",
       "  <thead>\n",
       "    <tr style=\"text-align: right;\">\n",
       "      <th></th>\n",
       "      <th>종목</th>\n",
       "      <th>PER(배)</th>\n",
       "      <th>PBR(배)</th>\n",
       "      <th>ROA(%)</th>\n",
       "      <th>ROE(%)</th>\n",
       "      <th>자본총계율</th>\n",
       "      <th>FCF율</th>\n",
       "    </tr>\n",
       "    <tr>\n",
       "      <th>year</th>\n",
       "      <th></th>\n",
       "      <th></th>\n",
       "      <th></th>\n",
       "      <th></th>\n",
       "      <th></th>\n",
       "      <th></th>\n",
       "      <th></th>\n",
       "    </tr>\n",
       "  </thead>\n",
       "  <tbody>\n",
       "    <tr>\n",
       "      <th>2013.0</th>\n",
       "      <td>Apple</td>\n",
       "      <td>11.95</td>\n",
       "      <td>3.57</td>\n",
       "      <td>19.34</td>\n",
       "      <td>30.64</td>\n",
       "      <td>87.929599</td>\n",
       "      <td>31.734622</td>\n",
       "    </tr>\n",
       "    <tr>\n",
       "      <th>2014.0</th>\n",
       "      <td>Apple</td>\n",
       "      <td>15.56</td>\n",
       "      <td>5.50</td>\n",
       "      <td>18.01</td>\n",
       "      <td>33.61</td>\n",
       "      <td>75.963961</td>\n",
       "      <td>33.982103</td>\n",
       "    </tr>\n",
       "    <tr>\n",
       "      <th>2015.0</th>\n",
       "      <td>Apple</td>\n",
       "      <td>11.93</td>\n",
       "      <td>5.32</td>\n",
       "      <td>20.45</td>\n",
       "      <td>46.25</td>\n",
       "      <td>64.978795</td>\n",
       "      <td>37.988273</td>\n",
       "    </tr>\n",
       "    <tr>\n",
       "      <th>2016.0</th>\n",
       "      <td>Apple</td>\n",
       "      <td>13.59</td>\n",
       "      <td>4.82</td>\n",
       "      <td>14.93</td>\n",
       "      <td>36.90</td>\n",
       "      <td>59.572837</td>\n",
       "      <td>24.711888</td>\n",
       "    </tr>\n",
       "    <tr>\n",
       "      <th>2017.0</th>\n",
       "      <td>Apple</td>\n",
       "      <td>16.63</td>\n",
       "      <td>5.99</td>\n",
       "      <td>13.87</td>\n",
       "      <td>36.87</td>\n",
       "      <td>53.677416</td>\n",
       "      <td>20.732240</td>\n",
       "    </tr>\n",
       "    <tr>\n",
       "      <th>...</th>\n",
       "      <td>...</td>\n",
       "      <td>...</td>\n",
       "      <td>...</td>\n",
       "      <td>...</td>\n",
       "      <td>...</td>\n",
       "      <td>...</td>\n",
       "      <td>...</td>\n",
       "    </tr>\n",
       "    <tr>\n",
       "      <th>2018.0</th>\n",
       "      <td>HEICO</td>\n",
       "      <td>42.68</td>\n",
       "      <td>7.39</td>\n",
       "      <td>10.04</td>\n",
       "      <td>18.84</td>\n",
       "      <td>73.840568</td>\n",
       "      <td>14.081200</td>\n",
       "    </tr>\n",
       "    <tr>\n",
       "      <th>2019.0</th>\n",
       "      <td>HEICO</td>\n",
       "      <td>50.14</td>\n",
       "      <td>9.73</td>\n",
       "      <td>11.66</td>\n",
       "      <td>20.51</td>\n",
       "      <td>75.097269</td>\n",
       "      <td>18.099636</td>\n",
       "    </tr>\n",
       "    <tr>\n",
       "      <th>2020.0</th>\n",
       "      <td>HEICO</td>\n",
       "      <td>46.62</td>\n",
       "      <td>7.28</td>\n",
       "      <td>9.64</td>\n",
       "      <td>16.95</td>\n",
       "      <td>73.101395</td>\n",
       "      <td>14.041026</td>\n",
       "    </tr>\n",
       "    <tr>\n",
       "      <th>2021.0</th>\n",
       "      <td>HEICO</td>\n",
       "      <td>61.24</td>\n",
       "      <td>8.12</td>\n",
       "      <td>8.64</td>\n",
       "      <td>14.12</td>\n",
       "      <td>90.664867</td>\n",
       "      <td>16.100638</td>\n",
       "    </tr>\n",
       "    <tr>\n",
       "      <th>2022.0</th>\n",
       "      <td>HEICO</td>\n",
       "      <td>62.80</td>\n",
       "      <td>8.35</td>\n",
       "      <td>9.26</td>\n",
       "      <td>14.22</td>\n",
       "      <td>90.122100</td>\n",
       "      <td>14.832674</td>\n",
       "    </tr>\n",
       "  </tbody>\n",
       "</table>\n",
       "<p>1290 rows × 7 columns</p>\n",
       "</div>"
      ],
      "text/plain": [
       "           종목  PER(배)  PBR(배)  ROA(%)  ROE(%)      자본총계율       FCF율\n",
       "year                                                               \n",
       "2013.0  Apple   11.95    3.57   19.34   30.64  87.929599  31.734622\n",
       "2014.0  Apple   15.56    5.50   18.01   33.61  75.963961  33.982103\n",
       "2015.0  Apple   11.93    5.32   20.45   46.25  64.978795  37.988273\n",
       "2016.0  Apple   13.59    4.82   14.93   36.90  59.572837  24.711888\n",
       "2017.0  Apple   16.63    5.99   13.87   36.87  53.677416  20.732240\n",
       "...       ...     ...     ...     ...     ...        ...        ...\n",
       "2018.0  HEICO   42.68    7.39   10.04   18.84  73.840568  14.081200\n",
       "2019.0  HEICO   50.14    9.73   11.66   20.51  75.097269  18.099636\n",
       "2020.0  HEICO   46.62    7.28    9.64   16.95  73.101395  14.041026\n",
       "2021.0  HEICO   61.24    8.12    8.64   14.12  90.664867  16.100638\n",
       "2022.0  HEICO   62.80    8.35    9.26   14.22  90.122100  14.832674\n",
       "\n",
       "[1290 rows x 7 columns]"
      ]
     },
     "execution_count": 179,
     "metadata": {},
     "output_type": "execute_result"
    }
   ],
   "source": [
    "del_list = ['Sh Equity', 'Total Debt','FCF']\n",
    "del StockMarketEDA_us_clean[del_list[0]]\n",
    "del StockMarketEDA_us_clean[del_list[1]]\n",
    "del StockMarketEDA_us_clean[del_list[2]]\n",
    "StockMarketEDA_us_clean\n",
    "\n",
    "\n",
    "\n",
    "StockMarketEDA_us_clean.rename(\n",
    "    columns={\n",
    "        StockMarketEDA_us_clean.columns[0]: \"종목\",\n",
    "        StockMarketEDA_us_clean.columns[1]: \"PER(배)\",\n",
    "        StockMarketEDA_us_clean.columns[2]: \"PBR(배)\",\n",
    "        StockMarketEDA_us_clean.columns[3]: \"ROA(%)\",\n",
    "        StockMarketEDA_us_clean.columns[4]: \"ROE(%)\"\n",
    "    }, inplace=True\n",
    ")\n",
    "StockMarketEDA_us_clean"
   ]
  },
  {
   "cell_type": "markdown",
   "metadata": {},
   "source": [
    "동일한 함수를 사용하기 위해 순서를 EDA_dart와 통일"
   ]
  },
  {
   "cell_type": "code",
   "execution_count": 181,
   "metadata": {},
   "outputs": [
    {
     "data": {
      "text/html": [
       "<div>\n",
       "<style scoped>\n",
       "    .dataframe tbody tr th:only-of-type {\n",
       "        vertical-align: middle;\n",
       "    }\n",
       "\n",
       "    .dataframe tbody tr th {\n",
       "        vertical-align: top;\n",
       "    }\n",
       "\n",
       "    .dataframe thead th {\n",
       "        text-align: right;\n",
       "    }\n",
       "</style>\n",
       "<table border=\"1\" class=\"dataframe\">\n",
       "  <thead>\n",
       "    <tr style=\"text-align: right;\">\n",
       "      <th></th>\n",
       "      <th>종목</th>\n",
       "      <th>ROE(%)</th>\n",
       "      <th>ROA(%)</th>\n",
       "      <th>PER(배)</th>\n",
       "      <th>PBR(배)</th>\n",
       "      <th>자본총계율</th>\n",
       "      <th>FCF율</th>\n",
       "    </tr>\n",
       "    <tr>\n",
       "      <th>year</th>\n",
       "      <th></th>\n",
       "      <th></th>\n",
       "      <th></th>\n",
       "      <th></th>\n",
       "      <th></th>\n",
       "      <th></th>\n",
       "      <th></th>\n",
       "    </tr>\n",
       "  </thead>\n",
       "  <tbody>\n",
       "    <tr>\n",
       "      <th>2013.0</th>\n",
       "      <td>Apple</td>\n",
       "      <td>30.64</td>\n",
       "      <td>19.34</td>\n",
       "      <td>11.95</td>\n",
       "      <td>3.57</td>\n",
       "      <td>87.929599</td>\n",
       "      <td>31.734622</td>\n",
       "    </tr>\n",
       "    <tr>\n",
       "      <th>2014.0</th>\n",
       "      <td>Apple</td>\n",
       "      <td>33.61</td>\n",
       "      <td>18.01</td>\n",
       "      <td>15.56</td>\n",
       "      <td>5.50</td>\n",
       "      <td>75.963961</td>\n",
       "      <td>33.982103</td>\n",
       "    </tr>\n",
       "    <tr>\n",
       "      <th>2015.0</th>\n",
       "      <td>Apple</td>\n",
       "      <td>46.25</td>\n",
       "      <td>20.45</td>\n",
       "      <td>11.93</td>\n",
       "      <td>5.32</td>\n",
       "      <td>64.978795</td>\n",
       "      <td>37.988273</td>\n",
       "    </tr>\n",
       "    <tr>\n",
       "      <th>2016.0</th>\n",
       "      <td>Apple</td>\n",
       "      <td>36.90</td>\n",
       "      <td>14.93</td>\n",
       "      <td>13.59</td>\n",
       "      <td>4.82</td>\n",
       "      <td>59.572837</td>\n",
       "      <td>24.711888</td>\n",
       "    </tr>\n",
       "    <tr>\n",
       "      <th>2017.0</th>\n",
       "      <td>Apple</td>\n",
       "      <td>36.87</td>\n",
       "      <td>13.87</td>\n",
       "      <td>16.63</td>\n",
       "      <td>5.99</td>\n",
       "      <td>53.677416</td>\n",
       "      <td>20.732240</td>\n",
       "    </tr>\n",
       "    <tr>\n",
       "      <th>...</th>\n",
       "      <td>...</td>\n",
       "      <td>...</td>\n",
       "      <td>...</td>\n",
       "      <td>...</td>\n",
       "      <td>...</td>\n",
       "      <td>...</td>\n",
       "      <td>...</td>\n",
       "    </tr>\n",
       "    <tr>\n",
       "      <th>2018.0</th>\n",
       "      <td>HEICO</td>\n",
       "      <td>18.84</td>\n",
       "      <td>10.04</td>\n",
       "      <td>42.68</td>\n",
       "      <td>7.39</td>\n",
       "      <td>73.840568</td>\n",
       "      <td>14.081200</td>\n",
       "    </tr>\n",
       "    <tr>\n",
       "      <th>2019.0</th>\n",
       "      <td>HEICO</td>\n",
       "      <td>20.51</td>\n",
       "      <td>11.66</td>\n",
       "      <td>50.14</td>\n",
       "      <td>9.73</td>\n",
       "      <td>75.097269</td>\n",
       "      <td>18.099636</td>\n",
       "    </tr>\n",
       "    <tr>\n",
       "      <th>2020.0</th>\n",
       "      <td>HEICO</td>\n",
       "      <td>16.95</td>\n",
       "      <td>9.64</td>\n",
       "      <td>46.62</td>\n",
       "      <td>7.28</td>\n",
       "      <td>73.101395</td>\n",
       "      <td>14.041026</td>\n",
       "    </tr>\n",
       "    <tr>\n",
       "      <th>2021.0</th>\n",
       "      <td>HEICO</td>\n",
       "      <td>14.12</td>\n",
       "      <td>8.64</td>\n",
       "      <td>61.24</td>\n",
       "      <td>8.12</td>\n",
       "      <td>90.664867</td>\n",
       "      <td>16.100638</td>\n",
       "    </tr>\n",
       "    <tr>\n",
       "      <th>2022.0</th>\n",
       "      <td>HEICO</td>\n",
       "      <td>14.22</td>\n",
       "      <td>9.26</td>\n",
       "      <td>62.80</td>\n",
       "      <td>8.35</td>\n",
       "      <td>90.122100</td>\n",
       "      <td>14.832674</td>\n",
       "    </tr>\n",
       "  </tbody>\n",
       "</table>\n",
       "<p>1290 rows × 7 columns</p>\n",
       "</div>"
      ],
      "text/plain": [
       "           종목  ROE(%)  ROA(%)  PER(배)  PBR(배)      자본총계율       FCF율\n",
       "year                                                               \n",
       "2013.0  Apple   30.64   19.34   11.95    3.57  87.929599  31.734622\n",
       "2014.0  Apple   33.61   18.01   15.56    5.50  75.963961  33.982103\n",
       "2015.0  Apple   46.25   20.45   11.93    5.32  64.978795  37.988273\n",
       "2016.0  Apple   36.90   14.93   13.59    4.82  59.572837  24.711888\n",
       "2017.0  Apple   36.87   13.87   16.63    5.99  53.677416  20.732240\n",
       "...       ...     ...     ...     ...     ...        ...        ...\n",
       "2018.0  HEICO   18.84   10.04   42.68    7.39  73.840568  14.081200\n",
       "2019.0  HEICO   20.51   11.66   50.14    9.73  75.097269  18.099636\n",
       "2020.0  HEICO   16.95    9.64   46.62    7.28  73.101395  14.041026\n",
       "2021.0  HEICO   14.12    8.64   61.24    8.12  90.664867  16.100638\n",
       "2022.0  HEICO   14.22    9.26   62.80    8.35  90.122100  14.832674\n",
       "\n",
       "[1290 rows x 7 columns]"
      ]
     },
     "execution_count": 181,
     "metadata": {},
     "output_type": "execute_result"
    }
   ],
   "source": [
    "StockMarketEDA_us_clean.insert(1, \"ROE(%)\" ,StockMarketEDA_us_clean.pop('ROE(%)'))\n",
    "StockMarketEDA_us_clean.insert(4, \"PBR(배)\" ,StockMarketEDA_us_clean.pop('PBR(배)'))\n",
    "StockMarketEDA_us_clean.insert(3, \"PER(배)\" ,StockMarketEDA_us_clean.pop('PER(배)'))\n",
    "StockMarketEDA_us_clean"
   ]
  },
  {
   "cell_type": "markdown",
   "metadata": {},
   "source": [
    "타입 변환"
   ]
  },
  {
   "cell_type": "code",
   "execution_count": 157,
   "metadata": {},
   "outputs": [
    {
     "name": "stdout",
     "output_type": "stream",
     "text": [
      "PE ratio\n",
      "PB Ratio\n",
      "FCF\n",
      "Total Debt\n",
      "Sh Equity\n",
      "ROA\n",
      "ROE\n",
      "<class 'pandas.core.frame.DataFrame'>\n",
      "Float64Index: 1290 entries, 2013.0 to 2022.0\n",
      "Data columns (total 8 columns):\n",
      " #   Column        Non-Null Count  Dtype  \n",
      "---  ------        --------------  -----  \n",
      " 0   company_name  1290 non-null   object \n",
      " 1   PE ratio      1290 non-null   float64\n",
      " 2   PB Ratio      1290 non-null   float64\n",
      " 3   FCF           1290 non-null   float64\n",
      " 4   Total Debt    1290 non-null   float64\n",
      " 5   Sh Equity     1290 non-null   float64\n",
      " 6   ROA           1290 non-null   float64\n",
      " 7   ROE           1290 non-null   float64\n",
      "dtypes: float64(7), object(1)\n",
      "memory usage: 90.7+ KB\n"
     ]
    }
   ],
   "source": [
    "# type conversion\n",
    "for each_cal in StockMarketEDA_us_clean.columns.values.tolist()[1:]:\n",
    "    print(each_cal)\n",
    "    StockMarketEDA_us_clean[each_cal] = StockMarketEDA_us_clean[each_cal].astype(float)\n",
    "StockMarketEDA_us_clean.info()"
   ]
  },
  {
   "cell_type": "code",
   "execution_count": 183,
   "metadata": {},
   "outputs": [],
   "source": [
    "StockMarketEDA_us_clean.to_csv('../data/StockMarketEDA_us_clean_column_rename.csv', sep=',', encoding='utf-8')"
   ]
  },
  {
   "attachments": {},
   "cell_type": "markdown",
   "metadata": {},
   "source": [
    "---\n",
    "---\n",
    "### 데이터 정리 완료 \n",
    "`StockMarketEDA_us_clean_column_rename` 생성"
   ]
  },
  {
   "cell_type": "code",
   "execution_count": 5,
   "metadata": {},
   "outputs": [],
   "source": [
    "import pandas as pd\n",
    "StockMarketEDA_us_clean_column_rename = pd.read_csv('../data/StockMarketEDA_us_clean_column_rename.csv', index_col=0)\n",
    "# StockMarketEDA_us_clean_column_rename"
   ]
  },
  {
   "cell_type": "code",
   "execution_count": 6,
   "metadata": {},
   "outputs": [],
   "source": [
    "from sklearn.linear_model import LinearRegression\n",
    "import numpy as np\n",
    "import matplotlib.pyplot as plt\n",
    "\n",
    "line_fitter = LinearRegression()\n",
    "\n",
    "def normalization_mid(data):\n",
    "    for each_column in data.columns.values[1:]:\n",
    "        data[each_column] = (data[each_column] - np.median(data[each_column])) / np.std(data[each_column]) # 중간값을 이용한 정규화\n",
    "    return data\n",
    "\n",
    "\n",
    "def normalization_mean(data):\n",
    "    for each_column in data.columns.values[1:]:\n",
    "        data[each_column] = (data[each_column] - np.mean(data[each_column])) / np.std(data[each_column]) # 중간값을 이용한 정규화\n",
    "    return data\n",
    "\n",
    "def EDA_each(EDA_df, index):\n",
    "    return EDA_df.loc[EDA_df['종목'] == index]\n",
    "\n",
    "\n",
    "def get_coef(tmp_df,n): # LR 얻는 함수\n",
    "    tmp_df = tmp_df.loc[2013:n]\n",
    "    ratio_list = []\n",
    "    for each in tmp_df.columns[1:]:\n",
    "        line_fitter.fit(tmp_df.index.values.reshape(-1,1),tmp_df[each])\n",
    "        ratio_list.append(line_fitter.coef_[0])\n",
    "    return ratio_list\n",
    "\n",
    "# LR 과 n 년도 데이터를 합친다\n",
    "def df_final(tmp_df,n):\n",
    "    tmp_coef = get_coef(tmp_df,n)\n",
    "    final_column_list = ['ROE_LR', 'ROA_LR', 'PER_LR', 'PBR_LR','equity_LR', 'FCF_asset_LR', 'ROE_new', 'ROA_new', 'PER_new', 'PBR_new','equity_new', 'FCF_asset_new']\n",
    "    df_each = pd.DataFrame({ final_column_list[0]: tmp_coef[0],\n",
    "                            final_column_list[1]: tmp_coef[1],\n",
    "                            final_column_list[2]: tmp_coef[2],\n",
    "                            final_column_list[3]: tmp_coef[3],\n",
    "                            final_column_list[4]: tmp_coef[4],\n",
    "                            final_column_list[5]: tmp_coef[5],\n",
    "                            final_column_list[6]: tmp_df.loc[n][1],\n",
    "                            final_column_list[7]: tmp_df.loc[n][2],\n",
    "                            final_column_list[8]: tmp_df.loc[n][3],\n",
    "                            final_column_list[9]: tmp_df.loc[n][4],\n",
    "                            final_column_list[10]: tmp_df.loc[n][5],\n",
    "                            final_column_list[11]: tmp_df.loc[n][6]\n",
    "        \n",
    "    }, index =[tmp_df.loc[2021][0]])\n",
    "    return df_each"
   ]
  },
  {
   "attachments": {},
   "cell_type": "markdown",
   "metadata": {},
   "source": [
    "### 전체 데이터 loop"
   ]
  },
  {
   "cell_type": "markdown",
   "metadata": {},
   "source": [
    "전체 루프 `StockMarketEDA_LR_new_med_US_연도`"
   ]
  },
  {
   "cell_type": "code",
   "execution_count": 52,
   "metadata": {},
   "outputs": [],
   "source": [
    "from datetime import datetime\n",
    "from datetime import timedelta\n",
    "import pandas_datareader.data as pdr\n",
    "import yfinance as yfin\n",
    "from tqdm import tqdm\n",
    "import warnings\n",
    "warnings.filterwarnings(\"ignore\")\n",
    "\n",
    "#####\n",
    "year = 2021\n",
    "\n",
    "# LR 및 new 는 2022 년 기준\n",
    "\n",
    "# 오류나는 회사 제거\n",
    "company_name_list = StockMarketEDA_us_clean_column_rename['종목'].unique().tolist()\n",
    "empty_data_company_list = ['AutoZone','TransDigm','Archer Daniels Midland ADM', 'Brown Forman']\n",
    "\n",
    "for empty_data_company in empty_data_company_list:\n",
    "    company_name_list.remove(empty_data_company)\n",
    "\n",
    "tmp_column = pd.DataFrame(columns = ['ROE_LR', 'ROA_LR', 'PER_LR', 'PBR_LR','equity_LR', 'FCF_asset_LR', 'ROE_new', 'ROA_new', 'PER_new', 'PBR_new','equity_new', 'FCF_asset_new'])\n",
    "\n",
    "\n",
    "for company_name in company_name_list:\n",
    "    tmp_column = pd.concat([tmp_column, \n",
    "                            df_final(\n",
    "                                normalization_mid(\n",
    "                                    EDA_each(StockMarketEDA_us_clean_column_rename, company_name)\n",
    "                                        )\n",
    "                                    , year)\n",
    "                                ]\n",
    "                           )\n",
    "file_path = '../data/StockMarketEDA_LR_new_med_US_'+ str(year) +'.csv'\n",
    "tmp_column.to_csv(file_path, sep=',', encoding='utf-8')"
   ]
  },
  {
   "attachments": {},
   "cell_type": "markdown",
   "metadata": {},
   "source": [
    "---\n",
    "---\n",
    "### YoY 산출"
   ]
  },
  {
   "cell_type": "code",
   "execution_count": 25,
   "metadata": {},
   "outputs": [],
   "source": [
    "from datetime import datetime\n",
    "from datetime import timedelta\n",
    "import yfinance as yf\n",
    "import yfinance as yfin\n",
    "from tqdm import tqdm\n",
    "\n",
    "def get_ticker_list(df_ticker_list, company_name_list):\n",
    "    ticker_list =[]\n",
    "    for company in company_name_list:\n",
    "        if company in df_ticker_list.index.values.tolist():\n",
    "            ticker_list.append(df_ticker_list.loc[company][0])\n",
    "        else:\n",
    "            pass\n",
    "    return ticker_list\n",
    "\n",
    "def startDay_price(ticker, date_start):\n",
    "    \n",
    "    df = yf.download(ticker, start=date_start, end=datetime.strptime(date_start, '%Y-%m-%d') + timedelta(days=5) )\n",
    "    return df['Close'][0]\n",
    "\n",
    "def endDay_price(ticker, date_end):\n",
    "    df = yf.download(ticker, start=datetime.strptime(date_end, '%Y-%m-%d') + timedelta(days=-10), end=date_end )\n",
    "    return df['Close'][-1]\n"
   ]
  },
  {
   "cell_type": "code",
   "execution_count": 53,
   "metadata": {},
   "outputs": [
    {
     "name": "stderr",
     "output_type": "stream",
     "text": [
      "  0%|          | 0/125 [00:00<?, ?it/s]"
     ]
    },
    {
     "name": "stdout",
     "output_type": "stream",
     "text": [
      "[*********************100%***********************]  1 of 1 completed\n",
      "[*********************100%***********************]  1 of 1 completed"
     ]
    },
    {
     "name": "stderr",
     "output_type": "stream",
     "text": [
      "  1%|          | 1/125 [00:00<01:16,  1.63it/s]"
     ]
    },
    {
     "name": "stdout",
     "output_type": "stream",
     "text": [
      "\n",
      "[*********************100%***********************]  1 of 1 completed\n",
      "[*********************100%***********************]  1 of 1 completed"
     ]
    },
    {
     "name": "stderr",
     "output_type": "stream",
     "text": [
      "  2%|▏         | 2/125 [00:01<01:14,  1.66it/s]"
     ]
    },
    {
     "name": "stdout",
     "output_type": "stream",
     "text": [
      "\n",
      "[*********************100%***********************]  1 of 1 completed\n",
      "[*********************100%***********************]  1 of 1 completed"
     ]
    },
    {
     "name": "stderr",
     "output_type": "stream",
     "text": [
      "  2%|▏         | 3/125 [00:01<01:08,  1.79it/s]"
     ]
    },
    {
     "name": "stdout",
     "output_type": "stream",
     "text": [
      "\n",
      "[*********************100%***********************]  1 of 1 completed\n",
      "[*********************100%***********************]  1 of 1 completed"
     ]
    },
    {
     "name": "stderr",
     "output_type": "stream",
     "text": [
      "  3%|▎         | 4/125 [00:02<01:05,  1.85it/s]"
     ]
    },
    {
     "name": "stdout",
     "output_type": "stream",
     "text": [
      "\n",
      "[*********************100%***********************]  1 of 1 completed\n",
      "[*********************100%***********************]  1 of 1 completed"
     ]
    },
    {
     "name": "stderr",
     "output_type": "stream",
     "text": [
      "  4%|▍         | 5/125 [00:02<01:05,  1.83it/s]"
     ]
    },
    {
     "name": "stdout",
     "output_type": "stream",
     "text": [
      "\n",
      "[*********************100%***********************]  1 of 1 completed\n",
      "[*********************100%***********************]  1 of 1 completed"
     ]
    },
    {
     "name": "stderr",
     "output_type": "stream",
     "text": [
      "  5%|▍         | 6/125 [00:03<01:11,  1.67it/s]"
     ]
    },
    {
     "name": "stdout",
     "output_type": "stream",
     "text": [
      "\n",
      "[*********************100%***********************]  1 of 1 completed\n",
      "[*********************100%***********************]  1 of 1 completed"
     ]
    },
    {
     "name": "stderr",
     "output_type": "stream",
     "text": [
      "  6%|▌         | 7/125 [00:04<01:08,  1.72it/s]"
     ]
    },
    {
     "name": "stdout",
     "output_type": "stream",
     "text": [
      "\n",
      "[*********************100%***********************]  1 of 1 completed\n",
      "[*********************100%***********************]  1 of 1 completed"
     ]
    },
    {
     "name": "stderr",
     "output_type": "stream",
     "text": [
      "  6%|▋         | 8/125 [00:04<01:10,  1.66it/s]"
     ]
    },
    {
     "name": "stdout",
     "output_type": "stream",
     "text": [
      "\n",
      "[*********************100%***********************]  1 of 1 completed\n",
      "[*********************100%***********************]  1 of 1 completed"
     ]
    },
    {
     "name": "stderr",
     "output_type": "stream",
     "text": [
      "  7%|▋         | 9/125 [00:05<01:10,  1.64it/s]"
     ]
    },
    {
     "name": "stdout",
     "output_type": "stream",
     "text": [
      "\n",
      "[*********************100%***********************]  1 of 1 completed\n",
      "[*********************100%***********************]  1 of 1 completed"
     ]
    },
    {
     "name": "stderr",
     "output_type": "stream",
     "text": [
      "  8%|▊         | 10/125 [00:06<01:13,  1.55it/s]"
     ]
    },
    {
     "name": "stdout",
     "output_type": "stream",
     "text": [
      "\n",
      "[*********************100%***********************]  1 of 1 completed\n",
      "[*********************100%***********************]  1 of 1 completed"
     ]
    },
    {
     "name": "stderr",
     "output_type": "stream",
     "text": [
      "  9%|▉         | 11/125 [00:06<01:09,  1.65it/s]"
     ]
    },
    {
     "name": "stdout",
     "output_type": "stream",
     "text": [
      "\n",
      "[*********************100%***********************]  1 of 1 completed\n",
      "[*********************100%***********************]  1 of 1 completed"
     ]
    },
    {
     "name": "stderr",
     "output_type": "stream",
     "text": [
      " 10%|▉         | 12/125 [00:07<01:07,  1.67it/s]"
     ]
    },
    {
     "name": "stdout",
     "output_type": "stream",
     "text": [
      "\n",
      "[*********************100%***********************]  1 of 1 completed\n",
      "[*********************100%***********************]  1 of 1 completed"
     ]
    },
    {
     "name": "stderr",
     "output_type": "stream",
     "text": [
      " 10%|█         | 13/125 [00:07<01:05,  1.71it/s]"
     ]
    },
    {
     "name": "stdout",
     "output_type": "stream",
     "text": [
      "\n",
      "[*********************100%***********************]  1 of 1 completed\n",
      "[*********************100%***********************]  1 of 1 completed"
     ]
    },
    {
     "name": "stderr",
     "output_type": "stream",
     "text": [
      " 11%|█         | 14/125 [00:08<01:07,  1.65it/s]"
     ]
    },
    {
     "name": "stdout",
     "output_type": "stream",
     "text": [
      "\n",
      "[*********************100%***********************]  1 of 1 completed\n",
      "[*********************100%***********************]  1 of 1 completed"
     ]
    },
    {
     "name": "stderr",
     "output_type": "stream",
     "text": [
      " 12%|█▏        | 15/125 [00:08<01:04,  1.70it/s]"
     ]
    },
    {
     "name": "stdout",
     "output_type": "stream",
     "text": [
      "\n",
      "[*********************100%***********************]  1 of 1 completed\n",
      "[*********************100%***********************]  1 of 1 completed"
     ]
    },
    {
     "name": "stderr",
     "output_type": "stream",
     "text": [
      " 13%|█▎        | 16/125 [00:09<01:04,  1.68it/s]"
     ]
    },
    {
     "name": "stdout",
     "output_type": "stream",
     "text": [
      "\n",
      "[*********************100%***********************]  1 of 1 completed\n",
      "[*********************100%***********************]  1 of 1 completed"
     ]
    },
    {
     "name": "stderr",
     "output_type": "stream",
     "text": [
      " 14%|█▎        | 17/125 [00:10<01:05,  1.65it/s]"
     ]
    },
    {
     "name": "stdout",
     "output_type": "stream",
     "text": [
      "\n",
      "[*********************100%***********************]  1 of 1 completed\n",
      "[*********************100%***********************]  1 of 1 completed"
     ]
    },
    {
     "name": "stderr",
     "output_type": "stream",
     "text": [
      " 14%|█▍        | 18/125 [00:10<01:07,  1.58it/s]"
     ]
    },
    {
     "name": "stdout",
     "output_type": "stream",
     "text": [
      "\n",
      "[*********************100%***********************]  1 of 1 completed\n",
      "[*********************100%***********************]  1 of 1 completed"
     ]
    },
    {
     "name": "stderr",
     "output_type": "stream",
     "text": [
      " 15%|█▌        | 19/125 [00:11<01:05,  1.62it/s]"
     ]
    },
    {
     "name": "stdout",
     "output_type": "stream",
     "text": [
      "\n",
      "[*********************100%***********************]  1 of 1 completed\n",
      "[*********************100%***********************]  1 of 1 completed"
     ]
    },
    {
     "name": "stderr",
     "output_type": "stream",
     "text": [
      " 16%|█▌        | 20/125 [00:12<01:06,  1.58it/s]"
     ]
    },
    {
     "name": "stdout",
     "output_type": "stream",
     "text": [
      "\n",
      "[*********************100%***********************]  1 of 1 completed\n",
      "[*********************100%***********************]  1 of 1 completed"
     ]
    },
    {
     "name": "stderr",
     "output_type": "stream",
     "text": [
      " 17%|█▋        | 21/125 [00:12<01:03,  1.63it/s]"
     ]
    },
    {
     "name": "stdout",
     "output_type": "stream",
     "text": [
      "\n",
      "[*********************100%***********************]  1 of 1 completed\n",
      "[*********************100%***********************]  1 of 1 completed"
     ]
    },
    {
     "name": "stderr",
     "output_type": "stream",
     "text": [
      " 18%|█▊        | 22/125 [00:13<01:04,  1.60it/s]"
     ]
    },
    {
     "name": "stdout",
     "output_type": "stream",
     "text": [
      "\n",
      "[*********************100%***********************]  1 of 1 completed\n",
      "[*********************100%***********************]  1 of 1 completed"
     ]
    },
    {
     "name": "stderr",
     "output_type": "stream",
     "text": [
      " 18%|█▊        | 23/125 [00:13<01:02,  1.63it/s]"
     ]
    },
    {
     "name": "stdout",
     "output_type": "stream",
     "text": [
      "\n",
      "[*********************100%***********************]  1 of 1 completed\n",
      "[*********************100%***********************]  1 of 1 completed"
     ]
    },
    {
     "name": "stderr",
     "output_type": "stream",
     "text": [
      " 19%|█▉        | 24/125 [00:14<01:00,  1.67it/s]"
     ]
    },
    {
     "name": "stdout",
     "output_type": "stream",
     "text": [
      "\n",
      "[*********************100%***********************]  1 of 1 completed\n",
      "[*********************100%***********************]  1 of 1 completed"
     ]
    },
    {
     "name": "stderr",
     "output_type": "stream",
     "text": [
      " 20%|██        | 25/125 [00:15<01:02,  1.59it/s]"
     ]
    },
    {
     "name": "stdout",
     "output_type": "stream",
     "text": [
      "\n",
      "[*********************100%***********************]  1 of 1 completed\n",
      "[*********************100%***********************]  1 of 1 completed"
     ]
    },
    {
     "name": "stderr",
     "output_type": "stream",
     "text": [
      " 21%|██        | 26/125 [00:15<00:59,  1.65it/s]"
     ]
    },
    {
     "name": "stdout",
     "output_type": "stream",
     "text": [
      "\n",
      "[*********************100%***********************]  1 of 1 completed\n",
      "[*********************100%***********************]  1 of 1 completed"
     ]
    },
    {
     "name": "stderr",
     "output_type": "stream",
     "text": [
      " 22%|██▏       | 27/125 [00:16<01:00,  1.63it/s]"
     ]
    },
    {
     "name": "stdout",
     "output_type": "stream",
     "text": [
      "\n",
      "[*********************100%***********************]  1 of 1 completed\n",
      "[*********************100%***********************]  1 of 1 completed"
     ]
    },
    {
     "name": "stderr",
     "output_type": "stream",
     "text": [
      " 22%|██▏       | 28/125 [00:17<01:01,  1.57it/s]"
     ]
    },
    {
     "name": "stdout",
     "output_type": "stream",
     "text": [
      "\n",
      "[*********************100%***********************]  1 of 1 completed\n",
      "[*********************100%***********************]  1 of 1 completed"
     ]
    },
    {
     "name": "stderr",
     "output_type": "stream",
     "text": [
      " 23%|██▎       | 29/125 [00:17<01:01,  1.55it/s]"
     ]
    },
    {
     "name": "stdout",
     "output_type": "stream",
     "text": [
      "\n",
      "[*********************100%***********************]  1 of 1 completed\n",
      "[*********************100%***********************]  1 of 1 completed"
     ]
    },
    {
     "name": "stderr",
     "output_type": "stream",
     "text": [
      " 24%|██▍       | 30/125 [00:18<00:57,  1.66it/s]"
     ]
    },
    {
     "name": "stdout",
     "output_type": "stream",
     "text": [
      "\n",
      "[*********************100%***********************]  1 of 1 completed\n",
      "[*********************100%***********************]  1 of 1 completed"
     ]
    },
    {
     "name": "stderr",
     "output_type": "stream",
     "text": [
      " 25%|██▍       | 31/125 [00:18<00:56,  1.66it/s]"
     ]
    },
    {
     "name": "stdout",
     "output_type": "stream",
     "text": [
      "\n",
      "[*********************100%***********************]  1 of 1 completed\n",
      "[*********************100%***********************]  1 of 1 completed"
     ]
    },
    {
     "name": "stderr",
     "output_type": "stream",
     "text": [
      " 26%|██▌       | 32/125 [00:19<00:56,  1.63it/s]"
     ]
    },
    {
     "name": "stdout",
     "output_type": "stream",
     "text": [
      "\n",
      "[*********************100%***********************]  1 of 1 completed\n",
      "[*********************100%***********************]  1 of 1 completed"
     ]
    },
    {
     "name": "stderr",
     "output_type": "stream",
     "text": [
      " 26%|██▋       | 33/125 [00:20<00:57,  1.60it/s]"
     ]
    },
    {
     "name": "stdout",
     "output_type": "stream",
     "text": [
      "\n",
      "[*********************100%***********************]  1 of 1 completed\n",
      "[*********************100%***********************]  1 of 1 completed"
     ]
    },
    {
     "name": "stderr",
     "output_type": "stream",
     "text": [
      " 27%|██▋       | 34/125 [00:20<00:55,  1.64it/s]"
     ]
    },
    {
     "name": "stdout",
     "output_type": "stream",
     "text": [
      "\n",
      "[*********************100%***********************]  1 of 1 completed\n",
      "[*********************100%***********************]  1 of 1 completed"
     ]
    },
    {
     "name": "stderr",
     "output_type": "stream",
     "text": [
      " 28%|██▊       | 35/125 [00:21<00:56,  1.59it/s]"
     ]
    },
    {
     "name": "stdout",
     "output_type": "stream",
     "text": [
      "\n",
      "[*********************100%***********************]  1 of 1 completed\n",
      "[*********************100%***********************]  1 of 1 completed"
     ]
    },
    {
     "name": "stderr",
     "output_type": "stream",
     "text": [
      " 29%|██▉       | 36/125 [00:22<00:59,  1.50it/s]"
     ]
    },
    {
     "name": "stdout",
     "output_type": "stream",
     "text": [
      "\n",
      "[*********************100%***********************]  1 of 1 completed\n",
      "[*********************100%***********************]  1 of 1 completed"
     ]
    },
    {
     "name": "stderr",
     "output_type": "stream",
     "text": [
      " 30%|██▉       | 37/125 [00:22<01:00,  1.46it/s]"
     ]
    },
    {
     "name": "stdout",
     "output_type": "stream",
     "text": [
      "\n",
      "[*********************100%***********************]  1 of 1 completed\n",
      "[*********************100%***********************]  1 of 1 completed"
     ]
    },
    {
     "name": "stderr",
     "output_type": "stream",
     "text": [
      " 30%|███       | 38/125 [00:23<00:56,  1.53it/s]"
     ]
    },
    {
     "name": "stdout",
     "output_type": "stream",
     "text": [
      "\n",
      "[*********************100%***********************]  1 of 1 completed\n",
      "[*********************100%***********************]  1 of 1 completed"
     ]
    },
    {
     "name": "stderr",
     "output_type": "stream",
     "text": [
      " 31%|███       | 39/125 [00:23<00:53,  1.61it/s]"
     ]
    },
    {
     "name": "stdout",
     "output_type": "stream",
     "text": [
      "\n",
      "[*********************100%***********************]  1 of 1 completed\n",
      "[*********************100%***********************]  1 of 1 completed"
     ]
    },
    {
     "name": "stderr",
     "output_type": "stream",
     "text": [
      " 32%|███▏      | 40/125 [00:24<00:52,  1.63it/s]"
     ]
    },
    {
     "name": "stdout",
     "output_type": "stream",
     "text": [
      "\n",
      "[*********************100%***********************]  1 of 1 completed\n",
      "[*********************100%***********************]  1 of 1 completed"
     ]
    },
    {
     "name": "stderr",
     "output_type": "stream",
     "text": [
      " 33%|███▎      | 41/125 [00:25<00:50,  1.67it/s]"
     ]
    },
    {
     "name": "stdout",
     "output_type": "stream",
     "text": [
      "\n",
      "[*********************100%***********************]  1 of 1 completed\n",
      "[*********************100%***********************]  1 of 1 completed"
     ]
    },
    {
     "name": "stderr",
     "output_type": "stream",
     "text": [
      " 34%|███▎      | 42/125 [00:25<00:47,  1.73it/s]"
     ]
    },
    {
     "name": "stdout",
     "output_type": "stream",
     "text": [
      "\n",
      "[*********************100%***********************]  1 of 1 completed\n",
      "[*********************100%***********************]  1 of 1 completed"
     ]
    },
    {
     "name": "stderr",
     "output_type": "stream",
     "text": [
      " 34%|███▍      | 43/125 [00:26<00:49,  1.66it/s]"
     ]
    },
    {
     "name": "stdout",
     "output_type": "stream",
     "text": [
      "\n",
      "[*********************100%***********************]  1 of 1 completed\n",
      "[*********************100%***********************]  1 of 1 completed"
     ]
    },
    {
     "name": "stderr",
     "output_type": "stream",
     "text": [
      " 35%|███▌      | 44/125 [00:26<00:46,  1.74it/s]"
     ]
    },
    {
     "name": "stdout",
     "output_type": "stream",
     "text": [
      "\n",
      "[*********************100%***********************]  1 of 1 completed\n",
      "[*********************100%***********************]  1 of 1 completed"
     ]
    },
    {
     "name": "stderr",
     "output_type": "stream",
     "text": [
      " 36%|███▌      | 45/125 [00:27<00:47,  1.68it/s]"
     ]
    },
    {
     "name": "stdout",
     "output_type": "stream",
     "text": [
      "\n",
      "[*********************100%***********************]  1 of 1 completed\n",
      "[*********************100%***********************]  1 of 1 completed"
     ]
    },
    {
     "name": "stderr",
     "output_type": "stream",
     "text": [
      " 37%|███▋      | 46/125 [00:28<00:47,  1.67it/s]"
     ]
    },
    {
     "name": "stdout",
     "output_type": "stream",
     "text": [
      "\n",
      "[*********************100%***********************]  1 of 1 completed\n",
      "[*********************100%***********************]  1 of 1 completed"
     ]
    },
    {
     "name": "stderr",
     "output_type": "stream",
     "text": [
      " 38%|███▊      | 47/125 [00:28<00:46,  1.69it/s]"
     ]
    },
    {
     "name": "stdout",
     "output_type": "stream",
     "text": [
      "\n",
      "[*********************100%***********************]  1 of 1 completed\n",
      "[*********************100%***********************]  1 of 1 completed"
     ]
    },
    {
     "name": "stderr",
     "output_type": "stream",
     "text": [
      " 38%|███▊      | 48/125 [00:29<00:45,  1.69it/s]"
     ]
    },
    {
     "name": "stdout",
     "output_type": "stream",
     "text": [
      "\n",
      "[*********************100%***********************]  1 of 1 completed\n",
      "[*********************100%***********************]  1 of 1 completed"
     ]
    },
    {
     "name": "stderr",
     "output_type": "stream",
     "text": [
      " 39%|███▉      | 49/125 [00:29<00:46,  1.64it/s]"
     ]
    },
    {
     "name": "stdout",
     "output_type": "stream",
     "text": [
      "\n",
      "[*********************100%***********************]  1 of 1 completed\n",
      "[*********************100%***********************]  1 of 1 completed"
     ]
    },
    {
     "name": "stderr",
     "output_type": "stream",
     "text": [
      " 40%|████      | 50/125 [00:30<00:46,  1.62it/s]"
     ]
    },
    {
     "name": "stdout",
     "output_type": "stream",
     "text": [
      "\n",
      "[*********************100%***********************]  1 of 1 completed\n",
      "[*********************100%***********************]  1 of 1 completed"
     ]
    },
    {
     "name": "stderr",
     "output_type": "stream",
     "text": [
      " 41%|████      | 51/125 [00:31<00:46,  1.60it/s]"
     ]
    },
    {
     "name": "stdout",
     "output_type": "stream",
     "text": [
      "\n",
      "[*********************100%***********************]  1 of 1 completed\n",
      "[*********************100%***********************]  1 of 1 completed"
     ]
    },
    {
     "name": "stderr",
     "output_type": "stream",
     "text": [
      " 42%|████▏     | 52/125 [00:31<00:45,  1.60it/s]"
     ]
    },
    {
     "name": "stdout",
     "output_type": "stream",
     "text": [
      "\n",
      "[*********************100%***********************]  1 of 1 completed\n",
      "[*********************100%***********************]  1 of 1 completed"
     ]
    },
    {
     "name": "stderr",
     "output_type": "stream",
     "text": [
      " 42%|████▏     | 53/125 [00:32<00:42,  1.68it/s]"
     ]
    },
    {
     "name": "stdout",
     "output_type": "stream",
     "text": [
      "\n",
      "[*********************100%***********************]  1 of 1 completed\n",
      "[*********************100%***********************]  1 of 1 completed"
     ]
    },
    {
     "name": "stderr",
     "output_type": "stream",
     "text": [
      " 43%|████▎     | 54/125 [00:32<00:44,  1.60it/s]"
     ]
    },
    {
     "name": "stdout",
     "output_type": "stream",
     "text": [
      "\n",
      "[*********************100%***********************]  1 of 1 completed\n",
      "[*********************100%***********************]  1 of 1 completed"
     ]
    },
    {
     "name": "stderr",
     "output_type": "stream",
     "text": [
      " 44%|████▍     | 55/125 [00:33<00:42,  1.66it/s]"
     ]
    },
    {
     "name": "stdout",
     "output_type": "stream",
     "text": [
      "\n",
      "[*********************100%***********************]  1 of 1 completed\n",
      "[*********************100%***********************]  1 of 1 completed"
     ]
    },
    {
     "name": "stderr",
     "output_type": "stream",
     "text": [
      " 45%|████▍     | 56/125 [00:34<00:40,  1.69it/s]"
     ]
    },
    {
     "name": "stdout",
     "output_type": "stream",
     "text": [
      "\n",
      "[*********************100%***********************]  1 of 1 completed\n",
      "[*********************100%***********************]  1 of 1 completed"
     ]
    },
    {
     "name": "stderr",
     "output_type": "stream",
     "text": [
      " 46%|████▌     | 57/125 [00:34<00:42,  1.61it/s]"
     ]
    },
    {
     "name": "stdout",
     "output_type": "stream",
     "text": [
      "\n",
      "[*********************100%***********************]  1 of 1 completed\n",
      "[*********************100%***********************]  1 of 1 completed"
     ]
    },
    {
     "name": "stderr",
     "output_type": "stream",
     "text": [
      " 46%|████▋     | 58/125 [00:35<00:40,  1.65it/s]"
     ]
    },
    {
     "name": "stdout",
     "output_type": "stream",
     "text": [
      "\n",
      "[*********************100%***********************]  1 of 1 completed\n",
      "[*********************100%***********************]  1 of 1 completed"
     ]
    },
    {
     "name": "stderr",
     "output_type": "stream",
     "text": [
      " 47%|████▋     | 59/125 [00:36<00:42,  1.54it/s]"
     ]
    },
    {
     "name": "stdout",
     "output_type": "stream",
     "text": [
      "\n",
      "[*********************100%***********************]  1 of 1 completed\n",
      "[*********************100%***********************]  1 of 1 completed"
     ]
    },
    {
     "name": "stderr",
     "output_type": "stream",
     "text": [
      " 48%|████▊     | 60/125 [00:36<00:42,  1.52it/s]"
     ]
    },
    {
     "name": "stdout",
     "output_type": "stream",
     "text": [
      "\n",
      "[*********************100%***********************]  1 of 1 completed\n",
      "[*********************100%***********************]  1 of 1 completed"
     ]
    },
    {
     "name": "stderr",
     "output_type": "stream",
     "text": [
      " 49%|████▉     | 61/125 [00:37<00:39,  1.63it/s]"
     ]
    },
    {
     "name": "stdout",
     "output_type": "stream",
     "text": [
      "\n",
      "[*********************100%***********************]  1 of 1 completed\n",
      "[*********************100%***********************]  1 of 1 completed"
     ]
    },
    {
     "name": "stderr",
     "output_type": "stream",
     "text": [
      " 50%|████▉     | 62/125 [00:37<00:39,  1.60it/s]"
     ]
    },
    {
     "name": "stdout",
     "output_type": "stream",
     "text": [
      "\n",
      "[*********************100%***********************]  1 of 1 completed\n",
      "[*********************100%***********************]  1 of 1 completed"
     ]
    },
    {
     "name": "stderr",
     "output_type": "stream",
     "text": [
      " 50%|█████     | 63/125 [00:38<00:46,  1.34it/s]"
     ]
    },
    {
     "name": "stdout",
     "output_type": "stream",
     "text": [
      "\n",
      "[*********************100%***********************]  1 of 1 completed\n",
      "[*********************100%***********************]  1 of 1 completed"
     ]
    },
    {
     "name": "stderr",
     "output_type": "stream",
     "text": [
      " 51%|█████     | 64/125 [00:39<00:41,  1.48it/s]"
     ]
    },
    {
     "name": "stdout",
     "output_type": "stream",
     "text": [
      "\n",
      "[*********************100%***********************]  1 of 1 completed\n",
      "[*********************100%***********************]  1 of 1 completed"
     ]
    },
    {
     "name": "stderr",
     "output_type": "stream",
     "text": [
      " 52%|█████▏    | 65/125 [00:40<00:39,  1.53it/s]"
     ]
    },
    {
     "name": "stdout",
     "output_type": "stream",
     "text": [
      "\n",
      "[*********************100%***********************]  1 of 1 completed\n",
      "[*********************100%***********************]  1 of 1 completed"
     ]
    },
    {
     "name": "stderr",
     "output_type": "stream",
     "text": [
      " 53%|█████▎    | 66/125 [00:40<00:37,  1.58it/s]"
     ]
    },
    {
     "name": "stdout",
     "output_type": "stream",
     "text": [
      "\n",
      "[*********************100%***********************]  1 of 1 completed\n",
      "[*********************100%***********************]  1 of 1 completed"
     ]
    },
    {
     "name": "stderr",
     "output_type": "stream",
     "text": [
      " 54%|█████▎    | 67/125 [00:41<00:35,  1.64it/s]"
     ]
    },
    {
     "name": "stdout",
     "output_type": "stream",
     "text": [
      "\n",
      "[*********************100%***********************]  1 of 1 completed\n",
      "[*********************100%***********************]  1 of 1 completed"
     ]
    },
    {
     "name": "stderr",
     "output_type": "stream",
     "text": [
      " 54%|█████▍    | 68/125 [00:41<00:33,  1.70it/s]"
     ]
    },
    {
     "name": "stdout",
     "output_type": "stream",
     "text": [
      "\n",
      "[*********************100%***********************]  1 of 1 completed\n",
      "[*********************100%***********************]  1 of 1 completed"
     ]
    },
    {
     "name": "stderr",
     "output_type": "stream",
     "text": [
      " 55%|█████▌    | 69/125 [00:42<00:34,  1.63it/s]"
     ]
    },
    {
     "name": "stdout",
     "output_type": "stream",
     "text": [
      "\n",
      "[*********************100%***********************]  1 of 1 completed\n",
      "[*********************100%***********************]  1 of 1 completed"
     ]
    },
    {
     "name": "stderr",
     "output_type": "stream",
     "text": [
      " 56%|█████▌    | 70/125 [00:43<00:34,  1.62it/s]"
     ]
    },
    {
     "name": "stdout",
     "output_type": "stream",
     "text": [
      "\n",
      "[*********************100%***********************]  1 of 1 completed\n",
      "[*********************100%***********************]  1 of 1 completed"
     ]
    },
    {
     "name": "stderr",
     "output_type": "stream",
     "text": [
      " 57%|█████▋    | 71/125 [00:43<00:31,  1.71it/s]"
     ]
    },
    {
     "name": "stdout",
     "output_type": "stream",
     "text": [
      "\n",
      "[*********************100%***********************]  1 of 1 completed\n",
      "[*********************100%***********************]  1 of 1 completed"
     ]
    },
    {
     "name": "stderr",
     "output_type": "stream",
     "text": [
      " 58%|█████▊    | 72/125 [00:44<00:30,  1.74it/s]"
     ]
    },
    {
     "name": "stdout",
     "output_type": "stream",
     "text": [
      "\n",
      "[*********************100%***********************]  1 of 1 completed\n",
      "[*********************100%***********************]  1 of 1 completed"
     ]
    },
    {
     "name": "stderr",
     "output_type": "stream",
     "text": [
      " 58%|█████▊    | 73/125 [00:44<00:31,  1.65it/s]"
     ]
    },
    {
     "name": "stdout",
     "output_type": "stream",
     "text": [
      "\n",
      "[*********************100%***********************]  1 of 1 completed\n",
      "[*********************100%***********************]  1 of 1 completed"
     ]
    },
    {
     "name": "stderr",
     "output_type": "stream",
     "text": [
      " 59%|█████▉    | 74/125 [00:45<00:31,  1.62it/s]"
     ]
    },
    {
     "name": "stdout",
     "output_type": "stream",
     "text": [
      "\n",
      "[*********************100%***********************]  1 of 1 completed\n",
      "[*********************100%***********************]  1 of 1 completed"
     ]
    },
    {
     "name": "stderr",
     "output_type": "stream",
     "text": [
      " 60%|██████    | 75/125 [00:45<00:29,  1.70it/s]"
     ]
    },
    {
     "name": "stdout",
     "output_type": "stream",
     "text": [
      "\n",
      "[*********************100%***********************]  1 of 1 completed\n",
      "[*********************100%***********************]  1 of 1 completed"
     ]
    },
    {
     "name": "stderr",
     "output_type": "stream",
     "text": [
      " 61%|██████    | 76/125 [00:46<00:28,  1.69it/s]"
     ]
    },
    {
     "name": "stdout",
     "output_type": "stream",
     "text": [
      "\n",
      "[*********************100%***********************]  1 of 1 completed\n",
      "[*********************100%***********************]  1 of 1 completed"
     ]
    },
    {
     "name": "stderr",
     "output_type": "stream",
     "text": [
      " 62%|██████▏   | 77/125 [00:47<00:27,  1.74it/s]"
     ]
    },
    {
     "name": "stdout",
     "output_type": "stream",
     "text": [
      "\n",
      "[*********************100%***********************]  1 of 1 completed\n",
      "[*********************100%***********************]  1 of 1 completed"
     ]
    },
    {
     "name": "stderr",
     "output_type": "stream",
     "text": [
      " 62%|██████▏   | 78/125 [00:47<00:26,  1.79it/s]"
     ]
    },
    {
     "name": "stdout",
     "output_type": "stream",
     "text": [
      "\n",
      "[*********************100%***********************]  1 of 1 completed\n",
      "[*********************100%***********************]  1 of 1 completed"
     ]
    },
    {
     "name": "stderr",
     "output_type": "stream",
     "text": [
      " 63%|██████▎   | 79/125 [00:48<00:25,  1.81it/s]"
     ]
    },
    {
     "name": "stdout",
     "output_type": "stream",
     "text": [
      "\n",
      "[*********************100%***********************]  1 of 1 completed\n",
      "[*********************100%***********************]  1 of 1 completed"
     ]
    },
    {
     "name": "stderr",
     "output_type": "stream",
     "text": [
      " 64%|██████▍   | 80/125 [00:48<00:24,  1.80it/s]"
     ]
    },
    {
     "name": "stdout",
     "output_type": "stream",
     "text": [
      "\n",
      "[*********************100%***********************]  1 of 1 completed\n",
      "[*********************100%***********************]  1 of 1 completed"
     ]
    },
    {
     "name": "stderr",
     "output_type": "stream",
     "text": [
      " 65%|██████▍   | 81/125 [00:49<00:25,  1.74it/s]"
     ]
    },
    {
     "name": "stdout",
     "output_type": "stream",
     "text": [
      "\n",
      "[*********************100%***********************]  1 of 1 completed\n",
      "[*********************100%***********************]  1 of 1 completed"
     ]
    },
    {
     "name": "stderr",
     "output_type": "stream",
     "text": [
      " 66%|██████▌   | 82/125 [00:49<00:24,  1.74it/s]"
     ]
    },
    {
     "name": "stdout",
     "output_type": "stream",
     "text": [
      "\n",
      "[*********************100%***********************]  1 of 1 completed\n",
      "[*********************100%***********************]  1 of 1 completed"
     ]
    },
    {
     "name": "stderr",
     "output_type": "stream",
     "text": [
      " 66%|██████▋   | 83/125 [00:50<00:23,  1.76it/s]"
     ]
    },
    {
     "name": "stdout",
     "output_type": "stream",
     "text": [
      "\n",
      "[*********************100%***********************]  1 of 1 completed\n",
      "[*********************100%***********************]  1 of 1 completed"
     ]
    },
    {
     "name": "stderr",
     "output_type": "stream",
     "text": [
      " 67%|██████▋   | 84/125 [00:51<00:23,  1.74it/s]"
     ]
    },
    {
     "name": "stdout",
     "output_type": "stream",
     "text": [
      "\n",
      "[*********************100%***********************]  1 of 1 completed\n",
      "[*********************100%***********************]  1 of 1 completed"
     ]
    },
    {
     "name": "stderr",
     "output_type": "stream",
     "text": [
      " 68%|██████▊   | 85/125 [00:51<00:23,  1.72it/s]"
     ]
    },
    {
     "name": "stdout",
     "output_type": "stream",
     "text": [
      "\n",
      "[*********************100%***********************]  1 of 1 completed\n",
      "[*********************100%***********************]  1 of 1 completed"
     ]
    },
    {
     "name": "stderr",
     "output_type": "stream",
     "text": [
      " 69%|██████▉   | 86/125 [00:52<00:23,  1.64it/s]"
     ]
    },
    {
     "name": "stdout",
     "output_type": "stream",
     "text": [
      "\n",
      "[*********************100%***********************]  1 of 1 completed\n",
      "[*********************100%***********************]  1 of 1 completed"
     ]
    },
    {
     "name": "stderr",
     "output_type": "stream",
     "text": [
      " 70%|██████▉   | 87/125 [00:52<00:23,  1.65it/s]"
     ]
    },
    {
     "name": "stdout",
     "output_type": "stream",
     "text": [
      "\n",
      "[*********************100%***********************]  1 of 1 completed\n",
      "[*********************100%***********************]  1 of 1 completed"
     ]
    },
    {
     "name": "stderr",
     "output_type": "stream",
     "text": [
      " 70%|███████   | 88/125 [00:53<00:22,  1.63it/s]"
     ]
    },
    {
     "name": "stdout",
     "output_type": "stream",
     "text": [
      "\n",
      "[*********************100%***********************]  1 of 1 completed\n",
      "[*********************100%***********************]  1 of 1 completed"
     ]
    },
    {
     "name": "stderr",
     "output_type": "stream",
     "text": [
      " 71%|███████   | 89/125 [00:54<00:21,  1.64it/s]"
     ]
    },
    {
     "name": "stdout",
     "output_type": "stream",
     "text": [
      "\n",
      "[*********************100%***********************]  1 of 1 completed\n",
      "[*********************100%***********************]  1 of 1 completed"
     ]
    },
    {
     "name": "stderr",
     "output_type": "stream",
     "text": [
      " 72%|███████▏  | 90/125 [00:54<00:21,  1.60it/s]"
     ]
    },
    {
     "name": "stdout",
     "output_type": "stream",
     "text": [
      "\n",
      "[*********************100%***********************]  1 of 1 completed\n",
      "[*********************100%***********************]  1 of 1 completed"
     ]
    },
    {
     "name": "stderr",
     "output_type": "stream",
     "text": [
      " 73%|███████▎  | 91/125 [00:55<00:21,  1.59it/s]"
     ]
    },
    {
     "name": "stdout",
     "output_type": "stream",
     "text": [
      "\n",
      "[*********************100%***********************]  1 of 1 completed\n",
      "[*********************100%***********************]  1 of 1 completed"
     ]
    },
    {
     "name": "stderr",
     "output_type": "stream",
     "text": [
      " 74%|███████▎  | 92/125 [00:56<00:20,  1.60it/s]"
     ]
    },
    {
     "name": "stdout",
     "output_type": "stream",
     "text": [
      "\n",
      "[*********************100%***********************]  1 of 1 completed\n",
      "[*********************100%***********************]  1 of 1 completed"
     ]
    },
    {
     "name": "stderr",
     "output_type": "stream",
     "text": [
      " 74%|███████▍  | 93/125 [00:56<00:19,  1.62it/s]"
     ]
    },
    {
     "name": "stdout",
     "output_type": "stream",
     "text": [
      "\n",
      "[*********************100%***********************]  1 of 1 completed\n",
      "[*********************100%***********************]  1 of 1 completed"
     ]
    },
    {
     "name": "stderr",
     "output_type": "stream",
     "text": [
      " 75%|███████▌  | 94/125 [00:57<00:19,  1.61it/s]"
     ]
    },
    {
     "name": "stdout",
     "output_type": "stream",
     "text": [
      "\n",
      "[*********************100%***********************]  1 of 1 completed\n",
      "[*********************100%***********************]  1 of 1 completed"
     ]
    },
    {
     "name": "stderr",
     "output_type": "stream",
     "text": [
      " 76%|███████▌  | 95/125 [00:58<00:19,  1.56it/s]"
     ]
    },
    {
     "name": "stdout",
     "output_type": "stream",
     "text": [
      "\n",
      "[*********************100%***********************]  1 of 1 completed\n",
      "[*********************100%***********************]  1 of 1 completed"
     ]
    },
    {
     "name": "stderr",
     "output_type": "stream",
     "text": [
      " 77%|███████▋  | 96/125 [00:58<00:18,  1.57it/s]"
     ]
    },
    {
     "name": "stdout",
     "output_type": "stream",
     "text": [
      "\n",
      "[*********************100%***********************]  1 of 1 completed\n",
      "[*********************100%***********************]  1 of 1 completed"
     ]
    },
    {
     "name": "stderr",
     "output_type": "stream",
     "text": [
      " 78%|███████▊  | 97/125 [00:59<00:16,  1.67it/s]"
     ]
    },
    {
     "name": "stdout",
     "output_type": "stream",
     "text": [
      "\n",
      "[*********************100%***********************]  1 of 1 completed\n",
      "[*********************100%***********************]  1 of 1 completed"
     ]
    },
    {
     "name": "stderr",
     "output_type": "stream",
     "text": [
      " 78%|███████▊  | 98/125 [00:59<00:16,  1.66it/s]"
     ]
    },
    {
     "name": "stdout",
     "output_type": "stream",
     "text": [
      "\n",
      "[*********************100%***********************]  1 of 1 completed\n",
      "[*********************100%***********************]  1 of 1 completed"
     ]
    },
    {
     "name": "stderr",
     "output_type": "stream",
     "text": [
      " 79%|███████▉  | 99/125 [01:00<00:15,  1.72it/s]"
     ]
    },
    {
     "name": "stdout",
     "output_type": "stream",
     "text": [
      "\n",
      "[*********************100%***********************]  1 of 1 completed\n",
      "[*********************100%***********************]  1 of 1 completed"
     ]
    },
    {
     "name": "stderr",
     "output_type": "stream",
     "text": [
      " 80%|████████  | 100/125 [01:00<00:13,  1.82it/s]"
     ]
    },
    {
     "name": "stdout",
     "output_type": "stream",
     "text": [
      "\n",
      "[*********************100%***********************]  1 of 1 completed\n",
      "[*********************100%***********************]  1 of 1 completed"
     ]
    },
    {
     "name": "stderr",
     "output_type": "stream",
     "text": [
      " 81%|████████  | 101/125 [01:01<00:13,  1.84it/s]"
     ]
    },
    {
     "name": "stdout",
     "output_type": "stream",
     "text": [
      "\n",
      "[*********************100%***********************]  1 of 1 completed\n",
      "[*********************100%***********************]  1 of 1 completed"
     ]
    },
    {
     "name": "stderr",
     "output_type": "stream",
     "text": [
      " 82%|████████▏ | 102/125 [01:01<00:13,  1.76it/s]"
     ]
    },
    {
     "name": "stdout",
     "output_type": "stream",
     "text": [
      "\n",
      "[*********************100%***********************]  1 of 1 completed\n",
      "[*********************100%***********************]  1 of 1 completed"
     ]
    },
    {
     "name": "stderr",
     "output_type": "stream",
     "text": [
      " 82%|████████▏ | 103/125 [01:02<00:13,  1.67it/s]"
     ]
    },
    {
     "name": "stdout",
     "output_type": "stream",
     "text": [
      "\n",
      "[*********************100%***********************]  1 of 1 completed\n",
      "[*********************100%***********************]  1 of 1 completed"
     ]
    },
    {
     "name": "stderr",
     "output_type": "stream",
     "text": [
      " 83%|████████▎ | 104/125 [01:03<00:12,  1.75it/s]"
     ]
    },
    {
     "name": "stdout",
     "output_type": "stream",
     "text": [
      "\n",
      "[*********************100%***********************]  1 of 1 completed\n",
      "[*********************100%***********************]  1 of 1 completed"
     ]
    },
    {
     "name": "stderr",
     "output_type": "stream",
     "text": [
      " 84%|████████▍ | 105/125 [01:03<00:11,  1.73it/s]"
     ]
    },
    {
     "name": "stdout",
     "output_type": "stream",
     "text": [
      "\n",
      "[*********************100%***********************]  1 of 1 completed\n",
      "[*********************100%***********************]  1 of 1 completed"
     ]
    },
    {
     "name": "stderr",
     "output_type": "stream",
     "text": [
      " 85%|████████▍ | 106/125 [01:04<00:10,  1.77it/s]"
     ]
    },
    {
     "name": "stdout",
     "output_type": "stream",
     "text": [
      "\n",
      "[*********************100%***********************]  1 of 1 completed\n",
      "[*********************100%***********************]  1 of 1 completed"
     ]
    },
    {
     "name": "stderr",
     "output_type": "stream",
     "text": [
      " 86%|████████▌ | 107/125 [01:04<00:10,  1.78it/s]"
     ]
    },
    {
     "name": "stdout",
     "output_type": "stream",
     "text": [
      "\n",
      "[*********************100%***********************]  1 of 1 completed\n",
      "[*********************100%***********************]  1 of 1 completed"
     ]
    },
    {
     "name": "stderr",
     "output_type": "stream",
     "text": [
      " 86%|████████▋ | 108/125 [01:05<00:09,  1.72it/s]"
     ]
    },
    {
     "name": "stdout",
     "output_type": "stream",
     "text": [
      "\n",
      "[*********************100%***********************]  1 of 1 completed\n",
      "[*********************100%***********************]  1 of 1 completed"
     ]
    },
    {
     "name": "stderr",
     "output_type": "stream",
     "text": [
      " 87%|████████▋ | 109/125 [01:06<00:09,  1.64it/s]"
     ]
    },
    {
     "name": "stdout",
     "output_type": "stream",
     "text": [
      "\n",
      "[*********************100%***********************]  1 of 1 completed\n",
      "[*********************100%***********************]  1 of 1 completed"
     ]
    },
    {
     "name": "stderr",
     "output_type": "stream",
     "text": [
      " 88%|████████▊ | 110/125 [01:06<00:08,  1.68it/s]"
     ]
    },
    {
     "name": "stdout",
     "output_type": "stream",
     "text": [
      "\n",
      "[*********************100%***********************]  1 of 1 completed\n",
      "[*********************100%***********************]  1 of 1 completed"
     ]
    },
    {
     "name": "stderr",
     "output_type": "stream",
     "text": [
      " 89%|████████▉ | 111/125 [01:07<00:08,  1.66it/s]"
     ]
    },
    {
     "name": "stdout",
     "output_type": "stream",
     "text": [
      "\n",
      "[*********************100%***********************]  1 of 1 completed\n",
      "[*********************100%***********************]  1 of 1 completed"
     ]
    },
    {
     "name": "stderr",
     "output_type": "stream",
     "text": [
      " 90%|████████▉ | 112/125 [01:07<00:07,  1.63it/s]"
     ]
    },
    {
     "name": "stdout",
     "output_type": "stream",
     "text": [
      "\n",
      "[*********************100%***********************]  1 of 1 completed\n",
      "[*********************100%***********************]  1 of 1 completed"
     ]
    },
    {
     "name": "stderr",
     "output_type": "stream",
     "text": [
      " 90%|█████████ | 113/125 [01:08<00:07,  1.68it/s]"
     ]
    },
    {
     "name": "stdout",
     "output_type": "stream",
     "text": [
      "\n",
      "[*********************100%***********************]  1 of 1 completed\n",
      "[*********************100%***********************]  1 of 1 completed"
     ]
    },
    {
     "name": "stderr",
     "output_type": "stream",
     "text": [
      " 91%|█████████ | 114/125 [01:09<00:06,  1.71it/s]"
     ]
    },
    {
     "name": "stdout",
     "output_type": "stream",
     "text": [
      "\n",
      "[*********************100%***********************]  1 of 1 completed\n",
      "[*********************100%***********************]  1 of 1 completed"
     ]
    },
    {
     "name": "stderr",
     "output_type": "stream",
     "text": [
      " 92%|█████████▏| 115/125 [01:09<00:05,  1.74it/s]"
     ]
    },
    {
     "name": "stdout",
     "output_type": "stream",
     "text": [
      "\n",
      "[*********************100%***********************]  1 of 1 completed\n",
      "[*********************100%***********************]  1 of 1 completed"
     ]
    },
    {
     "name": "stderr",
     "output_type": "stream",
     "text": [
      " 93%|█████████▎| 116/125 [01:10<00:05,  1.72it/s]"
     ]
    },
    {
     "name": "stdout",
     "output_type": "stream",
     "text": [
      "\n",
      "[*********************100%***********************]  1 of 1 completed\n",
      "[*********************100%***********************]  1 of 1 completed"
     ]
    },
    {
     "name": "stderr",
     "output_type": "stream",
     "text": [
      " 94%|█████████▎| 117/125 [01:10<00:04,  1.78it/s]"
     ]
    },
    {
     "name": "stdout",
     "output_type": "stream",
     "text": [
      "\n",
      "[*********************100%***********************]  1 of 1 completed\n",
      "[*********************100%***********************]  1 of 1 completed"
     ]
    },
    {
     "name": "stderr",
     "output_type": "stream",
     "text": [
      " 94%|█████████▍| 118/125 [01:11<00:04,  1.73it/s]"
     ]
    },
    {
     "name": "stdout",
     "output_type": "stream",
     "text": [
      "\n",
      "[*********************100%***********************]  1 of 1 completed\n",
      "[*********************100%***********************]  1 of 1 completed"
     ]
    },
    {
     "name": "stderr",
     "output_type": "stream",
     "text": [
      " 95%|█████████▌| 119/125 [01:11<00:03,  1.70it/s]"
     ]
    },
    {
     "name": "stdout",
     "output_type": "stream",
     "text": [
      "\n",
      "[*********************100%***********************]  1 of 1 completed\n",
      "[*********************100%***********************]  1 of 1 completed"
     ]
    },
    {
     "name": "stderr",
     "output_type": "stream",
     "text": [
      " 96%|█████████▌| 120/125 [01:12<00:03,  1.64it/s]"
     ]
    },
    {
     "name": "stdout",
     "output_type": "stream",
     "text": [
      "\n",
      "[*********************100%***********************]  1 of 1 completed\n",
      "[*********************100%***********************]  1 of 1 completed"
     ]
    },
    {
     "name": "stderr",
     "output_type": "stream",
     "text": [
      " 97%|█████████▋| 121/125 [01:13<00:02,  1.66it/s]"
     ]
    },
    {
     "name": "stdout",
     "output_type": "stream",
     "text": [
      "\n",
      "[*********************100%***********************]  1 of 1 completed\n",
      "[*********************100%***********************]  1 of 1 completed"
     ]
    },
    {
     "name": "stderr",
     "output_type": "stream",
     "text": [
      " 98%|█████████▊| 122/125 [01:13<00:02,  1.48it/s]"
     ]
    },
    {
     "name": "stdout",
     "output_type": "stream",
     "text": [
      "\n",
      "[*********************100%***********************]  1 of 1 completed\n",
      "[*********************100%***********************]  1 of 1 completed"
     ]
    },
    {
     "name": "stderr",
     "output_type": "stream",
     "text": [
      " 98%|█████████▊| 123/125 [01:14<00:01,  1.59it/s]"
     ]
    },
    {
     "name": "stdout",
     "output_type": "stream",
     "text": [
      "\n",
      "[*********************100%***********************]  1 of 1 completed\n",
      "[*********************100%***********************]  1 of 1 completed"
     ]
    },
    {
     "name": "stderr",
     "output_type": "stream",
     "text": [
      " 99%|█████████▉| 124/125 [01:15<00:00,  1.68it/s]"
     ]
    },
    {
     "name": "stdout",
     "output_type": "stream",
     "text": [
      "\n",
      "[*********************100%***********************]  1 of 1 completed\n",
      "[*********************100%***********************]  1 of 1 completed"
     ]
    },
    {
     "name": "stderr",
     "output_type": "stream",
     "text": [
      "100%|██████████| 125/125 [01:15<00:00,  1.65it/s]"
     ]
    },
    {
     "name": "stdout",
     "output_type": "stream",
     "text": [
      "\n"
     ]
    },
    {
     "name": "stderr",
     "output_type": "stream",
     "text": [
      "\n"
     ]
    }
   ],
   "source": [
    "StockMarketEDA_LR_new_med_US = pd.read_csv(file_path, index_col=0)\n",
    "\n",
    "user_date_start, user_date_end = str(year) + '-01-01' , str(year) + '-12-31'\n",
    "\n",
    "df_ticker_list= pd.read_csv('../data/ticker_us.csv', index_col=0)\n",
    "df_ticker_list = df_ticker_list.set_index('company')\n",
    "company_name_list = StockMarketEDA_LR_new_med_US.index.values.tolist()\n",
    "ticker_list = get_ticker_list(df_ticker_list, company_name_list)\n",
    "\n",
    "closed_start = []\n",
    "closed_end = []\n",
    "\n",
    "for ticker in tqdm(ticker_list):\n",
    "    closed_start.append(startDay_price(ticker, user_date_start))\n",
    "    closed_end.append(endDay_price(ticker, user_date_end))\n",
    "\n",
    "df_closed = pd.DataFrame({\n",
    "    'company' : company_name_list,\n",
    "    'closed_start' : closed_start,\n",
    "    'closed_end' : closed_end\n",
    "})\n",
    "\n",
    "# 데이터 타입 변경\n",
    "df_closed['closed_end'] = df_closed['closed_end'].astype(float)\n",
    "df_closed['closed_start'] = df_closed['closed_start'].astype(float)\n",
    "\n",
    "\n",
    "# 증가율 산출 : (21년도 시총 - 20년도 시총 )/ 20년도 시총\n",
    "df_closed['price_YOY'] = (df_closed['closed_end'] - df_closed['closed_start']) / df_closed['closed_start']\n",
    "\n",
    "# 기존 데이터에 증가율 추가\n",
    "StockMarketEDA_LR_new_US = pd.read_csv(file_path, index_col=0, dtype={'code': object})\n",
    "\n",
    "StockMarketEDA_LR_new_US['price_YOY'] = df_closed['price_YOY'].to_list()\n",
    "\n",
    "YoY_path = '../data/StockMarketEDA_LR_new_US_YOY_'+ str(year) +'.csv'\n",
    "StockMarketEDA_LR_new_US.to_csv(YoY_path, sep=',', encoding='utf-8')"
   ]
  },
  {
   "attachments": {},
   "cell_type": "markdown",
   "metadata": {},
   "source": [
    "---\n",
    "### YoY와 당해년도 데이터로 가중치 산정\n",
    "#### 1. 히트맵 사용\n"
   ]
  },
  {
   "cell_type": "code",
   "execution_count": 54,
   "metadata": {},
   "outputs": [
    {
     "data": {
      "text/plain": [
       "2021"
      ]
     },
     "execution_count": 54,
     "metadata": {},
     "output_type": "execute_result"
    }
   ],
   "source": [
    "year"
   ]
  },
  {
   "cell_type": "code",
   "execution_count": 55,
   "metadata": {},
   "outputs": [
    {
     "name": "stdout",
     "output_type": "stream",
     "text": [
      "ROE_LR           0.294413\n",
      "ROA_LR           0.264884\n",
      "PER_LR          -0.022472\n",
      "PBR_LR           0.033033\n",
      "equity_LR        0.084035\n",
      "FCF_asset_LR     0.270244\n",
      "ROE_new          0.388718\n",
      "ROA_new          0.408220\n",
      "PER_new         -0.065530\n",
      "PBR_new          0.294258\n",
      "equity_new       0.164167\n",
      "FCF_asset_new    0.178051\n",
      "price_YOY        1.000000\n",
      "Name: price_YOY, dtype: float64\n"
     ]
    },
    {
     "data": {
      "text/plain": [
       "<AxesSubplot: >"
      ]
     },
     "execution_count": 55,
     "metadata": {},
     "output_type": "execute_result"
    },
    {
     "data": {
      "image/png": "[encoded data removed]",
      "text/plain": [
       "<Figure size 640x480 with 2 Axes>"
      ]
     },
     "metadata": {},
     "output_type": "display_data"
    }
   ],
   "source": [
    "import pandas as pd\n",
    "import seaborn as sns\n",
    "YoY_path = '../data/StockMarketEDA_LR_new_US_YOY_'+ str(year) +'.csv'\n",
    "StockMarketEDA_LR_new_US_YOY = pd.read_csv(YoY_path, index_col=0)\n",
    "\n",
    "correlation_matrix = StockMarketEDA_LR_new_US_YOY.corr().round(1)\n",
    "\n",
    "heatmap_path = '../data/heatmap_correlation_us_'+ str(year) +'.csv'\n",
    "\n",
    "heatmap_correlation = StockMarketEDA_LR_new_US_YOY.corr()['price_YOY']#.tolist()\n",
    "heatmap_correlation.to_csv(heatmap_path, sep=',', encoding='utf-8')\n",
    "print(heatmap_correlation)\n",
    "sns.heatmap(data=correlation_matrix, annot=True, cmap='bwr')"
   ]
  },
  {
   "attachments": {},
   "cell_type": "markdown",
   "metadata": {},
   "source": [
    "---\n",
    "#### 연도별 weight 데이터 가공"
   ]
  },
  {
   "cell_type": "code",
   "execution_count": 56,
   "metadata": {},
   "outputs": [
    {
     "data": {
      "text/html": [
       "<div>\n",
       "<style scoped>\n",
       "    .dataframe tbody tr th:only-of-type {\n",
       "        vertical-align: middle;\n",
       "    }\n",
       "\n",
       "    .dataframe tbody tr th {\n",
       "        vertical-align: top;\n",
       "    }\n",
       "\n",
       "    .dataframe thead th {\n",
       "        text-align: right;\n",
       "    }\n",
       "</style>\n",
       "<table border=\"1\" class=\"dataframe\">\n",
       "  <thead>\n",
       "    <tr style=\"text-align: right;\">\n",
       "      <th></th>\n",
       "      <th>2018</th>\n",
       "      <th>2019</th>\n",
       "      <th>2020</th>\n",
       "      <th>2021</th>\n",
       "      <th>2022</th>\n",
       "    </tr>\n",
       "  </thead>\n",
       "  <tbody>\n",
       "    <tr>\n",
       "      <th>ROE_LR</th>\n",
       "      <td>-0.025493</td>\n",
       "      <td>0.201549</td>\n",
       "      <td>-0.064842</td>\n",
       "      <td>0.294413</td>\n",
       "      <td>0.012986</td>\n",
       "    </tr>\n",
       "    <tr>\n",
       "      <th>ROA_LR</th>\n",
       "      <td>-0.000609</td>\n",
       "      <td>0.256281</td>\n",
       "      <td>-0.010597</td>\n",
       "      <td>0.264884</td>\n",
       "      <td>-0.035571</td>\n",
       "    </tr>\n",
       "    <tr>\n",
       "      <th>PER_LR</th>\n",
       "      <td>0.161547</td>\n",
       "      <td>0.075736</td>\n",
       "      <td>0.165640</td>\n",
       "      <td>-0.022472</td>\n",
       "      <td>-0.038311</td>\n",
       "    </tr>\n",
       "    <tr>\n",
       "      <th>PBR_LR</th>\n",
       "      <td>0.191302</td>\n",
       "      <td>0.207767</td>\n",
       "      <td>0.023981</td>\n",
       "      <td>0.033033</td>\n",
       "      <td>0.056826</td>\n",
       "    </tr>\n",
       "    <tr>\n",
       "      <th>equity_LR</th>\n",
       "      <td>-0.102897</td>\n",
       "      <td>0.136960</td>\n",
       "      <td>0.172407</td>\n",
       "      <td>0.084035</td>\n",
       "      <td>-0.067775</td>\n",
       "    </tr>\n",
       "    <tr>\n",
       "      <th>FCF_asset_LR</th>\n",
       "      <td>0.210430</td>\n",
       "      <td>0.197870</td>\n",
       "      <td>0.059113</td>\n",
       "      <td>0.270244</td>\n",
       "      <td>-0.048989</td>\n",
       "    </tr>\n",
       "    <tr>\n",
       "      <th>ROE_new</th>\n",
       "      <td>-0.094601</td>\n",
       "      <td>0.042782</td>\n",
       "      <td>-0.070870</td>\n",
       "      <td>0.388718</td>\n",
       "      <td>0.138779</td>\n",
       "    </tr>\n",
       "    <tr>\n",
       "      <th>ROA_new</th>\n",
       "      <td>-0.073992</td>\n",
       "      <td>0.136050</td>\n",
       "      <td>-0.074979</td>\n",
       "      <td>0.408220</td>\n",
       "      <td>0.074893</td>\n",
       "    </tr>\n",
       "    <tr>\n",
       "      <th>PER_new</th>\n",
       "      <td>0.136756</td>\n",
       "      <td>0.084274</td>\n",
       "      <td>0.336857</td>\n",
       "      <td>-0.065530</td>\n",
       "      <td>0.104806</td>\n",
       "    </tr>\n",
       "    <tr>\n",
       "      <th>PBR_new</th>\n",
       "      <td>0.245230</td>\n",
       "      <td>0.275480</td>\n",
       "      <td>0.172919</td>\n",
       "      <td>0.294258</td>\n",
       "      <td>0.325180</td>\n",
       "    </tr>\n",
       "    <tr>\n",
       "      <th>equity_new</th>\n",
       "      <td>-0.118713</td>\n",
       "      <td>0.083300</td>\n",
       "      <td>0.249296</td>\n",
       "      <td>0.164167</td>\n",
       "      <td>-0.066172</td>\n",
       "    </tr>\n",
       "    <tr>\n",
       "      <th>FCF_asset_new</th>\n",
       "      <td>0.094648</td>\n",
       "      <td>0.100680</td>\n",
       "      <td>0.056577</td>\n",
       "      <td>0.178051</td>\n",
       "      <td>0.135888</td>\n",
       "    </tr>\n",
       "  </tbody>\n",
       "</table>\n",
       "</div>"
      ],
      "text/plain": [
       "                   2018      2019      2020      2021      2022\n",
       "ROE_LR        -0.025493  0.201549 -0.064842  0.294413  0.012986\n",
       "ROA_LR        -0.000609  0.256281 -0.010597  0.264884 -0.035571\n",
       "PER_LR         0.161547  0.075736  0.165640 -0.022472 -0.038311\n",
       "PBR_LR         0.191302  0.207767  0.023981  0.033033  0.056826\n",
       "equity_LR     -0.102897  0.136960  0.172407  0.084035 -0.067775\n",
       "FCF_asset_LR   0.210430  0.197870  0.059113  0.270244 -0.048989\n",
       "ROE_new       -0.094601  0.042782 -0.070870  0.388718  0.138779\n",
       "ROA_new       -0.073992  0.136050 -0.074979  0.408220  0.074893\n",
       "PER_new        0.136756  0.084274  0.336857 -0.065530  0.104806\n",
       "PBR_new        0.245230  0.275480  0.172919  0.294258  0.325180\n",
       "equity_new    -0.118713  0.083300  0.249296  0.164167 -0.066172\n",
       "FCF_asset_new  0.094648  0.100680  0.056577  0.178051  0.135888"
      ]
     },
     "execution_count": 56,
     "metadata": {},
     "output_type": "execute_result"
    }
   ],
   "source": [
    "# 데이터 불러오기\n",
    "heatmap_correlation_2018 = pd.read_csv('../data/heatmap_correlation_us_2018.csv', index_col=0).rename(columns={\"price_YOY\":\"2018\"})\n",
    "heatmap_correlation_2019 = pd.read_csv('../data/heatmap_correlation_us_2019.csv', index_col=0).rename(columns={\"price_YOY\":\"2019\"})\n",
    "heatmap_correlation_2020 = pd.read_csv('../data/heatmap_correlation_us_2020.csv', index_col=0).rename(columns={\"price_YOY\":\"2020\"})\n",
    "heatmap_correlation_2021 = pd.read_csv('../data/heatmap_correlation_us_2021.csv', index_col=0).rename(columns={\"price_YOY\":\"2021\"})\n",
    "heatmap_correlation_2022 = pd.read_csv('../data/heatmap_correlation_us_2022.csv', index_col=0).rename(columns={\"price_YOY\":\"2022\"})\n",
    "\n",
    "df_concat_correlation_value = pd.concat([heatmap_correlation_2018.T,\n",
    "                                         heatmap_correlation_2019.T,\n",
    "                                         heatmap_correlation_2020.T,\n",
    "                                         heatmap_correlation_2021.T,\n",
    "                                         heatmap_correlation_2022.T])\n",
    "\n",
    "del df_concat_correlation_value['price_YOY']\n",
    "df_concat_correlation_value.T.to_csv('../data/heatmap_correlation_us_all.csv', sep=',', encoding='utf-8')\n",
    "df_concat_correlation_value = pd.read_csv('../data/heatmap_correlation_us_all.csv', index_col=0)\n",
    "df_concat_correlation_value"
   ]
  },
  {
   "cell_type": "code",
   "execution_count": 57,
   "metadata": {},
   "outputs": [
    {
     "data": {
      "text/html": [
       "<div>\n",
       "<style scoped>\n",
       "    .dataframe tbody tr th:only-of-type {\n",
       "        vertical-align: middle;\n",
       "    }\n",
       "\n",
       "    .dataframe tbody tr th {\n",
       "        vertical-align: top;\n",
       "    }\n",
       "\n",
       "    .dataframe thead th {\n",
       "        text-align: right;\n",
       "    }\n",
       "</style>\n",
       "<table border=\"1\" class=\"dataframe\">\n",
       "  <thead>\n",
       "    <tr style=\"text-align: right;\">\n",
       "      <th></th>\n",
       "      <th>2018</th>\n",
       "      <th>2019</th>\n",
       "      <th>2020</th>\n",
       "      <th>2021</th>\n",
       "      <th>2022</th>\n",
       "    </tr>\n",
       "  </thead>\n",
       "  <tbody>\n",
       "    <tr>\n",
       "      <th>ROE_LR</th>\n",
       "      <td>-0.025493</td>\n",
       "      <td>0.201549</td>\n",
       "      <td>-0.064842</td>\n",
       "      <td>0.294413</td>\n",
       "      <td>0.012986</td>\n",
       "    </tr>\n",
       "    <tr>\n",
       "      <th>ROA_LR</th>\n",
       "      <td>-0.000609</td>\n",
       "      <td>0.256281</td>\n",
       "      <td>-0.010597</td>\n",
       "      <td>0.264884</td>\n",
       "      <td>-0.035571</td>\n",
       "    </tr>\n",
       "    <tr>\n",
       "      <th>PER_LR</th>\n",
       "      <td>0.161547</td>\n",
       "      <td>0.075736</td>\n",
       "      <td>0.165640</td>\n",
       "      <td>-0.022472</td>\n",
       "      <td>-0.038311</td>\n",
       "    </tr>\n",
       "    <tr>\n",
       "      <th>PBR_LR</th>\n",
       "      <td>0.191302</td>\n",
       "      <td>0.207767</td>\n",
       "      <td>0.023981</td>\n",
       "      <td>0.033033</td>\n",
       "      <td>0.056826</td>\n",
       "    </tr>\n",
       "    <tr>\n",
       "      <th>equity_LR</th>\n",
       "      <td>-0.102897</td>\n",
       "      <td>0.136960</td>\n",
       "      <td>0.172407</td>\n",
       "      <td>0.084035</td>\n",
       "      <td>-0.067775</td>\n",
       "    </tr>\n",
       "    <tr>\n",
       "      <th>FCF_asset_LR</th>\n",
       "      <td>0.210430</td>\n",
       "      <td>0.197870</td>\n",
       "      <td>0.059113</td>\n",
       "      <td>0.270244</td>\n",
       "      <td>-0.048989</td>\n",
       "    </tr>\n",
       "    <tr>\n",
       "      <th>ROE_new</th>\n",
       "      <td>-0.094601</td>\n",
       "      <td>0.042782</td>\n",
       "      <td>-0.070870</td>\n",
       "      <td>0.388718</td>\n",
       "      <td>0.138779</td>\n",
       "    </tr>\n",
       "    <tr>\n",
       "      <th>ROA_new</th>\n",
       "      <td>-0.073992</td>\n",
       "      <td>0.136050</td>\n",
       "      <td>-0.074979</td>\n",
       "      <td>0.408220</td>\n",
       "      <td>0.074893</td>\n",
       "    </tr>\n",
       "    <tr>\n",
       "      <th>PER_new</th>\n",
       "      <td>0.136756</td>\n",
       "      <td>0.084274</td>\n",
       "      <td>0.336857</td>\n",
       "      <td>-0.065530</td>\n",
       "      <td>0.104806</td>\n",
       "    </tr>\n",
       "    <tr>\n",
       "      <th>PBR_new</th>\n",
       "      <td>0.245230</td>\n",
       "      <td>0.275480</td>\n",
       "      <td>0.172919</td>\n",
       "      <td>0.294258</td>\n",
       "      <td>0.325180</td>\n",
       "    </tr>\n",
       "    <tr>\n",
       "      <th>equity_new</th>\n",
       "      <td>-0.118713</td>\n",
       "      <td>0.083300</td>\n",
       "      <td>0.249296</td>\n",
       "      <td>0.164167</td>\n",
       "      <td>-0.066172</td>\n",
       "    </tr>\n",
       "    <tr>\n",
       "      <th>FCF_asset_new</th>\n",
       "      <td>0.094648</td>\n",
       "      <td>0.100680</td>\n",
       "      <td>0.056577</td>\n",
       "      <td>0.178051</td>\n",
       "      <td>0.135888</td>\n",
       "    </tr>\n",
       "  </tbody>\n",
       "</table>\n",
       "</div>"
      ],
      "text/plain": [
       "                   2018      2019      2020      2021      2022\n",
       "ROE_LR        -0.025493  0.201549 -0.064842  0.294413  0.012986\n",
       "ROA_LR        -0.000609  0.256281 -0.010597  0.264884 -0.035571\n",
       "PER_LR         0.161547  0.075736  0.165640 -0.022472 -0.038311\n",
       "PBR_LR         0.191302  0.207767  0.023981  0.033033  0.056826\n",
       "equity_LR     -0.102897  0.136960  0.172407  0.084035 -0.067775\n",
       "FCF_asset_LR   0.210430  0.197870  0.059113  0.270244 -0.048989\n",
       "ROE_new       -0.094601  0.042782 -0.070870  0.388718  0.138779\n",
       "ROA_new       -0.073992  0.136050 -0.074979  0.408220  0.074893\n",
       "PER_new        0.136756  0.084274  0.336857 -0.065530  0.104806\n",
       "PBR_new        0.245230  0.275480  0.172919  0.294258  0.325180\n",
       "equity_new    -0.118713  0.083300  0.249296  0.164167 -0.066172\n",
       "FCF_asset_new  0.094648  0.100680  0.056577  0.178051  0.135888"
      ]
     },
     "execution_count": 57,
     "metadata": {},
     "output_type": "execute_result"
    }
   ],
   "source": [
    "df_concat_correlation_value = pd.read_csv('../data/heatmap_correlation_us_all.csv', index_col=0)\n",
    "df_concat_correlation_value"
   ]
  },
  {
   "cell_type": "code",
   "execution_count": 58,
   "metadata": {},
   "outputs": [
    {
     "data": {
      "image/png": "[encoded data removed]",
      "text/plain": [
       "<Figure size 640x480 with 1 Axes>"
      ]
     },
     "metadata": {},
     "output_type": "display_data"
    }
   ],
   "source": [
    "import matplotlib.pyplot as plt\n",
    "%matplotlib inline\n",
    "plt.rc('font', family = 'NanumGothicCoding')\n",
    "year = ['2018', '2019', '2020', '2021', '2022']\n",
    "# plt.figure(figsize =(12,8))\n",
    "plt.plot(df_concat_correlation_value[year])\n",
    "plt.legend(year, loc='best')\n",
    "\n",
    "plt.xticks(\n",
    "    fontsize=10,  #폰트사이즈\n",
    "    rotation='vertical', # 가로 세로\n",
    "    fontname='monospace',#폰트타입\n",
    "    )\n",
    "plt.show()"
   ]
  },
  {
   "attachments": {},
   "cell_type": "markdown",
   "metadata": {},
   "source": [
    "---\n",
    "### LR 사용"
   ]
  },
  {
   "cell_type": "code",
   "execution_count": 102,
   "metadata": {},
   "outputs": [
    {
     "data": {
      "text/html": [
       "<div>\n",
       "<style scoped>\n",
       "    .dataframe tbody tr th:only-of-type {\n",
       "        vertical-align: middle;\n",
       "    }\n",
       "\n",
       "    .dataframe tbody tr th {\n",
       "        vertical-align: top;\n",
       "    }\n",
       "\n",
       "    .dataframe thead th {\n",
       "        text-align: right;\n",
       "    }\n",
       "</style>\n",
       "<table border=\"1\" class=\"dataframe\">\n",
       "  <thead>\n",
       "    <tr style=\"text-align: right;\">\n",
       "      <th></th>\n",
       "      <th>ROE_LR</th>\n",
       "      <th>ROA_LR</th>\n",
       "      <th>PER_LR</th>\n",
       "      <th>PBR_LR</th>\n",
       "      <th>equity_LR</th>\n",
       "      <th>FCF_asset_LR</th>\n",
       "      <th>ROE_new</th>\n",
       "      <th>ROA_new</th>\n",
       "      <th>PER_new</th>\n",
       "      <th>PBR_new</th>\n",
       "      <th>equity_new</th>\n",
       "      <th>FCF_asset_new</th>\n",
       "      <th>2022</th>\n",
       "    </tr>\n",
       "  </thead>\n",
       "  <tbody>\n",
       "    <tr>\n",
       "      <th>Apple</th>\n",
       "      <td>0.055576</td>\n",
       "      <td>-0.200966</td>\n",
       "      <td>0.169882</td>\n",
       "      <td>0.069825</td>\n",
       "      <td>-0.432072</td>\n",
       "      <td>-0.154253</td>\n",
       "      <td>0.032168</td>\n",
       "      <td>-0.328204</td>\n",
       "      <td>0.192161</td>\n",
       "      <td>0.154840</td>\n",
       "      <td>-0.149229</td>\n",
       "      <td>-0.316228</td>\n",
       "      <td>-0.093057</td>\n",
       "    </tr>\n",
       "    <tr>\n",
       "      <th>Microsoft</th>\n",
       "      <td>-0.061825</td>\n",
       "      <td>-0.343559</td>\n",
       "      <td>0.599779</td>\n",
       "      <td>0.273012</td>\n",
       "      <td>-0.666472</td>\n",
       "      <td>-0.364116</td>\n",
       "      <td>-1.073118</td>\n",
       "      <td>-1.719551</td>\n",
       "      <td>2.225152</td>\n",
       "      <td>0.425685</td>\n",
       "      <td>-1.379575</td>\n",
       "      <td>-0.726710</td>\n",
       "      <td>0.168005</td>\n",
       "    </tr>\n",
       "    <tr>\n",
       "      <th>Amazon</th>\n",
       "      <td>0.446216</td>\n",
       "      <td>0.364805</td>\n",
       "      <td>-0.377078</td>\n",
       "      <td>0.044045</td>\n",
       "      <td>-0.469297</td>\n",
       "      <td>0.163754</td>\n",
       "      <td>1.358231</td>\n",
       "      <td>1.234644</td>\n",
       "      <td>-0.024593</td>\n",
       "      <td>-0.068610</td>\n",
       "      <td>-0.695417</td>\n",
       "      <td>0.644158</td>\n",
       "      <td>0.243068</td>\n",
       "    </tr>\n",
       "    <tr>\n",
       "      <th>Tesla</th>\n",
       "      <td>-0.097036</td>\n",
       "      <td>-0.066735</td>\n",
       "      <td>0.000000</td>\n",
       "      <td>-0.451521</td>\n",
       "      <td>-0.081531</td>\n",
       "      <td>-0.121304</td>\n",
       "      <td>-0.118511</td>\n",
       "      <td>-0.509691</td>\n",
       "      <td>0.000000</td>\n",
       "      <td>-0.813808</td>\n",
       "      <td>-0.315175</td>\n",
       "      <td>-0.641426</td>\n",
       "      <td>0.041618</td>\n",
       "    </tr>\n",
       "    <tr>\n",
       "      <th>NVIDIA</th>\n",
       "      <td>0.470401</td>\n",
       "      <td>0.426252</td>\n",
       "      <td>0.325567</td>\n",
       "      <td>0.434591</td>\n",
       "      <td>-0.427627</td>\n",
       "      <td>0.477911</td>\n",
       "      <td>1.266384</td>\n",
       "      <td>1.138573</td>\n",
       "      <td>0.859455</td>\n",
       "      <td>1.295458</td>\n",
       "      <td>0.303168</td>\n",
       "      <td>1.735932</td>\n",
       "      <td>-0.329571</td>\n",
       "    </tr>\n",
       "    <tr>\n",
       "      <th>...</th>\n",
       "      <td>...</td>\n",
       "      <td>...</td>\n",
       "      <td>...</td>\n",
       "      <td>...</td>\n",
       "      <td>...</td>\n",
       "      <td>...</td>\n",
       "      <td>...</td>\n",
       "      <td>...</td>\n",
       "      <td>...</td>\n",
       "      <td>...</td>\n",
       "      <td>...</td>\n",
       "      <td>...</td>\n",
       "      <td>...</td>\n",
       "    </tr>\n",
       "    <tr>\n",
       "      <th>Steel Dynamics</th>\n",
       "      <td>0.315209</td>\n",
       "      <td>0.301543</td>\n",
       "      <td>-0.344213</td>\n",
       "      <td>0.357574</td>\n",
       "      <td>0.278572</td>\n",
       "      <td>0.281112</td>\n",
       "      <td>1.036668</td>\n",
       "      <td>1.009636</td>\n",
       "      <td>-0.726417</td>\n",
       "      <td>-0.042743</td>\n",
       "      <td>0.581585</td>\n",
       "      <td>0.762435</td>\n",
       "      <td>-0.334151</td>\n",
       "    </tr>\n",
       "    <tr>\n",
       "      <th>Southwest Airlines</th>\n",
       "      <td>0.370636</td>\n",
       "      <td>0.389860</td>\n",
       "      <td>-0.289293</td>\n",
       "      <td>0.125138</td>\n",
       "      <td>-0.069230</td>\n",
       "      <td>0.244553</td>\n",
       "      <td>0.093137</td>\n",
       "      <td>0.103412</td>\n",
       "      <td>-0.358608</td>\n",
       "      <td>-0.302861</td>\n",
       "      <td>0.054066</td>\n",
       "      <td>1.273930</td>\n",
       "      <td>-0.294615</td>\n",
       "    </tr>\n",
       "    <tr>\n",
       "      <th>Hologic</th>\n",
       "      <td>-0.180292</td>\n",
       "      <td>-0.081883</td>\n",
       "      <td>-0.296076</td>\n",
       "      <td>0.239474</td>\n",
       "      <td>0.304878</td>\n",
       "      <td>0.016286</td>\n",
       "      <td>-0.947328</td>\n",
       "      <td>-0.773580</td>\n",
       "      <td>-0.110631</td>\n",
       "      <td>0.061872</td>\n",
       "      <td>0.071245</td>\n",
       "      <td>-0.093996</td>\n",
       "      <td>-0.056450</td>\n",
       "    </tr>\n",
       "    <tr>\n",
       "      <th>Hewlett Packard Enterprise</th>\n",
       "      <td>0.052850</td>\n",
       "      <td>-0.286252</td>\n",
       "      <td>0.220135</td>\n",
       "      <td>0.508105</td>\n",
       "      <td>-0.511920</td>\n",
       "      <td>-0.530445</td>\n",
       "      <td>0.641981</td>\n",
       "      <td>0.212714</td>\n",
       "      <td>-0.088082</td>\n",
       "      <td>0.996030</td>\n",
       "      <td>0.032998</td>\n",
       "      <td>-0.397776</td>\n",
       "      <td>-0.108145</td>\n",
       "    </tr>\n",
       "    <tr>\n",
       "      <th>HEICO</th>\n",
       "      <td>0.340984</td>\n",
       "      <td>0.330511</td>\n",
       "      <td>0.179987</td>\n",
       "      <td>0.261106</td>\n",
       "      <td>0.079007</td>\n",
       "      <td>0.215458</td>\n",
       "      <td>1.377446</td>\n",
       "      <td>1.329443</td>\n",
       "      <td>0.064998</td>\n",
       "      <td>0.364702</td>\n",
       "      <td>0.218067</td>\n",
       "      <td>-0.184658</td>\n",
       "      <td>0.281157</td>\n",
       "    </tr>\n",
       "  </tbody>\n",
       "</table>\n",
       "<p>125 rows × 13 columns</p>\n",
       "</div>"
      ],
      "text/plain": [
       "                              ROE_LR    ROA_LR    PER_LR    PBR_LR  equity_LR  \\\n",
       "Apple                       0.055576 -0.200966  0.169882  0.069825  -0.432072   \n",
       "Microsoft                  -0.061825 -0.343559  0.599779  0.273012  -0.666472   \n",
       "Amazon                      0.446216  0.364805 -0.377078  0.044045  -0.469297   \n",
       "Tesla                      -0.097036 -0.066735  0.000000 -0.451521  -0.081531   \n",
       "NVIDIA                      0.470401  0.426252  0.325567  0.434591  -0.427627   \n",
       "...                              ...       ...       ...       ...        ...   \n",
       "Steel Dynamics              0.315209  0.301543 -0.344213  0.357574   0.278572   \n",
       "Southwest Airlines          0.370636  0.389860 -0.289293  0.125138  -0.069230   \n",
       "Hologic                    -0.180292 -0.081883 -0.296076  0.239474   0.304878   \n",
       "Hewlett Packard Enterprise  0.052850 -0.286252  0.220135  0.508105  -0.511920   \n",
       "HEICO                       0.340984  0.330511  0.179987  0.261106   0.079007   \n",
       "\n",
       "                            FCF_asset_LR   ROE_new   ROA_new   PER_new  \\\n",
       "Apple                          -0.154253  0.032168 -0.328204  0.192161   \n",
       "Microsoft                      -0.364116 -1.073118 -1.719551  2.225152   \n",
       "Amazon                          0.163754  1.358231  1.234644 -0.024593   \n",
       "Tesla                          -0.121304 -0.118511 -0.509691  0.000000   \n",
       "NVIDIA                          0.477911  1.266384  1.138573  0.859455   \n",
       "...                                  ...       ...       ...       ...   \n",
       "Steel Dynamics                  0.281112  1.036668  1.009636 -0.726417   \n",
       "Southwest Airlines              0.244553  0.093137  0.103412 -0.358608   \n",
       "Hologic                         0.016286 -0.947328 -0.773580 -0.110631   \n",
       "Hewlett Packard Enterprise     -0.530445  0.641981  0.212714 -0.088082   \n",
       "HEICO                           0.215458  1.377446  1.329443  0.064998   \n",
       "\n",
       "                             PBR_new  equity_new  FCF_asset_new      2022  \n",
       "Apple                       0.154840   -0.149229      -0.316228 -0.093057  \n",
       "Microsoft                   0.425685   -1.379575      -0.726710  0.168005  \n",
       "Amazon                     -0.068610   -0.695417       0.644158  0.243068  \n",
       "Tesla                      -0.813808   -0.315175      -0.641426  0.041618  \n",
       "NVIDIA                      1.295458    0.303168       1.735932 -0.329571  \n",
       "...                              ...         ...            ...       ...  \n",
       "Steel Dynamics             -0.042743    0.581585       0.762435 -0.334151  \n",
       "Southwest Airlines         -0.302861    0.054066       1.273930 -0.294615  \n",
       "Hologic                     0.061872    0.071245      -0.093996 -0.056450  \n",
       "Hewlett Packard Enterprise  0.996030    0.032998      -0.397776 -0.108145  \n",
       "HEICO                       0.364702    0.218067      -0.184658  0.281157  \n",
       "\n",
       "[125 rows x 13 columns]"
      ]
     },
     "execution_count": 102,
     "metadata": {},
     "output_type": "execute_result"
    }
   ],
   "source": [
    "StockMarketEDA_LR_new_US_YOY_2018 = pd.read_csv('../data/StockMarketEDA_LR_new_US_YOY_2018.csv', index_col=0).rename(columns={\"price_YOY\":\"2022\"})\n",
    "StockMarketEDA_LR_new_US_YOY_2018"
   ]
  },
  {
   "attachments": {},
   "cell_type": "markdown",
   "metadata": {},
   "source": [
    "---\n",
    "---\n",
    "## 상관계수의 검증"
   ]
  },
  {
   "attachments": {},
   "cell_type": "markdown",
   "metadata": {},
   "source": [
    "연도별 추출된 weight값은 서로끼리 얼마나 연관이 있나?\n",
    "- 유사성 비교 알고리즘  \n",
    "$$r_{rs} = \\frac{\\sum_{i=1}^n (X_{ri} - \\overline{X_r}) (X_{si} - \\overline{X_s})}{\\sqrt{\\sum_{i=1}^n (X_{ri} - \\overline{X_r})^2}\\sqrt{\\sum_{i=1}^n (X_{si} - \\overline{X_s})^2}}$$"
   ]
  },
  {
   "cell_type": "code",
   "execution_count": 63,
   "metadata": {},
   "outputs": [
    {
     "data": {
      "text/plain": [
       "0.5756777782280114"
      ]
     },
     "metadata": {},
     "output_type": "display_data"
    },
    {
     "data": {
      "text/plain": [
       "PearsonRResult(statistic=0.5756777782280114, pvalue=0.42432222177198864)"
      ]
     },
     "metadata": {},
     "output_type": "display_data"
    },
    {
     "data": {
      "text/plain": [
       "array([[1.        , 0.57567778],\n",
       "       [0.57567778, 1.        ]])"
      ]
     },
     "metadata": {},
     "output_type": "display_data"
    }
   ],
   "source": [
    "from scipy.stats import pearsonr\n",
    "\n",
    "def pearson_similarity(a, b):\n",
    "    return np.dot((a - np.mean(a)), (b - np.mean(b))) / ((np.linalg.norm(a - np.mean(a))) * (np.linalg.norm(b - np.mean(b))))\n",
    "\n",
    "display(pearson_similarity([3, 10, 7, 2], [2, 15, 10, 12])\n",
    "       , pearsonr([3, 10, 7, 2], [2, 15, 10, 12])\n",
    "       , np.corrcoef([3, 10, 7, 2], [2, 15, 10, 12]))"
   ]
  }
 ],
 "metadata": {
  "kernelspec": {
   "display_name": "data_venv",
   "language": "python",
   "name": "python3"
  },
  "language_info": {
   "codemirror_mode": {
    "name": "ipython",
    "version": 3
   },
   "file_extension": ".py",
   "mimetype": "text/x-python",
   "name": "python",
   "nbconvert_exporter": "python",
   "pygments_lexer": "ipython3",
   "version": "3.8.10"
  },
  "orig_nbformat": 4,
  "vscode": {
   "interpreter": {
    "hash": "7c6c7e286e4064979c234b3a5b3938ce9d489b044c827fe906b91d9d992fd76e"
   }
  }
 },
 "nbformat": 4,
 "nbformat_minor": 2
}
