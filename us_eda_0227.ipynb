{
 "cells": [
  {
   "cell_type": "code",
   "execution_count": null,
   "metadata": {},
   "outputs": [],
   "source": []
  },
  {
   "cell_type": "code",
   "execution_count": 23,
   "metadata": {},
   "outputs": [],
   "source": [
    "from selenium import webdriver\n",
    "from selenium.webdriver.chrome.service import Service\n",
    "from selenium.webdriver.common.by import By\n",
    "from selenium.webdriver.common.keys import Keys\n",
    "from selenium.webdriver import ActionChains\n",
    "from bs4 import BeautifulSoup\n",
    "import time\n",
    "from selenium.webdriver.support.ui import WebDriverWait\n",
    "from selenium.webdriver.support import expected_conditions as EC\n",
    "from selenium.webdriver.support.ui import Select\n",
    "\n",
    "chrome_options = webdriver.ChromeOptions()\n",
    "\n",
    "driver = webdriver.Chrome(service=Service('../driver/chromedriver'), options=chrome_options)\n",
    "\n",
    "url = 'https://stockrow.com/users/sign_in'\n",
    "driver.get(url)\n",
    "driver.set_window_size(1920,1080)\n",
    "driver.implicitly_wait(10)\n",
    "sign_in = driver.find_elements(By.TAG_NAME,'input')\n",
    "email = sign_in[1].send_keys('ksyrobot@gmail.com')\n",
    "password = sign_in[2].send_keys('rlatpdus22')\n",
    "sign_in[5].click()"
   ]
  },
  {
   "cell_type": "code",
   "execution_count": 24,
   "metadata": {},
   "outputs": [],
   "source": [
    "screener = 'https://stockrow.com/screener'\n",
    "driver.get(screener)\n",
    "driver.implicitly_wait(10)\n"
   ]
  },
  {
   "cell_type": "code",
   "execution_count": 25,
   "metadata": {},
   "outputs": [],
   "source": [
    "css_selector = '''#root > div > div > section > div > div.main-content > section > section.screenerQuery > div > div.cell.medium-8.large-8 > div > div.filterWrap.undefinedMode > div > div:nth-child(3) > span.removeBtn'''\n",
    "driver.find_element(By.CSS_SELECTOR, css_selector).click()"
   ]
  },
  {
   "cell_type": "code",
   "execution_count": 29,
   "metadata": {},
   "outputs": [
    {
     "name": "stdout",
     "output_type": "stream",
     "text": [
      "None\n",
      "None\n",
      "None\n",
      "None\n",
      "None\n",
      "None\n",
      "None\n",
      "None\n",
      "None\n",
      "None\n",
      "None\n",
      "None\n",
      "None\n",
      "None\n",
      "None\n",
      "None\n",
      "None\n",
      "None\n",
      "None\n",
      "None\n",
      "None\n",
      "None\n",
      "None\n",
      "None\n",
      "None\n",
      "None\n",
      "None\n",
      "None\n",
      "None\n",
      "None\n",
      "None\n",
      "None\n",
      "None\n",
      "None\n",
      "None\n",
      "None\n",
      "None\n",
      "None\n",
      "None\n",
      "None\n",
      "None\n",
      "None\n",
      "None\n",
      "None\n",
      "None\n",
      "None\n",
      "None\n",
      "None\n",
      "None\n",
      "None\n"
     ]
    }
   ],
   "source": [
    "ticker_total = driver.find_element(By.CLASS_NAME, 'leftHeaderWrap').find_elements(By.TAG_NAME, 'a')\n",
    "for i in ticker_total:\n",
    "    print(i.get_attribute('values'))"
   ]
  },
  {
   "cell_type": "code",
   "execution_count": null,
   "metadata": {},
   "outputs": [],
   "source": []
  }
 ],
 "metadata": {
  "kernelspec": {
   "display_name": "test_venv",
   "language": "python",
   "name": "python3"
  },
  "language_info": {
   "codemirror_mode": {
    "name": "ipython",
    "version": 3
   },
   "file_extension": ".py",
   "mimetype": "text/x-python",
   "name": "python",
   "nbconvert_exporter": "python",
   "pygments_lexer": "ipython3",
   "version": "3.8.10"
  },
  "orig_nbformat": 4,
  "vscode": {
   "interpreter": {
    "hash": "508eb4bd78f00b625975773c1e0df73672459e16dbb0944ba24417c07c03926a"
   }
  }
 },
 "nbformat": 4,
 "nbformat_minor": 2
}
